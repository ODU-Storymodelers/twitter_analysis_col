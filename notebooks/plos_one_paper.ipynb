{
 "cells": [
  {
   "cell_type": "markdown",
   "metadata": {},
   "source": [
    "# Analysis of Tweets for PlosONE paper"
   ]
  },
  {
   "cell_type": "markdown",
   "metadata": {},
   "source": [
    "# Where are the tweets from?"
   ]
  },
  {
   "cell_type": "code",
   "execution_count": 1,
   "metadata": {},
   "outputs": [],
   "source": [
    "import os\n",
    "import json\n",
    "import pickle\n",
    "import pandas as pd\n",
    "import plotly.express as px"
   ]
  },
  {
   "cell_type": "code",
   "execution_count": 31,
   "metadata": {},
   "outputs": [
    {
     "name": "stdout",
     "output_type": "stream",
     "text": [
      "[1/76] Converting df2014-01.pickle with 1717 rows.\n",
      "[2/76] Converting df2014-02.pickle with 6961 rows.\n",
      "[3/76] Converting df2014-03.pickle with 2355 rows.\n",
      "[4/76] Converting df2014-04.pickle with 2914 rows.\n",
      "[5/76] Converting df2014-05.pickle with 1346 rows.\n",
      "[6/76] Converting df2014-06.pickle with 2561 rows.\n",
      "[7/76] Converting df2014-07.pickle with 3582 rows.\n",
      "[8/76] Converting df2014-08.pickle with 2834 rows.\n",
      "[9/76] Converting df2014-09.pickle with 5077 rows.\n",
      "[10/76] Converting df2014-10.pickle with 2120 rows.\n",
      "[11/76] Converting df2014-11.pickle with 2464 rows.\n",
      "[12/76] Converting df2014-12.pickle with 2053 rows.\n",
      "[13/76] Converting df2015-01.pickle with 2307 rows.\n",
      "[14/76] Converting df2015-02.pickle with 2116 rows.\n",
      "[15/76] Converting df2015-03.pickle with 2652 rows.\n",
      "[16/76] Converting df2015-04.pickle with 2665 rows.\n",
      "[17/76] Converting df2015-05.pickle with 4268 rows.\n",
      "[18/76] Converting df2015-06.pickle with 7037 rows.\n",
      "[19/76] Converting df2015-07.pickle with 2320 rows.\n",
      "[20/76] Converting df2015-08.pickle with 11360 rows.\n",
      "[21/76] Converting df2015-09.pickle with 8686 rows.\n",
      "[22/76] Converting df2015-10.pickle with 5169 rows.\n",
      "[23/76] Converting df2015-11.pickle with 4742 rows.\n",
      "[24/76] Converting df2015-12.pickle with 3271 rows.\n",
      "[25/76] Converting df2016-01.pickle with 1719 rows.\n",
      "[26/76] Converting df2016-02.pickle with 2439 rows.\n",
      "[27/76] Converting df2016-03.pickle with 4216 rows.\n",
      "[28/76] Converting df2016-04.pickle with 1698 rows.\n",
      "[29/76] Converting df2016-05.pickle with 8035 rows.\n",
      "[30/76] Converting df2016-06.pickle with 4870 rows.\n",
      "[31/76] Converting df2016-07.pickle with 10887 rows.\n",
      "[32/76] Converting df2016-08.pickle with 12238 rows.\n",
      "[33/76] Converting df2016-09.pickle with 7580 rows.\n",
      "[34/76] Converting df2016-10.pickle with 6879 rows.\n",
      "[35/76] Converting df2016-11.pickle with 7822 rows.\n",
      "[36/76] Converting df2016-12.pickle with 7837 rows.\n",
      "[37/76] Converting df2017-01.pickle with 32818 rows.\n",
      "[38/76] Converting df2017-02.pickle with 21330 rows.\n",
      "[39/76] Converting df2017-03.pickle with 15931 rows.\n",
      "[40/76] Converting df2017-04.pickle with 9042 rows.\n",
      "[41/76] Converting df2017-05.pickle with 13323 rows.\n",
      "[42/76] Converting df2017-06.pickle with 4688 rows.\n",
      "[43/76] Converting df2017-07.pickle with 28995 rows.\n",
      "[44/76] Converting df2017-08.pickle with 33392 rows.\n",
      "[45/76] Converting df2017-09.pickle with 16640 rows.\n",
      "[46/76] Converting df2017-10.pickle with 11952 rows.\n",
      "[47/76] Converting df2017-11.pickle with 18526 rows.\n",
      "[48/76] Converting df2017-12.pickle with 17028 rows.\n",
      "[49/76] Converting df2018-01.pickle with 50505 rows.\n",
      "[50/76] Converting df2018-02.pickle with 98326 rows.\n",
      "[51/76] Converting df2018-03.pickle with 102995 rows.\n",
      "[52/76] Converting df2018-04.pickle with 61413 rows.\n",
      "[53/76] Converting df2018-05.pickle with 52044 rows.\n",
      "[54/76] Converting df2018-06.pickle with 60618 rows.\n",
      "[55/76] Converting df2018-07.pickle with 42128 rows.\n",
      "[56/76] Converting df2018-08.pickle with 247457 rows.\n",
      "[57/76] Converting df2018-09.pickle with 250337 rows.\n",
      "[58/76] Converting df2018-10.pickle with 231818 rows.\n",
      "[59/76] Converting df2018-11.pickle with 158958 rows.\n",
      "[60/76] Converting df2018-12.pickle with 104567 rows.\n",
      "[61/76] Converting df2019-01.pickle with 159155 rows.\n",
      "[62/76] Converting df2019-02.pickle with 225922 rows.\n",
      "[63/76] Converting df2019-03.pickle with 185215 rows.\n",
      "[64/76] Converting df2019-04.pickle with 137541 rows.\n",
      "[65/76] Converting df2019-05.pickle with 114558 rows.\n",
      "[66/76] Converting df2019-06.pickle with 221649 rows.\n",
      "[67/76] Converting df2019-07.pickle with 132049 rows.\n",
      "[68/76] Converting df2019-08.pickle with 146924 rows.\n",
      "[69/76] Converting df2019-09.pickle with 142190 rows.\n",
      "[70/76] Converting df2019-10.pickle with 144210 rows.\n",
      "[71/76] Converting df2019-11.pickle with 145045 rows.\n",
      "[72/76] Converting df2019-12.pickle with 93653 rows.\n",
      "[73/76] Converting df2020-01.pickle with 114784 rows.\n",
      "[74/76] Converting df2020-02.pickle with 94712 rows.\n",
      "[75/76] Converting df2020-03.pickle with 85589 rows.\n",
      "[76/76] Converting df2020-04.pickle with 199836 rows.\n"
     ]
    }
   ],
   "source": [
    "# 1) Read pickles from the data/monthly_pickles folder and store their locations in a dictionary\n",
    "\n",
    "locations = []\n",
    "\n",
    "# 2) Create a dictionary with the countries of each tweets\n",
    "countries = {'Id': [], 'country': []}\n",
    "\n",
    "\n",
    "# 3) Create a dictionary with the latitudes and longitudes of the cities in Colombia\n",
    "lats_longs_cities_colombia = {'Id': [], 'lat': [], 'long': [], 'address': []}\n",
    "\n",
    "pickles_list = os.listdir('../data/monthly_pickles')\n",
    "f = 0\n",
    "for filename in pickles_list:\n",
    "    f += 1\n",
    "    if filename.endswith('.pickle'):\n",
    "        df = pickle.load(open('../data/monthly_pickles/' + filename, 'rb'))\n",
    "        print(f\"[{f}/{len(pickles_list)}] Converting {filename} with {len(df)} rows.\")\n",
    "        ids = df['Id'].tolist()\n",
    "        locs = df['location'].tolist()\n",
    "\n",
    "        # Add the location to the dictionary to the corresponding id\n",
    "        for i in range(len(ids)):\n",
    "            try:\n",
    "                # 1)\n",
    "                # locations.append({ids[i]: locs[i].raw})\n",
    "                \n",
    "                # 2)\n",
    "                countries['country'].append(locs[i].raw['display_name'].split(\",\")[-1].strip())\n",
    "                countries['Id'].append(ids[i])\n",
    "                \n",
    "                # 3)\n",
    "                # If the location is not a country(with \",\"), add the latitudes and longitudes to the list of cities\n",
    "                # if \", Colombia\" in locs[i].raw['display_name']:\n",
    "                #     lats_longs_cities_colombia['Id'].append(ids[i])\n",
    "                #     lats_longs_cities_colombia['lat'].append(locs[i].latitude)\n",
    "                #     lats_longs_cities_colombia['long'].append(locs[i].longitude)\n",
    "                #     lats_longs_cities_colombia['address'].append(locs[i].raw['display_name'])\n",
    "            except:    \n",
    "                pass"
   ]
  },
  {
   "cell_type": "code",
   "execution_count": 32,
   "metadata": {},
   "outputs": [
    {
     "name": "stdout",
     "output_type": "stream",
     "text": [
      "Number of tweets with Geolocation Activated: 2350485\n",
      "Number of tweets Geolocated in Colombia: 353776\n",
      "Number of tweets  Geolocated outside Colombia: 1996709\n"
     ]
    }
   ],
   "source": [
    "n_geolocation = len(countries['country'])\n",
    "print(f\"Number of tweets with Geolocation Activated: {n_geolocation}\")\n",
    "n_colombia_geolocated = pd.Series(countries['country']).value_counts()['Colombia']\n",
    "print(f\"Number of tweets Geolocated in Colombia: {n_colombia_geolocated}\")\n",
    "n_other_geolocated = n_geolocation - n_colombia_geolocated\n",
    "print(f\"Number of tweets  Geolocated outside Colombia: {n_other_geolocated}\")"
   ]
  },
  {
   "cell_type": "code",
   "execution_count": 34,
   "metadata": {},
   "outputs": [],
   "source": [
    "# # 1) Export the locations to a json and a csv \n",
    "# with open('../data/geolocation/locations.json', 'w') as f:\n",
    "#     json.dump(locations, f)\n",
    "\n",
    "# 2) Export the countries to a csv     \n",
    "countries_df = pd.DataFrame(countries)\n",
    "# countries_series = countries_df['country'].value_counts()\n",
    "countries_df.to_csv('../data/geolocation/countries_df.csv')\n",
    "# countries_series.to_csv('../data/geolocation/countries.csv')\n",
    "\n",
    "# # 3) Export the lats, and longs to a csv     \n",
    "# df = pd.DataFrame(lats_longs_cities_colombia)\n",
    "# df.to_csv('../data/geolocation/lats_longs_cities_colombia.csv', index=False)"
   ]
  },
  {
   "cell_type": "code",
   "execution_count": 5,
   "metadata": {},
   "outputs": [
    {
     "data": {
      "text/plain": [
       "(2350485, 285348)"
      ]
     },
     "execution_count": 5,
     "metadata": {},
     "output_type": "execute_result"
    }
   ],
   "source": [
    "len(locations), len(lats_longs_cities_colombia['Id'])"
   ]
  },
  {
   "cell_type": "code",
   "execution_count": 56,
   "metadata": {},
   "outputs": [
    {
     "name": "stdout",
     "output_type": "stream",
     "text": [
      "Number of tweets  Geolocated outside Colombia: 207615\n"
     ]
    }
   ],
   "source": [
    "# 4) Identify valid tweets from Colombia (API-geolocated)\n",
    "\n",
    "# Read valid tweets\n",
    "valid_tweets = pd.read_csv('../data/texts/colombian_valid_tweets.csv')\n",
    "\n",
    "# Create a df with only the valid tweets from Colombia (API-geolocated)\n",
    "countries_df['Id'] = countries_df['Id'].astype(str)\n",
    "colombia_df = countries_df[countries_df['country']=='Colombia']['Id']\n",
    "\n",
    "valid_tweets['Id'] = valid_tweets['Id'].astype(str)\n",
    "df_with_valid = pd.merge(colombia_df, valid_tweets, on='Id', how='inner')[['Id']]\n",
    "\n",
    "# Print number of tweets\n",
    "n_valid_API_Colombia = len(df_with_valid)\n",
    "print(f\"Number of tweets  Geolocated outside Colombia: {n_valid_API_Colombia}\")"
   ]
  },
  {
   "cell_type": "code",
   "execution_count": 2,
   "metadata": {},
   "outputs": [
    {
     "name": "stdout",
     "output_type": "stream",
     "text": [
      "Number of tweets: 1664903, Number of unique tweets: 647733, Number of retweets: 1017170\n",
      "Proportion of retweets: 0.610948505708741\n"
     ]
    }
   ],
   "source": [
    "# 5) Identify proportion of retweets\n",
    "# Read valid tweets\n",
    "valid_tweets = pd.read_csv('../data/texts/colombian_valid_tweets.csv')\n",
    "n_tweets = len(valid_tweets)\n",
    "n_unique_tweets = len(valid_tweets.drop_duplicates(subset=['text']))\n",
    "n_retweets = n_tweets - n_unique_tweets\n",
    "\n",
    "print(f\"Number of tweets: {n_tweets}, Number of unique tweets: {n_unique_tweets}, Number of retweets: {n_retweets}\")\n",
    "print(f\"Proportion of retweets: {n_retweets/n_tweets}\")"
   ]
  },
  {
   "cell_type": "code",
   "execution_count": 11,
   "metadata": {},
   "outputs": [],
   "source": [
    "# 6) Identify tone of retweets\n",
    "# Read valid tweets with tone\n",
    "valid_tweets = pd.read_csv('../data/texts/colombian_valid_tweets_tone_preds_wwm.csv')\n",
    "unique_tweets_ids = valid_tweets.drop_duplicates(subset=['text'])['Id']\n",
    "retweets = valid_tweets[~valid_tweets['Id'].isin(unique_tweets_ids)]\n",
    "tone_retweets = retweets['tone'].value_counts()\n",
    "tone_retweets_prop = tone_retweets/len(retweets)"
   ]
  },
  {
   "cell_type": "code",
   "execution_count": 12,
   "metadata": {},
   "outputs": [
    {
     "name": "stdout",
     "output_type": "stream",
     "text": [
      "neutral     434422\n",
      "negative    332439\n",
      "positive    250309\n",
      "Name: tone, dtype: int64\n",
      "neutral     0.427089\n",
      "negative    0.326827\n",
      "positive    0.246084\n",
      "Name: tone, dtype: float64\n"
     ]
    }
   ],
   "source": [
    "print(tone_retweets)\n",
    "print(tone_retweets_prop)"
   ]
  },
  {
   "cell_type": "markdown",
   "metadata": {},
   "source": [
    "---"
   ]
  },
  {
   "cell_type": "code",
   "execution_count": 3,
   "metadata": {},
   "outputs": [],
   "source": [
    "# read tweets with tone\n",
    "tweets = pd.read_csv('../data/texts/colombian_valid_tweets_tone_preds_wwm.csv')"
   ]
  },
  {
   "cell_type": "code",
   "execution_count": 4,
   "metadata": {},
   "outputs": [],
   "source": [
    "df = pd.read_csv('../data/geolocation/lats_longs_cities_colombia.csv')\n",
    "lats_longs_cities_colombia = {'Id': df['Id'].tolist(), 'lat': df['lat'].tolist(), 'long': df['long'].tolist(), 'address': df['address'].tolist()}"
   ]
  },
  {
   "cell_type": "code",
   "execution_count": 5,
   "metadata": {},
   "outputs": [],
   "source": [
    "df_with_depts = df.copy()"
   ]
  },
  {
   "cell_type": "code",
   "execution_count": 6,
   "metadata": {},
   "outputs": [],
   "source": [
    "departments = ['Amazonas', 'Antioquia', 'Arauca', 'Atlántico', 'Bolívar', 'Boyacá', 'Caldas', 'Caquetá', 'Casanare', 'Valle del Cauca', 'Cauca', 'Cesar', 'Chocó', 'Córdoba', 'Cundinamarca', 'Guainía', 'Guaviare', 'Huila', 'La Guajira', 'Magdalena', 'Meta', 'Nariño', 'Norte de Santander', 'Putumayo', 'Quindío', 'Risaralda', 'San Andrés y Providencia', 'Santander', 'Sucre', 'Tolima', 'Vaupés', 'Vichada', 'Bogotá Distrito Capital']\n",
    "for index, row in df_with_depts.iterrows():\n",
    "    if \"Valledupar\" in row['address']:\n",
    "        df_with_depts.loc[index, 'department'] = 'Cesar'\n",
    "    else:\n",
    "        for department in departments:\n",
    "            if department in row['address']:\n",
    "                df_with_depts.loc[index, 'department'] = department\n",
    "                break\n",
    "            \n",
    "df_with_depts.to_csv('../data/geolocation/lats_longs_cities_colombia_with_depts.csv', index=False)"
   ]
  },
  {
   "cell_type": "code",
   "execution_count": 7,
   "metadata": {},
   "outputs": [
    {
     "data": {
      "text/plain": [
       "Bogotá Distrito Capital     135834\n",
       "Antioquia                    33450\n",
       "Valle del Cauca              20252\n",
       "Atlántico                    18276\n",
       "Santander                    12770\n",
       "Norte de Santander           10060\n",
       "Bolívar                       6210\n",
       "Magdalena                     4563\n",
       "Cesar                         4454\n",
       "Risaralda                     4446\n",
       "Cundinamarca                  3906\n",
       "Tolima                        3767\n",
       "Córdoba                       3232\n",
       "Meta                          3212\n",
       "Boyacá                        3112\n",
       "La Guajira                    3016\n",
       "Caldas                        2308\n",
       "Nariño                        2186\n",
       "Quindío                       1851\n",
       "Casanare                      1491\n",
       "Huila                         1411\n",
       "Cauca                         1307\n",
       "Sucre                         1038\n",
       "Arauca                         754\n",
       "Chocó                          321\n",
       "Amazonas                       308\n",
       "Caquetá                        261\n",
       "Putumayo                       219\n",
       "Guaviare                       113\n",
       "Guainía                        108\n",
       "Vichada                         68\n",
       "Vaupés                           8\n",
       "San Andrés y Providencia         4\n",
       "Name: department, dtype: int64"
      ]
     },
     "execution_count": 7,
     "metadata": {},
     "output_type": "execute_result"
    }
   ],
   "source": [
    "df_with_depts['department'].value_counts()"
   ]
  },
  {
   "cell_type": "code",
   "execution_count": 140,
   "metadata": {},
   "outputs": [],
   "source": [
    "df_with_tone = pd.merge(df_with_depts, tweets, on='Id', how='inner')[['Id', 'lat', 'long', 'address', 'department', 'tone', 'date']]"
   ]
  },
  {
   "cell_type": "code",
   "execution_count": null,
   "metadata": {},
   "outputs": [],
   "source": []
  },
  {
   "cell_type": "code",
   "execution_count": 70,
   "metadata": {},
   "outputs": [],
   "source": [
    "# use a sample of the data of 1000 rows\n",
    "\n",
    "# filter to only have the tweets with tone positive\n",
    "df_with_tone_sample = df_with_tone[df_with_tone['tone'] == 'positive']\n",
    "\n",
    "# filter to only have the tweets in specific years\n",
    "df_with_tone_sample = df_with_tone_sample[df_with_tone_sample['date'].str[:4].isin(['2016'])]\n",
    "\n",
    "# df_with_tone_sample = df_with_tone_sample.sample(1000)"
   ]
  },
  {
   "cell_type": "code",
   "execution_count": 71,
   "metadata": {},
   "outputs": [],
   "source": [
    "# Drop rows not from Colombia\n",
    "for  i in df_with_tone_sample[\"address\"]:\n",
    "    if i.split(\",\")[-1] != \" Colombia\":\n",
    "        df_with_tone_sample = df_with_tone_sample[df_with_tone_sample[\"address\"] != i]\n",
    "        \n"
   ]
  },
  {
   "cell_type": "code",
   "execution_count": 72,
   "metadata": {},
   "outputs": [
    {
     "data": {
      "application/vnd.plotly.v1+json": {
       "config": {
        "plotlyServerURL": "https://plot.ly"
       },
       "data": [
        {
         "geo": "geo",
         "hovertemplate": "tone=positive<br>lat=%{lat}<br>long=%{lon}<extra></extra>",
         "lat": [
          2.264672,
          10.4195841,
          7.1114611,
          7.1114611,
          7.1114611,
          3.4517923,
          4.6533326,
          4.6533326,
          7.1114611,
          1.533534,
          7.8971458,
          4.1315113,
          4.5914342,
          5.0234748,
          4.7890155,
          10.2093606,
          4.6533326,
          4.6533326,
          4.6533326,
          4.8142613,
          3.4517923,
          4.6533326,
          3.5308373,
          3.5308373,
          4.6533326,
          7.8971458,
          4.6533326,
          7.1114611,
          7.8971458,
          4.6533326,
          7.8971458,
          4.6533326,
          4.6726615,
          4.6533326,
          4.6533326,
          4.6533326,
          6.2443382,
          6.2443382,
          6.2443382,
          4.6533326,
          3.5308373,
          3.5308373,
          3.5308373,
          3.5308373,
          3.5308373,
          3.5308373,
          3.5308373,
          3.5308373,
          3.5308373,
          4.6533326,
          4.6533326,
          4.6533326,
          4.6533326,
          1.7554212,
          4.6533326,
          4.6533326,
          7.8358404,
          3.5308373,
          3.5308373,
          3.5308373,
          3.5308373,
          3.5308373,
          3.5308373,
          4.6533326,
          4.6533326,
          4.6533326,
          4.8142613,
          4.6726615,
          4.1315113,
          4.6533326,
          4.6533326,
          4.6533326,
          4.6533326,
          4.6533326,
          6.2443382,
          10.9799669,
          4.6533326,
          4.6533326,
          3.5308373,
          4.6533326,
          4.6533326,
          3.4517923,
          10.9799669,
          4.6533326,
          6.2443382,
          4.6533326,
          4.6533326,
          4.6533326,
          4.6533326,
          5.0668907,
          4.6533326,
          7.1114611,
          4.6533326,
          6.2636089,
          4.6533326,
          4.6533326,
          4.6533326,
          4.6526208,
          3.5308373,
          3.5308373,
          2.30603575,
          4.6533326,
          6.2443382,
          10.9799669,
          3.5308373,
          3.5308373,
          3.5308373,
          3.5308373,
          3.5308373,
          3.5308373,
          3.5308373,
          3.5308373,
          3.5308373,
          3.5308373,
          3.5308373,
          4.1315113,
          4.6533326,
          7.1114611,
          1.7554212,
          4.6533326,
          4.6533326,
          4.6533326,
          4.6533326,
          4.7163036,
          4.6533326,
          4.6533326,
          4.6021825,
          4.6533326,
          4.6533326,
          4.6533326,
          4.6533326,
          4.6533326,
          4.7103659,
          4.7103659,
          4.6533326,
          4.6533326,
          4.6533326,
          4.6533326,
          4.6533326,
          4.6533326,
          4.6533326,
          4.6533326,
          4.6533326,
          4.6533326,
          4.6533326,
          4.6533326,
          4.6021825,
          3.5308373,
          3.5308373,
          3.5308373,
          4.6533326,
          3.5308373,
          3.5308373,
          3.5308373,
          11.544634,
          7.0000085,
          6.2443382,
          4.6533326,
          4.6726615,
          9.2580605,
          3.4517923,
          4.6533326,
          10.4651733,
          3.5308373,
          3.5308373,
          3.5308373,
          3.5308373,
          6.2443382,
          3.5308373,
          3.5308373,
          3.5308373,
          3.5308373,
          3.5308373,
          3.5308373,
          3.5308373,
          3.5308373,
          3.5308373,
          3.5308373,
          3.5308373,
          3.5308373,
          3.5308373,
          3.5308373,
          3.5308373,
          3.5308373,
          3.5308373,
          3.5308373,
          3.5308373,
          3.5308373,
          3.5308373,
          3.5308373,
          3.5308373,
          3.5308373,
          3.5308373,
          3.5308373,
          3.5308373,
          3.5308373,
          3.5308373,
          3.5308373,
          3.5308373,
          3.5308373,
          3.5308373,
          3.5308373,
          3.5308373,
          4.6533326,
          4.6533326,
          4.6533326,
          4.6533326,
          4.7163036,
          4.6533326,
          4.6533326,
          4.6533326,
          4.6533326,
          3.5308373,
          4.6533326,
          8.6046053,
          6.2443382,
          4.6533326,
          6.2443382,
          6.2443382,
          4.6533326,
          4.6533326,
          4.6533326,
          4.6533326,
          4.6533326,
          7.8971458,
          7.1114611,
          4.6533326,
          4.6533326,
          3.5308373,
          4.6021825,
          4.6726615,
          5.7148307,
          4.6533326,
          10.4195841,
          4.6533326,
          10.4195841,
          4.6533326,
          6.2443382,
          9.2580605,
          4.6533326,
          4.6533326,
          4.6533326,
          4.6533326,
          4.66961125,
          4.6533326,
          4.6533326,
          4.6533326,
          8.6046053,
          4.6533326,
          4.6533326,
          4.6533326,
          7.1114611,
          4.6533326,
          8.6046053,
          9.5575496,
          4.6533326,
          9.2580605,
          4.6533326,
          4.6533326,
          3.4517923,
          4.6533326,
          4.6533326,
          4.7103659,
          4.6533326,
          4.6533326,
          4.660482399999999,
          4.6533326,
          4.6533326,
          4.6533326,
          4.6533326,
          4.6021825,
          4.6533326,
          4.306643,
          4.6533326,
          4.6533326,
          4.6533326,
          4.6021825,
          10.9799669,
          4.6533326,
          4.6533326,
          4.6533326,
          6.2443382,
          4.6533326,
          4.6533326,
          4.6533326,
          4.6021825,
          7.8971458,
          4.6533326,
          4.6533326,
          4.6533326,
          4.6533326,
          4.7103659,
          4.9360114,
          4.6533326,
          4.6533326,
          4.7103659,
          4.6533326,
          4.6533326,
          4.6533326,
          4.6533326,
          4.6533326,
          4.6533326,
          4.6533326,
          4.6533326,
          4.6533326,
          4.6533326,
          4.6533326,
          4.6533326,
          4.6533326,
          4.6533326,
          4.6533326,
          4.6533326,
          4.6533326,
          4.6533326,
          4.6533326,
          4.6533326,
          4.6533326,
          4.6533326,
          4.6533326,
          4.6533326,
          4.6533326,
          4.6533326,
          4.6533326,
          4.6533326,
          4.6533326,
          4.6533326,
          10.34311145,
          4.6533326,
          4.6533326,
          9.2580605,
          4.6533326,
          4.6533326,
          4.7103659,
          4.6533326,
          4.6533326,
          4.6021825,
          4.4446595,
          4.6533326,
          3.5308373,
          4.6533326,
          10.4195841,
          4.6533326,
          6.272654,
          9.2580605,
          7.1114611,
          11.5448984,
          4.6577608,
          7.8971458,
          4.6533326,
          6.2443382,
          4.6533326,
          4.6533326,
          4.6533326,
          4.6533326,
          4.6533326,
          4.6533326,
          4.6533326,
          4.6877154,
          4.6533326,
          4.6233915,
          4.6533326,
          4.6533326,
          4.6533326,
          4.6533326,
          4.6533326,
          4.6533326,
          10.39692235,
          8.1758238,
          10.9799669,
          7.1114611,
          4.6533326,
          4.6533326,
          4.6533326,
          4.6533326,
          4.6533326,
          4.6533326,
          11.5277369,
          6.1536166,
          4.6092217,
          7.3763195,
          11.2422289,
          4.6533326,
          4.6533326,
          4.6021825,
          4.6533326,
          4.67769165,
          4.6533326,
          4.6533326,
          4.7103659,
          4.6533326,
          4.9360114,
          4.6533326,
          4.0638178,
          4.6533326,
          5.6923407,
          4.6533326,
          6.2443382,
          4.6533326,
          4.6533326,
          4.6533326,
          4.6533326,
          4.6533326,
          4.6533326,
          4.6533326,
          4.6726615,
          4.6533326,
          4.7103659,
          4.95238945,
          4.6533326,
          4.6533326,
          4.6533326,
          4.6533326,
          4.6533326,
          4.6533326,
          4.6533326,
          4.6533326,
          4.6533326,
          4.6533326,
          4.6533326,
          4.6533326,
          4.6533326,
          4.6533326,
          4.6533326,
          4.6533326,
          4.6533326,
          3.5308373,
          4.6533326,
          3.4517923,
          4.6533326,
          4.6533326,
          4.6533326,
          4.6726615,
          4.6533326,
          4.6533326,
          4.6533326,
          4.7103659,
          6.2443382,
          4.6533326,
          7.1114611,
          4.6533326,
          4.6533326,
          4.6533326,
          4.6533326,
          4.6533326,
          4.6533326,
          4.6533326,
          4.6533326,
          4.6021825,
          4.6533326,
          4.6726615,
          4.6533326,
          4.6533326,
          4.6533326,
          4.6533326,
          4.6533326,
          4.6533326,
          4.6533326,
          4.6533326,
          4.6533326,
          4.6533326,
          4.6533326,
          7.8971458,
          7.75600195,
          7.1114611,
          7.1114611,
          4.6533326,
          4.6533326,
          4.6533326,
          6.2443382,
          7.1114611,
          10.9799669,
          4.6533326,
          6.2443382,
          4.6533326,
          6.2443382,
          4.6533326,
          4.6533326,
          6.2443382,
          6.2443382,
          4.6533326,
          6.2443382,
          4.6533326,
          4.6533326,
          10.34311145,
          6.2443382,
          4.6533326,
          4.6533326,
          3.5308373,
          3.5308373,
          3.5308373,
          3.5308373,
          4.1315113,
          4.6533326,
          3.4517923,
          7.1114611,
          4.6533326,
          10.34311145,
          4.6533326,
          9.39162955,
          4.6533326,
          4.6533326,
          4.6533326,
          3.5308373,
          3.5308373,
          3.5308373,
          3.5308373,
          3.5308373,
          4.6533326,
          4.6533326,
          7.8971458,
          6.2443382,
          4.6533326,
          2.5716141,
          4.6533326,
          4.6533326,
          4.6533326,
          4.6533326,
          4.6533326,
          4.6223679,
          3.4517923,
          4.64594945,
          3.4517923,
          4.1315113,
          3.2036605,
          4.6533326,
          4.6533326,
          3.4517923,
          7.1114611,
          4.6533326,
          10.4651733,
          4.6533326,
          10.9799557,
          4.1315113,
          4.6533326,
          7.1114611,
          3.4517923,
          7.1114611,
          4.6533326,
          4.6533326,
          4.6533326,
          5.0668907,
          7.8971458,
          4.6533326,
          4.6533326,
          6.2443382,
          4.6533326,
          4.6533326,
          4.6533326,
          4.6533326,
          7.0000085,
          4.6533326,
          10.9799669,
          4.6533326,
          4.8142613,
          4.6533326,
          6.2443382,
          4.6533326,
          7.1114611,
          4.6533326,
          4.5796093,
          4.6533326,
          4.8142613,
          4.8142613,
          4.1315113,
          4.7099816,
          6.2443382,
          4.6533326,
          4.869398800000001,
          4.6533326,
          4.6533326,
          4.6533326,
          4.6533326,
          11.2422289,
          4.6533326,
          4.6533326,
          4.6533326,
          4.6533326,
          9.2580605,
          4.6533326,
          6.2443382,
          10.9799669,
          4.6533326,
          6.2443382,
          3.5222202,
          4.8142613,
          6.7323369,
          7.8971458,
          4.6533326,
          4.6533326,
          3.9000578,
          4.6533326,
          3.4517923,
          4.6533326,
          4.6533326,
          8.7558921,
          7.1114611,
          7.1114611,
          3.5308373,
          4.6533326,
          4.6533326,
          4.6533326,
          4.6533326,
          4.6533326,
          4.6533326,
          4.6533326,
          3.4517923,
          10.4195841,
          4.7471146,
          4.6533326,
          7.1114611,
          4.6533326,
          10.9799669,
          4.6533326,
          4.6533326,
          3.7500086,
          6.2443382,
          4.6533326,
          6.2443382,
          3.4517923,
          4.6533326,
          7.8971458,
          4.1315113,
          4.6533326,
          4.6533326,
          8.7558921,
          5.0668907,
          5.1096596,
          4.6533326,
          3.5308373,
          3.5308373,
          3.5308373,
          4.6533326,
          4.6533326,
          4.1315113,
          7.0000085,
          4.74251115,
          4.6533326,
          7.8971458,
          7.8971458,
          10.9799669,
          10.9799669,
          10.9799669,
          4.8612913,
          10.9799669,
          4.6533326,
          10.9799669,
          7.9838411,
          10.9799669,
          10.9799669,
          10.9799669,
          10.9799669,
          10.9799669,
          10.9799669,
          10.9799669,
          10.9799669,
          10.9799669,
          4.6533326,
          4.6533326,
          6.2443382,
          4.6533326,
          5.323257849999999,
          4.6533326,
          10.4195841,
          2.4422295,
          4.6533326,
          4.6533326,
          4.6533326,
          5.323257849999999,
          4.6533326,
          10.4195841,
          4.6533326,
          9.2580605,
          6.3600462,
          7.1114611,
          4.6533326,
          7.5788542,
          9.2580605,
          4.6533326,
          4.6577608,
          4.6533326,
          4.6533326,
          4.8142613,
          4.6533326,
          6.2443382,
          6.2443382,
          4.6533326,
          4.6533326,
          4.6533326,
          4.6533326,
          7.9137806,
          4.8142613,
          4.6533326,
          4.6533326,
          8.1758238,
          4.67315705,
          4.39764335,
          8.1758238,
          4.6533326,
          4.6533326,
          7.1114611,
          4.306643,
          7.1114611,
          4.6533326,
          4.6533326,
          6.2443382,
          4.6533326,
          4.6533326,
          4.6533326,
          4.4446595,
          4.6533326,
          4.6533326,
          4.6533326,
          4.6533326,
          4.6533326,
          4.6533326,
          4.6533326,
          4.5914342,
          4.6533326,
          10.9799669,
          4.6533326,
          4.6533326,
          4.6533326,
          4.6533326,
          4.4446595,
          7.0673313,
          6.2443382,
          4.6533326,
          4.6533326,
          4.6533326,
          7.8971458,
          10.9799669,
          4.6577608,
          4.6533326,
          4.4446595,
          10.34311145,
          6.2443382,
          4.6533326,
          4.6533326,
          11.2422289,
          11.2422289,
          3.03325535,
          4.8612913,
          4.8142613,
          3.4517923,
          11.2422289,
          4.6533326,
          6.2443382,
          6.2443382,
          6.2443382,
          6.2443382,
          7.2775945,
          7.1059749,
          2.4422295,
          3.5308373,
          6.2443382,
          11.2422289,
          4.6533326,
          4.5873202,
          11.2422289,
          4.6533326,
          6.2443382,
          4.6533326,
          6.2443382,
          4.6533326,
          4.6533326,
          7.8971458,
          1.7554212,
          10.9799669,
          6.1701348,
          6.2443382,
          5.6923407,
          4.8142613,
          4.5265383,
          4.8142613,
          4.6533326,
          4.5260983,
          4.6533326,
          10.9799669,
          4.6533326,
          4.6533326,
          4.6533326,
          3.4517923,
          4.6533326,
          4.6533326,
          4.6533326,
          4.536307,
          4.6533326,
          4.5914342,
          4.6533326,
          4.6533326,
          6.2443382,
          10.9799669,
          11.2422289,
          4.5914342,
          4.6533326,
          4.4446595,
          7.1114611,
          6.2443382,
          4.6533326,
          4.6533326,
          4.6533326,
          2.1960126,
          6.2443382,
          4.8142613,
          10.9799669,
          4.6533326,
          4.6533326,
          6.2443382,
          4.6533326,
          4.6533326,
          4.6533326,
          4.6533326,
          4.6533326,
          10.34311145,
          10.99730645,
          6.2443382,
          6.2443382,
          10.4651733,
          3.5308373,
          3.5308373,
          3.5308373,
          3.5308373,
          4.6533326,
          4.6533326,
          6.3757634,
          6.2443382,
          6.2443382,
          10.4651733,
          4.6533326,
          4.5914342,
          4.6533326,
          4.6533326,
          10.9799669,
          9.22734665,
          4.6533326,
          4.6533326,
          4.6533326,
          3.4517923,
          6.1793373,
          4.6533326,
          4.6533326,
          4.6533326,
          6.2443382,
          4.6533326,
          4.6533326,
          4.6533326,
          4.6533326,
          4.6533326,
          4.6533326,
          11.2422289,
          4.6533326,
          6.2443382,
          7.8971458,
          7.8971458,
          7.1114611,
          4.6533326,
          4.8142613,
          4.6533326,
          4.6533326,
          4.6533326,
          4.6533326,
          4.8142613,
          4.8142613,
          4.6533326,
          4.6533326,
          4.6533326,
          4.6533326,
          4.6533326,
          4.0638178,
          6.2443382,
          3.4517923,
          4.6533326,
          7.1114611,
          4.6533326,
          4.6533326,
          4.6533326,
          4.6533326,
          3.5308373,
          4.6533326,
          4.6533326,
          4.6533326,
          7.0673313,
          4.6533326,
          4.8142613,
          4.6533326,
          4.6533326,
          6.2443382,
          4.6533326,
          4.6533326,
          7.0732333,
          4.6533326,
          4.8142613,
          4.6533326,
          4.6533326,
          4.6533326,
          4.6533326,
          4.6533326,
          10.9799669,
          4.6533326,
          10.9799669,
          6.2443382,
          3.4517923,
          11.003679900000002,
          3.4517923,
          4.6533326,
          4.6533326,
          4.673723,
          10.9799669,
          4.6533326,
          7.1114611,
          10.9799669,
          4.6533326,
          3.5308373,
          6.2443382,
          4.6533326,
          7.8971458,
          4.1315113,
          4.6533326,
          4.6533326,
          3.4517923,
          7.0625358,
          4.6533326,
          4.9360114,
          4.6533326,
          7.1114611,
          4.6533326,
          4.6533326,
          4.6533326,
          1.2146013,
          10.4747716,
          6.2443382,
          7.82747905,
          4.8142613,
          4.839737400000001,
          6.2443382,
          4.6533326,
          8.6046053,
          4.8142613,
          11.2422289,
          6.8180711,
          4.6533326,
          3.4517923,
          5.985242250000001,
          4.6533326,
          4.6533326,
          4.6533326,
          4.6533326,
          4.6533326,
          4.6533326,
          10.9799669,
          4.6533326,
          7.0673313,
          4.5914342,
          4.536307,
          4.6533326,
          4.6533326,
          7.1114611,
          7.8971458,
          10.9799669,
          4.6533326,
          4.6577608,
          10.9799669,
          10.9799669,
          10.9799669,
          10.9799669,
          10.9799669,
          6.361973900000001,
          10.9799669,
          7.1114611,
          4.6533326,
          10.9799669,
          10.9799669,
          4.6533326,
          4.6533326,
          10.9799669,
          10.9799669,
          10.81475945,
          11.2422289,
          10.9799669,
          10.4195841,
          4.6533326,
          10.9799669,
          10.4195841,
          4.6533326,
          7.1114611,
          4.6533326,
          10.9799669,
          7.0000085,
          10.4195841,
          6.2443382,
          3.4517923,
          10.34311145,
          4.6533326,
          7.8971458,
          3.4517923,
          4.6533326,
          4.6533326,
          11.2422289,
          11.544634,
          4.6533326,
          4.6533326,
          4.6533326,
          4.6533326,
          4.6533326,
          4.6533326,
          5.0150158000000005,
          4.6533326,
          3.45459445,
          10.9799669,
          8.6046053,
          8.6046053,
          6.2443382,
          7.0000085,
          7.8971458,
          4.6533326,
          4.6533326,
          6.2443382,
          10.4651733,
          6.2443382,
          5.5324313,
          5.5324313,
          5.5324313,
          4.6533326,
          4.6533326,
          7.8971458,
          6.2443382,
          10.9799669,
          4.5914342,
          3.4517923,
          6.2443382,
          6.2443382,
          4.6179531,
          7.8971458,
          10.9799669,
          10.9799669,
          4.6533326,
          10.9799669,
          4.6533326,
          7.8971458,
          11.2422289,
          6.7323369,
          4.6533326,
          4.6533326,
          4.6533326,
          4.6533326,
          4.6533326,
          4.6533326,
          3.4125656,
          5.0234748,
          7.0000085,
          7.0625358,
          4.7466117,
          7.1114611,
          7.0000085,
          4.6533326,
          4.6533326,
          4.6533326,
          4.6533326,
          4.6726615,
          4.6533326,
          4.6533326,
          4.6533326,
          10.4195841,
          2.4422295,
          5.3356662,
          5.0668907,
          4.6533326
         ],
         "legendgroup": "positive",
         "lon": [
          -73.787578,
          -75.5271224,
          -73.1172869,
          -73.1172869,
          -73.1172869,
          -76.5324943,
          -74.083652,
          -74.083652,
          -73.1172869,
          -77.01845480416105,
          -72.5080387,
          -73.6206667,
          -74.1613527,
          -74.0039818,
          -74.1078284,
          -75.3174616,
          -74.083652,
          -74.083652,
          -74.083652,
          -75.6946776,
          -76.5324943,
          -74.083652,
          -76.2988048,
          -76.2988048,
          -74.083652,
          -72.5080387,
          -74.083652,
          -73.1172869,
          -72.5080387,
          -74.083652,
          -72.5080387,
          -74.083652,
          -74.0581744671382,
          -74.083652,
          -74.083652,
          -74.083652,
          -75.573553,
          -75.573553,
          -75.573553,
          -74.083652,
          -76.2988048,
          -76.2988048,
          -76.2988048,
          -76.2988048,
          -76.2988048,
          -76.2988048,
          -76.2988048,
          -76.2988048,
          -76.2988048,
          -74.083652,
          -74.083652,
          -74.083652,
          -74.083652,
          -75.60811976268113,
          -74.083652,
          -74.083652,
          -72.4716158,
          -76.2988048,
          -76.2988048,
          -76.2988048,
          -76.2988048,
          -76.2988048,
          -76.2988048,
          -74.083652,
          -74.083652,
          -74.083652,
          -75.6946776,
          -74.0581744671382,
          -73.6206667,
          -74.083652,
          -74.083652,
          -74.083652,
          -74.083652,
          -74.083652,
          -75.573553,
          -74.8013085,
          -74.083652,
          -74.083652,
          -76.2988048,
          -74.083652,
          -74.083652,
          -76.5324943,
          -74.8013085,
          -74.083652,
          -75.573553,
          -74.083652,
          -74.083652,
          -74.083652,
          -74.083652,
          -75.5066661,
          -74.083652,
          -73.1172869,
          -74.083652,
          -75.5605421,
          -74.083652,
          -74.083652,
          -74.083652,
          -74.0628224,
          -76.2988048,
          -76.2988048,
          -77.23906213331469,
          -74.083652,
          -75.573553,
          -74.8013085,
          -76.2988048,
          -76.2988048,
          -76.2988048,
          -76.2988048,
          -76.2988048,
          -76.2988048,
          -76.2988048,
          -76.2988048,
          -76.2988048,
          -76.2988048,
          -76.2988048,
          -73.6206667,
          -74.083652,
          -73.1172869,
          -75.60811976268113,
          -74.083652,
          -74.083652,
          -74.083652,
          -74.083652,
          -74.2122206,
          -74.083652,
          -74.083652,
          -74.0788378,
          -74.083652,
          -74.083652,
          -74.083652,
          -74.083652,
          -74.083652,
          -74.0506977112716,
          -74.0506977112716,
          -74.083652,
          -74.083652,
          -74.083652,
          -74.083652,
          -74.083652,
          -74.083652,
          -74.083652,
          -74.083652,
          -74.083652,
          -74.083652,
          -74.083652,
          -74.083652,
          -74.0788378,
          -76.2988048,
          -76.2988048,
          -76.2988048,
          -74.083652,
          -76.2988048,
          -76.2988048,
          -76.2988048,
          -72.9069784,
          -75.5000086,
          -75.573553,
          -74.083652,
          -74.0581744671382,
          -74.7812091,
          -76.5324943,
          -74.083652,
          -73.2529512,
          -76.2988048,
          -76.2988048,
          -76.2988048,
          -76.2988048,
          -75.573553,
          -76.2988048,
          -76.2988048,
          -76.2988048,
          -76.2988048,
          -76.2988048,
          -76.2988048,
          -76.2988048,
          -76.2988048,
          -76.2988048,
          -76.2988048,
          -76.2988048,
          -76.2988048,
          -76.2988048,
          -76.2988048,
          -76.2988048,
          -76.2988048,
          -76.2988048,
          -76.2988048,
          -76.2988048,
          -76.2988048,
          -76.2988048,
          -76.2988048,
          -76.2988048,
          -76.2988048,
          -76.2988048,
          -76.2988048,
          -76.2988048,
          -76.2988048,
          -76.2988048,
          -76.2988048,
          -76.2988048,
          -76.2988048,
          -76.2988048,
          -76.2988048,
          -76.2988048,
          -74.083652,
          -74.083652,
          -74.083652,
          -74.083652,
          -74.2122206,
          -74.083652,
          -74.083652,
          -74.083652,
          -74.083652,
          -76.2988048,
          -74.083652,
          -75.97832027208273,
          -75.573553,
          -74.083652,
          -75.573553,
          -75.573553,
          -74.083652,
          -74.083652,
          -74.083652,
          -74.083652,
          -74.083652,
          -72.5080387,
          -73.1172869,
          -74.083652,
          -74.083652,
          -76.2988048,
          -74.0788378,
          -74.0581744671382,
          -72.9279328,
          -74.083652,
          -75.5271224,
          -74.083652,
          -75.5271224,
          -74.083652,
          -75.573553,
          -74.7812091,
          -74.083652,
          -74.083652,
          -74.083652,
          -74.083652,
          -74.12699949358378,
          -74.083652,
          -74.083652,
          -74.083652,
          -75.97832027208273,
          -74.083652,
          -74.083652,
          -74.083652,
          -73.1172869,
          -74.083652,
          -75.97832027208273,
          -73.29475837874824,
          -74.083652,
          -74.7812091,
          -74.083652,
          -74.083652,
          -76.5324943,
          -74.083652,
          -74.083652,
          -74.0506977112716,
          -74.083652,
          -74.083652,
          -74.06360381730005,
          -74.083652,
          -74.083652,
          -74.083652,
          -74.083652,
          -74.0788378,
          -74.083652,
          -74.8015665,
          -74.083652,
          -74.083652,
          -74.083652,
          -74.0788378,
          -74.8013085,
          -74.083652,
          -74.083652,
          -74.083652,
          -75.573553,
          -74.083652,
          -74.083652,
          -74.083652,
          -74.0788378,
          -72.5080387,
          -74.083652,
          -74.083652,
          -74.083652,
          -74.083652,
          -74.0506977112716,
          -74.03211632810394,
          -74.083652,
          -74.083652,
          -74.0506977112716,
          -74.083652,
          -74.083652,
          -74.083652,
          -74.083652,
          -74.083652,
          -74.083652,
          -74.083652,
          -74.083652,
          -74.083652,
          -74.083652,
          -74.083652,
          -74.083652,
          -74.083652,
          -74.083652,
          -74.083652,
          -74.083652,
          -74.083652,
          -74.083652,
          -74.083652,
          -74.083652,
          -74.083652,
          -74.083652,
          -74.083652,
          -74.083652,
          -74.083652,
          -74.083652,
          -74.083652,
          -74.083652,
          -74.083652,
          -74.083652,
          -73.37579338828454,
          -74.083652,
          -74.083652,
          -74.7812091,
          -74.083652,
          -74.083652,
          -74.0506977112716,
          -74.083652,
          -74.083652,
          -74.0788378,
          -75.2430012,
          -74.083652,
          -76.2988048,
          -74.083652,
          -75.5271224,
          -74.083652,
          -75.43925679397356,
          -74.7812091,
          -73.1172869,
          -72.9080017,
          -74.0600172,
          -72.5080387,
          -74.083652,
          -75.573553,
          -74.083652,
          -74.083652,
          -74.083652,
          -74.083652,
          -74.083652,
          -74.083652,
          -74.083652,
          -74.0655289,
          -74.083652,
          -74.0724605,
          -74.083652,
          -74.083652,
          -74.083652,
          -74.083652,
          -74.083652,
          -74.083652,
          -75.47786605,
          -73.3670106,
          -74.8013085,
          -73.1172869,
          -74.083652,
          -74.083652,
          -74.083652,
          -74.083652,
          -74.083652,
          -74.083652,
          -72.8994776,
          -75.3741691,
          -74.0693631,
          -72.6481984,
          -74.2055606,
          -74.083652,
          -74.083652,
          -74.0788378,
          -74.083652,
          -74.23113670096389,
          -74.083652,
          -74.083652,
          -74.0506977112716,
          -74.083652,
          -74.03211632810394,
          -74.083652,
          -76.12335581641676,
          -74.083652,
          -76.6583801,
          -74.083652,
          -75.573553,
          -74.083652,
          -74.083652,
          -74.083652,
          -74.083652,
          -74.083652,
          -74.083652,
          -74.083652,
          -74.0581744671382,
          -74.083652,
          -74.0506977112716,
          -74.07900673977333,
          -74.083652,
          -74.083652,
          -74.083652,
          -74.083652,
          -74.083652,
          -74.083652,
          -74.083652,
          -74.083652,
          -74.083652,
          -74.083652,
          -74.083652,
          -74.083652,
          -74.083652,
          -74.083652,
          -74.083652,
          -74.083652,
          -74.083652,
          -76.2988048,
          -74.083652,
          -76.5324943,
          -74.083652,
          -74.083652,
          -74.083652,
          -74.0581744671382,
          -74.083652,
          -74.083652,
          -74.083652,
          -74.0506977112716,
          -75.573553,
          -74.083652,
          -73.1172869,
          -74.083652,
          -74.083652,
          -74.083652,
          -74.083652,
          -74.083652,
          -74.083652,
          -74.083652,
          -74.083652,
          -74.0788378,
          -74.083652,
          -74.0581744671382,
          -74.083652,
          -74.083652,
          -74.083652,
          -74.083652,
          -74.083652,
          -74.083652,
          -74.083652,
          -74.083652,
          -74.083652,
          -74.083652,
          -74.083652,
          -72.5080387,
          -72.51159749006851,
          -73.1172869,
          -73.1172869,
          -74.083652,
          -74.083652,
          -74.083652,
          -75.573553,
          -73.1172869,
          -74.8013085,
          -74.083652,
          -75.573553,
          -74.083652,
          -75.573553,
          -74.083652,
          -74.083652,
          -75.573553,
          -75.573553,
          -74.083652,
          -75.573553,
          -74.083652,
          -74.083652,
          -73.37579338828454,
          -75.573553,
          -74.083652,
          -74.083652,
          -76.2988048,
          -76.2988048,
          -76.2988048,
          -76.2988048,
          -73.6206667,
          -74.083652,
          -76.5324943,
          -73.1172869,
          -74.083652,
          -73.37579338828454,
          -74.083652,
          -75.33406786876125,
          -74.083652,
          -74.083652,
          -74.083652,
          -76.2988048,
          -76.2988048,
          -76.2988048,
          -76.2988048,
          -76.2988048,
          -74.083652,
          -74.083652,
          -72.5080387,
          -75.573553,
          -74.083652,
          -72.6426515,
          -74.083652,
          -74.083652,
          -74.083652,
          -74.083652,
          -74.083652,
          -74.0918641,
          -76.5324943,
          -74.0776053940335,
          -76.5324943,
          -73.6206667,
          -68.38094411558828,
          -74.083652,
          -74.083652,
          -76.5324943,
          -73.1172869,
          -74.083652,
          -73.2529512,
          -74.083652,
          -74.8014797,
          -73.6206667,
          -74.083652,
          -73.1172869,
          -76.5324943,
          -73.1172869,
          -74.083652,
          -74.083652,
          -74.083652,
          -75.5066661,
          -72.5080387,
          -74.083652,
          -74.083652,
          -75.573553,
          -74.083652,
          -74.083652,
          -74.083652,
          -74.083652,
          -75.5000086,
          -74.083652,
          -74.8013085,
          -74.083652,
          -75.6946776,
          -74.083652,
          -75.573553,
          -74.083652,
          -73.1172869,
          -74.083652,
          -74.0805522,
          -74.083652,
          -75.6946776,
          -75.6946776,
          -73.6206667,
          -74.0944968,
          -75.573553,
          -74.083652,
          -74.03646684902216,
          -74.083652,
          -74.083652,
          -74.083652,
          -74.083652,
          -74.2055606,
          -74.083652,
          -74.083652,
          -74.083652,
          -74.083652,
          -74.7812091,
          -74.083652,
          -75.573553,
          -74.8013085,
          -74.083652,
          -75.573553,
          -76.4171316,
          -75.6946776,
          -72.73596709511882,
          -72.5080387,
          -74.083652,
          -74.083652,
          -76.302013,
          -74.083652,
          -76.5324943,
          -74.083652,
          -74.083652,
          -75.887029,
          -73.1172869,
          -73.1172869,
          -76.2988048,
          -74.083652,
          -74.083652,
          -74.083652,
          -74.083652,
          -74.083652,
          -74.083652,
          -74.083652,
          -76.5324943,
          -75.5271224,
          -74.19761164588309,
          -74.083652,
          -73.1172869,
          -74.083652,
          -74.8013085,
          -74.083652,
          -74.083652,
          -75.2500086,
          -75.573553,
          -74.083652,
          -75.573553,
          -76.5324943,
          -74.083652,
          -72.5080387,
          -73.6206667,
          -74.083652,
          -74.083652,
          -75.887029,
          -75.5066661,
          -74.0995854,
          -74.083652,
          -76.2988048,
          -76.2988048,
          -76.2988048,
          -74.083652,
          -74.083652,
          -73.6206667,
          -73.2500086,
          -71.42210134714038,
          -74.083652,
          -72.5080387,
          -72.5080387,
          -74.8013085,
          -74.8013085,
          -74.8013085,
          -74.0602063,
          -74.8013085,
          -74.083652,
          -74.8013085,
          -74.68428522913838,
          -74.8013085,
          -74.8013085,
          -74.8013085,
          -74.8013085,
          -74.8013085,
          -74.8013085,
          -74.8013085,
          -74.8013085,
          -74.8013085,
          -74.083652,
          -74.083652,
          -75.573553,
          -74.083652,
          -72.37217150000001,
          -74.083652,
          -75.5271224,
          -76.6072368,
          -74.083652,
          -74.083652,
          -74.083652,
          -72.37217150000001,
          -74.083652,
          -75.5271224,
          -74.083652,
          -74.7812091,
          -75.49786997389143,
          -73.1172869,
          -74.083652,
          -75.0139463,
          -74.7812091,
          -74.083652,
          -74.0600172,
          -74.083652,
          -74.083652,
          -75.6946776,
          -74.083652,
          -75.573553,
          -75.573553,
          -74.083652,
          -74.083652,
          -74.083652,
          -74.083652,
          -72.4657384,
          -75.6946776,
          -74.083652,
          -74.083652,
          -73.3670106,
          -74.07667059792999,
          -75.69346949011182,
          -73.3670106,
          -74.083652,
          -74.083652,
          -73.1172869,
          -74.8015665,
          -73.1172869,
          -74.083652,
          -74.083652,
          -75.573553,
          -74.083652,
          -74.083652,
          -74.083652,
          -75.2430012,
          -74.083652,
          -74.083652,
          -74.083652,
          -74.083652,
          -74.083652,
          -74.083652,
          -74.083652,
          -74.1613527,
          -74.083652,
          -74.8013085,
          -74.083652,
          -74.083652,
          -74.083652,
          -74.083652,
          -75.2430012,
          -73.8525627,
          -75.573553,
          -74.083652,
          -74.083652,
          -74.083652,
          -72.5080387,
          -74.8013085,
          -74.0600172,
          -74.083652,
          -75.2430012,
          -73.37579338828454,
          -75.573553,
          -74.083652,
          -74.083652,
          -74.2055606,
          -74.2055606,
          -75.2794302828603,
          -74.0602063,
          -75.6946776,
          -76.5324943,
          -74.2055606,
          -74.083652,
          -75.573553,
          -75.573553,
          -75.573553,
          -75.573553,
          -74.62085391976942,
          -77.7641078,
          -76.6072368,
          -76.2988048,
          -75.573553,
          -74.2055606,
          -74.083652,
          -74.0803567,
          -74.2055606,
          -74.083652,
          -75.573553,
          -74.083652,
          -75.573553,
          -74.083652,
          -74.083652,
          -72.5080387,
          -75.60811976268113,
          -74.8013085,
          -75.587415,
          -75.573553,
          -76.6583801,
          -75.6946776,
          -74.1136681,
          -75.6946776,
          -74.083652,
          -74.1168442,
          -74.083652,
          -74.8013085,
          -74.083652,
          -74.083652,
          -74.083652,
          -76.5324943,
          -74.083652,
          -74.083652,
          -74.083652,
          -75.6723751,
          -74.083652,
          -74.1613527,
          -74.083652,
          -74.083652,
          -75.573553,
          -74.8013085,
          -74.2055606,
          -74.1613527,
          -74.083652,
          -75.2430012,
          -73.1172869,
          -75.573553,
          -74.083652,
          -74.083652,
          -74.083652,
          -75.6274845,
          -75.573553,
          -75.6946776,
          -74.8013085,
          -74.083652,
          -74.083652,
          -75.573553,
          -74.083652,
          -74.083652,
          -74.083652,
          -74.083652,
          -74.083652,
          -73.37579338828454,
          -74.91645312741016,
          -75.573553,
          -75.573553,
          -73.2529512,
          -76.2988048,
          -76.2988048,
          -76.2988048,
          -76.2988048,
          -74.083652,
          -74.083652,
          -75.44053710521231,
          -75.573553,
          -75.573553,
          -73.2529512,
          -74.083652,
          -74.1613527,
          -74.083652,
          -74.083652,
          -74.8013085,
          -75.8184149334903,
          -74.083652,
          -74.083652,
          -74.083652,
          -76.5324943,
          -75.5839034171532,
          -74.083652,
          -74.083652,
          -74.083652,
          -75.573553,
          -74.083652,
          -74.083652,
          -74.083652,
          -74.083652,
          -74.083652,
          -74.083652,
          -74.2055606,
          -74.083652,
          -75.573553,
          -72.5080387,
          -72.5080387,
          -73.1172869,
          -74.083652,
          -75.6946776,
          -74.083652,
          -74.083652,
          -74.083652,
          -74.083652,
          -75.6946776,
          -75.6946776,
          -74.083652,
          -74.083652,
          -74.083652,
          -74.083652,
          -74.083652,
          -76.12335581641676,
          -75.573553,
          -76.5324943,
          -74.083652,
          -73.1172869,
          -74.083652,
          -74.083652,
          -74.083652,
          -74.083652,
          -76.2988048,
          -74.083652,
          -74.083652,
          -74.083652,
          -73.8525627,
          -74.083652,
          -75.6946776,
          -74.083652,
          -74.083652,
          -75.573553,
          -74.083652,
          -74.083652,
          -73.1689196,
          -74.083652,
          -75.6946776,
          -74.083652,
          -74.083652,
          -74.083652,
          -74.083652,
          -74.083652,
          -74.8013085,
          -74.083652,
          -74.8013085,
          -75.573553,
          -76.5324943,
          -74.8112279,
          -76.5324943,
          -74.083652,
          -74.083652,
          -74.0938152,
          -74.8013085,
          -74.083652,
          -73.1172869,
          -74.8013085,
          -74.083652,
          -76.2988048,
          -75.573553,
          -74.083652,
          -72.5080387,
          -73.6206667,
          -74.083652,
          -74.083652,
          -76.5324943,
          -73.0858228,
          -74.083652,
          -74.03211632810394,
          -74.083652,
          -73.1172869,
          -74.083652,
          -74.083652,
          -74.083652,
          -77.2782755,
          -73.2456239,
          -75.573553,
          -75.04521491490272,
          -75.6946776,
          -75.67269689398901,
          -75.573553,
          -74.083652,
          -75.97832027208273,
          -75.6946776,
          -74.2055606,
          -72.82070608235979,
          -74.083652,
          -76.5324943,
          -75.4467398934149,
          -74.083652,
          -74.083652,
          -74.083652,
          -74.083652,
          -74.083652,
          -74.083652,
          -74.8013085,
          -74.083652,
          -73.8525627,
          -74.1613527,
          -75.6723751,
          -74.083652,
          -74.083652,
          -73.1172869,
          -72.5080387,
          -74.8013085,
          -74.083652,
          -74.0600172,
          -74.8013085,
          -74.8013085,
          -74.8013085,
          -74.8013085,
          -74.8013085,
          -73.7773019855766,
          -74.8013085,
          -73.1172869,
          -74.083652,
          -74.8013085,
          -74.8013085,
          -74.083652,
          -74.083652,
          -74.8013085,
          -74.8013085,
          -73.08446070179835,
          -74.2055606,
          -74.8013085,
          -75.5271224,
          -74.083652,
          -74.8013085,
          -75.5271224,
          -74.083652,
          -73.1172869,
          -74.083652,
          -74.8013085,
          -75.5000086,
          -75.5271224,
          -75.573553,
          -76.5324943,
          -73.37579338828454,
          -74.083652,
          -72.5080387,
          -76.5324943,
          -74.083652,
          -74.083652,
          -74.2055606,
          -72.9069784,
          -74.083652,
          -74.083652,
          -74.083652,
          -74.083652,
          -74.083652,
          -74.083652,
          -73.79207083711154,
          -74.083652,
          -76.52615368687759,
          -74.8013085,
          -75.97832027208273,
          -75.97832027208273,
          -75.573553,
          -75.5000086,
          -72.5080387,
          -74.083652,
          -74.083652,
          -75.573553,
          -73.2529512,
          -75.573553,
          -73.3616014,
          -73.3616014,
          -73.3616014,
          -74.083652,
          -74.083652,
          -72.5080387,
          -75.573553,
          -74.8013085,
          -74.1613527,
          -76.5324943,
          -75.573553,
          -75.573553,
          -74.0756897,
          -72.5080387,
          -74.8013085,
          -74.8013085,
          -74.083652,
          -74.8013085,
          -74.083652,
          -72.5080387,
          -74.2055606,
          -72.73596709511882,
          -74.083652,
          -74.083652,
          -74.083652,
          -74.083652,
          -74.083652,
          -74.083652,
          -76.5323179,
          -74.0039818,
          -73.2500086,
          -73.0858228,
          -74.062676,
          -73.1172869,
          -73.2500086,
          -74.083652,
          -74.083652,
          -74.083652,
          -74.083652,
          -74.0581744671382,
          -74.083652,
          -74.083652,
          -74.083652,
          -75.5271224,
          -76.6072368,
          -72.3936931,
          -75.5066661,
          -74.083652
         ],
         "marker": {
          "color": "blue",
          "opacity": 0.1,
          "symbol": "circle"
         },
         "mode": "markers",
         "name": "positive",
         "showlegend": true,
         "type": "scattergeo"
        }
       ],
       "layout": {
        "geo": {
         "center": {},
         "coastlinecolor": "black",
         "countrycolor": "black",
         "domain": {
          "x": [
           0,
           1
          ],
          "y": [
           0,
           1
          ]
         },
         "fitbounds": "locations",
         "landcolor": "lightgray",
         "showcoastlines": true,
         "showcountries": true,
         "showland": true
        },
        "legend": {
         "title": {
          "text": "tone"
         },
         "tracegroupgap": 0
        },
        "template": {
         "data": {
          "bar": [
           {
            "error_x": {
             "color": "#2a3f5f"
            },
            "error_y": {
             "color": "#2a3f5f"
            },
            "marker": {
             "line": {
              "color": "#E5ECF6",
              "width": 0.5
             },
             "pattern": {
              "fillmode": "overlay",
              "size": 10,
              "solidity": 0.2
             }
            },
            "type": "bar"
           }
          ],
          "barpolar": [
           {
            "marker": {
             "line": {
              "color": "#E5ECF6",
              "width": 0.5
             },
             "pattern": {
              "fillmode": "overlay",
              "size": 10,
              "solidity": 0.2
             }
            },
            "type": "barpolar"
           }
          ],
          "carpet": [
           {
            "aaxis": {
             "endlinecolor": "#2a3f5f",
             "gridcolor": "white",
             "linecolor": "white",
             "minorgridcolor": "white",
             "startlinecolor": "#2a3f5f"
            },
            "baxis": {
             "endlinecolor": "#2a3f5f",
             "gridcolor": "white",
             "linecolor": "white",
             "minorgridcolor": "white",
             "startlinecolor": "#2a3f5f"
            },
            "type": "carpet"
           }
          ],
          "choropleth": [
           {
            "colorbar": {
             "outlinewidth": 0,
             "ticks": ""
            },
            "type": "choropleth"
           }
          ],
          "contour": [
           {
            "colorbar": {
             "outlinewidth": 0,
             "ticks": ""
            },
            "colorscale": [
             [
              0,
              "#0d0887"
             ],
             [
              0.1111111111111111,
              "#46039f"
             ],
             [
              0.2222222222222222,
              "#7201a8"
             ],
             [
              0.3333333333333333,
              "#9c179e"
             ],
             [
              0.4444444444444444,
              "#bd3786"
             ],
             [
              0.5555555555555556,
              "#d8576b"
             ],
             [
              0.6666666666666666,
              "#ed7953"
             ],
             [
              0.7777777777777778,
              "#fb9f3a"
             ],
             [
              0.8888888888888888,
              "#fdca26"
             ],
             [
              1,
              "#f0f921"
             ]
            ],
            "type": "contour"
           }
          ],
          "contourcarpet": [
           {
            "colorbar": {
             "outlinewidth": 0,
             "ticks": ""
            },
            "type": "contourcarpet"
           }
          ],
          "heatmap": [
           {
            "colorbar": {
             "outlinewidth": 0,
             "ticks": ""
            },
            "colorscale": [
             [
              0,
              "#0d0887"
             ],
             [
              0.1111111111111111,
              "#46039f"
             ],
             [
              0.2222222222222222,
              "#7201a8"
             ],
             [
              0.3333333333333333,
              "#9c179e"
             ],
             [
              0.4444444444444444,
              "#bd3786"
             ],
             [
              0.5555555555555556,
              "#d8576b"
             ],
             [
              0.6666666666666666,
              "#ed7953"
             ],
             [
              0.7777777777777778,
              "#fb9f3a"
             ],
             [
              0.8888888888888888,
              "#fdca26"
             ],
             [
              1,
              "#f0f921"
             ]
            ],
            "type": "heatmap"
           }
          ],
          "heatmapgl": [
           {
            "colorbar": {
             "outlinewidth": 0,
             "ticks": ""
            },
            "colorscale": [
             [
              0,
              "#0d0887"
             ],
             [
              0.1111111111111111,
              "#46039f"
             ],
             [
              0.2222222222222222,
              "#7201a8"
             ],
             [
              0.3333333333333333,
              "#9c179e"
             ],
             [
              0.4444444444444444,
              "#bd3786"
             ],
             [
              0.5555555555555556,
              "#d8576b"
             ],
             [
              0.6666666666666666,
              "#ed7953"
             ],
             [
              0.7777777777777778,
              "#fb9f3a"
             ],
             [
              0.8888888888888888,
              "#fdca26"
             ],
             [
              1,
              "#f0f921"
             ]
            ],
            "type": "heatmapgl"
           }
          ],
          "histogram": [
           {
            "marker": {
             "pattern": {
              "fillmode": "overlay",
              "size": 10,
              "solidity": 0.2
             }
            },
            "type": "histogram"
           }
          ],
          "histogram2d": [
           {
            "colorbar": {
             "outlinewidth": 0,
             "ticks": ""
            },
            "colorscale": [
             [
              0,
              "#0d0887"
             ],
             [
              0.1111111111111111,
              "#46039f"
             ],
             [
              0.2222222222222222,
              "#7201a8"
             ],
             [
              0.3333333333333333,
              "#9c179e"
             ],
             [
              0.4444444444444444,
              "#bd3786"
             ],
             [
              0.5555555555555556,
              "#d8576b"
             ],
             [
              0.6666666666666666,
              "#ed7953"
             ],
             [
              0.7777777777777778,
              "#fb9f3a"
             ],
             [
              0.8888888888888888,
              "#fdca26"
             ],
             [
              1,
              "#f0f921"
             ]
            ],
            "type": "histogram2d"
           }
          ],
          "histogram2dcontour": [
           {
            "colorbar": {
             "outlinewidth": 0,
             "ticks": ""
            },
            "colorscale": [
             [
              0,
              "#0d0887"
             ],
             [
              0.1111111111111111,
              "#46039f"
             ],
             [
              0.2222222222222222,
              "#7201a8"
             ],
             [
              0.3333333333333333,
              "#9c179e"
             ],
             [
              0.4444444444444444,
              "#bd3786"
             ],
             [
              0.5555555555555556,
              "#d8576b"
             ],
             [
              0.6666666666666666,
              "#ed7953"
             ],
             [
              0.7777777777777778,
              "#fb9f3a"
             ],
             [
              0.8888888888888888,
              "#fdca26"
             ],
             [
              1,
              "#f0f921"
             ]
            ],
            "type": "histogram2dcontour"
           }
          ],
          "mesh3d": [
           {
            "colorbar": {
             "outlinewidth": 0,
             "ticks": ""
            },
            "type": "mesh3d"
           }
          ],
          "parcoords": [
           {
            "line": {
             "colorbar": {
              "outlinewidth": 0,
              "ticks": ""
             }
            },
            "type": "parcoords"
           }
          ],
          "pie": [
           {
            "automargin": true,
            "type": "pie"
           }
          ],
          "scatter": [
           {
            "fillpattern": {
             "fillmode": "overlay",
             "size": 10,
             "solidity": 0.2
            },
            "type": "scatter"
           }
          ],
          "scatter3d": [
           {
            "line": {
             "colorbar": {
              "outlinewidth": 0,
              "ticks": ""
             }
            },
            "marker": {
             "colorbar": {
              "outlinewidth": 0,
              "ticks": ""
             }
            },
            "type": "scatter3d"
           }
          ],
          "scattercarpet": [
           {
            "marker": {
             "colorbar": {
              "outlinewidth": 0,
              "ticks": ""
             }
            },
            "type": "scattercarpet"
           }
          ],
          "scattergeo": [
           {
            "marker": {
             "colorbar": {
              "outlinewidth": 0,
              "ticks": ""
             }
            },
            "type": "scattergeo"
           }
          ],
          "scattergl": [
           {
            "marker": {
             "colorbar": {
              "outlinewidth": 0,
              "ticks": ""
             }
            },
            "type": "scattergl"
           }
          ],
          "scattermapbox": [
           {
            "marker": {
             "colorbar": {
              "outlinewidth": 0,
              "ticks": ""
             }
            },
            "type": "scattermapbox"
           }
          ],
          "scatterpolar": [
           {
            "marker": {
             "colorbar": {
              "outlinewidth": 0,
              "ticks": ""
             }
            },
            "type": "scatterpolar"
           }
          ],
          "scatterpolargl": [
           {
            "marker": {
             "colorbar": {
              "outlinewidth": 0,
              "ticks": ""
             }
            },
            "type": "scatterpolargl"
           }
          ],
          "scatterternary": [
           {
            "marker": {
             "colorbar": {
              "outlinewidth": 0,
              "ticks": ""
             }
            },
            "type": "scatterternary"
           }
          ],
          "surface": [
           {
            "colorbar": {
             "outlinewidth": 0,
             "ticks": ""
            },
            "colorscale": [
             [
              0,
              "#0d0887"
             ],
             [
              0.1111111111111111,
              "#46039f"
             ],
             [
              0.2222222222222222,
              "#7201a8"
             ],
             [
              0.3333333333333333,
              "#9c179e"
             ],
             [
              0.4444444444444444,
              "#bd3786"
             ],
             [
              0.5555555555555556,
              "#d8576b"
             ],
             [
              0.6666666666666666,
              "#ed7953"
             ],
             [
              0.7777777777777778,
              "#fb9f3a"
             ],
             [
              0.8888888888888888,
              "#fdca26"
             ],
             [
              1,
              "#f0f921"
             ]
            ],
            "type": "surface"
           }
          ],
          "table": [
           {
            "cells": {
             "fill": {
              "color": "#EBF0F8"
             },
             "line": {
              "color": "white"
             }
            },
            "header": {
             "fill": {
              "color": "#C8D4E3"
             },
             "line": {
              "color": "white"
             }
            },
            "type": "table"
           }
          ]
         },
         "layout": {
          "annotationdefaults": {
           "arrowcolor": "#2a3f5f",
           "arrowhead": 0,
           "arrowwidth": 1
          },
          "autotypenumbers": "strict",
          "coloraxis": {
           "colorbar": {
            "outlinewidth": 0,
            "ticks": ""
           }
          },
          "colorscale": {
           "diverging": [
            [
             0,
             "#8e0152"
            ],
            [
             0.1,
             "#c51b7d"
            ],
            [
             0.2,
             "#de77ae"
            ],
            [
             0.3,
             "#f1b6da"
            ],
            [
             0.4,
             "#fde0ef"
            ],
            [
             0.5,
             "#f7f7f7"
            ],
            [
             0.6,
             "#e6f5d0"
            ],
            [
             0.7,
             "#b8e186"
            ],
            [
             0.8,
             "#7fbc41"
            ],
            [
             0.9,
             "#4d9221"
            ],
            [
             1,
             "#276419"
            ]
           ],
           "sequential": [
            [
             0,
             "#0d0887"
            ],
            [
             0.1111111111111111,
             "#46039f"
            ],
            [
             0.2222222222222222,
             "#7201a8"
            ],
            [
             0.3333333333333333,
             "#9c179e"
            ],
            [
             0.4444444444444444,
             "#bd3786"
            ],
            [
             0.5555555555555556,
             "#d8576b"
            ],
            [
             0.6666666666666666,
             "#ed7953"
            ],
            [
             0.7777777777777778,
             "#fb9f3a"
            ],
            [
             0.8888888888888888,
             "#fdca26"
            ],
            [
             1,
             "#f0f921"
            ]
           ],
           "sequentialminus": [
            [
             0,
             "#0d0887"
            ],
            [
             0.1111111111111111,
             "#46039f"
            ],
            [
             0.2222222222222222,
             "#7201a8"
            ],
            [
             0.3333333333333333,
             "#9c179e"
            ],
            [
             0.4444444444444444,
             "#bd3786"
            ],
            [
             0.5555555555555556,
             "#d8576b"
            ],
            [
             0.6666666666666666,
             "#ed7953"
            ],
            [
             0.7777777777777778,
             "#fb9f3a"
            ],
            [
             0.8888888888888888,
             "#fdca26"
            ],
            [
             1,
             "#f0f921"
            ]
           ]
          },
          "colorway": [
           "#636efa",
           "#EF553B",
           "#00cc96",
           "#ab63fa",
           "#FFA15A",
           "#19d3f3",
           "#FF6692",
           "#B6E880",
           "#FF97FF",
           "#FECB52"
          ],
          "font": {
           "color": "#2a3f5f"
          },
          "geo": {
           "bgcolor": "white",
           "lakecolor": "white",
           "landcolor": "#E5ECF6",
           "showlakes": true,
           "showland": true,
           "subunitcolor": "white"
          },
          "hoverlabel": {
           "align": "left"
          },
          "hovermode": "closest",
          "mapbox": {
           "style": "light"
          },
          "paper_bgcolor": "white",
          "plot_bgcolor": "#E5ECF6",
          "polar": {
           "angularaxis": {
            "gridcolor": "white",
            "linecolor": "white",
            "ticks": ""
           },
           "bgcolor": "#E5ECF6",
           "radialaxis": {
            "gridcolor": "white",
            "linecolor": "white",
            "ticks": ""
           }
          },
          "scene": {
           "xaxis": {
            "backgroundcolor": "#E5ECF6",
            "gridcolor": "white",
            "gridwidth": 2,
            "linecolor": "white",
            "showbackground": true,
            "ticks": "",
            "zerolinecolor": "white"
           },
           "yaxis": {
            "backgroundcolor": "#E5ECF6",
            "gridcolor": "white",
            "gridwidth": 2,
            "linecolor": "white",
            "showbackground": true,
            "ticks": "",
            "zerolinecolor": "white"
           },
           "zaxis": {
            "backgroundcolor": "#E5ECF6",
            "gridcolor": "white",
            "gridwidth": 2,
            "linecolor": "white",
            "showbackground": true,
            "ticks": "",
            "zerolinecolor": "white"
           }
          },
          "shapedefaults": {
           "line": {
            "color": "#2a3f5f"
           }
          },
          "ternary": {
           "aaxis": {
            "gridcolor": "white",
            "linecolor": "white",
            "ticks": ""
           },
           "baxis": {
            "gridcolor": "white",
            "linecolor": "white",
            "ticks": ""
           },
           "bgcolor": "#E5ECF6",
           "caxis": {
            "gridcolor": "white",
            "linecolor": "white",
            "ticks": ""
           }
          },
          "title": {
           "x": 0.05
          },
          "xaxis": {
           "automargin": true,
           "gridcolor": "white",
           "linecolor": "white",
           "ticks": "",
           "title": {
            "standoff": 15
           },
           "zerolinecolor": "white",
           "zerolinewidth": 2
          },
          "yaxis": {
           "automargin": true,
           "gridcolor": "white",
           "linecolor": "white",
           "ticks": "",
           "title": {
            "standoff": 15
           },
           "zerolinecolor": "white",
           "zerolinewidth": 2
          }
         }
        },
        "title": {
         "text": "Tonality of Tweets in Colombia"
        }
       }
      }
     },
     "metadata": {},
     "output_type": "display_data"
    }
   ],
   "source": [
    "import nbformat\n",
    "\n",
    "color_mapping = {\n",
    "    'positive': 'blue',\n",
    "    'neutral': 'gray',\n",
    "    'negative': 'red'\n",
    "}\n",
    "\n",
    "# Create scatter map\n",
    "fig = px.scatter_geo(df_with_tone_sample, lat='lat', lon='long',color = 'tone', color_discrete_map=color_mapping,\n",
    "                     title='Tonality of Tweets in Colombia')\n",
    "\n",
    "fig.update_traces(marker=dict(opacity=0.1))\n",
    "\n",
    "# Show country boundaries\n",
    "fig.update_geos(showcoastlines=True, coastlinecolor=\"black\",\n",
    "                showland=True, landcolor=\"lightgray\",\n",
    "                showcountries=True, countrycolor=\"black\")\n",
    "\n",
    "fig.update_geos(fitbounds=\"locations\") \n",
    "fig.show()"
   ]
  },
  {
   "cell_type": "code",
   "execution_count": 168,
   "metadata": {},
   "outputs": [
    {
     "data": {
      "application/vnd.plotly.v1+json": {
       "config": {
        "plotlyServerURL": "https://plot.ly"
       },
       "data": [
        {
         "hovertemplate": "tone=negative<br>year=2014<br>month=%{x}<br>proportion=%{y}<extra></extra>",
         "legendgroup": "negative",
         "line": {
          "color": "red",
          "dash": "solid"
         },
         "marker": {
          "symbol": "circle"
         },
         "mode": "lines",
         "name": "negative",
         "orientation": "v",
         "showlegend": true,
         "type": "scatter",
         "x": [
          "2014-01",
          "2014-02",
          "2014-03",
          "2014-04",
          "2014-05",
          "2014-06",
          "2014-07",
          "2014-08",
          "2014-09",
          "2014-10",
          "2014-11",
          "2014-12"
         ],
         "xaxis": "x",
         "y": [
          0.4444444444444444,
          0.6666666666666666,
          0.47058823529411764,
          0.5294117647058824,
          0.42857142857142855,
          0.5,
          0.8,
          0.4375,
          0.42857142857142855,
          0.2857142857142857,
          0.5,
          0.875
         ],
         "yaxis": "y"
        },
        {
         "hovertemplate": "tone=negative<br>year=2015<br>month=%{x}<br>proportion=%{y}<extra></extra>",
         "legendgroup": "negative",
         "line": {
          "color": "red",
          "dash": "solid"
         },
         "marker": {
          "symbol": "circle"
         },
         "mode": "lines",
         "name": "negative",
         "orientation": "v",
         "showlegend": false,
         "type": "scatter",
         "x": [
          "2015-01",
          "2015-02",
          "2015-03",
          "2015-04",
          "2015-05",
          "2015-06",
          "2015-07",
          "2015-08",
          "2015-09",
          "2015-10",
          "2015-11",
          "2015-12"
         ],
         "xaxis": "x",
         "y": [
          0.6956521739130435,
          0.7,
          0.5384615384615384,
          0.4444444444444444,
          0.9090909090909091,
          0.5384615384615384,
          0.5,
          0.7142857142857143,
          0.7142857142857143,
          0.4666666666666667,
          0.6153846153846154,
          0.6216216216216216
         ],
         "yaxis": "y"
        },
        {
         "hovertemplate": "tone=negative<br>year=2016<br>month=%{x}<br>proportion=%{y}<extra></extra>",
         "legendgroup": "negative",
         "line": {
          "color": "red",
          "dash": "solid"
         },
         "marker": {
          "symbol": "circle"
         },
         "mode": "lines",
         "name": "negative",
         "orientation": "v",
         "showlegend": false,
         "type": "scatter",
         "x": [
          "2016-01",
          "2016-02",
          "2016-03",
          "2016-04",
          "2016-05",
          "2016-06",
          "2016-07",
          "2016-08",
          "2016-09",
          "2016-10",
          "2016-11",
          "2016-12"
         ],
         "xaxis": "x",
         "y": [
          0.6111111111111112,
          0.65,
          0.4,
          0.5,
          0.4,
          0.5652173913043478,
          0.41025641025641024,
          0.5555555555555556,
          0.5217391304347826,
          0.6363636363636364,
          0.5,
          0.3333333333333333
         ],
         "yaxis": "y"
        },
        {
         "hovertemplate": "tone=negative<br>year=2017<br>month=%{x}<br>proportion=%{y}<extra></extra>",
         "legendgroup": "negative",
         "line": {
          "color": "red",
          "dash": "solid"
         },
         "marker": {
          "symbol": "circle"
         },
         "mode": "lines",
         "name": "negative",
         "orientation": "v",
         "showlegend": false,
         "type": "scatter",
         "x": [
          "2017-01",
          "2017-02",
          "2017-03",
          "2017-04",
          "2017-05",
          "2017-06",
          "2017-07",
          "2017-08",
          "2017-09",
          "2017-10",
          "2017-11",
          "2017-12"
         ],
         "xaxis": "x",
         "y": [
          0.7068965517241379,
          0.640625,
          0.625,
          0.5666666666666667,
          0.6052631578947368,
          0.27586206896551724,
          0.4507042253521127,
          0.3380281690140845,
          0.27350427350427353,
          0.3235294117647059,
          0.3617021276595745,
          0.45614035087719296
         ],
         "yaxis": "y"
        },
        {
         "hovertemplate": "tone=negative<br>year=2018<br>month=%{x}<br>proportion=%{y}<extra></extra>",
         "legendgroup": "negative",
         "line": {
          "color": "red",
          "dash": "solid"
         },
         "marker": {
          "symbol": "circle"
         },
         "mode": "lines",
         "name": "negative",
         "orientation": "v",
         "showlegend": false,
         "type": "scatter",
         "x": [
          "2018-01",
          "2018-02",
          "2018-03",
          "2018-04",
          "2018-05",
          "2018-06",
          "2018-07",
          "2018-08",
          "2018-09",
          "2018-10",
          "2018-11",
          "2018-12"
         ],
         "xaxis": "x",
         "y": [
          0.4881889763779528,
          0.5148936170212766,
          0.5815602836879432,
          0.41975308641975306,
          0.43283582089552236,
          0.59375,
          0.43478260869565216,
          0.36964980544747084,
          0.2364341085271318,
          0.352112676056338,
          0.33905579399141633,
          0.5145631067961165
         ],
         "yaxis": "y"
        },
        {
         "hovertemplate": "tone=negative<br>year=2019<br>month=%{x}<br>proportion=%{y}<extra></extra>",
         "legendgroup": "negative",
         "line": {
          "color": "red",
          "dash": "solid"
         },
         "marker": {
          "symbol": "circle"
         },
         "mode": "lines",
         "name": "negative",
         "orientation": "v",
         "showlegend": false,
         "type": "scatter",
         "x": [
          "2019-01",
          "2019-02",
          "2019-03",
          "2019-04",
          "2019-05",
          "2019-06",
          "2019-07",
          "2019-08",
          "2019-09",
          "2019-10",
          "2019-11",
          "2019-12"
         ],
         "xaxis": "x",
         "y": [
          0.5207100591715976,
          0.4452054794520548,
          0.5700483091787439,
          0.24727272727272728,
          0.2701298701298701,
          0.4720812182741117,
          0.5029585798816568,
          0.3891213389121339,
          0.4307692307692308,
          0.5307692307692308,
          0.7008086253369272,
          0.5867768595041323
         ],
         "yaxis": "y"
        },
        {
         "hovertemplate": "tone=negative<br>year=2020<br>month=%{x}<br>proportion=%{y}<extra></extra>",
         "legendgroup": "negative",
         "line": {
          "color": "red",
          "dash": "solid"
         },
         "marker": {
          "symbol": "circle"
         },
         "mode": "lines",
         "name": "negative",
         "orientation": "v",
         "showlegend": false,
         "type": "scatter",
         "x": [
          "2020-01",
          "2020-02",
          "2020-03",
          "2020-04"
         ],
         "xaxis": "x",
         "y": [
          0.4627659574468085,
          0.5151515151515151,
          0.7,
          0.36335877862595417
         ],
         "yaxis": "y"
        }
       ],
       "layout": {
        "legend": {
         "title": {
          "text": "tone"
         },
         "tracegroupgap": 0
        },
        "template": {
         "data": {
          "bar": [
           {
            "error_x": {
             "color": "#2a3f5f"
            },
            "error_y": {
             "color": "#2a3f5f"
            },
            "marker": {
             "line": {
              "color": "#E5ECF6",
              "width": 0.5
             },
             "pattern": {
              "fillmode": "overlay",
              "size": 10,
              "solidity": 0.2
             }
            },
            "type": "bar"
           }
          ],
          "barpolar": [
           {
            "marker": {
             "line": {
              "color": "#E5ECF6",
              "width": 0.5
             },
             "pattern": {
              "fillmode": "overlay",
              "size": 10,
              "solidity": 0.2
             }
            },
            "type": "barpolar"
           }
          ],
          "carpet": [
           {
            "aaxis": {
             "endlinecolor": "#2a3f5f",
             "gridcolor": "white",
             "linecolor": "white",
             "minorgridcolor": "white",
             "startlinecolor": "#2a3f5f"
            },
            "baxis": {
             "endlinecolor": "#2a3f5f",
             "gridcolor": "white",
             "linecolor": "white",
             "minorgridcolor": "white",
             "startlinecolor": "#2a3f5f"
            },
            "type": "carpet"
           }
          ],
          "choropleth": [
           {
            "colorbar": {
             "outlinewidth": 0,
             "ticks": ""
            },
            "type": "choropleth"
           }
          ],
          "contour": [
           {
            "colorbar": {
             "outlinewidth": 0,
             "ticks": ""
            },
            "colorscale": [
             [
              0,
              "#0d0887"
             ],
             [
              0.1111111111111111,
              "#46039f"
             ],
             [
              0.2222222222222222,
              "#7201a8"
             ],
             [
              0.3333333333333333,
              "#9c179e"
             ],
             [
              0.4444444444444444,
              "#bd3786"
             ],
             [
              0.5555555555555556,
              "#d8576b"
             ],
             [
              0.6666666666666666,
              "#ed7953"
             ],
             [
              0.7777777777777778,
              "#fb9f3a"
             ],
             [
              0.8888888888888888,
              "#fdca26"
             ],
             [
              1,
              "#f0f921"
             ]
            ],
            "type": "contour"
           }
          ],
          "contourcarpet": [
           {
            "colorbar": {
             "outlinewidth": 0,
             "ticks": ""
            },
            "type": "contourcarpet"
           }
          ],
          "heatmap": [
           {
            "colorbar": {
             "outlinewidth": 0,
             "ticks": ""
            },
            "colorscale": [
             [
              0,
              "#0d0887"
             ],
             [
              0.1111111111111111,
              "#46039f"
             ],
             [
              0.2222222222222222,
              "#7201a8"
             ],
             [
              0.3333333333333333,
              "#9c179e"
             ],
             [
              0.4444444444444444,
              "#bd3786"
             ],
             [
              0.5555555555555556,
              "#d8576b"
             ],
             [
              0.6666666666666666,
              "#ed7953"
             ],
             [
              0.7777777777777778,
              "#fb9f3a"
             ],
             [
              0.8888888888888888,
              "#fdca26"
             ],
             [
              1,
              "#f0f921"
             ]
            ],
            "type": "heatmap"
           }
          ],
          "heatmapgl": [
           {
            "colorbar": {
             "outlinewidth": 0,
             "ticks": ""
            },
            "colorscale": [
             [
              0,
              "#0d0887"
             ],
             [
              0.1111111111111111,
              "#46039f"
             ],
             [
              0.2222222222222222,
              "#7201a8"
             ],
             [
              0.3333333333333333,
              "#9c179e"
             ],
             [
              0.4444444444444444,
              "#bd3786"
             ],
             [
              0.5555555555555556,
              "#d8576b"
             ],
             [
              0.6666666666666666,
              "#ed7953"
             ],
             [
              0.7777777777777778,
              "#fb9f3a"
             ],
             [
              0.8888888888888888,
              "#fdca26"
             ],
             [
              1,
              "#f0f921"
             ]
            ],
            "type": "heatmapgl"
           }
          ],
          "histogram": [
           {
            "marker": {
             "pattern": {
              "fillmode": "overlay",
              "size": 10,
              "solidity": 0.2
             }
            },
            "type": "histogram"
           }
          ],
          "histogram2d": [
           {
            "colorbar": {
             "outlinewidth": 0,
             "ticks": ""
            },
            "colorscale": [
             [
              0,
              "#0d0887"
             ],
             [
              0.1111111111111111,
              "#46039f"
             ],
             [
              0.2222222222222222,
              "#7201a8"
             ],
             [
              0.3333333333333333,
              "#9c179e"
             ],
             [
              0.4444444444444444,
              "#bd3786"
             ],
             [
              0.5555555555555556,
              "#d8576b"
             ],
             [
              0.6666666666666666,
              "#ed7953"
             ],
             [
              0.7777777777777778,
              "#fb9f3a"
             ],
             [
              0.8888888888888888,
              "#fdca26"
             ],
             [
              1,
              "#f0f921"
             ]
            ],
            "type": "histogram2d"
           }
          ],
          "histogram2dcontour": [
           {
            "colorbar": {
             "outlinewidth": 0,
             "ticks": ""
            },
            "colorscale": [
             [
              0,
              "#0d0887"
             ],
             [
              0.1111111111111111,
              "#46039f"
             ],
             [
              0.2222222222222222,
              "#7201a8"
             ],
             [
              0.3333333333333333,
              "#9c179e"
             ],
             [
              0.4444444444444444,
              "#bd3786"
             ],
             [
              0.5555555555555556,
              "#d8576b"
             ],
             [
              0.6666666666666666,
              "#ed7953"
             ],
             [
              0.7777777777777778,
              "#fb9f3a"
             ],
             [
              0.8888888888888888,
              "#fdca26"
             ],
             [
              1,
              "#f0f921"
             ]
            ],
            "type": "histogram2dcontour"
           }
          ],
          "mesh3d": [
           {
            "colorbar": {
             "outlinewidth": 0,
             "ticks": ""
            },
            "type": "mesh3d"
           }
          ],
          "parcoords": [
           {
            "line": {
             "colorbar": {
              "outlinewidth": 0,
              "ticks": ""
             }
            },
            "type": "parcoords"
           }
          ],
          "pie": [
           {
            "automargin": true,
            "type": "pie"
           }
          ],
          "scatter": [
           {
            "fillpattern": {
             "fillmode": "overlay",
             "size": 10,
             "solidity": 0.2
            },
            "type": "scatter"
           }
          ],
          "scatter3d": [
           {
            "line": {
             "colorbar": {
              "outlinewidth": 0,
              "ticks": ""
             }
            },
            "marker": {
             "colorbar": {
              "outlinewidth": 0,
              "ticks": ""
             }
            },
            "type": "scatter3d"
           }
          ],
          "scattercarpet": [
           {
            "marker": {
             "colorbar": {
              "outlinewidth": 0,
              "ticks": ""
             }
            },
            "type": "scattercarpet"
           }
          ],
          "scattergeo": [
           {
            "marker": {
             "colorbar": {
              "outlinewidth": 0,
              "ticks": ""
             }
            },
            "type": "scattergeo"
           }
          ],
          "scattergl": [
           {
            "marker": {
             "colorbar": {
              "outlinewidth": 0,
              "ticks": ""
             }
            },
            "type": "scattergl"
           }
          ],
          "scattermapbox": [
           {
            "marker": {
             "colorbar": {
              "outlinewidth": 0,
              "ticks": ""
             }
            },
            "type": "scattermapbox"
           }
          ],
          "scatterpolar": [
           {
            "marker": {
             "colorbar": {
              "outlinewidth": 0,
              "ticks": ""
             }
            },
            "type": "scatterpolar"
           }
          ],
          "scatterpolargl": [
           {
            "marker": {
             "colorbar": {
              "outlinewidth": 0,
              "ticks": ""
             }
            },
            "type": "scatterpolargl"
           }
          ],
          "scatterternary": [
           {
            "marker": {
             "colorbar": {
              "outlinewidth": 0,
              "ticks": ""
             }
            },
            "type": "scatterternary"
           }
          ],
          "surface": [
           {
            "colorbar": {
             "outlinewidth": 0,
             "ticks": ""
            },
            "colorscale": [
             [
              0,
              "#0d0887"
             ],
             [
              0.1111111111111111,
              "#46039f"
             ],
             [
              0.2222222222222222,
              "#7201a8"
             ],
             [
              0.3333333333333333,
              "#9c179e"
             ],
             [
              0.4444444444444444,
              "#bd3786"
             ],
             [
              0.5555555555555556,
              "#d8576b"
             ],
             [
              0.6666666666666666,
              "#ed7953"
             ],
             [
              0.7777777777777778,
              "#fb9f3a"
             ],
             [
              0.8888888888888888,
              "#fdca26"
             ],
             [
              1,
              "#f0f921"
             ]
            ],
            "type": "surface"
           }
          ],
          "table": [
           {
            "cells": {
             "fill": {
              "color": "#EBF0F8"
             },
             "line": {
              "color": "white"
             }
            },
            "header": {
             "fill": {
              "color": "#C8D4E3"
             },
             "line": {
              "color": "white"
             }
            },
            "type": "table"
           }
          ]
         },
         "layout": {
          "annotationdefaults": {
           "arrowcolor": "#2a3f5f",
           "arrowhead": 0,
           "arrowwidth": 1
          },
          "autotypenumbers": "strict",
          "coloraxis": {
           "colorbar": {
            "outlinewidth": 0,
            "ticks": ""
           }
          },
          "colorscale": {
           "diverging": [
            [
             0,
             "#8e0152"
            ],
            [
             0.1,
             "#c51b7d"
            ],
            [
             0.2,
             "#de77ae"
            ],
            [
             0.3,
             "#f1b6da"
            ],
            [
             0.4,
             "#fde0ef"
            ],
            [
             0.5,
             "#f7f7f7"
            ],
            [
             0.6,
             "#e6f5d0"
            ],
            [
             0.7,
             "#b8e186"
            ],
            [
             0.8,
             "#7fbc41"
            ],
            [
             0.9,
             "#4d9221"
            ],
            [
             1,
             "#276419"
            ]
           ],
           "sequential": [
            [
             0,
             "#0d0887"
            ],
            [
             0.1111111111111111,
             "#46039f"
            ],
            [
             0.2222222222222222,
             "#7201a8"
            ],
            [
             0.3333333333333333,
             "#9c179e"
            ],
            [
             0.4444444444444444,
             "#bd3786"
            ],
            [
             0.5555555555555556,
             "#d8576b"
            ],
            [
             0.6666666666666666,
             "#ed7953"
            ],
            [
             0.7777777777777778,
             "#fb9f3a"
            ],
            [
             0.8888888888888888,
             "#fdca26"
            ],
            [
             1,
             "#f0f921"
            ]
           ],
           "sequentialminus": [
            [
             0,
             "#0d0887"
            ],
            [
             0.1111111111111111,
             "#46039f"
            ],
            [
             0.2222222222222222,
             "#7201a8"
            ],
            [
             0.3333333333333333,
             "#9c179e"
            ],
            [
             0.4444444444444444,
             "#bd3786"
            ],
            [
             0.5555555555555556,
             "#d8576b"
            ],
            [
             0.6666666666666666,
             "#ed7953"
            ],
            [
             0.7777777777777778,
             "#fb9f3a"
            ],
            [
             0.8888888888888888,
             "#fdca26"
            ],
            [
             1,
             "#f0f921"
            ]
           ]
          },
          "colorway": [
           "#636efa",
           "#EF553B",
           "#00cc96",
           "#ab63fa",
           "#FFA15A",
           "#19d3f3",
           "#FF6692",
           "#B6E880",
           "#FF97FF",
           "#FECB52"
          ],
          "font": {
           "color": "#2a3f5f"
          },
          "geo": {
           "bgcolor": "white",
           "lakecolor": "white",
           "landcolor": "#E5ECF6",
           "showlakes": true,
           "showland": true,
           "subunitcolor": "white"
          },
          "hoverlabel": {
           "align": "left"
          },
          "hovermode": "closest",
          "mapbox": {
           "style": "light"
          },
          "paper_bgcolor": "white",
          "plot_bgcolor": "#E5ECF6",
          "polar": {
           "angularaxis": {
            "gridcolor": "white",
            "linecolor": "white",
            "ticks": ""
           },
           "bgcolor": "#E5ECF6",
           "radialaxis": {
            "gridcolor": "white",
            "linecolor": "white",
            "ticks": ""
           }
          },
          "scene": {
           "xaxis": {
            "backgroundcolor": "#E5ECF6",
            "gridcolor": "white",
            "gridwidth": 2,
            "linecolor": "white",
            "showbackground": true,
            "ticks": "",
            "zerolinecolor": "white"
           },
           "yaxis": {
            "backgroundcolor": "#E5ECF6",
            "gridcolor": "white",
            "gridwidth": 2,
            "linecolor": "white",
            "showbackground": true,
            "ticks": "",
            "zerolinecolor": "white"
           },
           "zaxis": {
            "backgroundcolor": "#E5ECF6",
            "gridcolor": "white",
            "gridwidth": 2,
            "linecolor": "white",
            "showbackground": true,
            "ticks": "",
            "zerolinecolor": "white"
           }
          },
          "shapedefaults": {
           "line": {
            "color": "#2a3f5f"
           }
          },
          "ternary": {
           "aaxis": {
            "gridcolor": "white",
            "linecolor": "white",
            "ticks": ""
           },
           "baxis": {
            "gridcolor": "white",
            "linecolor": "white",
            "ticks": ""
           },
           "bgcolor": "#E5ECF6",
           "caxis": {
            "gridcolor": "white",
            "linecolor": "white",
            "ticks": ""
           }
          },
          "title": {
           "x": 0.05
          },
          "xaxis": {
           "automargin": true,
           "gridcolor": "white",
           "linecolor": "white",
           "ticks": "",
           "title": {
            "standoff": 15
           },
           "zerolinecolor": "white",
           "zerolinewidth": 2
          },
          "yaxis": {
           "automargin": true,
           "gridcolor": "white",
           "linecolor": "white",
           "ticks": "",
           "title": {
            "standoff": 15
           },
           "zerolinecolor": "white",
           "zerolinewidth": 2
          }
         }
        },
        "title": {
         "text": "Proportion of Positive, Neutral and Negative Tweets in Santander over time"
        },
        "xaxis": {
         "anchor": "y",
         "domain": [
          0,
          1
         ],
         "title": {
          "text": "month"
         }
        },
        "yaxis": {
         "anchor": "x",
         "domain": [
          0,
          1
         ],
         "title": {
          "text": "proportion"
         }
        }
       }
      }
     },
     "metadata": {},
     "output_type": "display_data"
    }
   ],
   "source": [
    "dep = 'Santander'\n",
    "# Create a line plot of the proportion of positive, neutral and negative tweets over time on Bogotá\n",
    "df_with_tone_sample = df_with_tone\n",
    "df_with_tone_sample['date'] = pd.to_datetime(df_with_tone_sample['date'])\n",
    "df_with_tone_sample['month'] = df_with_tone_sample['date'].dt.to_period('M')\n",
    "df_with_tone_sample['year'] = df_with_tone_sample['date'].dt.to_period('Y')\n",
    "\n",
    "df_with_tone_sample = df_with_tone_sample[df_with_tone_sample['department'] == dep]\n",
    "df_with_tone_sample = df_with_tone_sample.groupby(['year', 'month', 'tone']).size().reset_index(name='count')\n",
    "df_with_tone_sample = df_with_tone_sample.pivot_table(index=['year', 'month'], columns='tone', values='count').reset_index()\n",
    "df_with_tone_sample = df_with_tone_sample.fillna(0)\n",
    "\n",
    "df_with_tone_sample['total'] = df_with_tone_sample['negative'] + df_with_tone_sample['neutral'] + df_with_tone_sample['positive']\n",
    "\n",
    "df_with_tone_sample['negative'] = df_with_tone_sample['negative']/df_with_tone_sample['total']\n",
    "df_with_tone_sample['neutral'] = df_with_tone_sample['neutral']/df_with_tone_sample['total']\n",
    "df_with_tone_sample['positive'] = df_with_tone_sample['positive']/df_with_tone_sample['total']\n",
    "\n",
    "df_with_tone_sample = df_with_tone_sample.drop(columns=['total'])\n",
    "df_with_tone_sample = df_with_tone_sample.drop(columns=['neutral'])\n",
    "df_with_tone_sample = df_with_tone_sample.drop(columns=['positive'])\n",
    "\n",
    "df_with_tone_sample = df_with_tone_sample.melt(id_vars=['year', 'month'], var_name='tone', value_name='proportion')\n",
    "df_with_tone_sample['month'] = df_with_tone_sample['month'].astype(str)\n",
    "\n",
    "color_mapping = {\n",
    "    'positive': 'blue',\n",
    "    'neutral': 'gray',\n",
    "    'negative': 'red'\n",
    "}\n",
    "\n",
    "fig = px.line(df_with_tone_sample, x='month', y='proportion', color='tone', line_group='year', title=f'Proportion of Positive, Neutral and Negative Tweets in {dep} over time', color_discrete_map=color_mapping)\n",
    "\n",
    "fig.show()\n"
   ]
  },
  {
   "cell_type": "code",
   "execution_count": 169,
   "metadata": {},
   "outputs": [],
   "source": [
    "df_with_tone_sample.to_excel(f'../docs/graphs/tone_{dep}.xlsx', index=False)"
   ]
  },
  {
   "cell_type": "code",
   "execution_count": 196,
   "metadata": {},
   "outputs": [
    {
     "data": {
      "application/vnd.plotly.v1+json": {
       "config": {
        "plotlyServerURL": "https://plot.ly"
       },
       "data": [
        {
         "alignmentgroup": "True",
         "hovertemplate": "department=%{x}<br>proportion=%{marker.color}<extra></extra>",
         "legendgroup": "",
         "marker": {
          "color": [
           null,
           0.4945652173913043,
           null,
           0.39589442815249265,
           0.41386666666666666,
           0.41237113402061853,
           0.5,
           0.5909090909090909,
           0.4166666666666667,
           0.6071428571428571,
           0.5,
           0.3626373626373626,
           null,
           0.4,
           0.25,
           null,
           null,
           0.5294117647058824,
           0.4528301886792453,
           0.44594594594594594,
           0.5,
           0.2857142857142857,
           0.31443298969072164,
           null,
           0.7916666666666666,
           0.4805194805194805,
           0.5095785440613027,
           0.2,
           0.5348837209302325,
           0.3269961977186312
          ],
          "coloraxis": "coloraxis",
          "pattern": {
           "shape": ""
          }
         },
         "name": "",
         "offsetgroup": "",
         "orientation": "v",
         "showlegend": false,
         "textposition": "auto",
         "type": "bar",
         "x": [
          "Amazonas",
          "Antioquia",
          "Arauca",
          "Atlántico",
          "Bogotá Distrito Capital",
          "Bolívar",
          "Boyacá",
          "Caldas",
          "Caquetá",
          "Casanare",
          "Cauca",
          "Cesar",
          "Chocó",
          "Cundinamarca",
          "Córdoba",
          "Guainía",
          "Guaviare",
          "Huila",
          "La Guajira",
          "Magdalena",
          "Meta",
          "Nariño",
          "Norte de Santander",
          "Putumayo",
          "Quindío",
          "Risaralda",
          "Santander",
          "Sucre",
          "Tolima",
          "Valle del Cauca"
         ],
         "xaxis": "x",
         "y": [
          null,
          0.4945652173913043,
          null,
          0.39589442815249265,
          0.41386666666666666,
          0.41237113402061853,
          0.5,
          0.5909090909090909,
          0.4166666666666667,
          0.6071428571428571,
          0.5,
          0.3626373626373626,
          null,
          0.4,
          0.25,
          null,
          null,
          0.5294117647058824,
          0.4528301886792453,
          0.44594594594594594,
          0.5,
          0.2857142857142857,
          0.31443298969072164,
          null,
          0.7916666666666666,
          0.4805194805194805,
          0.5095785440613027,
          0.2,
          0.5348837209302325,
          0.3269961977186312
         ],
         "yaxis": "y"
        }
       ],
       "layout": {
        "barmode": "relative",
        "coloraxis": {
         "colorbar": {
          "title": {
           "text": "proportion"
          }
         },
         "colorscale": [
          [
           0,
           "#0d0887"
          ],
          [
           0.1111111111111111,
           "#46039f"
          ],
          [
           0.2222222222222222,
           "#7201a8"
          ],
          [
           0.3333333333333333,
           "#9c179e"
          ],
          [
           0.4444444444444444,
           "#bd3786"
          ],
          [
           0.5555555555555556,
           "#d8576b"
          ],
          [
           0.6666666666666666,
           "#ed7953"
          ],
          [
           0.7777777777777778,
           "#fb9f3a"
          ],
          [
           0.8888888888888888,
           "#fdca26"
          ],
          [
           1,
           "#f0f921"
          ]
         ]
        },
        "legend": {
         "tracegroupgap": 0
        },
        "template": {
         "data": {
          "bar": [
           {
            "error_x": {
             "color": "#2a3f5f"
            },
            "error_y": {
             "color": "#2a3f5f"
            },
            "marker": {
             "line": {
              "color": "#E5ECF6",
              "width": 0.5
             },
             "pattern": {
              "fillmode": "overlay",
              "size": 10,
              "solidity": 0.2
             }
            },
            "type": "bar"
           }
          ],
          "barpolar": [
           {
            "marker": {
             "line": {
              "color": "#E5ECF6",
              "width": 0.5
             },
             "pattern": {
              "fillmode": "overlay",
              "size": 10,
              "solidity": 0.2
             }
            },
            "type": "barpolar"
           }
          ],
          "carpet": [
           {
            "aaxis": {
             "endlinecolor": "#2a3f5f",
             "gridcolor": "white",
             "linecolor": "white",
             "minorgridcolor": "white",
             "startlinecolor": "#2a3f5f"
            },
            "baxis": {
             "endlinecolor": "#2a3f5f",
             "gridcolor": "white",
             "linecolor": "white",
             "minorgridcolor": "white",
             "startlinecolor": "#2a3f5f"
            },
            "type": "carpet"
           }
          ],
          "choropleth": [
           {
            "colorbar": {
             "outlinewidth": 0,
             "ticks": ""
            },
            "type": "choropleth"
           }
          ],
          "contour": [
           {
            "colorbar": {
             "outlinewidth": 0,
             "ticks": ""
            },
            "colorscale": [
             [
              0,
              "#0d0887"
             ],
             [
              0.1111111111111111,
              "#46039f"
             ],
             [
              0.2222222222222222,
              "#7201a8"
             ],
             [
              0.3333333333333333,
              "#9c179e"
             ],
             [
              0.4444444444444444,
              "#bd3786"
             ],
             [
              0.5555555555555556,
              "#d8576b"
             ],
             [
              0.6666666666666666,
              "#ed7953"
             ],
             [
              0.7777777777777778,
              "#fb9f3a"
             ],
             [
              0.8888888888888888,
              "#fdca26"
             ],
             [
              1,
              "#f0f921"
             ]
            ],
            "type": "contour"
           }
          ],
          "contourcarpet": [
           {
            "colorbar": {
             "outlinewidth": 0,
             "ticks": ""
            },
            "type": "contourcarpet"
           }
          ],
          "heatmap": [
           {
            "colorbar": {
             "outlinewidth": 0,
             "ticks": ""
            },
            "colorscale": [
             [
              0,
              "#0d0887"
             ],
             [
              0.1111111111111111,
              "#46039f"
             ],
             [
              0.2222222222222222,
              "#7201a8"
             ],
             [
              0.3333333333333333,
              "#9c179e"
             ],
             [
              0.4444444444444444,
              "#bd3786"
             ],
             [
              0.5555555555555556,
              "#d8576b"
             ],
             [
              0.6666666666666666,
              "#ed7953"
             ],
             [
              0.7777777777777778,
              "#fb9f3a"
             ],
             [
              0.8888888888888888,
              "#fdca26"
             ],
             [
              1,
              "#f0f921"
             ]
            ],
            "type": "heatmap"
           }
          ],
          "heatmapgl": [
           {
            "colorbar": {
             "outlinewidth": 0,
             "ticks": ""
            },
            "colorscale": [
             [
              0,
              "#0d0887"
             ],
             [
              0.1111111111111111,
              "#46039f"
             ],
             [
              0.2222222222222222,
              "#7201a8"
             ],
             [
              0.3333333333333333,
              "#9c179e"
             ],
             [
              0.4444444444444444,
              "#bd3786"
             ],
             [
              0.5555555555555556,
              "#d8576b"
             ],
             [
              0.6666666666666666,
              "#ed7953"
             ],
             [
              0.7777777777777778,
              "#fb9f3a"
             ],
             [
              0.8888888888888888,
              "#fdca26"
             ],
             [
              1,
              "#f0f921"
             ]
            ],
            "type": "heatmapgl"
           }
          ],
          "histogram": [
           {
            "marker": {
             "pattern": {
              "fillmode": "overlay",
              "size": 10,
              "solidity": 0.2
             }
            },
            "type": "histogram"
           }
          ],
          "histogram2d": [
           {
            "colorbar": {
             "outlinewidth": 0,
             "ticks": ""
            },
            "colorscale": [
             [
              0,
              "#0d0887"
             ],
             [
              0.1111111111111111,
              "#46039f"
             ],
             [
              0.2222222222222222,
              "#7201a8"
             ],
             [
              0.3333333333333333,
              "#9c179e"
             ],
             [
              0.4444444444444444,
              "#bd3786"
             ],
             [
              0.5555555555555556,
              "#d8576b"
             ],
             [
              0.6666666666666666,
              "#ed7953"
             ],
             [
              0.7777777777777778,
              "#fb9f3a"
             ],
             [
              0.8888888888888888,
              "#fdca26"
             ],
             [
              1,
              "#f0f921"
             ]
            ],
            "type": "histogram2d"
           }
          ],
          "histogram2dcontour": [
           {
            "colorbar": {
             "outlinewidth": 0,
             "ticks": ""
            },
            "colorscale": [
             [
              0,
              "#0d0887"
             ],
             [
              0.1111111111111111,
              "#46039f"
             ],
             [
              0.2222222222222222,
              "#7201a8"
             ],
             [
              0.3333333333333333,
              "#9c179e"
             ],
             [
              0.4444444444444444,
              "#bd3786"
             ],
             [
              0.5555555555555556,
              "#d8576b"
             ],
             [
              0.6666666666666666,
              "#ed7953"
             ],
             [
              0.7777777777777778,
              "#fb9f3a"
             ],
             [
              0.8888888888888888,
              "#fdca26"
             ],
             [
              1,
              "#f0f921"
             ]
            ],
            "type": "histogram2dcontour"
           }
          ],
          "mesh3d": [
           {
            "colorbar": {
             "outlinewidth": 0,
             "ticks": ""
            },
            "type": "mesh3d"
           }
          ],
          "parcoords": [
           {
            "line": {
             "colorbar": {
              "outlinewidth": 0,
              "ticks": ""
             }
            },
            "type": "parcoords"
           }
          ],
          "pie": [
           {
            "automargin": true,
            "type": "pie"
           }
          ],
          "scatter": [
           {
            "fillpattern": {
             "fillmode": "overlay",
             "size": 10,
             "solidity": 0.2
            },
            "type": "scatter"
           }
          ],
          "scatter3d": [
           {
            "line": {
             "colorbar": {
              "outlinewidth": 0,
              "ticks": ""
             }
            },
            "marker": {
             "colorbar": {
              "outlinewidth": 0,
              "ticks": ""
             }
            },
            "type": "scatter3d"
           }
          ],
          "scattercarpet": [
           {
            "marker": {
             "colorbar": {
              "outlinewidth": 0,
              "ticks": ""
             }
            },
            "type": "scattercarpet"
           }
          ],
          "scattergeo": [
           {
            "marker": {
             "colorbar": {
              "outlinewidth": 0,
              "ticks": ""
             }
            },
            "type": "scattergeo"
           }
          ],
          "scattergl": [
           {
            "marker": {
             "colorbar": {
              "outlinewidth": 0,
              "ticks": ""
             }
            },
            "type": "scattergl"
           }
          ],
          "scattermapbox": [
           {
            "marker": {
             "colorbar": {
              "outlinewidth": 0,
              "ticks": ""
             }
            },
            "type": "scattermapbox"
           }
          ],
          "scatterpolar": [
           {
            "marker": {
             "colorbar": {
              "outlinewidth": 0,
              "ticks": ""
             }
            },
            "type": "scatterpolar"
           }
          ],
          "scatterpolargl": [
           {
            "marker": {
             "colorbar": {
              "outlinewidth": 0,
              "ticks": ""
             }
            },
            "type": "scatterpolargl"
           }
          ],
          "scatterternary": [
           {
            "marker": {
             "colorbar": {
              "outlinewidth": 0,
              "ticks": ""
             }
            },
            "type": "scatterternary"
           }
          ],
          "surface": [
           {
            "colorbar": {
             "outlinewidth": 0,
             "ticks": ""
            },
            "colorscale": [
             [
              0,
              "#0d0887"
             ],
             [
              0.1111111111111111,
              "#46039f"
             ],
             [
              0.2222222222222222,
              "#7201a8"
             ],
             [
              0.3333333333333333,
              "#9c179e"
             ],
             [
              0.4444444444444444,
              "#bd3786"
             ],
             [
              0.5555555555555556,
              "#d8576b"
             ],
             [
              0.6666666666666666,
              "#ed7953"
             ],
             [
              0.7777777777777778,
              "#fb9f3a"
             ],
             [
              0.8888888888888888,
              "#fdca26"
             ],
             [
              1,
              "#f0f921"
             ]
            ],
            "type": "surface"
           }
          ],
          "table": [
           {
            "cells": {
             "fill": {
              "color": "#EBF0F8"
             },
             "line": {
              "color": "white"
             }
            },
            "header": {
             "fill": {
              "color": "#C8D4E3"
             },
             "line": {
              "color": "white"
             }
            },
            "type": "table"
           }
          ]
         },
         "layout": {
          "annotationdefaults": {
           "arrowcolor": "#2a3f5f",
           "arrowhead": 0,
           "arrowwidth": 1
          },
          "autotypenumbers": "strict",
          "coloraxis": {
           "colorbar": {
            "outlinewidth": 0,
            "ticks": ""
           }
          },
          "colorscale": {
           "diverging": [
            [
             0,
             "#8e0152"
            ],
            [
             0.1,
             "#c51b7d"
            ],
            [
             0.2,
             "#de77ae"
            ],
            [
             0.3,
             "#f1b6da"
            ],
            [
             0.4,
             "#fde0ef"
            ],
            [
             0.5,
             "#f7f7f7"
            ],
            [
             0.6,
             "#e6f5d0"
            ],
            [
             0.7,
             "#b8e186"
            ],
            [
             0.8,
             "#7fbc41"
            ],
            [
             0.9,
             "#4d9221"
            ],
            [
             1,
             "#276419"
            ]
           ],
           "sequential": [
            [
             0,
             "#0d0887"
            ],
            [
             0.1111111111111111,
             "#46039f"
            ],
            [
             0.2222222222222222,
             "#7201a8"
            ],
            [
             0.3333333333333333,
             "#9c179e"
            ],
            [
             0.4444444444444444,
             "#bd3786"
            ],
            [
             0.5555555555555556,
             "#d8576b"
            ],
            [
             0.6666666666666666,
             "#ed7953"
            ],
            [
             0.7777777777777778,
             "#fb9f3a"
            ],
            [
             0.8888888888888888,
             "#fdca26"
            ],
            [
             1,
             "#f0f921"
            ]
           ],
           "sequentialminus": [
            [
             0,
             "#0d0887"
            ],
            [
             0.1111111111111111,
             "#46039f"
            ],
            [
             0.2222222222222222,
             "#7201a8"
            ],
            [
             0.3333333333333333,
             "#9c179e"
            ],
            [
             0.4444444444444444,
             "#bd3786"
            ],
            [
             0.5555555555555556,
             "#d8576b"
            ],
            [
             0.6666666666666666,
             "#ed7953"
            ],
            [
             0.7777777777777778,
             "#fb9f3a"
            ],
            [
             0.8888888888888888,
             "#fdca26"
            ],
            [
             1,
             "#f0f921"
            ]
           ]
          },
          "colorway": [
           "#636efa",
           "#EF553B",
           "#00cc96",
           "#ab63fa",
           "#FFA15A",
           "#19d3f3",
           "#FF6692",
           "#B6E880",
           "#FF97FF",
           "#FECB52"
          ],
          "font": {
           "color": "#2a3f5f"
          },
          "geo": {
           "bgcolor": "white",
           "lakecolor": "white",
           "landcolor": "#E5ECF6",
           "showlakes": true,
           "showland": true,
           "subunitcolor": "white"
          },
          "hoverlabel": {
           "align": "left"
          },
          "hovermode": "closest",
          "mapbox": {
           "style": "light"
          },
          "paper_bgcolor": "white",
          "plot_bgcolor": "#E5ECF6",
          "polar": {
           "angularaxis": {
            "gridcolor": "white",
            "linecolor": "white",
            "ticks": ""
           },
           "bgcolor": "#E5ECF6",
           "radialaxis": {
            "gridcolor": "white",
            "linecolor": "white",
            "ticks": ""
           }
          },
          "scene": {
           "xaxis": {
            "backgroundcolor": "#E5ECF6",
            "gridcolor": "white",
            "gridwidth": 2,
            "linecolor": "white",
            "showbackground": true,
            "ticks": "",
            "zerolinecolor": "white"
           },
           "yaxis": {
            "backgroundcolor": "#E5ECF6",
            "gridcolor": "white",
            "gridwidth": 2,
            "linecolor": "white",
            "showbackground": true,
            "ticks": "",
            "zerolinecolor": "white"
           },
           "zaxis": {
            "backgroundcolor": "#E5ECF6",
            "gridcolor": "white",
            "gridwidth": 2,
            "linecolor": "white",
            "showbackground": true,
            "ticks": "",
            "zerolinecolor": "white"
           }
          },
          "shapedefaults": {
           "line": {
            "color": "#2a3f5f"
           }
          },
          "ternary": {
           "aaxis": {
            "gridcolor": "white",
            "linecolor": "white",
            "ticks": ""
           },
           "baxis": {
            "gridcolor": "white",
            "linecolor": "white",
            "ticks": ""
           },
           "bgcolor": "#E5ECF6",
           "caxis": {
            "gridcolor": "white",
            "linecolor": "white",
            "ticks": ""
           }
          },
          "title": {
           "x": 0.05
          },
          "xaxis": {
           "automargin": true,
           "gridcolor": "white",
           "linecolor": "white",
           "ticks": "",
           "title": {
            "standoff": 15
           },
           "zerolinecolor": "white",
           "zerolinewidth": 2
          },
          "yaxis": {
           "automargin": true,
           "gridcolor": "white",
           "linecolor": "white",
           "ticks": "",
           "title": {
            "standoff": 15
           },
           "zerolinecolor": "white",
           "zerolinewidth": 2
          }
         }
        },
        "title": {
         "text": "Proportion of Negative Tone Tweets in each Department (2014)"
        },
        "xaxis": {
         "anchor": "y",
         "domain": [
          0,
          1
         ],
         "title": {
          "text": "department"
         }
        },
        "yaxis": {
         "anchor": "x",
         "domain": [
          0,
          1
         ],
         "title": {
          "text": "proportion"
         }
        }
       }
      }
     },
     "metadata": {},
     "output_type": "display_data"
    }
   ],
   "source": [
    "# plot proportion of negative tone tweets in each department (heatmap)\n",
    "df_with_tone_sample = df_with_tone[df_with_tone['date'].astype(str).str[:4].isin(['2016'])]\n",
    "\n",
    "df_with_tone_sample = df_with_tone_sample.groupby(['department', 'tone']).size().reset_index(name='count')\n",
    "df_with_tone_sample = df_with_tone_sample.pivot_table(index='department', columns='tone', values='count').reset_index()\n",
    "\n",
    "df_with_tone_sample['total'] = df_with_tone_sample['negative'] + df_with_tone_sample['neutral'] + df_with_tone_sample['positive']\n",
    "\n",
    "df_with_tone_sample['negative'] = df_with_tone_sample['negative']/df_with_tone_sample['total']\n",
    "\n",
    "\n",
    "df_with_tone_sample = df_with_tone_sample.drop(columns=['total'])\n",
    "df_with_tone_sample = df_with_tone_sample.drop(columns=['neutral'])\n",
    "df_with_tone_sample = df_with_tone_sample.drop(columns=['positive'])\n",
    "\n",
    "\n",
    "df_with_tone_sample = df_with_tone_sample.melt(id_vars=['department'], var_name='negative', value_name='proportion')\n",
    "\n",
    "# create a heatmap\n",
    "fig = px.bar(df_with_tone_sample, x='department', y='proportion', color='proportion', title='Proportion of Negative Tone Tweets in each Department (2014)')\n",
    "\n",
    "fig.show()"
   ]
  },
  {
   "cell_type": "code",
   "execution_count": 197,
   "metadata": {},
   "outputs": [],
   "source": [
    "df_with_tone_sample['proportion'] = df_with_tone_sample['proportion']*100"
   ]
  },
  {
   "cell_type": "code",
   "execution_count": 198,
   "metadata": {},
   "outputs": [
    {
     "data": {
      "text/html": [
       "<div>\n",
       "<style scoped>\n",
       "    .dataframe tbody tr th:only-of-type {\n",
       "        vertical-align: middle;\n",
       "    }\n",
       "\n",
       "    .dataframe tbody tr th {\n",
       "        vertical-align: top;\n",
       "    }\n",
       "\n",
       "    .dataframe thead th {\n",
       "        text-align: right;\n",
       "    }\n",
       "</style>\n",
       "<table border=\"1\" class=\"dataframe\">\n",
       "  <thead>\n",
       "    <tr style=\"text-align: right;\">\n",
       "      <th></th>\n",
       "      <th>department</th>\n",
       "      <th>negative</th>\n",
       "      <th>proportion</th>\n",
       "    </tr>\n",
       "  </thead>\n",
       "  <tbody>\n",
       "    <tr>\n",
       "      <th>0</th>\n",
       "      <td>Amazonas</td>\n",
       "      <td>negative</td>\n",
       "      <td>NaN</td>\n",
       "    </tr>\n",
       "    <tr>\n",
       "      <th>1</th>\n",
       "      <td>Antioquia</td>\n",
       "      <td>negative</td>\n",
       "      <td>49.456522</td>\n",
       "    </tr>\n",
       "    <tr>\n",
       "      <th>2</th>\n",
       "      <td>Arauca</td>\n",
       "      <td>negative</td>\n",
       "      <td>NaN</td>\n",
       "    </tr>\n",
       "    <tr>\n",
       "      <th>3</th>\n",
       "      <td>Atlántico</td>\n",
       "      <td>negative</td>\n",
       "      <td>39.589443</td>\n",
       "    </tr>\n",
       "    <tr>\n",
       "      <th>4</th>\n",
       "      <td>Bogotá Distrito Capital</td>\n",
       "      <td>negative</td>\n",
       "      <td>41.386667</td>\n",
       "    </tr>\n",
       "    <tr>\n",
       "      <th>5</th>\n",
       "      <td>Bolívar</td>\n",
       "      <td>negative</td>\n",
       "      <td>41.237113</td>\n",
       "    </tr>\n",
       "    <tr>\n",
       "      <th>6</th>\n",
       "      <td>Boyacá</td>\n",
       "      <td>negative</td>\n",
       "      <td>50.000000</td>\n",
       "    </tr>\n",
       "    <tr>\n",
       "      <th>7</th>\n",
       "      <td>Caldas</td>\n",
       "      <td>negative</td>\n",
       "      <td>59.090909</td>\n",
       "    </tr>\n",
       "    <tr>\n",
       "      <th>8</th>\n",
       "      <td>Caquetá</td>\n",
       "      <td>negative</td>\n",
       "      <td>41.666667</td>\n",
       "    </tr>\n",
       "    <tr>\n",
       "      <th>9</th>\n",
       "      <td>Casanare</td>\n",
       "      <td>negative</td>\n",
       "      <td>60.714286</td>\n",
       "    </tr>\n",
       "    <tr>\n",
       "      <th>10</th>\n",
       "      <td>Cauca</td>\n",
       "      <td>negative</td>\n",
       "      <td>50.000000</td>\n",
       "    </tr>\n",
       "    <tr>\n",
       "      <th>11</th>\n",
       "      <td>Cesar</td>\n",
       "      <td>negative</td>\n",
       "      <td>36.263736</td>\n",
       "    </tr>\n",
       "    <tr>\n",
       "      <th>12</th>\n",
       "      <td>Chocó</td>\n",
       "      <td>negative</td>\n",
       "      <td>NaN</td>\n",
       "    </tr>\n",
       "    <tr>\n",
       "      <th>13</th>\n",
       "      <td>Cundinamarca</td>\n",
       "      <td>negative</td>\n",
       "      <td>40.000000</td>\n",
       "    </tr>\n",
       "    <tr>\n",
       "      <th>14</th>\n",
       "      <td>Córdoba</td>\n",
       "      <td>negative</td>\n",
       "      <td>25.000000</td>\n",
       "    </tr>\n",
       "    <tr>\n",
       "      <th>15</th>\n",
       "      <td>Guainía</td>\n",
       "      <td>negative</td>\n",
       "      <td>NaN</td>\n",
       "    </tr>\n",
       "    <tr>\n",
       "      <th>16</th>\n",
       "      <td>Guaviare</td>\n",
       "      <td>negative</td>\n",
       "      <td>NaN</td>\n",
       "    </tr>\n",
       "    <tr>\n",
       "      <th>17</th>\n",
       "      <td>Huila</td>\n",
       "      <td>negative</td>\n",
       "      <td>52.941176</td>\n",
       "    </tr>\n",
       "    <tr>\n",
       "      <th>18</th>\n",
       "      <td>La Guajira</td>\n",
       "      <td>negative</td>\n",
       "      <td>45.283019</td>\n",
       "    </tr>\n",
       "    <tr>\n",
       "      <th>19</th>\n",
       "      <td>Magdalena</td>\n",
       "      <td>negative</td>\n",
       "      <td>44.594595</td>\n",
       "    </tr>\n",
       "    <tr>\n",
       "      <th>20</th>\n",
       "      <td>Meta</td>\n",
       "      <td>negative</td>\n",
       "      <td>50.000000</td>\n",
       "    </tr>\n",
       "    <tr>\n",
       "      <th>21</th>\n",
       "      <td>Nariño</td>\n",
       "      <td>negative</td>\n",
       "      <td>28.571429</td>\n",
       "    </tr>\n",
       "    <tr>\n",
       "      <th>22</th>\n",
       "      <td>Norte de Santander</td>\n",
       "      <td>negative</td>\n",
       "      <td>31.443299</td>\n",
       "    </tr>\n",
       "    <tr>\n",
       "      <th>23</th>\n",
       "      <td>Putumayo</td>\n",
       "      <td>negative</td>\n",
       "      <td>NaN</td>\n",
       "    </tr>\n",
       "    <tr>\n",
       "      <th>24</th>\n",
       "      <td>Quindío</td>\n",
       "      <td>negative</td>\n",
       "      <td>79.166667</td>\n",
       "    </tr>\n",
       "    <tr>\n",
       "      <th>25</th>\n",
       "      <td>Risaralda</td>\n",
       "      <td>negative</td>\n",
       "      <td>48.051948</td>\n",
       "    </tr>\n",
       "    <tr>\n",
       "      <th>26</th>\n",
       "      <td>Santander</td>\n",
       "      <td>negative</td>\n",
       "      <td>50.957854</td>\n",
       "    </tr>\n",
       "    <tr>\n",
       "      <th>27</th>\n",
       "      <td>Sucre</td>\n",
       "      <td>negative</td>\n",
       "      <td>20.000000</td>\n",
       "    </tr>\n",
       "    <tr>\n",
       "      <th>28</th>\n",
       "      <td>Tolima</td>\n",
       "      <td>negative</td>\n",
       "      <td>53.488372</td>\n",
       "    </tr>\n",
       "    <tr>\n",
       "      <th>29</th>\n",
       "      <td>Valle del Cauca</td>\n",
       "      <td>negative</td>\n",
       "      <td>32.699620</td>\n",
       "    </tr>\n",
       "  </tbody>\n",
       "</table>\n",
       "</div>"
      ],
      "text/plain": [
       "                 department  negative  proportion\n",
       "0                  Amazonas  negative         NaN\n",
       "1                 Antioquia  negative   49.456522\n",
       "2                    Arauca  negative         NaN\n",
       "3                 Atlántico  negative   39.589443\n",
       "4   Bogotá Distrito Capital  negative   41.386667\n",
       "5                   Bolívar  negative   41.237113\n",
       "6                    Boyacá  negative   50.000000\n",
       "7                    Caldas  negative   59.090909\n",
       "8                   Caquetá  negative   41.666667\n",
       "9                  Casanare  negative   60.714286\n",
       "10                    Cauca  negative   50.000000\n",
       "11                    Cesar  negative   36.263736\n",
       "12                    Chocó  negative         NaN\n",
       "13             Cundinamarca  negative   40.000000\n",
       "14                  Córdoba  negative   25.000000\n",
       "15                  Guainía  negative         NaN\n",
       "16                 Guaviare  negative         NaN\n",
       "17                    Huila  negative   52.941176\n",
       "18               La Guajira  negative   45.283019\n",
       "19                Magdalena  negative   44.594595\n",
       "20                     Meta  negative   50.000000\n",
       "21                   Nariño  negative   28.571429\n",
       "22       Norte de Santander  negative   31.443299\n",
       "23                 Putumayo  negative         NaN\n",
       "24                  Quindío  negative   79.166667\n",
       "25                Risaralda  negative   48.051948\n",
       "26                Santander  negative   50.957854\n",
       "27                    Sucre  negative   20.000000\n",
       "28                   Tolima  negative   53.488372\n",
       "29          Valle del Cauca  negative   32.699620"
      ]
     },
     "execution_count": 198,
     "metadata": {},
     "output_type": "execute_result"
    }
   ],
   "source": [
    "df_with_tone_sample"
   ]
  },
  {
   "cell_type": "code",
   "execution_count": 136,
   "metadata": {},
   "outputs": [
    {
     "name": "stderr",
     "output_type": "stream",
     "text": [
      "C:\\Users\\jmart130\\AppData\\Local\\Temp\\ipykernel_8488\\171247494.py:9: FutureWarning:\n",
      "\n",
      "The default value of numeric_only in DataFrame.corr is deprecated. In a future version, it will default to False. Select only valid columns or specify the value of numeric_only to silence this warning.\n",
      "\n"
     ]
    },
    {
     "data": {
      "text/html": [
       "<div>\n",
       "<style scoped>\n",
       "    .dataframe tbody tr th:only-of-type {\n",
       "        vertical-align: middle;\n",
       "    }\n",
       "\n",
       "    .dataframe tbody tr th {\n",
       "        vertical-align: top;\n",
       "    }\n",
       "\n",
       "    .dataframe thead th {\n",
       "        text-align: right;\n",
       "    }\n",
       "</style>\n",
       "<table border=\"1\" class=\"dataframe\">\n",
       "  <thead>\n",
       "    <tr style=\"text-align: right;\">\n",
       "      <th></th>\n",
       "      <th>Id</th>\n",
       "      <th>lat</th>\n",
       "      <th>long</th>\n",
       "      <th>tone</th>\n",
       "    </tr>\n",
       "  </thead>\n",
       "  <tbody>\n",
       "    <tr>\n",
       "      <th>Id</th>\n",
       "      <td>1.000000</td>\n",
       "      <td>-0.063881</td>\n",
       "      <td>-0.029691</td>\n",
       "      <td>0.002687</td>\n",
       "    </tr>\n",
       "    <tr>\n",
       "      <th>lat</th>\n",
       "      <td>-0.063881</td>\n",
       "      <td>1.000000</td>\n",
       "      <td>0.120861</td>\n",
       "      <td>0.014530</td>\n",
       "    </tr>\n",
       "    <tr>\n",
       "      <th>long</th>\n",
       "      <td>-0.029691</td>\n",
       "      <td>0.120861</td>\n",
       "      <td>1.000000</td>\n",
       "      <td>0.016174</td>\n",
       "    </tr>\n",
       "    <tr>\n",
       "      <th>tone</th>\n",
       "      <td>0.002687</td>\n",
       "      <td>0.014530</td>\n",
       "      <td>0.016174</td>\n",
       "      <td>1.000000</td>\n",
       "    </tr>\n",
       "  </tbody>\n",
       "</table>\n",
       "</div>"
      ],
      "text/plain": [
       "            Id       lat      long      tone\n",
       "Id    1.000000 -0.063881 -0.029691  0.002687\n",
       "lat  -0.063881  1.000000  0.120861  0.014530\n",
       "long -0.029691  0.120861  1.000000  0.016174\n",
       "tone  0.002687  0.014530  0.016174  1.000000"
      ]
     },
     "execution_count": 136,
     "metadata": {},
     "output_type": "execute_result"
    }
   ],
   "source": [
    "# run correlation between tone and lat, long\n",
    "df_with_tone_sample =df_with_tone\n",
    "df_with_tone_sample['lat'] = df_with_tone_sample['lat'].astype(float)\n",
    "df_with_tone_sample['long'] = df_with_tone_sample['long'].astype(float)\n",
    "\n",
    "# map tone to a number\n",
    "df_with_tone_sample['tone'] = df_with_tone_sample['tone'].map({'positive': 1, 'neutral': 0, 'negative': -1})\n",
    "\n",
    "df_with_tone_sample.corr()\n"
   ]
  },
  {
   "cell_type": "code",
   "execution_count": 19,
   "metadata": {},
   "outputs": [
    {
     "data": {
      "image/png": "[encoded data removed]",
      "text/plain": [
       "<Figure size 1500x1000 with 1 Axes>"
      ]
     },
     "metadata": {},
     "output_type": "display_data"
    }
   ],
   "source": [
    "# stacked plot the tone based on the department, using a proportion of the total number of tweets in each department. Do this for 2016, 2018, and 2020 \n",
    "import matplotlib.pyplot as plt\n",
    "import seaborn as sns\n",
    "\n",
    "# 2016\n",
    "plt.figure(figsize=(15, 10))\n",
    "plt.title('Tone of tweets in each department in 2016')\n",
    "\n",
    "# use colors dark red for negative, dark blue for positive, and dark grey for neutral\n",
    "sns.countplot(data=df_with_tone[df_with_tone['date'].str.contains('2016')], x='department', hue='tone', order=df_with_tone['department'].value_counts().index, palette={'negative': 'darkred', 'positive': 'darkblue', 'neutral': 'darkgrey'}, hue_order=['negative', 'positive', 'neutral'])\n",
    "\n",
    "plt.xticks(rotation=90)\n",
    "plt.show()\n"
   ]
  },
  {
   "cell_type": "code",
   "execution_count": 213,
   "metadata": {},
   "outputs": [
    {
     "data": {
      "text/plain": [
       "Location(Χίος, Περιφερειακή Ενότητα Χίου, Περιφέρεια Βόρειου Αιγαίου, Αποκεντρωμένη Διοίκηση Αιγαίου, Ελλάς, (38.37581315, 26.064655246170453, 0.0))"
      ]
     },
     "execution_count": 213,
     "metadata": {},
     "output_type": "execute_result"
    }
   ],
   "source": [
    "from ratelimiter import RateLimiter\n",
    "from geopy.geocoders import Nominatim\n",
    "geocoder = RateLimiter(period=1/60, max_calls=1)(Nominatim(user_agent='tweets_project').geocode)\n",
    "geocoder(\"Chios\")"
   ]
  },
  {
   "cell_type": "code",
   "execution_count": 20,
   "metadata": {},
   "outputs": [
    {
     "data": {
      "image/png": "[encoded data removed]",
      "text/plain": [
       "<Figure size 1500x1000 with 1 Axes>"
      ]
     },
     "metadata": {},
     "output_type": "display_data"
    }
   ],
   "source": [
    "# stacked plot the tone based on the department, using a proportion of the total number of tweets in each department. Do this for 2016, 2018, and 2020 \n",
    "import matplotlib.pyplot as plt\n",
    "import seaborn as sns\n",
    "\n",
    "# 2018\n",
    "plt.figure(figsize=(15, 10))\n",
    "plt.title('Tone of tweets in each department in 2018')\n",
    "\n",
    "# use colors dark red for negative, dark blue for positive, and dark grey for neutral\n",
    "sns.countplot(data=df_with_tone[df_with_tone['date'].str.contains('2018')], x='department', hue='tone', order=df_with_tone['department'].value_counts().index, palette={'negative': 'darkred', 'positive': 'darkblue', 'neutral': 'darkgrey'}, hue_order=['negative', 'positive', 'neutral'])\n",
    "\n",
    "plt.xticks(rotation=90)\n",
    "plt.show()\n"
   ]
  },
  {
   "cell_type": "code",
   "execution_count": 21,
   "metadata": {},
   "outputs": [
    {
     "data": {
      "image/png": "[encoded data removed]",
      "text/plain": [
       "<Figure size 1500x1000 with 1 Axes>"
      ]
     },
     "metadata": {},
     "output_type": "display_data"
    }
   ],
   "source": [
    "# stacked plot the tone based on the department, using a proportion of the total number of tweets in each department. Do this for 2016, 2018, and 2020 \n",
    "import matplotlib.pyplot as plt\n",
    "import seaborn as sns\n",
    "\n",
    "# 2020\n",
    "plt.figure(figsize=(15, 10))\n",
    "plt.title('Tone of tweets in each department in 2020')\n",
    "\n",
    "# use colors dark red for negative, dark blue for positive, and dark grey for neutral\n",
    "sns.countplot(data=df_with_tone[df_with_tone['date'].str.contains('2020')], x='department', hue='tone', order=df_with_tone['department'].value_counts().index, palette={'negative': 'darkred', 'positive': 'darkblue', 'neutral': 'darkgrey'}, hue_order=['negative', 'positive', 'neutral'])\n",
    "\n",
    "plt.xticks(rotation=90)\n",
    "plt.show()\n"
   ]
  },
  {
   "cell_type": "code",
   "execution_count": 47,
   "metadata": {},
   "outputs": [
    {
     "ename": "KeyboardInterrupt",
     "evalue": "",
     "output_type": "error",
     "traceback": [
      "\u001b[1;31m---------------------------------------------------------------------------\u001b[0m",
      "\u001b[1;31mKeyboardInterrupt\u001b[0m                         Traceback (most recent call last)",
      "Cell \u001b[1;32mIn[47], line 1\u001b[0m\n\u001b[1;32m----> 1\u001b[0m \u001b[43mdf_with_tone\u001b[49m\u001b[38;5;241;43m.\u001b[39;49m\u001b[43mplot\u001b[49m\u001b[43m(\u001b[49m\u001b[43m \u001b[49m\u001b[43mkind\u001b[49m\u001b[38;5;241;43m=\u001b[39;49m\u001b[38;5;124;43m'\u001b[39;49m\u001b[38;5;124;43mbar\u001b[39;49m\u001b[38;5;124;43m'\u001b[39;49m\u001b[43m,\u001b[49m\u001b[43m \u001b[49m\u001b[43mstacked\u001b[49m\u001b[38;5;241;43m=\u001b[39;49m\u001b[38;5;28;43;01mTrue\u001b[39;49;00m\u001b[43m,\u001b[49m\u001b[43m \u001b[49m\u001b[43mcolor\u001b[49m\u001b[38;5;241;43m=\u001b[39;49m\u001b[43m[\u001b[49m\u001b[38;5;124;43m'\u001b[39;49m\u001b[38;5;124;43mred\u001b[39;49m\u001b[38;5;124;43m'\u001b[39;49m\u001b[43m,\u001b[49m\u001b[43m \u001b[49m\u001b[38;5;124;43m'\u001b[39;49m\u001b[38;5;124;43mskyblue\u001b[39;49m\u001b[38;5;124;43m'\u001b[39;49m\u001b[43m,\u001b[49m\u001b[43m \u001b[49m\u001b[38;5;124;43m'\u001b[39;49m\u001b[38;5;124;43mgreen\u001b[39;49m\u001b[38;5;124;43m'\u001b[39;49m\u001b[43m]\u001b[49m\u001b[43m)\u001b[49m\n",
      "File \u001b[1;32mc:\\Users\\jmart130\\OneDrive - Old Dominion University\\GitHub\\twitter_analysis_col\\.venv\\lib\\site-packages\\pandas\\plotting\\_core.py:1000\u001b[0m, in \u001b[0;36mPlotAccessor.__call__\u001b[1;34m(self, *args, **kwargs)\u001b[0m\n\u001b[0;32m    997\u001b[0m             label_name \u001b[38;5;241m=\u001b[39m label_kw \u001b[38;5;129;01mor\u001b[39;00m data\u001b[38;5;241m.\u001b[39mcolumns\n\u001b[0;32m    998\u001b[0m             data\u001b[38;5;241m.\u001b[39mcolumns \u001b[38;5;241m=\u001b[39m label_name\n\u001b[1;32m-> 1000\u001b[0m \u001b[38;5;28;01mreturn\u001b[39;00m plot_backend\u001b[38;5;241m.\u001b[39mplot(data, kind\u001b[38;5;241m=\u001b[39mkind, \u001b[38;5;241m*\u001b[39m\u001b[38;5;241m*\u001b[39mkwargs)\n",
      "File \u001b[1;32mc:\\Users\\jmart130\\OneDrive - Old Dominion University\\GitHub\\twitter_analysis_col\\.venv\\lib\\site-packages\\pandas\\plotting\\_matplotlib\\__init__.py:71\u001b[0m, in \u001b[0;36mplot\u001b[1;34m(data, kind, **kwargs)\u001b[0m\n\u001b[0;32m     69\u001b[0m         kwargs[\u001b[38;5;124m\"\u001b[39m\u001b[38;5;124max\u001b[39m\u001b[38;5;124m\"\u001b[39m] \u001b[38;5;241m=\u001b[39m \u001b[38;5;28mgetattr\u001b[39m(ax, \u001b[38;5;124m\"\u001b[39m\u001b[38;5;124mleft_ax\u001b[39m\u001b[38;5;124m\"\u001b[39m, ax)\n\u001b[0;32m     70\u001b[0m plot_obj \u001b[38;5;241m=\u001b[39m PLOT_CLASSES[kind](data, \u001b[38;5;241m*\u001b[39m\u001b[38;5;241m*\u001b[39mkwargs)\n\u001b[1;32m---> 71\u001b[0m \u001b[43mplot_obj\u001b[49m\u001b[38;5;241;43m.\u001b[39;49m\u001b[43mgenerate\u001b[49m\u001b[43m(\u001b[49m\u001b[43m)\u001b[49m\n\u001b[0;32m     72\u001b[0m plot_obj\u001b[38;5;241m.\u001b[39mdraw()\n\u001b[0;32m     73\u001b[0m \u001b[38;5;28;01mreturn\u001b[39;00m plot_obj\u001b[38;5;241m.\u001b[39mresult\n",
      "File \u001b[1;32mc:\\Users\\jmart130\\OneDrive - Old Dominion University\\GitHub\\twitter_analysis_col\\.venv\\lib\\site-packages\\pandas\\plotting\\_matplotlib\\core.py:452\u001b[0m, in \u001b[0;36mMPLPlot.generate\u001b[1;34m(self)\u001b[0m\n\u001b[0;32m    450\u001b[0m \u001b[38;5;28mself\u001b[39m\u001b[38;5;241m.\u001b[39m_compute_plot_data()\n\u001b[0;32m    451\u001b[0m \u001b[38;5;28mself\u001b[39m\u001b[38;5;241m.\u001b[39m_setup_subplots()\n\u001b[1;32m--> 452\u001b[0m \u001b[38;5;28;43mself\u001b[39;49m\u001b[38;5;241;43m.\u001b[39;49m\u001b[43m_make_plot\u001b[49m\u001b[43m(\u001b[49m\u001b[43m)\u001b[49m\n\u001b[0;32m    453\u001b[0m \u001b[38;5;28mself\u001b[39m\u001b[38;5;241m.\u001b[39m_add_table()\n\u001b[0;32m    454\u001b[0m \u001b[38;5;28mself\u001b[39m\u001b[38;5;241m.\u001b[39m_make_legend()\n",
      "File \u001b[1;32mc:\\Users\\jmart130\\OneDrive - Old Dominion University\\GitHub\\twitter_analysis_col\\.venv\\lib\\site-packages\\pandas\\plotting\\_matplotlib\\core.py:1707\u001b[0m, in \u001b[0;36mBarPlot._make_plot\u001b[1;34m(self)\u001b[0m\n\u001b[0;32m   1705\u001b[0m start \u001b[38;5;241m=\u001b[39m np\u001b[38;5;241m.\u001b[39mwhere(mask, pos_prior, neg_prior) \u001b[38;5;241m+\u001b[39m \u001b[38;5;28mself\u001b[39m\u001b[38;5;241m.\u001b[39m_start_base\n\u001b[0;32m   1706\u001b[0m w \u001b[38;5;241m=\u001b[39m \u001b[38;5;28mself\u001b[39m\u001b[38;5;241m.\u001b[39mbar_width \u001b[38;5;241m/\u001b[39m \u001b[38;5;241m2\u001b[39m\n\u001b[1;32m-> 1707\u001b[0m rect \u001b[38;5;241m=\u001b[39m \u001b[38;5;28mself\u001b[39m\u001b[38;5;241m.\u001b[39m_plot(\n\u001b[0;32m   1708\u001b[0m     ax,\n\u001b[0;32m   1709\u001b[0m     \u001b[38;5;28mself\u001b[39m\u001b[38;5;241m.\u001b[39max_pos \u001b[38;5;241m+\u001b[39m w,\n\u001b[0;32m   1710\u001b[0m     y,\n\u001b[0;32m   1711\u001b[0m     \u001b[38;5;28mself\u001b[39m\u001b[38;5;241m.\u001b[39mbar_width,\n\u001b[0;32m   1712\u001b[0m     start\u001b[38;5;241m=\u001b[39mstart,\n\u001b[0;32m   1713\u001b[0m     label\u001b[38;5;241m=\u001b[39mlabel,\n\u001b[0;32m   1714\u001b[0m     log\u001b[38;5;241m=\u001b[39m\u001b[38;5;28mself\u001b[39m\u001b[38;5;241m.\u001b[39mlog,\n\u001b[0;32m   1715\u001b[0m     \u001b[38;5;241m*\u001b[39m\u001b[38;5;241m*\u001b[39mkwds,\n\u001b[0;32m   1716\u001b[0m )\n\u001b[0;32m   1717\u001b[0m pos_prior \u001b[38;5;241m=\u001b[39m pos_prior \u001b[38;5;241m+\u001b[39m np\u001b[38;5;241m.\u001b[39mwhere(mask, y, \u001b[38;5;241m0\u001b[39m)\n\u001b[0;32m   1718\u001b[0m neg_prior \u001b[38;5;241m=\u001b[39m neg_prior \u001b[38;5;241m+\u001b[39m np\u001b[38;5;241m.\u001b[39mwhere(mask, \u001b[38;5;241m0\u001b[39m, y)\n",
      "File \u001b[1;32mc:\\Users\\jmart130\\OneDrive - Old Dominion University\\GitHub\\twitter_analysis_col\\.venv\\lib\\site-packages\\pandas\\plotting\\_matplotlib\\core.py:1651\u001b[0m, in \u001b[0;36mBarPlot._plot\u001b[1;34m(cls, ax, x, y, w, start, log, **kwds)\u001b[0m\n\u001b[0;32m   1647\u001b[0m \u001b[38;5;129m@classmethod\u001b[39m\n\u001b[0;32m   1648\u001b[0m \u001b[38;5;28;01mdef\u001b[39;00m \u001b[38;5;21m_plot\u001b[39m(  \u001b[38;5;66;03m# type: ignore[override]\u001b[39;00m\n\u001b[0;32m   1649\u001b[0m     \u001b[38;5;28mcls\u001b[39m, ax: Axes, x, y, w, start\u001b[38;5;241m=\u001b[39m\u001b[38;5;241m0\u001b[39m, log\u001b[38;5;241m=\u001b[39m\u001b[38;5;28;01mFalse\u001b[39;00m, \u001b[38;5;241m*\u001b[39m\u001b[38;5;241m*\u001b[39mkwds\n\u001b[0;32m   1650\u001b[0m ):\n\u001b[1;32m-> 1651\u001b[0m     \u001b[38;5;28;01mreturn\u001b[39;00m ax\u001b[38;5;241m.\u001b[39mbar(x, y, w, bottom\u001b[38;5;241m=\u001b[39mstart, log\u001b[38;5;241m=\u001b[39mlog, \u001b[38;5;241m*\u001b[39m\u001b[38;5;241m*\u001b[39mkwds)\n",
      "File \u001b[1;32mc:\\Users\\jmart130\\OneDrive - Old Dominion University\\GitHub\\twitter_analysis_col\\.venv\\lib\\site-packages\\matplotlib\\__init__.py:1493\u001b[0m, in \u001b[0;36m_preprocess_data.<locals>.inner\u001b[1;34m(ax, data, *args, **kwargs)\u001b[0m\n\u001b[0;32m   1490\u001b[0m \u001b[38;5;129m@functools\u001b[39m\u001b[38;5;241m.\u001b[39mwraps(func)\n\u001b[0;32m   1491\u001b[0m \u001b[38;5;28;01mdef\u001b[39;00m \u001b[38;5;21minner\u001b[39m(ax, \u001b[38;5;241m*\u001b[39margs, data\u001b[38;5;241m=\u001b[39m\u001b[38;5;28;01mNone\u001b[39;00m, \u001b[38;5;241m*\u001b[39m\u001b[38;5;241m*\u001b[39mkwargs):\n\u001b[0;32m   1492\u001b[0m     \u001b[38;5;28;01mif\u001b[39;00m data \u001b[38;5;129;01mis\u001b[39;00m \u001b[38;5;28;01mNone\u001b[39;00m:\n\u001b[1;32m-> 1493\u001b[0m         \u001b[38;5;28;01mreturn\u001b[39;00m func(ax, \u001b[38;5;241m*\u001b[39m\u001b[38;5;28mmap\u001b[39m(sanitize_sequence, args), \u001b[38;5;241m*\u001b[39m\u001b[38;5;241m*\u001b[39mkwargs)\n\u001b[0;32m   1495\u001b[0m     bound \u001b[38;5;241m=\u001b[39m new_sig\u001b[38;5;241m.\u001b[39mbind(ax, \u001b[38;5;241m*\u001b[39margs, \u001b[38;5;241m*\u001b[39m\u001b[38;5;241m*\u001b[39mkwargs)\n\u001b[0;32m   1496\u001b[0m     auto_label \u001b[38;5;241m=\u001b[39m (bound\u001b[38;5;241m.\u001b[39marguments\u001b[38;5;241m.\u001b[39mget(label_namer)\n\u001b[0;32m   1497\u001b[0m                   \u001b[38;5;129;01mor\u001b[39;00m bound\u001b[38;5;241m.\u001b[39mkwargs\u001b[38;5;241m.\u001b[39mget(label_namer))\n",
      "File \u001b[1;32mc:\\Users\\jmart130\\OneDrive - Old Dominion University\\GitHub\\twitter_analysis_col\\.venv\\lib\\site-packages\\matplotlib\\axes\\_axes.py:2538\u001b[0m, in \u001b[0;36mAxes.bar\u001b[1;34m(self, x, height, width, bottom, align, **kwargs)\u001b[0m\n\u001b[0;32m   2536\u001b[0m     \u001b[38;5;28;01melse\u001b[39;00m:  \u001b[38;5;66;03m# horizontal\u001b[39;00m\n\u001b[0;32m   2537\u001b[0m         r\u001b[38;5;241m.\u001b[39msticky_edges\u001b[38;5;241m.\u001b[39mx\u001b[38;5;241m.\u001b[39mappend(l)\n\u001b[1;32m-> 2538\u001b[0m     \u001b[38;5;28;43mself\u001b[39;49m\u001b[38;5;241;43m.\u001b[39;49m\u001b[43madd_patch\u001b[49m\u001b[43m(\u001b[49m\u001b[43mr\u001b[49m\u001b[43m)\u001b[49m\n\u001b[0;32m   2539\u001b[0m     patches\u001b[38;5;241m.\u001b[39mappend(r)\n\u001b[0;32m   2541\u001b[0m \u001b[38;5;28;01mif\u001b[39;00m xerr \u001b[38;5;129;01mis\u001b[39;00m \u001b[38;5;129;01mnot\u001b[39;00m \u001b[38;5;28;01mNone\u001b[39;00m \u001b[38;5;129;01mor\u001b[39;00m yerr \u001b[38;5;129;01mis\u001b[39;00m \u001b[38;5;129;01mnot\u001b[39;00m \u001b[38;5;28;01mNone\u001b[39;00m:\n",
      "File \u001b[1;32mc:\\Users\\jmart130\\OneDrive - Old Dominion University\\GitHub\\twitter_analysis_col\\.venv\\lib\\site-packages\\matplotlib\\axes\\_base.py:2384\u001b[0m, in \u001b[0;36m_AxesBase.add_patch\u001b[1;34m(self, p)\u001b[0m\n\u001b[0;32m   2382\u001b[0m \u001b[38;5;28;01mif\u001b[39;00m p\u001b[38;5;241m.\u001b[39mget_clip_path() \u001b[38;5;129;01mis\u001b[39;00m \u001b[38;5;28;01mNone\u001b[39;00m:\n\u001b[0;32m   2383\u001b[0m     p\u001b[38;5;241m.\u001b[39mset_clip_path(\u001b[38;5;28mself\u001b[39m\u001b[38;5;241m.\u001b[39mpatch)\n\u001b[1;32m-> 2384\u001b[0m \u001b[38;5;28;43mself\u001b[39;49m\u001b[38;5;241;43m.\u001b[39;49m\u001b[43m_update_patch_limits\u001b[49m\u001b[43m(\u001b[49m\u001b[43mp\u001b[49m\u001b[43m)\u001b[49m\n\u001b[0;32m   2385\u001b[0m \u001b[38;5;28mself\u001b[39m\u001b[38;5;241m.\u001b[39m_children\u001b[38;5;241m.\u001b[39mappend(p)\n\u001b[0;32m   2386\u001b[0m p\u001b[38;5;241m.\u001b[39m_remove_method \u001b[38;5;241m=\u001b[39m \u001b[38;5;28mself\u001b[39m\u001b[38;5;241m.\u001b[39m_children\u001b[38;5;241m.\u001b[39mremove\n",
      "File \u001b[1;32mc:\\Users\\jmart130\\OneDrive - Old Dominion University\\GitHub\\twitter_analysis_col\\.venv\\lib\\site-packages\\matplotlib\\axes\\_base.py:2415\u001b[0m, in \u001b[0;36m_AxesBase._update_patch_limits\u001b[1;34m(self, patch)\u001b[0m\n\u001b[0;32m   2412\u001b[0m \u001b[38;5;28;01mif\u001b[39;00m \u001b[38;5;28mlen\u001b[39m(vertices):\n\u001b[0;32m   2413\u001b[0m     vertices \u001b[38;5;241m=\u001b[39m np\u001b[38;5;241m.\u001b[39mvstack(vertices)\n\u001b[1;32m-> 2415\u001b[0m patch_trf \u001b[38;5;241m=\u001b[39m \u001b[43mpatch\u001b[49m\u001b[38;5;241;43m.\u001b[39;49m\u001b[43mget_transform\u001b[49m\u001b[43m(\u001b[49m\u001b[43m)\u001b[49m\n\u001b[0;32m   2416\u001b[0m updatex, updatey \u001b[38;5;241m=\u001b[39m patch_trf\u001b[38;5;241m.\u001b[39mcontains_branch_seperately(\u001b[38;5;28mself\u001b[39m\u001b[38;5;241m.\u001b[39mtransData)\n\u001b[0;32m   2417\u001b[0m \u001b[38;5;28;01mif\u001b[39;00m \u001b[38;5;129;01mnot\u001b[39;00m (updatex \u001b[38;5;129;01mor\u001b[39;00m updatey):\n",
      "File \u001b[1;32mc:\\Users\\jmart130\\OneDrive - Old Dominion University\\GitHub\\twitter_analysis_col\\.venv\\lib\\site-packages\\matplotlib\\patches.py:261\u001b[0m, in \u001b[0;36mPatch.get_transform\u001b[1;34m(self)\u001b[0m\n\u001b[0;32m    259\u001b[0m \u001b[38;5;28;01mdef\u001b[39;00m \u001b[38;5;21mget_transform\u001b[39m(\u001b[38;5;28mself\u001b[39m):\n\u001b[0;32m    260\u001b[0m \u001b[38;5;250m    \u001b[39m\u001b[38;5;124;03m\"\"\"Return the `~.transforms.Transform` applied to the `Patch`.\"\"\"\u001b[39;00m\n\u001b[1;32m--> 261\u001b[0m     \u001b[38;5;28;01mreturn\u001b[39;00m \u001b[38;5;28;43mself\u001b[39;49m\u001b[38;5;241;43m.\u001b[39;49m\u001b[43mget_patch_transform\u001b[49m\u001b[43m(\u001b[49m\u001b[43m)\u001b[49m \u001b[38;5;241m+\u001b[39m artist\u001b[38;5;241m.\u001b[39mArtist\u001b[38;5;241m.\u001b[39mget_transform(\u001b[38;5;28mself\u001b[39m)\n",
      "File \u001b[1;32mc:\\Users\\jmart130\\OneDrive - Old Dominion University\\GitHub\\twitter_analysis_col\\.venv\\lib\\site-packages\\matplotlib\\patches.py:760\u001b[0m, in \u001b[0;36mRectangle.get_patch_transform\u001b[1;34m(self)\u001b[0m\n\u001b[0;32m    757\u001b[0m \u001b[38;5;28;01melse\u001b[39;00m:\n\u001b[0;32m    758\u001b[0m     rotation_point \u001b[38;5;241m=\u001b[39m \u001b[38;5;28mself\u001b[39m\u001b[38;5;241m.\u001b[39mrotation_point\n\u001b[0;32m    759\u001b[0m \u001b[38;5;28;01mreturn\u001b[39;00m transforms\u001b[38;5;241m.\u001b[39mBboxTransformTo(bbox) \\\n\u001b[1;32m--> 760\u001b[0m         \u001b[38;5;241m+\u001b[39m \u001b[43mtransforms\u001b[49m\u001b[38;5;241;43m.\u001b[39;49m\u001b[43mAffine2D\u001b[49m\u001b[43m(\u001b[49m\u001b[43m)\u001b[49m \\\n\u001b[0;32m    761\u001b[0m         \u001b[38;5;241m.\u001b[39mtranslate(\u001b[38;5;241m-\u001b[39mrotation_point[\u001b[38;5;241m0\u001b[39m], \u001b[38;5;241m-\u001b[39mrotation_point[\u001b[38;5;241m1\u001b[39m]) \\\n\u001b[0;32m    762\u001b[0m         \u001b[38;5;241m.\u001b[39mscale(\u001b[38;5;241m1\u001b[39m, \u001b[38;5;28mself\u001b[39m\u001b[38;5;241m.\u001b[39m_aspect_ratio_correction) \\\n\u001b[0;32m    763\u001b[0m         \u001b[38;5;241m.\u001b[39mrotate_deg(\u001b[38;5;28mself\u001b[39m\u001b[38;5;241m.\u001b[39mangle) \\\n\u001b[0;32m    764\u001b[0m         \u001b[38;5;241m.\u001b[39mscale(\u001b[38;5;241m1\u001b[39m, \u001b[38;5;241m1\u001b[39m \u001b[38;5;241m/\u001b[39m \u001b[38;5;28mself\u001b[39m\u001b[38;5;241m.\u001b[39m_aspect_ratio_correction) \\\n\u001b[0;32m    765\u001b[0m         \u001b[38;5;241m.\u001b[39mtranslate(\u001b[38;5;241m*\u001b[39mrotation_point)\n",
      "File \u001b[1;32mc:\\Users\\jmart130\\OneDrive - Old Dominion University\\GitHub\\twitter_analysis_col\\.venv\\lib\\site-packages\\matplotlib\\transforms.py:1899\u001b[0m, in \u001b[0;36mAffine2D.__init__\u001b[1;34m(self, matrix, **kwargs)\u001b[0m\n\u001b[0;32m   1889\u001b[0m \u001b[38;5;28;01mdef\u001b[39;00m \u001b[38;5;21m__init__\u001b[39m(\u001b[38;5;28mself\u001b[39m, matrix\u001b[38;5;241m=\u001b[39m\u001b[38;5;28;01mNone\u001b[39;00m, \u001b[38;5;241m*\u001b[39m\u001b[38;5;241m*\u001b[39mkwargs):\n\u001b[0;32m   1890\u001b[0m \u001b[38;5;250m    \u001b[39m\u001b[38;5;124;03m\"\"\"\u001b[39;00m\n\u001b[0;32m   1891\u001b[0m \u001b[38;5;124;03m    Initialize an Affine transform from a 3x3 numpy float array::\u001b[39;00m\n\u001b[0;32m   1892\u001b[0m \n\u001b[1;32m   (...)\u001b[0m\n\u001b[0;32m   1897\u001b[0m \u001b[38;5;124;03m    If *matrix* is None, initialize with the identity transform.\u001b[39;00m\n\u001b[0;32m   1898\u001b[0m \u001b[38;5;124;03m    \"\"\"\u001b[39;00m\n\u001b[1;32m-> 1899\u001b[0m     \u001b[38;5;28;43msuper\u001b[39;49m\u001b[43m(\u001b[49m\u001b[43m)\u001b[49m\u001b[38;5;241;43m.\u001b[39;49m\u001b[38;5;21;43m__init__\u001b[39;49m(\u001b[38;5;241m*\u001b[39m\u001b[38;5;241m*\u001b[39mkwargs)\n\u001b[0;32m   1900\u001b[0m     \u001b[38;5;28;01mif\u001b[39;00m matrix \u001b[38;5;129;01mis\u001b[39;00m \u001b[38;5;28;01mNone\u001b[39;00m:\n\u001b[0;32m   1901\u001b[0m         \u001b[38;5;66;03m# A bit faster than np.identity(3).\u001b[39;00m\n\u001b[0;32m   1902\u001b[0m         matrix \u001b[38;5;241m=\u001b[39m IdentityTransform\u001b[38;5;241m.\u001b[39m_mtx\n",
      "\u001b[1;31mKeyboardInterrupt\u001b[0m: "
     ]
    }
   ],
   "source": [
    "df_with_tone.plot( kind='bar', stacked=True, color=['red', 'skyblue', 'green'])"
   ]
  },
  {
   "cell_type": "code",
   "execution_count": 7,
   "metadata": {},
   "outputs": [],
   "source": [
    "# plot the locations in a map (withing Colombia) with markers based on the number of tweets\n",
    "import folium\n",
    "\n",
    "# Create a map centered in Colombia\n",
    "m = folium.Map(location=[4.5709, -74.2973], zoom_start=6)\n",
    "\n",
    "# Add markers to the map\n",
    "for i in range(len(lats_longs_cities_colombia['Id']))[0:10000]:\n",
    "    folium.Marker(\n",
    "        location=[lats_longs_cities_colombia['lat'][i], lats_longs_cities_colombia['long'][i]],\n",
    "        icon=folium.Icon(icon='cloud')\n",
    "    ).add_to(m)\n",
    "    \n",
    "m.save('../data/geolocation/map.html')\n"
   ]
  },
  {
   "cell_type": "code",
   "execution_count": 34,
   "metadata": {},
   "outputs": [],
   "source": [
    "# plot the locations in a map (withing Colombia) with a heatmap\n",
    "import folium\n",
    "from folium.plugins import HeatMap\n",
    "\n",
    "gradient = {.33: 'yellow', .66: 'red', 1: 'black'}\n",
    "\n",
    "m = folium.Map(location=[4.5709, -74.2973], zoom_start=6)\n",
    "# folium.TileLayer('statementoner', attr=\"toner\").add_to(m)\n",
    "HeatMap(data=df[['lat', 'long']], radius=10, gradient=gradient).add_to(m)\n",
    "folium.LayerControl().add_to(m)\n",
    "m.save('../data/geolocation/lats_longs_cities_colombia_heatmap2.html')\n"
   ]
  },
  {
   "cell_type": "code",
   "execution_count": null,
   "metadata": {},
   "outputs": [],
   "source": [
    "m"
   ]
  },
  {
   "cell_type": "code",
   "execution_count": null,
   "metadata": {},
   "outputs": [],
   "source": [
    "# save the map as a png\n",
    "from selenium import webdriver\n",
    "from selenium.webdriver.chrome.options import Options\n",
    "\n",
    "chrome_options = Options()\n",
    "chrome_options.add_argument(\"--headless\")\n",
    "driver = webdriver.Chrome(options=chrome_options)\n",
    "driver.get('../data/geolocation/lats_longs_cities_colombia_heatmap2.html')\n",
    "driver.save_screenshot('../data/geolocation/lats_longs_cities_colombia_heatmap2.png')\n",
    "driver.quit()\n"
   ]
  },
  {
   "cell_type": "code",
   "execution_count": 9,
   "metadata": {},
   "outputs": [
    {
     "data": {
      "text/html": [
       "<div>\n",
       "<style scoped>\n",
       "    .dataframe tbody tr th:only-of-type {\n",
       "        vertical-align: middle;\n",
       "    }\n",
       "\n",
       "    .dataframe tbody tr th {\n",
       "        vertical-align: top;\n",
       "    }\n",
       "\n",
       "    .dataframe thead th {\n",
       "        text-align: right;\n",
       "    }\n",
       "</style>\n",
       "<table border=\"1\" class=\"dataframe\">\n",
       "  <thead>\n",
       "    <tr style=\"text-align: right;\">\n",
       "      <th></th>\n",
       "      <th>Id</th>\n",
       "      <th>date</th>\n",
       "      <th>referred_to</th>\n",
       "      <th>text</th>\n",
       "      <th>tone</th>\n",
       "    </tr>\n",
       "  </thead>\n",
       "  <tbody>\n",
       "    <tr>\n",
       "      <th>0</th>\n",
       "      <td>429475247448793088</td>\n",
       "      <td>2014-01-01</td>\n",
       "      <td>migrants</td>\n",
       "      <td>aluxtuitea rogeliosamour JJRENDON JNatanVaquiz...</td>\n",
       "      <td>negative</td>\n",
       "    </tr>\n",
       "    <tr>\n",
       "      <th>1</th>\n",
       "      <td>429443798234824704</td>\n",
       "      <td>2014-01-01</td>\n",
       "      <td>migrants</td>\n",
       "      <td>Mayomendozaf callollanos JanioCuadro el que no...</td>\n",
       "      <td>negative</td>\n",
       "    </tr>\n",
       "    <tr>\n",
       "      <th>2</th>\n",
       "      <td>429435589205585920</td>\n",
       "      <td>2014-01-01</td>\n",
       "      <td>migrants</td>\n",
       "      <td>Recuerdos de mis bellos sobrino Venecos</td>\n",
       "      <td>positive</td>\n",
       "    </tr>\n",
       "    <tr>\n",
       "      <th>3</th>\n",
       "      <td>429401602966171649</td>\n",
       "      <td>2014-01-01</td>\n",
       "      <td>government</td>\n",
       "      <td>SienMisManosEstuviera Cerraría la frontera, de...</td>\n",
       "      <td>negative</td>\n",
       "    </tr>\n",
       "    <tr>\n",
       "      <th>4</th>\n",
       "      <td>429394529024622592</td>\n",
       "      <td>2014-01-01</td>\n",
       "      <td>geopolitics</td>\n",
       "      <td>ACUATheragram ACUATheragram Es  URIBE O SINO N...</td>\n",
       "      <td>positive</td>\n",
       "    </tr>\n",
       "    <tr>\n",
       "      <th>...</th>\n",
       "      <td>...</td>\n",
       "      <td>...</td>\n",
       "      <td>...</td>\n",
       "      <td>...</td>\n",
       "      <td>...</td>\n",
       "    </tr>\n",
       "    <tr>\n",
       "      <th>1664898</th>\n",
       "      <td>1531865786754682880</td>\n",
       "      <td>2022-06-01</td>\n",
       "      <td>migrants</td>\n",
       "      <td>miremejias Y se olvidan del sector de La Maris...</td>\n",
       "      <td>negative</td>\n",
       "    </tr>\n",
       "    <tr>\n",
       "      <th>1664899</th>\n",
       "      <td>1531865341399375875</td>\n",
       "      <td>2022-06-01</td>\n",
       "      <td>migrants</td>\n",
       "      <td>Veneco nivel</td>\n",
       "      <td>neutral</td>\n",
       "    </tr>\n",
       "    <tr>\n",
       "      <th>1664900</th>\n",
       "      <td>1531863973582327808</td>\n",
       "      <td>2022-06-01</td>\n",
       "      <td>migrants</td>\n",
       "      <td>Si no nos matan los venecos, nos mata el escap...</td>\n",
       "      <td>negative</td>\n",
       "    </tr>\n",
       "    <tr>\n",
       "      <th>1664901</th>\n",
       "      <td>1531863579875581953</td>\n",
       "      <td>2022-06-01</td>\n",
       "      <td>migrants</td>\n",
       "      <td>Me encanta ver venecos de trending y cómo nos ...</td>\n",
       "      <td>positive</td>\n",
       "    </tr>\n",
       "    <tr>\n",
       "      <th>1664902</th>\n",
       "      <td>1531863540176412672</td>\n",
       "      <td>2022-06-01</td>\n",
       "      <td>government</td>\n",
       "      <td>Migración  Qué esperan los VenezolanosEnColomb...</td>\n",
       "      <td>neutral</td>\n",
       "    </tr>\n",
       "  </tbody>\n",
       "</table>\n",
       "<p>1664903 rows × 5 columns</p>\n",
       "</div>"
      ],
      "text/plain": [
       "                          Id        date  referred_to  \\\n",
       "0         429475247448793088  2014-01-01     migrants   \n",
       "1         429443798234824704  2014-01-01     migrants   \n",
       "2         429435589205585920  2014-01-01     migrants   \n",
       "3         429401602966171649  2014-01-01   government   \n",
       "4         429394529024622592  2014-01-01  geopolitics   \n",
       "...                      ...         ...          ...   \n",
       "1664898  1531865786754682880  2022-06-01     migrants   \n",
       "1664899  1531865341399375875  2022-06-01     migrants   \n",
       "1664900  1531863973582327808  2022-06-01     migrants   \n",
       "1664901  1531863579875581953  2022-06-01     migrants   \n",
       "1664902  1531863540176412672  2022-06-01   government   \n",
       "\n",
       "                                                      text      tone  \n",
       "0        aluxtuitea rogeliosamour JJRENDON JNatanVaquiz...  negative  \n",
       "1        Mayomendozaf callollanos JanioCuadro el que no...  negative  \n",
       "2                  Recuerdos de mis bellos sobrino Venecos  positive  \n",
       "3        SienMisManosEstuviera Cerraría la frontera, de...  negative  \n",
       "4        ACUATheragram ACUATheragram Es  URIBE O SINO N...  positive  \n",
       "...                                                    ...       ...  \n",
       "1664898  miremejias Y se olvidan del sector de La Maris...  negative  \n",
       "1664899                                       Veneco nivel   neutral  \n",
       "1664900  Si no nos matan los venecos, nos mata el escap...  negative  \n",
       "1664901  Me encanta ver venecos de trending y cómo nos ...  positive  \n",
       "1664902  Migración  Qué esperan los VenezolanosEnColomb...   neutral  \n",
       "\n",
       "[1664903 rows x 5 columns]"
      ]
     },
     "execution_count": 9,
     "metadata": {},
     "output_type": "execute_result"
    }
   ],
   "source": [
    "tweets\n"
   ]
  }
 ],
 "metadata": {
  "kernelspec": {
   "display_name": ".venv",
   "language": "python",
   "name": "python3"
  },
  "language_info": {
   "codemirror_mode": {
    "name": "ipython",
    "version": 3
   },
   "file_extension": ".py",
   "mimetype": "text/x-python",
   "name": "python",
   "nbconvert_exporter": "python",
   "pygments_lexer": "ipython3",
   "version": "3.9.13"
  }
 },
 "nbformat": 4,
 "nbformat_minor": 2
}
