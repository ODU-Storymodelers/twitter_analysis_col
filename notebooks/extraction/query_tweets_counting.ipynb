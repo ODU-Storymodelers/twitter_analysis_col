{
 "cells": [
  {
   "cell_type": "code",
   "execution_count": 1,
   "id": "962da639",
   "metadata": {},
   "outputs": [],
   "source": [
    "from searchtweets import ResultStream, load_credentials, collect_results\n",
    "import pandas as pd\n",
    "import json"
   ]
  },
  {
   "cell_type": "markdown",
   "id": "2ee4ecd1",
   "metadata": {},
   "source": [
    "# CONTEOS DE PRUEBA"
   ]
  },
  {
   "cell_type": "markdown",
   "id": "40136e6a",
   "metadata": {},
   "source": [
    "### Query Original"
   ]
  },
  {
   "cell_type": "code",
   "execution_count": 2,
   "id": "97168573",
   "metadata": {},
   "outputs": [],
   "source": [
    "count_args = load_credentials(filename=\"./.twitter_keys.yaml\",\n",
    "                 yaml_key=\"count_tweets_api\",\n",
    "                 env_overwrite=False)"
   ]
  },
  {
   "cell_type": "code",
   "execution_count": 3,
   "id": "582439a1",
   "metadata": {},
   "outputs": [
    {
     "data": {
      "text/plain": [
       "{'bearer_token': 'AAAAAAAAAAAAAAAAAAAAAIeESwEAAAAAmaAbhwIaInp4E8H8lQTT0FwbmpE%3DIUU2mQGKdX0jotPFiCwxdYyXZN7PENkqWfs8QfudHG5Q31UxOv',\n",
       " 'endpoint': 'https://api.twitter.com/2/tweets/counts/all',\n",
       " 'extra_headers_dict': None}"
      ]
     },
     "execution_count": 3,
     "metadata": {},
     "output_type": "execute_result"
    }
   ],
   "source": [
    "count_args"
   ]
  },
  {
   "cell_type": "code",
   "execution_count": 3,
   "id": "7ff13396",
   "metadata": {
    "scrolled": true
   },
   "outputs": [
    {
     "name": "stdout",
     "output_type": "stream",
     "text": [
      "{'query': '(((venezolano OR venezolana OR venezolanos OR venezolanas OR venezuela OR vzla OR vnzla) (migrante OR migrantes OR migracion)) OR veneco OR veneca OR venecos OR venecas)', 'granularity': 'day', 'start_time': '2021-10-01T00:00:00.0-05:00', 'end_time': '2022-07-03T23:59:00.0-05:00'}\n"
     ]
    }
   ],
   "source": [
    "#query_count = query['query']\n",
    "query_count = {}\n",
    "query_count['query'] = '(((venezolano OR venezolana OR venezolanos OR venezolanas OR venezuela OR vzla OR vnzla) (migrante OR migrantes OR migracion)) OR veneco OR veneca OR venecos OR venecas)'\n",
    "query_count['granularity'] = \"day\"\n",
    "query_count['start_time'] = \"2021-10-01T00:00:00.0-05:00\"\n",
    "query_count['end_time'] = \"2022-07-03T23:59:00.0-05:00\"\n",
    "print(query_count)"
   ]
  },
  {
   "cell_type": "code",
   "execution_count": 6,
   "id": "e3d135f7",
   "metadata": {
    "scrolled": true
   },
   "outputs": [],
   "source": [
    "counts = collect_results(query_count, result_stream_args=count_args)"
   ]
  },
  {
   "cell_type": "code",
   "execution_count": 38,
   "id": "286307b3",
   "metadata": {},
   "outputs": [
    {
     "name": "stdout",
     "output_type": "stream",
     "text": [
      "1067666\n"
     ]
    }
   ],
   "source": [
    "total_counts = 0\n",
    "for i in counts:\n",
    "    total_counts += i['meta']['total_tweet_count']\n",
    "print(total_counts)"
   ]
  }
 ],
 "metadata": {
  "kernelspec": {
   "display_name": "Python 3",
   "language": "python",
   "name": "python3"
  },
  "language_info": {
   "codemirror_mode": {
    "name": "ipython",
    "version": 3
   },
   "file_extension": ".py",
   "mimetype": "text/x-python",
   "name": "python",
   "nbconvert_exporter": "python",
   "pygments_lexer": "ipython3",
   "version": "3.9.13"
  },
  "vscode": {
   "interpreter": {
    "hash": "ff4c72cb86a1db53a01b4668f2d4d3b8bfc875dfc5277ab14e6ce4b5493eba8b"
   }
  }
 },
 "nbformat": 4,
 "nbformat_minor": 5
}
