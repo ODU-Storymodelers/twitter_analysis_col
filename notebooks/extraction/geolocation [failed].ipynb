{
 "cells": [
  {
   "cell_type": "code",
   "execution_count": 41,
   "metadata": {},
   "outputs": [],
   "source": [
    "from ratelimiter import RateLimiter\n",
    "from geopy.geocoders import Nominatim\n",
    "\n",
    "import datetime"
   ]
  },
  {
   "cell_type": "code",
   "execution_count": 17,
   "metadata": {},
   "outputs": [],
   "source": [
    "geocoder = RateLimiter(period=1/60, max_calls=1)(Nominatim(user_agent='tweets_project').geocode)"
   ]
  },
  {
   "cell_type": "code",
   "execution_count": 52,
   "metadata": {},
   "outputs": [],
   "source": [
    "# import tweets from json file\n",
    "import json\n",
    "with open('../../data/monthly_jsons_complete/2019-01.json') as f:\n",
    "    tweets = json.load(f)"
   ]
  },
  {
   "cell_type": "code",
   "execution_count": 40,
   "metadata": {},
   "outputs": [
    {
     "ename": "TypeError",
     "evalue": "date_range_gen() missing 2 required positional arguments: 'end_year' and 'end_month'",
     "output_type": "error",
     "traceback": [
      "\u001b[1;31m---------------------------------------------------------------------------\u001b[0m",
      "\u001b[1;31mTypeError\u001b[0m                                 Traceback (most recent call last)",
      "Cell \u001b[1;32mIn[40], line 1\u001b[0m\n\u001b[1;32m----> 1\u001b[0m get_data_and_geo(\u001b[43mdate_range_gen\u001b[49m\u001b[43m(\u001b[49m\u001b[43mdatetime\u001b[49m\u001b[38;5;241;43m.\u001b[39;49m\u001b[43mdate\u001b[49m\u001b[43m(\u001b[49m\u001b[38;5;241;43m2020\u001b[39;49m\u001b[43m,\u001b[49m\u001b[38;5;241;43m5\u001b[39;49m\u001b[43m,\u001b[49m\u001b[38;5;241;43m1\u001b[39;49m\u001b[43m)\u001b[49m\u001b[43m,\u001b[49m\u001b[43m \u001b[49m\u001b[43mdatetime\u001b[49m\u001b[38;5;241;43m.\u001b[39;49m\u001b[43mdate\u001b[49m\u001b[43m(\u001b[49m\u001b[38;5;241;43m2020\u001b[39;49m\u001b[43m,\u001b[49m\u001b[38;5;241;43m5\u001b[39;49m\u001b[43m,\u001b[49m\u001b[38;5;241;43m2\u001b[39;49m\u001b[43m)\u001b[49m\u001b[43m)\u001b[49m)\n",
      "\u001b[1;31mTypeError\u001b[0m: date_range_gen() missing 2 required positional arguments: 'end_year' and 'end_month'"
     ]
    }
   ],
   "source": [
    "for k in range(len(tweets)):\n",
    "    for l in range(len(m[k]['data'])):\n",
    "        id_i = m[k]['data'][l]['id']    \n",
    "        location_i = \"no_location\"\n",
    "\n",
    "        try:\n",
    "            json_i = tweet_loc_find(id_i)\n",
    "            text_i = json_i['full_text']\n",
    "            location_i = json_i['user']['location']   \n",
    "        except Exception as e:\n",
    "            json_i = e\n",
    "            text_i = m[k]['data'][l]['text']\n",
    "        \n",
    "        if location_i != \"no_location\":\n",
    "            try: \n",
    "                location_i = geocoder(location_i)\n",
    "            except Exception as e:\n",
    "                pass\n",
    "            \n",
    "        tweets_dict.append({'Id':id_i, 'text':text_i, 'json':json_i, 'location':location_i})\n",
    "\n",
    "    print(\"Extracted info from\", str(len(tweets_dict)), 'tweets')\n",
    "    pfunctions.print_progress(k+1,len(m),len(m[k]['data'])) # Progress info (optional)\n",
    "\n",
    "executionTime = (time.time() - startTime)\n",
    "\n",
    "times_df.loc[len(times_df['date'])]=[(i_str+\"-\"+j_str),executionTime]\n",
    "tweets_df = pd.DataFrame.from_dict(tweets_dict)\n",
    "pickle_out = open(\"./Tweets/df\"+i_str+\"-\"+j_str+\".pickle\",\"wb\")\n",
    "pickle.dump(tweets_df,pickle_out)\n",
    "pickle_out.close\n",
    "print(str(date_i),\" correctly converted to dataframe and exported in \",round(executionTime,4),\" sg\", sep = \"\")\n"
   ]
  },
  {
   "cell_type": "code",
   "execution_count": null,
   "metadata": {},
   "outputs": [
    {
     "name": "stderr",
     "output_type": "stream",
     "text": [
      "\n",
      "KeyboardInterrupt\n",
      "\n"
     ]
    }
   ],
   "source": [
    "data_ranges = date_range_gen(2020,5, 2020,5)\n",
    "\n",
    "for date_i in data_ranges:\n",
    "    tweets_dict = []\n",
    "    startTime = time.time()\n",
    "    \n",
    "    i_str = str(date_i.year)\n",
    "    j_str = str(date_i.month).zfill(2)\n",
    "    m = json.load(open(\"./Tweets/\"+i_str+\"-\"+j_str+\".json\")) #open every json file\n",
    "        \n",
    "    for k in range(len(m)):\n",
    "        for l in range(len(m[k]['data'])):\n",
    "            id_i = m[k]['data'][l]['id']    \n",
    "            location_i = \"no_location\"\n",
    "  \n",
    "            try:\n",
    "                json_i = tweet_loc_find(id_i)\n",
    "                text_i = json_i['full_text']\n",
    "                location_i = json_i['user']['location']   \n",
    "            except Exception as e:\n",
    "                json_i = e\n",
    "                text_i = m[k]['data'][l]['text']\n",
    "            \n",
    "            if location_i != \"no_location\":\n",
    "                try: \n",
    "                    location_i = geocoder(location_i)\n",
    "                except Exception as e:\n",
    "                    pass\n",
    "             \n",
    "            tweets_dict.append({'Id':id_i, 'text':text_i, 'json':json_i, 'location':location_i})\n",
    "\n",
    "        print(\"Extracted info from\", str(len(tweets_dict)), 'tweets')\n",
    "        pfunctions.print_progress(k+1,len(m),len(m[k]['data'])) # Progress info (optional)\n",
    "    \n",
    "    executionTime = (time.time() - startTime)\n",
    "\n",
    "    times_df.loc[len(times_df['date'])]=[(i_str+\"-\"+j_str),executionTime]\n",
    "    tweets_df = pd.DataFrame.from_dict(tweets_dict)\n",
    "    pickle_out = open(\"./Tweets/df\"+i_str+\"-\"+j_str+\".pickle\",\"wb\")\n",
    "    pickle.dump(tweets_df,pickle_out)\n",
    "    pickle_out.close\n",
    "    print(str(date_i),\" correctly converted to dataframe and exported in \",round(executionTime,4),\" sg\", sep = \"\")\n",
    "    \n",
    "times_df.to_csv('./Tweets/times.csv', index = False)"
   ]
  }
 ],
 "metadata": {
  "kernelspec": {
   "display_name": ".venv",
   "language": "python",
   "name": "python3"
  },
  "language_info": {
   "codemirror_mode": {
    "name": "ipython",
    "version": 3
   },
   "file_extension": ".py",
   "mimetype": "text/x-python",
   "name": "python",
   "nbconvert_exporter": "python",
   "pygments_lexer": "ipython3",
   "version": "3.9.13"
  }
 },
 "nbformat": 4,
 "nbformat_minor": 2
}
