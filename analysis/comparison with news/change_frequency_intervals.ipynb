{
 "cells": [
  {
   "cell_type": "code",
   "execution_count": 55,
   "metadata": {},
   "outputs": [],
   "source": [
    "import pandas as pd\n",
    "import math"
   ]
  },
  {
   "cell_type": "code",
   "execution_count": 56,
   "metadata": {},
   "outputs": [],
   "source": [
    "ts = pd.read_excel('./negative_tweets+news_comparison.xlsx')\n",
    "date_header = ts.columns[0]\n",
    "ts[date_header] = ts[date_header].astype(str)"
   ]
  },
  {
   "cell_type": "code",
   "execution_count": 57,
   "metadata": {},
   "outputs": [],
   "source": [
    "ts['bimonth'] = ts[date_header].map(lambda x: x[0:4])+'-'+ts[date_header].map(lambda x: str(math.ceil(int(x[5:7])/2)).zfill(2))"
   ]
  },
  {
   "cell_type": "code",
   "execution_count": 58,
   "metadata": {},
   "outputs": [
    {
     "name": "stderr",
     "output_type": "stream",
     "text": [
      "C:\\Users\\jmart130\\AppData\\Local\\Temp\\ipykernel_20344\\3631895855.py:2: FutureWarning: The default value of numeric_only in DataFrameGroupBy.sum is deprecated. In a future version, numeric_only will default to False. Either specify numeric_only or select only columns which should be valid for the function.\n",
      "  year = ts.groupby(ts[date_header].map(lambda x: x[0:4])).sum()\n",
      "C:\\Users\\jmart130\\AppData\\Local\\Temp\\ipykernel_20344\\3631895855.py:4: FutureWarning: The default value of numeric_only in DataFrameGroupBy.sum is deprecated. In a future version, numeric_only will default to False. Either specify numeric_only or select only columns which should be valid for the function.\n",
      "  bimonth = ts.groupby(ts['bimonth']).sum()\n"
     ]
    }
   ],
   "source": [
    "# grouping by year\n",
    "year = ts.groupby(ts[date_header].map(lambda x: x[0:4])).sum()\n",
    "# grouping by bimonth\n",
    "bimonth = ts.groupby(ts['bimonth']).sum()"
   ]
  },
  {
   "cell_type": "code",
   "execution_count": 59,
   "metadata": {},
   "outputs": [
    {
     "name": "stderr",
     "output_type": "stream",
     "text": [
      "C:\\Users\\jmart130\\AppData\\Local\\Temp\\ipykernel_20344\\1231480394.py:6: FutureWarning: Setting the `book` attribute is not part of the public API, usage can give unexpected or corrupted results and will be removed in a future version\n",
      "  writer.book = book\n"
     ]
    }
   ],
   "source": [
    "export_path = 'negative_tweets+news_comparison.xlsx'\n",
    "from openpyxl import load_workbook\n",
    "book = load_workbook(export_path)\n",
    "\n",
    "with pd.ExcelWriter(export_path, engine = 'openpyxl') as writer:\n",
    "    writer.book = book\n",
    "    year.to_excel(writer, sheet_name= 'yearly')\n",
    "    bimonth.to_excel(writer, sheet_name= 'bimonthly')"
   ]
  }
 ],
 "metadata": {
  "kernelspec": {
   "display_name": "Python 3.9.13 64-bit (microsoft store)",
   "language": "python",
   "name": "python3"
  },
  "language_info": {
   "codemirror_mode": {
    "name": "ipython",
    "version": 3
   },
   "file_extension": ".py",
   "mimetype": "text/x-python",
   "name": "python",
   "nbconvert_exporter": "python",
   "pygments_lexer": "ipython3",
   "version": "3.9.13"
  },
  "orig_nbformat": 4,
  "vscode": {
   "interpreter": {
    "hash": "ff4c72cb86a1db53a01b4668f2d4d3b8bfc875dfc5277ab14e6ce4b5493eba8b"
   }
  }
 },
 "nbformat": 4,
 "nbformat_minor": 2
}
