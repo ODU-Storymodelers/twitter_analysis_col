{
 "cells": [
  {
   "cell_type": "code",
   "execution_count": 1,
   "metadata": {},
   "outputs": [
    {
     "name": "stderr",
     "output_type": "stream",
     "text": [
      "[nltk_data] Downloading package stopwords to\n",
      "[nltk_data]     C:\\Users\\jmart130\\AppData\\Roaming\\nltk_data...\n",
      "[nltk_data]   Package stopwords is already up-to-date!\n"
     ]
    }
   ],
   "source": [
    "#!pip install -r requirements.txt\n",
    "import pandas as pd\n",
    "import unidecode\n",
    "import nltk\n",
    "nltk.download('stopwords')\n",
    "from nltk.corpus import stopwords\n",
    "import string\n",
    "import math\n",
    "from openpyxl import load_workbook"
   ]
  },
  {
   "cell_type": "markdown",
   "metadata": {},
   "source": [
    "## Number of original, valid and colombian tweets"
   ]
  },
  {
   "cell_type": "code",
   "execution_count": 2,
   "metadata": {},
   "outputs": [
    {
     "name": "stdout",
     "output_type": "stream",
     "text": [
      "Initial number of tweets: 7406219\n",
      "Number of tweets from Colombia: 2006528\n",
      "Number of VALID tweets from Colombia: 1664903\n"
     ]
    }
   ],
   "source": [
    "tweets = pd.read_csv('./../data/texts/all_texts.csv')\n",
    "print('Initial number of tweets:',len(tweets))\n",
    "\n",
    "tweets = pd.read_csv('./../data/texts/colombian_tweets.csv')\n",
    "print('Number of tweets from Colombia:',len(tweets))\n",
    "\n",
    "tweets = pd.read_csv('./../data/texts/colombian_valid_tweets.csv')\n",
    "print('Number of VALID tweets from Colombia:',len(tweets))"
   ]
  },
  {
   "cell_type": "code",
   "execution_count": 17,
   "metadata": {},
   "outputs": [],
   "source": [
    "tweets = pd.read_csv('./../data/texts/texts_from_pickles.csv')"
   ]
  },
  {
   "cell_type": "code",
   "execution_count": 19,
   "metadata": {},
   "outputs": [
    {
     "name": "stdout",
     "output_type": "stream",
     "text": [
      "Number of tweets from 2015-1 to 2021-3: 3996268\n"
     ]
    }
   ],
   "source": [
    "#Counting number of tweets from 2015-1 to 2021-3\n",
    "# Convert to datetime and filtering by date (only 2015-1 - 2021-3)\n",
    "dates = tweets['date']\n",
    "dates = pd.to_datetime(pd.Series(dates))\n",
    "dates = dates[(dates >= '2014-1-1') & (dates <= '2021-3-31')]\n",
    "print('Number of tweets from 2015-1 to 2021-3:',len(dates))"
   ]
  },
  {
   "cell_type": "code",
   "execution_count": 23,
   "metadata": {},
   "outputs": [],
   "source": [
    "tweets = pd.read_csv('./../data/texts/colombian_valid_tweets.csv')"
   ]
  },
  {
   "cell_type": "markdown",
   "metadata": {},
   "source": [
    "## Word Frequency"
   ]
  },
  {
   "cell_type": "code",
   "execution_count": 3,
   "metadata": {},
   "outputs": [],
   "source": [
    "words = []\n",
    "for text in tweets['text'].astype(str):\n",
    "    words_list = unidecode.unidecode(text).lower().split() #lowercase version of the words were used\n",
    "    words_list = [word.translate(str.maketrans('', '', string.punctuation)) for word in words_list]\n",
    "    words+= words_list  #remove punctuations from the words"
   ]
  },
  {
   "cell_type": "code",
   "execution_count": 4,
   "metadata": {},
   "outputs": [],
   "source": [
    "#remove stopwords\n",
    "stop_words = set(stopwords.words('spanish')) \n",
    "words = [w for w in words if w not in stop_words] \n",
    "\n",
    "#remove meaningless words\n",
    "meaningless_words = ['d', '5', 'si', 'q', '2018', '', ' ']\n",
    "words = [w for w in words if w not in meaningless_words] "
   ]
  },
  {
   "cell_type": "code",
   "execution_count": 5,
   "metadata": {},
   "outputs": [],
   "source": [
    "#remove unwanted words###\n",
    "unwanted_words = []\n",
    "words = [w for w in words if not w.lower() in unwanted_words] "
   ]
  },
  {
   "cell_type": "code",
   "execution_count": 6,
   "metadata": {},
   "outputs": [],
   "source": [
    "serie_words = pd.Series(words)"
   ]
  },
  {
   "cell_type": "code",
   "execution_count": 7,
   "metadata": {},
   "outputs": [],
   "source": [
    "export = serie_words.value_counts().reset_index()[0:100] #only exporting the 100 most frequent words\n",
    "export.rename(columns={'index':'word',0:'weight'}, inplace=True)\n",
    "export[['word','weight']].to_csv('words_frequencies.csv',index = False)"
   ]
  },
  {
   "cell_type": "markdown",
   "metadata": {},
   "source": [
    "## Frequency of specific words"
   ]
  },
  {
   "cell_type": "code",
   "execution_count": 2,
   "metadata": {},
   "outputs": [],
   "source": [
    "tweets = pd.read_csv('./../data/texts/colombian_valid_tweets.csv')\n",
    "word = 'hospital'\n",
    "tweets['word_frequency'] = [min(text.count(word),1) for text in tweets['text'].astype(str).str.lower()] #Remove .lower() if case sentitivity is required"
   ]
  },
  {
   "cell_type": "code",
   "execution_count": 3,
   "metadata": {},
   "outputs": [],
   "source": [
    "# by year\n",
    "tweets_count_word_year = tweets.groupby([tweets['date'].map(lambda x: x[0:4])]).count()\n",
    "# by month\n",
    "tweets_count_word_month = tweets.groupby([tweets['date'].map(lambda x: x[0:7])]).count()"
   ]
  },
  {
   "cell_type": "code",
   "execution_count": 5,
   "metadata": {},
   "outputs": [],
   "source": [
    "with pd.ExcelWriter('./../analysis/words_frequency/'+word+'_word_frequency.xlsx') as writer:\n",
    "    tweets_count_word_year['word_frequency'].to_excel(writer, sheet_name= word+' frequency - yearly')\n",
    "    tweets_count_word_month['word_frequency'].to_excel(writer, sheet_name= word+' frequency - month')"
   ]
  },
  {
   "cell_type": "markdown",
   "metadata": {},
   "source": [
    "## Frequency of specific words - 2"
   ]
  },
  {
   "cell_type": "code",
   "execution_count": 6,
   "metadata": {},
   "outputs": [],
   "source": [
    "tweets = pd.read_csv('./../data/texts/colombian_valid_tweets.csv')\n",
    "words = ['venezolanos', 'migrantes', 'veneco', 'venecos', 'veneca', 'venecas', 'migracion', 'venezuela', 'colombia', 'gobierno']\n",
    "\n",
    "#without retweets\n",
    "tweets['text'] = tweets['text'].astype(str).str.lower()\n",
    "tweets = tweets.drop_duplicates(subset = 'text', inplace=False)"
   ]
  },
  {
   "cell_type": "code",
   "execution_count": 8,
   "metadata": {},
   "outputs": [
    {
     "name": "stderr",
     "output_type": "stream",
     "text": [
      "C:\\Users\\jmart130\\AppData\\Local\\Temp\\ipykernel_11748\\3237516105.py:10: FutureWarning: The default value of numeric_only in DataFrameGroupBy.sum is deprecated. In a future version, numeric_only will default to False. Either specify numeric_only or select only columns which should be valid for the function.\n",
      "  tweets_count_word_year = tweets.groupby([tweets['date'].map(lambda x: x[0:4])]).sum()\n",
      "C:\\Users\\jmart130\\AppData\\Local\\Temp\\ipykernel_11748\\3237516105.py:13: FutureWarning: The default value of numeric_only in DataFrameGroupBy.sum is deprecated. In a future version, numeric_only will default to False. Either specify numeric_only or select only columns which should be valid for the function.\n",
      "  tweets_count_word_month = tweets.groupby([tweets['date'].map(lambda x: x[0:7])]).sum()\n",
      "C:\\Users\\jmart130\\AppData\\Local\\Temp\\ipykernel_11748\\3237516105.py:17: FutureWarning: Setting the `book` attribute is not part of the public API, usage can give unexpected or corrupted results and will be removed in a future version\n",
      "  writer.book = book\n",
      "C:\\Users\\jmart130\\AppData\\Local\\Temp\\ipykernel_11748\\3237516105.py:10: FutureWarning: The default value of numeric_only in DataFrameGroupBy.sum is deprecated. In a future version, numeric_only will default to False. Either specify numeric_only or select only columns which should be valid for the function.\n",
      "  tweets_count_word_year = tweets.groupby([tweets['date'].map(lambda x: x[0:4])]).sum()\n",
      "C:\\Users\\jmart130\\AppData\\Local\\Temp\\ipykernel_11748\\3237516105.py:13: FutureWarning: The default value of numeric_only in DataFrameGroupBy.sum is deprecated. In a future version, numeric_only will default to False. Either specify numeric_only or select only columns which should be valid for the function.\n",
      "  tweets_count_word_month = tweets.groupby([tweets['date'].map(lambda x: x[0:7])]).sum()\n",
      "C:\\Users\\jmart130\\AppData\\Local\\Temp\\ipykernel_11748\\3237516105.py:17: FutureWarning: Setting the `book` attribute is not part of the public API, usage can give unexpected or corrupted results and will be removed in a future version\n",
      "  writer.book = book\n",
      "C:\\Users\\jmart130\\AppData\\Local\\Temp\\ipykernel_11748\\3237516105.py:10: FutureWarning: The default value of numeric_only in DataFrameGroupBy.sum is deprecated. In a future version, numeric_only will default to False. Either specify numeric_only or select only columns which should be valid for the function.\n",
      "  tweets_count_word_year = tweets.groupby([tweets['date'].map(lambda x: x[0:4])]).sum()\n",
      "C:\\Users\\jmart130\\AppData\\Local\\Temp\\ipykernel_11748\\3237516105.py:13: FutureWarning: The default value of numeric_only in DataFrameGroupBy.sum is deprecated. In a future version, numeric_only will default to False. Either specify numeric_only or select only columns which should be valid for the function.\n",
      "  tweets_count_word_month = tweets.groupby([tweets['date'].map(lambda x: x[0:7])]).sum()\n",
      "C:\\Users\\jmart130\\AppData\\Local\\Temp\\ipykernel_11748\\3237516105.py:17: FutureWarning: Setting the `book` attribute is not part of the public API, usage can give unexpected or corrupted results and will be removed in a future version\n",
      "  writer.book = book\n",
      "C:\\Users\\jmart130\\AppData\\Local\\Temp\\ipykernel_11748\\3237516105.py:10: FutureWarning: The default value of numeric_only in DataFrameGroupBy.sum is deprecated. In a future version, numeric_only will default to False. Either specify numeric_only or select only columns which should be valid for the function.\n",
      "  tweets_count_word_year = tweets.groupby([tweets['date'].map(lambda x: x[0:4])]).sum()\n",
      "C:\\Users\\jmart130\\AppData\\Local\\Temp\\ipykernel_11748\\3237516105.py:13: FutureWarning: The default value of numeric_only in DataFrameGroupBy.sum is deprecated. In a future version, numeric_only will default to False. Either specify numeric_only or select only columns which should be valid for the function.\n",
      "  tweets_count_word_month = tweets.groupby([tweets['date'].map(lambda x: x[0:7])]).sum()\n",
      "C:\\Users\\jmart130\\AppData\\Local\\Temp\\ipykernel_11748\\3237516105.py:17: FutureWarning: Setting the `book` attribute is not part of the public API, usage can give unexpected or corrupted results and will be removed in a future version\n",
      "  writer.book = book\n",
      "C:\\Users\\jmart130\\AppData\\Local\\Temp\\ipykernel_11748\\3237516105.py:10: FutureWarning: The default value of numeric_only in DataFrameGroupBy.sum is deprecated. In a future version, numeric_only will default to False. Either specify numeric_only or select only columns which should be valid for the function.\n",
      "  tweets_count_word_year = tweets.groupby([tweets['date'].map(lambda x: x[0:4])]).sum()\n",
      "C:\\Users\\jmart130\\AppData\\Local\\Temp\\ipykernel_11748\\3237516105.py:13: FutureWarning: The default value of numeric_only in DataFrameGroupBy.sum is deprecated. In a future version, numeric_only will default to False. Either specify numeric_only or select only columns which should be valid for the function.\n",
      "  tweets_count_word_month = tweets.groupby([tweets['date'].map(lambda x: x[0:7])]).sum()\n",
      "C:\\Users\\jmart130\\AppData\\Local\\Temp\\ipykernel_11748\\3237516105.py:17: FutureWarning: Setting the `book` attribute is not part of the public API, usage can give unexpected or corrupted results and will be removed in a future version\n",
      "  writer.book = book\n",
      "C:\\Users\\jmart130\\AppData\\Local\\Temp\\ipykernel_11748\\3237516105.py:10: FutureWarning: The default value of numeric_only in DataFrameGroupBy.sum is deprecated. In a future version, numeric_only will default to False. Either specify numeric_only or select only columns which should be valid for the function.\n",
      "  tweets_count_word_year = tweets.groupby([tweets['date'].map(lambda x: x[0:4])]).sum()\n",
      "C:\\Users\\jmart130\\AppData\\Local\\Temp\\ipykernel_11748\\3237516105.py:13: FutureWarning: The default value of numeric_only in DataFrameGroupBy.sum is deprecated. In a future version, numeric_only will default to False. Either specify numeric_only or select only columns which should be valid for the function.\n",
      "  tweets_count_word_month = tweets.groupby([tweets['date'].map(lambda x: x[0:7])]).sum()\n",
      "C:\\Users\\jmart130\\AppData\\Local\\Temp\\ipykernel_11748\\3237516105.py:17: FutureWarning: Setting the `book` attribute is not part of the public API, usage can give unexpected or corrupted results and will be removed in a future version\n",
      "  writer.book = book\n",
      "C:\\Users\\jmart130\\AppData\\Local\\Temp\\ipykernel_11748\\3237516105.py:10: FutureWarning: The default value of numeric_only in DataFrameGroupBy.sum is deprecated. In a future version, numeric_only will default to False. Either specify numeric_only or select only columns which should be valid for the function.\n",
      "  tweets_count_word_year = tweets.groupby([tweets['date'].map(lambda x: x[0:4])]).sum()\n",
      "C:\\Users\\jmart130\\AppData\\Local\\Temp\\ipykernel_11748\\3237516105.py:13: FutureWarning: The default value of numeric_only in DataFrameGroupBy.sum is deprecated. In a future version, numeric_only will default to False. Either specify numeric_only or select only columns which should be valid for the function.\n",
      "  tweets_count_word_month = tweets.groupby([tweets['date'].map(lambda x: x[0:7])]).sum()\n",
      "C:\\Users\\jmart130\\AppData\\Local\\Temp\\ipykernel_11748\\3237516105.py:17: FutureWarning: Setting the `book` attribute is not part of the public API, usage can give unexpected or corrupted results and will be removed in a future version\n",
      "  writer.book = book\n",
      "C:\\Users\\jmart130\\AppData\\Local\\Temp\\ipykernel_11748\\3237516105.py:10: FutureWarning: The default value of numeric_only in DataFrameGroupBy.sum is deprecated. In a future version, numeric_only will default to False. Either specify numeric_only or select only columns which should be valid for the function.\n",
      "  tweets_count_word_year = tweets.groupby([tweets['date'].map(lambda x: x[0:4])]).sum()\n",
      "C:\\Users\\jmart130\\AppData\\Local\\Temp\\ipykernel_11748\\3237516105.py:13: FutureWarning: The default value of numeric_only in DataFrameGroupBy.sum is deprecated. In a future version, numeric_only will default to False. Either specify numeric_only or select only columns which should be valid for the function.\n",
      "  tweets_count_word_month = tweets.groupby([tweets['date'].map(lambda x: x[0:7])]).sum()\n",
      "C:\\Users\\jmart130\\AppData\\Local\\Temp\\ipykernel_11748\\3237516105.py:17: FutureWarning: Setting the `book` attribute is not part of the public API, usage can give unexpected or corrupted results and will be removed in a future version\n",
      "  writer.book = book\n",
      "C:\\Users\\jmart130\\AppData\\Local\\Temp\\ipykernel_11748\\3237516105.py:10: FutureWarning: The default value of numeric_only in DataFrameGroupBy.sum is deprecated. In a future version, numeric_only will default to False. Either specify numeric_only or select only columns which should be valid for the function.\n",
      "  tweets_count_word_year = tweets.groupby([tweets['date'].map(lambda x: x[0:4])]).sum()\n",
      "C:\\Users\\jmart130\\AppData\\Local\\Temp\\ipykernel_11748\\3237516105.py:13: FutureWarning: The default value of numeric_only in DataFrameGroupBy.sum is deprecated. In a future version, numeric_only will default to False. Either specify numeric_only or select only columns which should be valid for the function.\n",
      "  tweets_count_word_month = tweets.groupby([tweets['date'].map(lambda x: x[0:7])]).sum()\n",
      "C:\\Users\\jmart130\\AppData\\Local\\Temp\\ipykernel_11748\\3237516105.py:17: FutureWarning: Setting the `book` attribute is not part of the public API, usage can give unexpected or corrupted results and will be removed in a future version\n",
      "  writer.book = book\n",
      "C:\\Users\\jmart130\\AppData\\Local\\Temp\\ipykernel_11748\\3237516105.py:10: FutureWarning: The default value of numeric_only in DataFrameGroupBy.sum is deprecated. In a future version, numeric_only will default to False. Either specify numeric_only or select only columns which should be valid for the function.\n",
      "  tweets_count_word_year = tweets.groupby([tweets['date'].map(lambda x: x[0:4])]).sum()\n",
      "C:\\Users\\jmart130\\AppData\\Local\\Temp\\ipykernel_11748\\3237516105.py:13: FutureWarning: The default value of numeric_only in DataFrameGroupBy.sum is deprecated. In a future version, numeric_only will default to False. Either specify numeric_only or select only columns which should be valid for the function.\n",
      "  tweets_count_word_month = tweets.groupby([tweets['date'].map(lambda x: x[0:7])]).sum()\n",
      "C:\\Users\\jmart130\\AppData\\Local\\Temp\\ipykernel_11748\\3237516105.py:17: FutureWarning: Setting the `book` attribute is not part of the public API, usage can give unexpected or corrupted results and will be removed in a future version\n",
      "  writer.book = book\n"
     ]
    }
   ],
   "source": [
    "# export_path = './words_frequency/word_frequencies_specifics_words.xlsx'\n",
    "export_path = './words_frequency/word_frequencies_specifics_words_nort.xlsx'\n",
    "words_year = pd.DataFrame()\n",
    "words_month = pd.DataFrame()\n",
    "book = load_workbook(export_path)\n",
    "\n",
    "    \n",
    "for word in words: \n",
    "    tweets['word_frequency'] = [min(text.count(word),1) for text in tweets['text'].astype(str).str.lower()] #Remove .lower() if case sentitivity is required\n",
    "    # by year\n",
    "    tweets_count_word_year = tweets.groupby([tweets['date'].map(lambda x: x[0:4])]).sum()\n",
    "    words_year[word]=tweets_count_word_year['word_frequency']\n",
    "    # by month\n",
    "    tweets_count_word_month = tweets.groupby([tweets['date'].map(lambda x: x[0:7])]).sum()\n",
    "    words_month[word]=tweets_count_word_month['word_frequency']\n",
    "    \n",
    "    with pd.ExcelWriter(export_path, engine = 'openpyxl') as writer:\n",
    "        writer.book = book\n",
    "        words_year.to_excel(writer, sheet_name= 'yearly')\n",
    "        words_month.to_excel(writer, sheet_name= 'monthly')"
   ]
  },
  {
   "cell_type": "markdown",
   "metadata": {},
   "source": [
    "## Frequency of specific words within a category"
   ]
  },
  {
   "cell_type": "code",
   "execution_count": 34,
   "metadata": {},
   "outputs": [],
   "source": [
    "tweets = pd.read_csv('./../data/texts/colombian_valid_tweets_subject_preds_wwm.csv')\n",
    "word = 'agua'\n",
    "cat = 'government'\n",
    "tweets = tweets[tweets['referred_to']==cat]\n",
    "tweets['word_frequency'] = [min(text.count(word),1) for text in tweets['text'].astype(str).str.lower()] #Remove .lower() if case sentitivity is required"
   ]
  },
  {
   "cell_type": "code",
   "execution_count": 35,
   "metadata": {},
   "outputs": [
    {
     "name": "stderr",
     "output_type": "stream",
     "text": [
      "C:\\Users\\jmart130\\AppData\\Local\\Temp\\ipykernel_8916\\765518570.py:2: FutureWarning: The default value of numeric_only in DataFrameGroupBy.sum is deprecated. In a future version, numeric_only will default to False. Either specify numeric_only or select only columns which should be valid for the function.\n",
      "  tweets_count_word_year = tweets.groupby([tweets['date'].map(lambda x: x[0:4])]).sum()\n",
      "C:\\Users\\jmart130\\AppData\\Local\\Temp\\ipykernel_8916\\765518570.py:4: FutureWarning: The default value of numeric_only in DataFrameGroupBy.sum is deprecated. In a future version, numeric_only will default to False. Either specify numeric_only or select only columns which should be valid for the function.\n",
      "  tweets_count_word_month = tweets.groupby([tweets['date'].map(lambda x: x[0:7])]).sum()\n"
     ]
    }
   ],
   "source": [
    "# by year\n",
    "tweets_count_word_year = tweets.groupby([tweets['date'].map(lambda x: x[0:4])]).sum()\n",
    "# by month\n",
    "tweets_count_word_month = tweets.groupby([tweets['date'].map(lambda x: x[0:7])]).sum()"
   ]
  },
  {
   "cell_type": "code",
   "execution_count": 36,
   "metadata": {},
   "outputs": [],
   "source": [
    "with pd.ExcelWriter('./../analysis/words_frequency/'+word+'_word_frequency_'+cat+'.xlsx') as writer:\n",
    "    tweets_count_word_year['word_frequency'].to_excel(writer, sheet_name= word+' frequency - yearly')\n",
    "    tweets_count_word_month['word_frequency'].to_excel(writer, sheet_name= word+' frequency - month')"
   ]
  },
  {
   "cell_type": "markdown",
   "metadata": {},
   "source": [
    "## Number of tweets and by category"
   ]
  },
  {
   "cell_type": "code",
   "execution_count": 8,
   "metadata": {},
   "outputs": [],
   "source": [
    "tweets_preds = pd.read_csv('./../data/texts/colombian_valid_tweets_subject_predictions_bert_wwm.csv')\n",
    "tweets_preds['number of tweets'] = 1"
   ]
  },
  {
   "cell_type": "code",
   "execution_count": 9,
   "metadata": {},
   "outputs": [],
   "source": [
    "# by year\n",
    "tweets_count_total_year = tweets_preds.groupby(tweets_preds['date'].map(lambda x: x[0:4])).count()\n",
    "tweets_count_categories_year = tweets_preds.groupby([tweets_preds['referred_to'],tweets_preds['date'].map(lambda x: x[0:4])]).count()\n",
    "# by month\n",
    "tweets_count_total_month = tweets_preds.groupby(tweets_preds['date'].map(lambda x: x[0:7])).count()\n",
    "tweets_count_categorie_month = tweets_preds.groupby([tweets_preds['referred_to'],tweets_preds['date'].map(lambda x: x[0:7])]).count()"
   ]
  },
  {
   "cell_type": "code",
   "execution_count": 10,
   "metadata": {},
   "outputs": [],
   "source": [
    "with pd.ExcelWriter('./../analysis/tweets_counts_by_subject.xlsx') as writer:\n",
    "    tweets_count_total_year['number of tweets'].to_excel(writer, sheet_name= 'total - year')\n",
    "    tweets_count_categories_year['number of tweets'].to_excel(writer, sheet_name= 'by categories - year ')\n",
    "    tweets_count_total_month['number of tweets'].to_excel(writer, sheet_name= 'total - month')\n",
    "    tweets_count_categorie_month['number of tweets'].to_excel(writer, sheet_name= 'by categories - month')"
   ]
  },
  {
   "cell_type": "markdown",
   "metadata": {},
   "source": [
    "## Number of negative tweets and by category (Frustration)"
   ]
  },
  {
   "cell_type": "code",
   "execution_count": 3,
   "metadata": {},
   "outputs": [],
   "source": [
    "tweets_preds = pd.read_csv('./../data/texts/colombian_valid_tweets_tone_preds_wwm.csv')"
   ]
  },
  {
   "cell_type": "code",
   "execution_count": 31,
   "metadata": {},
   "outputs": [],
   "source": [
    "tweets_preds = tweets_preds[tweets_preds['tone']=='negative']\n",
    "tweets_preds['number of tweets'] = 1\n",
    "tweets_preds['bimonth'] = tweets_preds['date'].map(lambda x: x[0:4])+'-'+tweets_preds['date'].map(lambda x: str(math.ceil(int(x[5:7])/2)).zfill(2))"
   ]
  },
  {
   "cell_type": "code",
   "execution_count": 33,
   "metadata": {},
   "outputs": [],
   "source": [
    "# by year\n",
    "tweets_count_total_year = tweets_preds.groupby(tweets_preds['date'].map(lambda x: x[0:4])).count()\n",
    "tweets_count_categories_year = tweets_preds.groupby([tweets_preds['referred_to'],tweets_preds['date'].map(lambda x: x[0:4])]).count()\n",
    "# by month\n",
    "tweets_count_total_month = tweets_preds.groupby(tweets_preds['date'].map(lambda x: x[0:7])).count()\n",
    "tweets_count_categorie_month = tweets_preds.groupby([tweets_preds['referred_to'],tweets_preds['date'].map(lambda x: x[0:7])]).count()"
   ]
  },
  {
   "cell_type": "code",
   "execution_count": 34,
   "metadata": {},
   "outputs": [],
   "source": [
    "# by bimonth\n",
    "tweets_count_total_bimonth = tweets_preds.groupby(tweets_preds['bimonth'].map(lambda x: x[0:7])).count()\n",
    "tweets_count_categorie_bimonth = tweets_preds.groupby([tweets_preds['referred_to'],tweets_preds['bimonth'].map(lambda x: x[0:7])]).count()"
   ]
  },
  {
   "cell_type": "code",
   "execution_count": 39,
   "metadata": {},
   "outputs": [
    {
     "name": "stderr",
     "output_type": "stream",
     "text": [
      "C:\\Users\\jmart130\\AppData\\Local\\Temp\\ipykernel_10560\\2669853010.py:6: FutureWarning: Setting the `book` attribute is not part of the public API, usage can give unexpected or corrupted results and will be removed in a future version\n",
      "  writer.book = book\n"
     ]
    }
   ],
   "source": [
    "export_path = './../analysis/negative_tweets_counts_by_subject.xlsx'\n",
    "from openpyxl import load_workbook\n",
    "book = load_workbook(export_path)\n",
    "\n",
    "with pd.ExcelWriter(export_path, engine = 'openpyxl') as writer:\n",
    "    writer.book = book\n",
    "    # tweets_count_total_year['number of tweets'].to_excel(writer, sheet_name= 'total - year')\n",
    "    # tweets_count_total_month['number of tweets'].to_excel(writer, sheet_name= 'total - month')\n",
    "    # tweets_count_categories_year['number of tweets'].to_excel(writer, sheet_name= 'by categories - year ')\n",
    "    # tweets_count_categorie_month['number of tweets'].to_excel(writer, sheet_name= 'by categories - month')\n",
    "    # tweets_count_categorie_bimonth['number of tweets'].to_excel(writer, sheet_name= 'by categories - bimonth')"
   ]
  },
  {
   "cell_type": "markdown",
   "metadata": {},
   "source": [
    "## Tone frequency (With and without retweets)"
   ]
  },
  {
   "cell_type": "code",
   "execution_count": 63,
   "metadata": {},
   "outputs": [],
   "source": [
    "tweets_preds = pd.read_csv('./../data/texts/colombian_valid_tweets_negativeness_preds_multi.csv')"
   ]
  },
  {
   "cell_type": "code",
   "execution_count": 64,
   "metadata": {},
   "outputs": [],
   "source": [
    "tweets_organized_tone = []\n",
    "for idx,row in tweets_preds.iterrows():\n",
    "    if row['tone'] == 'negative':\n",
    "        row['tone'] = row['negativeness']\n",
    "    tweets_organized_tone.append(row)"
   ]
  },
  {
   "cell_type": "code",
   "execution_count": 65,
   "metadata": {},
   "outputs": [],
   "source": [
    "tweets_organized_tone =pd.DataFrame.from_dict(tweets_organized_tone)\n",
    "tweets_organized_tone['number of tweets'] = 1\n",
    "tweets_organized_tone['bimonth'] = tweets_organized_tone['date'].map(lambda x: x[0:4])+'-'+tweets_organized_tone['date'].map(lambda x: str(math.ceil(int(x[5:7])/2)).zfill(2))"
   ]
  },
  {
   "cell_type": "markdown",
   "metadata": {},
   "source": [
    "### With retweets"
   ]
  },
  {
   "cell_type": "code",
   "execution_count": 68,
   "metadata": {},
   "outputs": [],
   "source": [
    "# by year\n",
    "tweets_count_total_year = tweets_organized_tone.groupby([tweets_organized_tone['tone'],tweets_organized_tone['date'].map(lambda x: x[0:4])]).count()\n",
    "\n",
    "# by month\n",
    "tweets_count_total_month = tweets_organized_tone.groupby([tweets_organized_tone['tone'],tweets_organized_tone['date'].map(lambda x: x[0:7])]).count()\n",
    "\n",
    "# by bimonth\n",
    "tweets_count_total_bimonth = tweets_organized_tone.groupby([tweets_organized_tone['tone'],tweets_organized_tone['bimonth']]).count()"
   ]
  },
  {
   "cell_type": "code",
   "execution_count": 71,
   "metadata": {},
   "outputs": [
    {
     "name": "stderr",
     "output_type": "stream",
     "text": [
      "C:\\Users\\jmart130\\AppData\\Local\\Temp\\ipykernel_10560\\2738424403.py:5: FutureWarning: Setting the `book` attribute is not part of the public API, usage can give unexpected or corrupted results and will be removed in a future version\n",
      "  writer.book = book\n"
     ]
    }
   ],
   "source": [
    "export_path = './../analysis/tone_frequencies.xlsx'\n",
    "book = load_workbook(export_path)\n",
    "\n",
    "with pd.ExcelWriter(export_path, engine = 'openpyxl') as writer:\n",
    "    writer.book = book\n",
    "    tweets_count_total_year['number of tweets'].to_excel(writer, sheet_name= 'yearly')\n",
    "    tweets_count_total_month['number of tweets'].to_excel(writer, sheet_name= 'monthly')\n",
    "    tweets_count_total_bimonth['number of tweets'].to_excel(writer, sheet_name= 'bimonthly')"
   ]
  },
  {
   "cell_type": "markdown",
   "metadata": {},
   "source": [
    "### Without retweets"
   ]
  },
  {
   "cell_type": "code",
   "execution_count": 73,
   "metadata": {},
   "outputs": [],
   "source": [
    "tweets_organized_tone_nort = tweets_organized_tone.drop_duplicates(subset = 'text', inplace=False)"
   ]
  },
  {
   "cell_type": "code",
   "execution_count": 76,
   "metadata": {},
   "outputs": [],
   "source": [
    "# by year\n",
    "tweets_count_total_year = tweets_organized_tone_nort.groupby([tweets_organized_tone_nort['tone'],tweets_organized_tone_nort['date'].map(lambda x: x[0:4])]).count()\n",
    "\n",
    "# by month\n",
    "tweets_count_total_month = tweets_organized_tone_nort.groupby([tweets_organized_tone_nort['tone'],tweets_organized_tone_nort['date'].map(lambda x: x[0:7])]).count()\n",
    "\n",
    "# by bimonth\n",
    "tweets_count_total_bimonth = tweets_organized_tone_nort.groupby([tweets_organized_tone_nort['tone'],tweets_organized_tone_nort['bimonth']]).count()"
   ]
  },
  {
   "cell_type": "code",
   "execution_count": 77,
   "metadata": {},
   "outputs": [
    {
     "name": "stderr",
     "output_type": "stream",
     "text": [
      "C:\\Users\\jmart130\\AppData\\Local\\Temp\\ipykernel_10560\\579343795.py:5: FutureWarning: Setting the `book` attribute is not part of the public API, usage can give unexpected or corrupted results and will be removed in a future version\n",
      "  writer.book = book\n"
     ]
    }
   ],
   "source": [
    "export_path = './../analysis/tone_frequencies.xlsx'\n",
    "book = load_workbook(export_path)\n",
    "\n",
    "with pd.ExcelWriter(export_path, engine = 'openpyxl') as writer:\n",
    "    writer.book = book\n",
    "    tweets_count_total_year['number of tweets'].to_excel(writer, sheet_name= 'yearly - no RT')\n",
    "    tweets_count_total_month['number of tweets'].to_excel(writer, sheet_name= 'monthly - no RT')\n",
    "    tweets_count_total_bimonth['number of tweets'].to_excel(writer, sheet_name= 'bimonthly - no RT')"
   ]
  }
 ],
 "metadata": {
  "kernelspec": {
   "display_name": "Python 3.9.13 64-bit (microsoft store)",
   "language": "python",
   "name": "python3"
  },
  "language_info": {
   "codemirror_mode": {
    "name": "ipython",
    "version": 3
   },
   "file_extension": ".py",
   "mimetype": "text/x-python",
   "name": "python",
   "nbconvert_exporter": "python",
   "pygments_lexer": "ipython3",
   "version": "3.9.13"
  },
  "orig_nbformat": 4,
  "vscode": {
   "interpreter": {
    "hash": "ff4c72cb86a1db53a01b4668f2d4d3b8bfc875dfc5277ab14e6ce4b5493eba8b"
   }
  }
 },
 "nbformat": 4,
 "nbformat_minor": 2
}
