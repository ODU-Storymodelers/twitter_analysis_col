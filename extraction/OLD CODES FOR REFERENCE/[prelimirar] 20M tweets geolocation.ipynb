{
 "cells": [
  {
   "cell_type": "code",
   "execution_count": 1,
   "id": "c5b8f049",
   "metadata": {},
   "outputs": [],
   "source": [
    "from searchtweets import load_credentials, collect_results\n",
    "import pandas as pd\n",
    "import json\n",
    "from geopy.geocoders import Nominatim\n",
    "from geopy.extra.rate_limiter import RateLimiter\n",
    "import time\n",
    "import datetime\n",
    "from pandas._libs.tslibs.timestamps import Timestamp\n",
    "import pickle\n",
    "\n",
    "import preprocessing_functions as pfunctions\n",
    "#import warnings\n",
    "#warnings.filterwarnings('ignore')"
   ]
  },
  {
   "cell_type": "markdown",
   "id": "11ad25b9",
   "metadata": {},
   "source": [
    "# Extraction for all the years"
   ]
  },
  {
   "cell_type": "code",
   "execution_count": 3,
   "id": "ed76d8c5",
   "metadata": {},
   "outputs": [],
   "source": [
    "query = {}\n",
    "query['query'] = '(((venezolano OR venezolana OR venezolanos OR venezolanas OR venezuela OR vzla OR vnzla) (migrante OR migrantes OR migracion)) OR veneco OR veneca OR venecos OR venecas)'\n",
    "query['max_results'] = 500\n",
    "search_args = load_credentials(filename=\"./.twitter_keys.yaml\",\n",
    "                 yaml_key=\"search_tweets_api\",\n",
    "                 env_overwrite=False)"
   ]
  },
  {
   "cell_type": "code",
   "execution_count": 5,
   "id": "82aad8ea",
   "metadata": {},
   "outputs": [],
   "source": [
    "n_tweets = 250000\n",
    "start_year = 2014\n",
    "end_year =2021"
   ]
  },
  {
   "cell_type": "code",
   "execution_count": null,
   "id": "00814cbc",
   "metadata": {},
   "outputs": [],
   "source": [
    "start = dt.date(2014,1,1)\n",
    "end = dt.date(2014,1,31)\n",
    "data_ranges = pd.date_range(start= start, end = end, freq=\"M\")\n",
    "\n",
    "for date_end in data_ranges:\n",
    "    date_start = datetime.date(date_end.year,date_end.month,1)\n",
    "    date_start = Timestamp(date_start)\n",
    "    print(str(date_start.asm8)+\" \"+str(date_end.asm8))"
   ]
  },
  {
   "cell_type": "code",
   "execution_count": 9,
   "id": "cc52aa50",
   "metadata": {},
   "outputs": [
    {
     "name": "stdout",
     "output_type": "stream",
     "text": [
      "Exported 77342 tweets at: ./Tweets/2021-09.json\n"
     ]
    }
   ],
   "source": [
    "for i in range(start_year, end_year+1):\n",
    "    for j in range(1,13):\n",
    "        i_str = str(i)\n",
    "        j_str = str(j).zfill(2)\n",
    "        j1_str = str(j+1).zfill(2)\n",
    "            \n",
    "        #Query time\n",
    "        start_time = i_str+'-'+j_str+'-01T00:00:00.0-05:00'\n",
    "        if (j==9):\n",
    "            end_time = i_str+'-'+j_str+'-22T00:00:00.0-05:00'\n",
    "        else:\n",
    "            end_time = i_str+'-'+j1_str+'-01T00:00:00.0-05:00'\n",
    "        query['start_time'] = start_time\n",
    "        query['end_time'] = end_time\n",
    "        \n",
    "        #obtaining tweets\n",
    "        tweets = collect_results(query,\n",
    "                         max_tweets=n_tweets, #Número real de tweets a extraer\n",
    "                         result_stream_args=search_args)\n",
    "        #json exporting\n",
    "        json_path = './Tweets/'+i_str+'-'+j_str+'.json'\n",
    "        out_file = open(json_path, \"w\") \n",
    "        json.dump(tweets, out_file) \n",
    "        out_file.close()\n",
    "        \n",
    "        #measuring the number of tweets per month\n",
    "        n_ij = 0\n",
    "        for k in range(len(tweets)):\n",
    "            n_ij = n_ij+len(tweets[k]['data'])\n",
    "        #n_list.insert(1000,n_ij)\n",
    "        #n_total=sum(n_list)\n",
    "        \n",
    "        print(\"Exported \"+str(n_ij)+' tweets at: '+json_path)"
   ]
  },
  {
   "cell_type": "markdown",
   "id": "0f7adb5f",
   "metadata": {},
   "source": [
    "#### *Note: extracted up to Sept/22/2021*"
   ]
  },
  {
   "cell_type": "code",
   "execution_count": 22,
   "id": "bbce6fdc",
   "metadata": {},
   "outputs": [
    {
     "ename": "FileNotFoundError",
     "evalue": "[Errno 2] No such file or directory: './Tweets/2021-10.json'",
     "output_type": "error",
     "traceback": [
      "\u001b[1;31m---------------------------------------------------------------------------\u001b[0m",
      "\u001b[1;31mFileNotFoundError\u001b[0m                         Traceback (most recent call last)",
      "\u001b[1;32m<ipython-input-22-4e3b0d1ae20b>\u001b[0m in \u001b[0;36m<module>\u001b[1;34m\u001b[0m\n\u001b[0;32m      4\u001b[0m         \u001b[0mi_str\u001b[0m \u001b[1;33m=\u001b[0m \u001b[0mstr\u001b[0m\u001b[1;33m(\u001b[0m\u001b[0mi\u001b[0m\u001b[1;33m)\u001b[0m\u001b[1;33m\u001b[0m\u001b[1;33m\u001b[0m\u001b[0m\n\u001b[0;32m      5\u001b[0m         \u001b[0mj_str\u001b[0m \u001b[1;33m=\u001b[0m \u001b[0mstr\u001b[0m\u001b[1;33m(\u001b[0m\u001b[0mj\u001b[0m\u001b[1;33m)\u001b[0m\u001b[1;33m.\u001b[0m\u001b[0mzfill\u001b[0m\u001b[1;33m(\u001b[0m\u001b[1;36m2\u001b[0m\u001b[1;33m)\u001b[0m\u001b[1;33m\u001b[0m\u001b[1;33m\u001b[0m\u001b[0m\n\u001b[1;32m----> 6\u001b[1;33m         \u001b[0mm\u001b[0m \u001b[1;33m=\u001b[0m \u001b[0mjson\u001b[0m\u001b[1;33m.\u001b[0m\u001b[0mload\u001b[0m\u001b[1;33m(\u001b[0m\u001b[0mopen\u001b[0m\u001b[1;33m(\u001b[0m\u001b[1;34m\"./Tweets/\"\u001b[0m\u001b[1;33m+\u001b[0m\u001b[0mi_str\u001b[0m\u001b[1;33m+\u001b[0m\u001b[1;34m\"-\"\u001b[0m\u001b[1;33m+\u001b[0m\u001b[0mj_str\u001b[0m\u001b[1;33m+\u001b[0m\u001b[1;34m\".json\"\u001b[0m\u001b[1;33m)\u001b[0m\u001b[1;33m)\u001b[0m\u001b[1;33m\u001b[0m\u001b[1;33m\u001b[0m\u001b[0m\n\u001b[0m\u001b[0;32m      7\u001b[0m         \u001b[0mn_ij\u001b[0m \u001b[1;33m=\u001b[0m \u001b[1;36m0\u001b[0m\u001b[1;33m\u001b[0m\u001b[1;33m\u001b[0m\u001b[0m\n\u001b[0;32m      8\u001b[0m         \u001b[1;32mfor\u001b[0m \u001b[0mk\u001b[0m \u001b[1;32min\u001b[0m \u001b[0mrange\u001b[0m\u001b[1;33m(\u001b[0m\u001b[0mlen\u001b[0m\u001b[1;33m(\u001b[0m\u001b[0mm\u001b[0m\u001b[1;33m)\u001b[0m\u001b[1;33m)\u001b[0m\u001b[1;33m:\u001b[0m\u001b[1;33m\u001b[0m\u001b[1;33m\u001b[0m\u001b[0m\n",
      "\u001b[1;31mFileNotFoundError\u001b[0m: [Errno 2] No such file or directory: './Tweets/2021-10.json'"
     ]
    }
   ],
   "source": [
    "n_list = []\n",
    "for i in range(2014, 2022):\n",
    "    for j in range(1,13):\n",
    "        i_str = str(i)\n",
    "        j_str = str(j).zfill(2)\n",
    "        m = json.load(open(\"./Tweets/\"+i_str+\"-\"+j_str+\".json\"))\n",
    "        n_ij = 0\n",
    "        for k in range(len(m)):\n",
    "            n_ij = n_ij+len(m[k]['data'])\n",
    "        n_list.insert(1000,n_ij)\n",
    "        n_total=sum(n_list)\n",
    "sum(n_list)"
   ]
  },
  {
   "cell_type": "markdown",
   "id": "763a9e31",
   "metadata": {},
   "source": [
    "# JSON importing all tweets and converting to dataframe"
   ]
  },
  {
   "cell_type": "markdown",
   "id": "731c119b",
   "metadata": {},
   "source": [
    "## User tags with tweepy"
   ]
  },
  {
   "cell_type": "code",
   "execution_count": 2,
   "id": "e9f2fe64",
   "metadata": {},
   "outputs": [],
   "source": [
    "import tweepy\n",
    "consumer_key = \"OeGkvUry0wD6vA1S5rSxMQVEC\" #1\n",
    "consumer_secret = \"6YAlccLnr5C7zASOMEoFRBqqlxwzGeaHM5PTlXGdZ3an80dfJL\" #2\n",
    "access_token = \"126698065-NlOxKEjkymKwZae0kGN5dx2rpxkGZX4CFf5bG3pG\" #3\n",
    "access_token_secret = \"KLc2hdBXvJJEPXpJZ9Is1oX7u3R55bARO8Q9y9jyTFybf\" #4\n",
    "\n",
    "def tweet_json_find (search_id):\n",
    "    test_status = api.get_status(search_id, tweet_mode='extended')._json \n",
    "    return(test_status)\n",
    "    \n",
    "# User data\n",
    "auth = tweepy.OAuthHandler(consumer_key, consumer_secret)\n",
    "auth.set_access_token(access_token, access_token_secret)\n",
    "\n",
    "# With this object we will call the Twitter API\n",
    "api = tweepy.API(auth,\n",
    "                 wait_on_rate_limit=True)\n",
    "                 "
   ]
  },
  {
   "cell_type": "code",
   "execution_count": 3,
   "id": "e18150bc",
   "metadata": {},
   "outputs": [],
   "source": [
    "\n"
   ]
  },
  {
   "cell_type": "markdown",
   "id": "75298962",
   "metadata": {},
   "source": [
    "## Geocoding function"
   ]
  },
  {
   "cell_type": "code",
   "execution_count": 4,
   "id": "d7fa8d19",
   "metadata": {},
   "outputs": [],
   "source": [
    "geocoder = RateLimiter(Nominatim(user_agent='tweets_project').geocode, min_delay_seconds=1/60,\n",
    " return_value_on_exception=\"no_geolocation\", max_retries=0,swallow_exceptions=False)"
   ]
  },
  {
   "cell_type": "code",
   "execution_count": 1,
   "id": "1a149796",
   "metadata": {
    "scrolled": true
   },
   "outputs": [
    {
     "name": "stderr",
     "output_type": "stream",
     "text": [
      "\n",
      "KeyboardInterrupt\n",
      "\n"
     ]
    }
   ],
   "source": [
    "data_ranges = date_range_gen(2020,5, 2020,5)\n",
    "\n",
    "for date_i in data_ranges:\n",
    "    tweets_dict = []\n",
    "    startTime = time.time()\n",
    "    \n",
    "    i_str = str(date_i.year)\n",
    "    j_str = str(date_i.month).zfill(2)\n",
    "    m = json.load(open(\"./Tweets/\"+i_str+\"-\"+j_str+\".json\")) #open every json file\n",
    "        \n",
    "    for k in range(len(m)):\n",
    "        for l in range(len(m[k]['data'])):\n",
    "            id_i = m[k]['data'][l]['id']    \n",
    "            location_i = \"no_location\"\n",
    "  \n",
    "            try:\n",
    "                json_i = tweet_loc_find(id_i)\n",
    "                text_i = json_i['full_text']\n",
    "                location_i = json_i['user']['location']   \n",
    "            except Exception as e:\n",
    "                json_i = e\n",
    "                text_i = m[k]['data'][l]['text']\n",
    "            \n",
    "            if location_i != \"no_location\":\n",
    "                try: \n",
    "                    location_i = geocoder(location_i)\n",
    "                except Exception as e:\n",
    "                    pass\n",
    "             \n",
    "            tweets_dict.append({'Id':id_i, 'text':text_i, 'json':json_i, 'location':location_i})\n",
    "\n",
    "        print(\"Extracted info from\", str(len(tweets_dict)), 'tweets')\n",
    "        pfunctions.print_progress(k+1,len(m),len(m[k]['data'])) # Progress info (optional)\n",
    "    \n",
    "    executionTime = (time.time() - startTime)\n",
    "\n",
    "    times_df.loc[len(times_df['date'])]=[(i_str+\"-\"+j_str),executionTime]\n",
    "    tweets_df = pd.DataFrame.from_dict(tweets_dict)\n",
    "    pickle_out = open(\"./Tweets/df\"+i_str+\"-\"+j_str+\".pickle\",\"wb\")\n",
    "    pickle.dump(tweets_df,pickle_out)\n",
    "    pickle_out.close\n",
    "    print(str(date_i),\" correctly converted to dataframe and exported in \",round(executionTime,4),\" sg\", sep = \"\")\n",
    "    \n",
    "times_df.to_csv('./Tweets/times.csv', index = False)"
   ]
  },
  {
   "cell_type": "code",
   "execution_count": 5,
   "id": "f7c5fc2d",
   "metadata": {},
   "outputs": [],
   "source": [
    "times_df = pd.read_csv('./Tweets/times.csv')"
   ]
  },
  {
   "cell_type": "code",
   "execution_count": 6,
   "id": "1a149796",
   "metadata": {
    "scrolled": true
   },
   "outputs": [
    {
     "name": "stdout",
     "output_type": "stream",
     "text": [
      "Extracted info from 462 tweets\n",
      "For this page, converted 462 tweets: 0.27% of the month in total (pred remaining: 54.54 h)\n"
     ]
    },
    {
     "name": "stderr",
     "output_type": "stream",
     "text": [
      "Rate limit reached. Sleeping for: 328\n"
     ]
    },
    {
     "name": "stdout",
     "output_type": "stream",
     "text": [
      "Extracted info from 931 tweets\n",
      "For this page, converted 469 tweets: 0.53% of the month in total (pred remaining: 54.4 h)\n",
      "Extracted info from 1412 tweets\n",
      "For this page, converted 481 tweets: 0.8% of the month in total (pred remaining: 54.25 h)\n"
     ]
    },
    {
     "name": "stderr",
     "output_type": "stream",
     "text": [
      "Rate limit reached. Sleeping for: 402\n"
     ]
    },
    {
     "name": "stdout",
     "output_type": "stream",
     "text": [
      "Extracted info from 1902 tweets\n",
      "For this page, converted 490 tweets: 1.07% of the month in total (pred remaining: 54.1 h)\n",
      "Extracted info from 2386 tweets\n",
      "For this page, converted 484 tweets: 1.33% of the month in total (pred remaining: 53.96 h)\n"
     ]
    },
    {
     "name": "stderr",
     "output_type": "stream",
     "text": [
      "Rate limit reached. Sleeping for: 425\n"
     ]
    },
    {
     "name": "stdout",
     "output_type": "stream",
     "text": [
      "Extracted info from 2857 tweets\n",
      "For this page, converted 471 tweets: 1.6% of the month in total (pred remaining: 53.81 h)\n",
      "Extracted info from 3337 tweets\n",
      "For this page, converted 480 tweets: 1.87% of the month in total (pred remaining: 53.67 h)\n"
     ]
    },
    {
     "name": "stderr",
     "output_type": "stream",
     "text": [
      "Rate limit reached. Sleeping for: 445\n"
     ]
    },
    {
     "name": "stdout",
     "output_type": "stream",
     "text": [
      "Extracted info from 3824 tweets\n",
      "For this page, converted 487 tweets: 2.13% of the month in total (pred remaining: 53.52 h)\n",
      "Extracted info from 4321 tweets\n",
      "For this page, converted 497 tweets: 2.4% of the month in total (pred remaining: 53.38 h)\n"
     ]
    },
    {
     "name": "stderr",
     "output_type": "stream",
     "text": [
      "Rate limit reached. Sleeping for: 508\n"
     ]
    },
    {
     "name": "stdout",
     "output_type": "stream",
     "text": [
      "Extracted info from 4818 tweets\n",
      "For this page, converted 497 tweets: 2.67% of the month in total (pred remaining: 53.23 h)\n",
      "Extracted info from 5311 tweets\n",
      "For this page, converted 493 tweets: 2.93% of the month in total (pred remaining: 53.08 h)\n"
     ]
    },
    {
     "name": "stderr",
     "output_type": "stream",
     "text": [
      "Rate limit reached. Sleeping for: 497\n"
     ]
    },
    {
     "name": "stdout",
     "output_type": "stream",
     "text": [
      "Extracted info from 5809 tweets\n",
      "For this page, converted 498 tweets: 3.2% of the month in total (pred remaining: 52.94 h)\n"
     ]
    },
    {
     "name": "stderr",
     "output_type": "stream",
     "text": [
      "Rate limit reached. Sleeping for: 498\n"
     ]
    },
    {
     "name": "stdout",
     "output_type": "stream",
     "text": [
      "Extracted info from 6307 tweets\n",
      "For this page, converted 498 tweets: 3.47% of the month in total (pred remaining: 52.79 h)\n",
      "Extracted info from 6805 tweets\n",
      "For this page, converted 498 tweets: 3.73% of the month in total (pred remaining: 52.65 h)\n"
     ]
    },
    {
     "name": "stderr",
     "output_type": "stream",
     "text": [
      "Rate limit reached. Sleeping for: 467\n"
     ]
    },
    {
     "name": "stdout",
     "output_type": "stream",
     "text": [
      "Extracted info from 7300 tweets\n",
      "For this page, converted 495 tweets: 4.0% of the month in total (pred remaining: 52.5 h)\n",
      "Extracted info from 7795 tweets\n",
      "For this page, converted 495 tweets: 4.27% of the month in total (pred remaining: 52.35 h)\n"
     ]
    },
    {
     "name": "stderr",
     "output_type": "stream",
     "text": [
      "Rate limit reached. Sleeping for: 227\n"
     ]
    },
    {
     "name": "stdout",
     "output_type": "stream",
     "text": [
      "Extracted info from 8285 tweets\n",
      "For this page, converted 490 tweets: 4.53% of the month in total (pred remaining: 52.21 h)\n",
      "Extracted info from 8785 tweets\n",
      "For this page, converted 500 tweets: 4.8% of the month in total (pred remaining: 52.06 h)\n"
     ]
    },
    {
     "name": "stderr",
     "output_type": "stream",
     "text": [
      "Rate limit reached. Sleeping for: 261\n"
     ]
    },
    {
     "name": "stdout",
     "output_type": "stream",
     "text": [
      "Extracted info from 9284 tweets\n",
      "For this page, converted 499 tweets: 5.07% of the month in total (pred remaining: 51.92 h)\n",
      "Extracted info from 9771 tweets\n",
      "For this page, converted 487 tweets: 5.33% of the month in total (pred remaining: 51.77 h)\n"
     ]
    },
    {
     "name": "stderr",
     "output_type": "stream",
     "text": [
      "Rate limit reached. Sleeping for: 460\n"
     ]
    },
    {
     "name": "stdout",
     "output_type": "stream",
     "text": [
      "Extracted info from 10259 tweets\n",
      "For this page, converted 488 tweets: 5.6% of the month in total (pred remaining: 51.62 h)\n",
      "Extracted info from 10752 tweets\n",
      "For this page, converted 493 tweets: 5.87% of the month in total (pred remaining: 51.48 h)\n"
     ]
    },
    {
     "name": "stderr",
     "output_type": "stream",
     "text": [
      "Rate limit reached. Sleeping for: 401\n"
     ]
    },
    {
     "name": "stdout",
     "output_type": "stream",
     "text": [
      "Extracted info from 11247 tweets\n",
      "For this page, converted 495 tweets: 6.13% of the month in total (pred remaining: 51.33 h)\n"
     ]
    },
    {
     "name": "stderr",
     "output_type": "stream",
     "text": [
      "Rate limit reached. Sleeping for: 404\n"
     ]
    },
    {
     "name": "stdout",
     "output_type": "stream",
     "text": [
      "Extracted info from 11737 tweets\n",
      "For this page, converted 490 tweets: 6.4% of the month in total (pred remaining: 51.19 h)\n",
      "Extracted info from 12206 tweets\n",
      "For this page, converted 469 tweets: 6.67% of the month in total (pred remaining: 51.04 h)\n"
     ]
    },
    {
     "name": "stderr",
     "output_type": "stream",
     "text": [
      "Rate limit reached. Sleeping for: 450\n"
     ]
    },
    {
     "name": "stdout",
     "output_type": "stream",
     "text": [
      "Extracted info from 12696 tweets\n",
      "For this page, converted 490 tweets: 6.93% of the month in total (pred remaining: 50.9 h)\n",
      "Extracted info from 13171 tweets\n",
      "For this page, converted 475 tweets: 7.2% of the month in total (pred remaining: 50.75 h)\n"
     ]
    },
    {
     "name": "stderr",
     "output_type": "stream",
     "text": [
      "Rate limit reached. Sleeping for: 458\n"
     ]
    },
    {
     "name": "stdout",
     "output_type": "stream",
     "text": [
      "Extracted info from 13664 tweets\n",
      "For this page, converted 493 tweets: 7.47% of the month in total (pred remaining: 50.6 h)\n",
      "Extracted info from 14155 tweets\n",
      "For this page, converted 491 tweets: 7.73% of the month in total (pred remaining: 50.46 h)\n"
     ]
    },
    {
     "name": "stderr",
     "output_type": "stream",
     "text": [
      "Rate limit reached. Sleeping for: 438\n"
     ]
    },
    {
     "name": "stdout",
     "output_type": "stream",
     "text": [
      "Extracted info from 14642 tweets\n",
      "For this page, converted 487 tweets: 8.0% of the month in total (pred remaining: 50.31 h)\n",
      "Extracted info from 15115 tweets\n",
      "For this page, converted 473 tweets: 8.27% of the month in total (pred remaining: 50.17 h)\n"
     ]
    },
    {
     "name": "stderr",
     "output_type": "stream",
     "text": [
      "Rate limit reached. Sleeping for: 456\n"
     ]
    },
    {
     "name": "stdout",
     "output_type": "stream",
     "text": [
      "Extracted info from 15613 tweets\n",
      "For this page, converted 498 tweets: 8.53% of the month in total (pred remaining: 50.02 h)\n",
      "Extracted info from 16109 tweets\n",
      "For this page, converted 496 tweets: 8.8% of the month in total (pred remaining: 49.88 h)\n"
     ]
    },
    {
     "name": "stderr",
     "output_type": "stream",
     "text": [
      "Rate limit reached. Sleeping for: 454\n"
     ]
    },
    {
     "name": "stdout",
     "output_type": "stream",
     "text": [
      "Extracted info from 16604 tweets\n",
      "For this page, converted 495 tweets: 9.07% of the month in total (pred remaining: 49.73 h)\n",
      "Extracted info from 17100 tweets\n",
      "For this page, converted 496 tweets: 9.33% of the month in total (pred remaining: 49.58 h)\n"
     ]
    },
    {
     "name": "stderr",
     "output_type": "stream",
     "text": [
      "Rate limit reached. Sleeping for: 455\n"
     ]
    },
    {
     "name": "stdout",
     "output_type": "stream",
     "text": [
      "Extracted info from 17598 tweets\n",
      "For this page, converted 498 tweets: 9.6% of the month in total (pred remaining: 49.44 h)\n"
     ]
    },
    {
     "name": "stderr",
     "output_type": "stream",
     "text": [
      "Rate limit reached. Sleeping for: 444\n"
     ]
    },
    {
     "name": "stdout",
     "output_type": "stream",
     "text": [
      "Extracted info from 18095 tweets\n",
      "For this page, converted 497 tweets: 9.87% of the month in total (pred remaining: 49.29 h)\n",
      "Extracted info from 18590 tweets\n",
      "For this page, converted 495 tweets: 10.13% of the month in total (pred remaining: 49.15 h)\n"
     ]
    },
    {
     "name": "stderr",
     "output_type": "stream",
     "text": [
      "Rate limit reached. Sleeping for: 425\n"
     ]
    },
    {
     "name": "stdout",
     "output_type": "stream",
     "text": [
      "Extracted info from 19085 tweets\n",
      "For this page, converted 495 tweets: 10.4% of the month in total (pred remaining: 49.0 h)\n",
      "Extracted info from 19573 tweets\n",
      "For this page, converted 488 tweets: 10.67% of the month in total (pred remaining: 48.85 h)\n",
      "Extracted info from 20066 tweets\n",
      "For this page, converted 493 tweets: 10.93% of the month in total (pred remaining: 48.71 h)\n",
      "Extracted info from 20557 tweets\n",
      "For this page, converted 491 tweets: 11.2% of the month in total (pred remaining: 48.56 h)\n",
      "Extracted info from 21045 tweets\n",
      "For this page, converted 488 tweets: 11.47% of the month in total (pred remaining: 48.42 h)\n",
      "Extracted info from 21528 tweets\n",
      "For this page, converted 483 tweets: 11.73% of the month in total (pred remaining: 48.27 h)\n",
      "Extracted info from 22019 tweets\n",
      "For this page, converted 491 tweets: 12.0% of the month in total (pred remaining: 48.12 h)\n",
      "Extracted info from 22510 tweets\n",
      "For this page, converted 491 tweets: 12.27% of the month in total (pred remaining: 47.98 h)\n",
      "Extracted info from 23003 tweets\n",
      "For this page, converted 493 tweets: 12.53% of the month in total (pred remaining: 47.83 h)\n",
      "Extracted info from 23491 tweets\n",
      "For this page, converted 488 tweets: 12.8% of the month in total (pred remaining: 47.69 h)\n",
      "Extracted info from 23975 tweets\n",
      "For this page, converted 484 tweets: 13.07% of the month in total (pred remaining: 47.54 h)\n",
      "Extracted info from 24464 tweets\n",
      "For this page, converted 489 tweets: 13.33% of the month in total (pred remaining: 47.4 h)\n",
      "Extracted info from 24958 tweets\n",
      "For this page, converted 494 tweets: 13.6% of the month in total (pred remaining: 47.25 h)\n",
      "Extracted info from 25450 tweets\n",
      "For this page, converted 492 tweets: 13.87% of the month in total (pred remaining: 47.1 h)\n",
      "Extracted info from 25945 tweets\n",
      "For this page, converted 495 tweets: 14.13% of the month in total (pred remaining: 46.96 h)\n",
      "Extracted info from 26442 tweets\n",
      "For this page, converted 497 tweets: 14.4% of the month in total (pred remaining: 46.81 h)\n",
      "Extracted info from 26935 tweets\n",
      "For this page, converted 493 tweets: 14.67% of the month in total (pred remaining: 46.67 h)\n",
      "Extracted info from 27430 tweets\n",
      "For this page, converted 495 tweets: 14.93% of the month in total (pred remaining: 46.52 h)\n",
      "Extracted info from 27924 tweets\n",
      "For this page, converted 494 tweets: 15.2% of the month in total (pred remaining: 46.38 h)\n",
      "Extracted info from 28415 tweets\n",
      "For this page, converted 491 tweets: 15.47% of the month in total (pred remaining: 46.23 h)\n",
      "Extracted info from 28902 tweets\n",
      "For this page, converted 487 tweets: 15.73% of the month in total (pred remaining: 46.08 h)\n",
      "Extracted info from 29395 tweets\n",
      "For this page, converted 493 tweets: 16.0% of the month in total (pred remaining: 45.94 h)\n",
      "Extracted info from 29884 tweets\n",
      "For this page, converted 489 tweets: 16.27% of the month in total (pred remaining: 45.79 h)\n",
      "Extracted info from 30368 tweets\n",
      "For this page, converted 484 tweets: 16.53% of the month in total (pred remaining: 45.65 h)\n",
      "Extracted info from 30853 tweets\n",
      "For this page, converted 485 tweets: 16.8% of the month in total (pred remaining: 45.5 h)\n",
      "Extracted info from 31335 tweets\n",
      "For this page, converted 482 tweets: 17.07% of the month in total (pred remaining: 45.35 h)\n",
      "Extracted info from 31818 tweets\n",
      "For this page, converted 483 tweets: 17.33% of the month in total (pred remaining: 45.21 h)\n",
      "Extracted info from 32308 tweets\n",
      "For this page, converted 490 tweets: 17.6% of the month in total (pred remaining: 45.06 h)\n",
      "Extracted info from 32801 tweets\n",
      "For this page, converted 493 tweets: 17.87% of the month in total (pred remaining: 44.92 h)\n",
      "Extracted info from 33292 tweets\n",
      "For this page, converted 491 tweets: 18.13% of the month in total (pred remaining: 44.77 h)\n",
      "Extracted info from 33777 tweets\n",
      "For this page, converted 485 tweets: 18.4% of the month in total (pred remaining: 44.62 h)\n",
      "Extracted info from 34273 tweets\n",
      "For this page, converted 496 tweets: 18.67% of the month in total (pred remaining: 44.48 h)\n",
      "Extracted info from 34761 tweets\n",
      "For this page, converted 488 tweets: 18.93% of the month in total (pred remaining: 44.33 h)\n",
      "Extracted info from 35256 tweets\n",
      "For this page, converted 495 tweets: 19.2% of the month in total (pred remaining: 44.19 h)\n",
      "Extracted info from 35749 tweets\n",
      "For this page, converted 493 tweets: 19.47% of the month in total (pred remaining: 44.04 h)\n",
      "Extracted info from 36244 tweets\n",
      "For this page, converted 495 tweets: 19.73% of the month in total (pred remaining: 43.9 h)\n",
      "Extracted info from 36737 tweets\n",
      "For this page, converted 493 tweets: 20.0% of the month in total (pred remaining: 43.75 h)\n",
      "Extracted info from 37227 tweets\n",
      "For this page, converted 490 tweets: 20.27% of the month in total (pred remaining: 43.6 h)\n",
      "Extracted info from 37722 tweets\n",
      "For this page, converted 495 tweets: 20.53% of the month in total (pred remaining: 43.46 h)\n",
      "Extracted info from 38210 tweets\n",
      "For this page, converted 488 tweets: 20.8% of the month in total (pred remaining: 43.31 h)\n",
      "Extracted info from 38703 tweets\n",
      "For this page, converted 493 tweets: 21.07% of the month in total (pred remaining: 43.17 h)\n",
      "Extracted info from 39192 tweets\n",
      "For this page, converted 489 tweets: 21.33% of the month in total (pred remaining: 43.02 h)\n",
      "Extracted info from 39682 tweets\n",
      "For this page, converted 490 tweets: 21.6% of the month in total (pred remaining: 42.88 h)\n",
      "Extracted info from 40175 tweets\n",
      "For this page, converted 493 tweets: 21.87% of the month in total (pred remaining: 42.73 h)\n",
      "Extracted info from 40667 tweets\n",
      "For this page, converted 492 tweets: 22.13% of the month in total (pred remaining: 42.58 h)\n",
      "Extracted info from 41158 tweets\n",
      "For this page, converted 491 tweets: 22.4% of the month in total (pred remaining: 42.44 h)\n",
      "Extracted info from 41653 tweets\n",
      "For this page, converted 495 tweets: 22.67% of the month in total (pred remaining: 42.29 h)\n",
      "Extracted info from 42147 tweets\n",
      "For this page, converted 494 tweets: 22.93% of the month in total (pred remaining: 42.15 h)\n",
      "Extracted info from 42642 tweets\n",
      "For this page, converted 495 tweets: 23.2% of the month in total (pred remaining: 42.0 h)\n"
     ]
    },
    {
     "name": "stderr",
     "output_type": "stream",
     "text": [
      "Rate limit reached. Sleeping for: 161\n"
     ]
    },
    {
     "name": "stdout",
     "output_type": "stream",
     "text": [
      "Extracted info from 43136 tweets\n",
      "For this page, converted 494 tweets: 23.47% of the month in total (pred remaining: 41.85 h)\n",
      "Extracted info from 43631 tweets\n",
      "For this page, converted 495 tweets: 23.73% of the month in total (pred remaining: 41.71 h)\n",
      "Extracted info from 44126 tweets\n",
      "For this page, converted 495 tweets: 24.0% of the month in total (pred remaining: 41.56 h)\n",
      "Extracted info from 44618 tweets\n",
      "For this page, converted 492 tweets: 24.27% of the month in total (pred remaining: 41.42 h)\n",
      "Extracted info from 45116 tweets\n",
      "For this page, converted 498 tweets: 24.53% of the month in total (pred remaining: 41.27 h)\n",
      "Extracted info from 45612 tweets\n",
      "For this page, converted 496 tweets: 24.8% of the month in total (pred remaining: 41.12 h)\n",
      "Extracted info from 46112 tweets\n",
      "For this page, converted 500 tweets: 25.07% of the month in total (pred remaining: 40.98 h)\n"
     ]
    },
    {
     "name": "stderr",
     "output_type": "stream",
     "text": [
      "Rate limit reached. Sleeping for: 198\n"
     ]
    },
    {
     "name": "stdout",
     "output_type": "stream",
     "text": [
      "Extracted info from 46609 tweets\n",
      "For this page, converted 497 tweets: 25.33% of the month in total (pred remaining: 40.83 h)\n",
      "Extracted info from 47107 tweets\n",
      "For this page, converted 498 tweets: 25.6% of the month in total (pred remaining: 40.69 h)\n"
     ]
    },
    {
     "name": "stderr",
     "output_type": "stream",
     "text": [
      "Rate limit reached. Sleeping for: 368\n"
     ]
    },
    {
     "name": "stdout",
     "output_type": "stream",
     "text": [
      "Extracted info from 47601 tweets\n",
      "For this page, converted 494 tweets: 25.87% of the month in total (pred remaining: 40.54 h)\n",
      "Extracted info from 48093 tweets\n",
      "For this page, converted 492 tweets: 26.13% of the month in total (pred remaining: 40.4 h)\n",
      "Extracted info from 48587 tweets\n",
      "For this page, converted 494 tweets: 26.4% of the month in total (pred remaining: 40.25 h)\n",
      "Extracted info from 49081 tweets\n",
      "For this page, converted 494 tweets: 26.67% of the month in total (pred remaining: 40.1 h)\n",
      "Extracted info from 49576 tweets\n",
      "For this page, converted 495 tweets: 26.93% of the month in total (pred remaining: 39.96 h)\n"
     ]
    },
    {
     "name": "stderr",
     "output_type": "stream",
     "text": [
      "Rate limit reached. Sleeping for: 30\n"
     ]
    },
    {
     "name": "stdout",
     "output_type": "stream",
     "text": [
      "Extracted info from 50072 tweets\n",
      "For this page, converted 496 tweets: 27.2% of the month in total (pred remaining: 39.81 h)\n",
      "Extracted info from 50569 tweets\n",
      "For this page, converted 497 tweets: 27.47% of the month in total (pred remaining: 39.67 h)\n",
      "Extracted info from 51066 tweets\n",
      "For this page, converted 497 tweets: 27.73% of the month in total (pred remaining: 39.52 h)\n",
      "Extracted info from 51562 tweets\n",
      "For this page, converted 496 tweets: 28.0% of the month in total (pred remaining: 39.38 h)\n",
      "Extracted info from 52059 tweets\n",
      "For this page, converted 497 tweets: 28.27% of the month in total (pred remaining: 39.23 h)\n",
      "Extracted info from 52558 tweets\n",
      "For this page, converted 499 tweets: 28.53% of the month in total (pred remaining: 39.08 h)\n",
      "Extracted info from 53056 tweets\n",
      "For this page, converted 498 tweets: 28.8% of the month in total (pred remaining: 38.94 h)\n",
      "Extracted info from 53556 tweets\n",
      "For this page, converted 500 tweets: 29.07% of the month in total (pred remaining: 38.79 h)\n",
      "Extracted info from 54054 tweets\n",
      "For this page, converted 498 tweets: 29.33% of the month in total (pred remaining: 38.65 h)\n"
     ]
    },
    {
     "name": "stderr",
     "output_type": "stream",
     "text": [
      "Rate limit reached. Sleeping for: 234\n"
     ]
    },
    {
     "name": "stdout",
     "output_type": "stream",
     "text": [
      "Extracted info from 54552 tweets\n",
      "For this page, converted 498 tweets: 29.6% of the month in total (pred remaining: 38.5 h)\n",
      "Extracted info from 55049 tweets\n",
      "For this page, converted 497 tweets: 29.87% of the month in total (pred remaining: 38.35 h)\n"
     ]
    },
    {
     "name": "stderr",
     "output_type": "stream",
     "text": [
      "Rate limit reached. Sleeping for: 339\n"
     ]
    },
    {
     "name": "stdout",
     "output_type": "stream",
     "text": [
      "Extracted info from 55548 tweets\n",
      "For this page, converted 499 tweets: 30.13% of the month in total (pred remaining: 38.21 h)\n",
      "Extracted info from 56045 tweets\n",
      "For this page, converted 497 tweets: 30.4% of the month in total (pred remaining: 38.06 h)\n"
     ]
    },
    {
     "name": "stderr",
     "output_type": "stream",
     "text": [
      "Rate limit reached. Sleeping for: 334\n"
     ]
    },
    {
     "name": "stdout",
     "output_type": "stream",
     "text": [
      "Extracted info from 56545 tweets\n",
      "For this page, converted 500 tweets: 30.67% of the month in total (pred remaining: 37.92 h)\n"
     ]
    },
    {
     "name": "stderr",
     "output_type": "stream",
     "text": [
      "Rate limit reached. Sleeping for: 327\n"
     ]
    },
    {
     "name": "stdout",
     "output_type": "stream",
     "text": [
      "Extracted info from 57042 tweets\n",
      "For this page, converted 497 tweets: 30.93% of the month in total (pred remaining: 37.77 h)\n",
      "Extracted info from 57541 tweets\n",
      "For this page, converted 499 tweets: 31.2% of the month in total (pred remaining: 37.62 h)\n"
     ]
    },
    {
     "name": "stderr",
     "output_type": "stream",
     "text": [
      "Rate limit reached. Sleeping for: 379\n"
     ]
    },
    {
     "name": "stdout",
     "output_type": "stream",
     "text": [
      "Extracted info from 58038 tweets\n",
      "For this page, converted 497 tweets: 31.47% of the month in total (pred remaining: 37.48 h)\n",
      "Extracted info from 58536 tweets\n",
      "For this page, converted 498 tweets: 31.73% of the month in total (pred remaining: 37.33 h)\n"
     ]
    },
    {
     "name": "stderr",
     "output_type": "stream",
     "text": [
      "Rate limit reached. Sleeping for: 393\n"
     ]
    },
    {
     "name": "stdout",
     "output_type": "stream",
     "text": [
      "Extracted info from 59027 tweets\n",
      "For this page, converted 491 tweets: 32.0% of the month in total (pred remaining: 37.19 h)\n",
      "Extracted info from 59521 tweets\n",
      "For this page, converted 494 tweets: 32.27% of the month in total (pred remaining: 37.04 h)\n"
     ]
    },
    {
     "name": "stderr",
     "output_type": "stream",
     "text": [
      "Rate limit reached. Sleeping for: 397\n"
     ]
    },
    {
     "name": "stdout",
     "output_type": "stream",
     "text": [
      "Extracted info from 60016 tweets\n",
      "For this page, converted 495 tweets: 32.53% of the month in total (pred remaining: 36.9 h)\n",
      "Extracted info from 60507 tweets\n",
      "For this page, converted 491 tweets: 32.8% of the month in total (pred remaining: 36.75 h)\n"
     ]
    },
    {
     "name": "stderr",
     "output_type": "stream",
     "text": [
      "Rate limit reached. Sleeping for: 434\n"
     ]
    },
    {
     "name": "stdout",
     "output_type": "stream",
     "text": [
      "Extracted info from 60994 tweets\n",
      "For this page, converted 487 tweets: 33.07% of the month in total (pred remaining: 36.6 h)\n",
      "Extracted info from 61474 tweets\n",
      "For this page, converted 480 tweets: 33.33% of the month in total (pred remaining: 36.46 h)\n"
     ]
    },
    {
     "name": "stderr",
     "output_type": "stream",
     "text": [
      "Rate limit reached. Sleeping for: 435\n"
     ]
    },
    {
     "name": "stdout",
     "output_type": "stream",
     "text": [
      "Extracted info from 61971 tweets\n",
      "For this page, converted 497 tweets: 33.6% of the month in total (pred remaining: 36.31 h)\n"
     ]
    },
    {
     "name": "stderr",
     "output_type": "stream",
     "text": [
      "Rate limit reached. Sleeping for: 414\n"
     ]
    },
    {
     "name": "stdout",
     "output_type": "stream",
     "text": [
      "Extracted info from 62463 tweets\n",
      "For this page, converted 492 tweets: 33.87% of the month in total (pred remaining: 36.17 h)\n",
      "Extracted info from 62953 tweets\n",
      "For this page, converted 490 tweets: 34.13% of the month in total (pred remaining: 36.02 h)\n"
     ]
    },
    {
     "name": "stderr",
     "output_type": "stream",
     "text": [
      "Rate limit reached. Sleeping for: 422\n"
     ]
    },
    {
     "name": "stdout",
     "output_type": "stream",
     "text": [
      "Extracted info from 63449 tweets\n",
      "For this page, converted 496 tweets: 34.4% of the month in total (pred remaining: 35.88 h)\n",
      "Extracted info from 63945 tweets\n",
      "For this page, converted 496 tweets: 34.67% of the month in total (pred remaining: 35.73 h)\n"
     ]
    },
    {
     "name": "stderr",
     "output_type": "stream",
     "text": [
      "Rate limit reached. Sleeping for: 437\n"
     ]
    },
    {
     "name": "stdout",
     "output_type": "stream",
     "text": [
      "Extracted info from 64435 tweets\n",
      "For this page, converted 490 tweets: 34.93% of the month in total (pred remaining: 35.58 h)\n",
      "Extracted info from 64923 tweets\n",
      "For this page, converted 488 tweets: 35.2% of the month in total (pred remaining: 35.44 h)\n"
     ]
    },
    {
     "name": "stderr",
     "output_type": "stream",
     "text": [
      "Rate limit reached. Sleeping for: 438\n"
     ]
    },
    {
     "name": "stdout",
     "output_type": "stream",
     "text": [
      "Extracted info from 65414 tweets\n",
      "For this page, converted 491 tweets: 35.47% of the month in total (pred remaining: 35.29 h)\n",
      "Extracted info from 65906 tweets\n",
      "For this page, converted 492 tweets: 35.73% of the month in total (pred remaining: 35.15 h)\n"
     ]
    },
    {
     "name": "stderr",
     "output_type": "stream",
     "text": [
      "Rate limit reached. Sleeping for: 432\n"
     ]
    },
    {
     "name": "stdout",
     "output_type": "stream",
     "text": [
      "Extracted info from 66395 tweets\n",
      "For this page, converted 489 tweets: 36.0% of the month in total (pred remaining: 35.0 h)\n",
      "Extracted info from 66878 tweets\n",
      "For this page, converted 483 tweets: 36.27% of the month in total (pred remaining: 34.85 h)\n"
     ]
    },
    {
     "name": "stderr",
     "output_type": "stream",
     "text": [
      "Rate limit reached. Sleeping for: 440\n"
     ]
    },
    {
     "name": "stdout",
     "output_type": "stream",
     "text": [
      "Extracted info from 67367 tweets\n",
      "For this page, converted 489 tweets: 36.53% of the month in total (pred remaining: 34.71 h)\n"
     ]
    },
    {
     "name": "stderr",
     "output_type": "stream",
     "text": [
      "Rate limit reached. Sleeping for: 427\n"
     ]
    },
    {
     "name": "stdout",
     "output_type": "stream",
     "text": [
      "Extracted info from 67858 tweets\n",
      "For this page, converted 491 tweets: 36.8% of the month in total (pred remaining: 34.56 h)\n",
      "Extracted info from 68351 tweets\n",
      "For this page, converted 493 tweets: 37.07% of the month in total (pred remaining: 34.42 h)\n"
     ]
    },
    {
     "name": "stderr",
     "output_type": "stream",
     "text": [
      "Rate limit reached. Sleeping for: 451\n"
     ]
    },
    {
     "name": "stdout",
     "output_type": "stream",
     "text": [
      "Extracted info from 68838 tweets\n",
      "For this page, converted 487 tweets: 37.33% of the month in total (pred remaining: 34.27 h)\n",
      "Extracted info from 69329 tweets\n",
      "For this page, converted 491 tweets: 37.6% of the month in total (pred remaining: 34.12 h)\n"
     ]
    },
    {
     "name": "stderr",
     "output_type": "stream",
     "text": [
      "Rate limit reached. Sleeping for: 458\n"
     ]
    },
    {
     "name": "stdout",
     "output_type": "stream",
     "text": [
      "Extracted info from 69816 tweets\n",
      "For this page, converted 487 tweets: 37.87% of the month in total (pred remaining: 33.98 h)\n",
      "Extracted info from 70309 tweets\n",
      "For this page, converted 493 tweets: 38.13% of the month in total (pred remaining: 33.83 h)\n"
     ]
    },
    {
     "name": "stderr",
     "output_type": "stream",
     "text": [
      "Rate limit reached. Sleeping for: 448\n"
     ]
    },
    {
     "name": "stdout",
     "output_type": "stream",
     "text": [
      "Extracted info from 70795 tweets\n",
      "For this page, converted 486 tweets: 38.4% of the month in total (pred remaining: 33.69 h)\n",
      "Extracted info from 71282 tweets\n",
      "For this page, converted 487 tweets: 38.67% of the month in total (pred remaining: 33.54 h)\n"
     ]
    },
    {
     "name": "stderr",
     "output_type": "stream",
     "text": [
      "Rate limit reached. Sleeping for: 427\n"
     ]
    },
    {
     "name": "stdout",
     "output_type": "stream",
     "text": [
      "Extracted info from 71754 tweets\n",
      "For this page, converted 472 tweets: 38.93% of the month in total (pred remaining: 33.4 h)\n",
      "Extracted info from 72231 tweets\n",
      "For this page, converted 477 tweets: 39.2% of the month in total (pred remaining: 33.25 h)\n"
     ]
    },
    {
     "name": "stderr",
     "output_type": "stream",
     "text": [
      "Rate limit reached. Sleeping for: 441\n"
     ]
    },
    {
     "name": "stdout",
     "output_type": "stream",
     "text": [
      "Extracted info from 72703 tweets\n",
      "For this page, converted 472 tweets: 39.47% of the month in total (pred remaining: 33.1 h)\n",
      "Extracted info from 73162 tweets\n",
      "For this page, converted 459 tweets: 39.73% of the month in total (pred remaining: 32.96 h)\n"
     ]
    },
    {
     "name": "stderr",
     "output_type": "stream",
     "text": [
      "Rate limit reached. Sleeping for: 458\n"
     ]
    },
    {
     "name": "stdout",
     "output_type": "stream",
     "text": [
      "Extracted info from 73634 tweets\n",
      "For this page, converted 472 tweets: 40.0% of the month in total (pred remaining: 32.81 h)\n"
     ]
    },
    {
     "name": "stderr",
     "output_type": "stream",
     "text": [
      "Rate limit reached. Sleeping for: 421\n"
     ]
    },
    {
     "name": "stdout",
     "output_type": "stream",
     "text": [
      "Extracted info from 74114 tweets\n",
      "For this page, converted 480 tweets: 40.27% of the month in total (pred remaining: 32.67 h)\n",
      "Extracted info from 74593 tweets\n",
      "For this page, converted 479 tweets: 40.53% of the month in total (pred remaining: 32.52 h)\n"
     ]
    },
    {
     "name": "stderr",
     "output_type": "stream",
     "text": [
      "Rate limit reached. Sleeping for: 432\n"
     ]
    },
    {
     "name": "stdout",
     "output_type": "stream",
     "text": [
      "Extracted info from 75084 tweets\n",
      "For this page, converted 491 tweets: 40.8% of the month in total (pred remaining: 32.38 h)\n",
      "Extracted info from 75569 tweets\n",
      "For this page, converted 485 tweets: 41.07% of the month in total (pred remaining: 32.23 h)\n"
     ]
    },
    {
     "name": "stderr",
     "output_type": "stream",
     "text": [
      "Rate limit reached. Sleeping for: 431\n"
     ]
    },
    {
     "name": "stdout",
     "output_type": "stream",
     "text": [
      "Extracted info from 76067 tweets\n",
      "For this page, converted 498 tweets: 41.33% of the month in total (pred remaining: 32.08 h)\n",
      "Extracted info from 76541 tweets\n",
      "For this page, converted 474 tweets: 41.6% of the month in total (pred remaining: 31.94 h)\n"
     ]
    },
    {
     "name": "stderr",
     "output_type": "stream",
     "text": [
      "Rate limit reached. Sleeping for: 434\n"
     ]
    },
    {
     "name": "stdout",
     "output_type": "stream",
     "text": [
      "Extracted info from 77031 tweets\n",
      "For this page, converted 490 tweets: 41.87% of the month in total (pred remaining: 31.79 h)\n",
      "Extracted info from 77517 tweets\n",
      "For this page, converted 486 tweets: 42.13% of the month in total (pred remaining: 31.65 h)\n"
     ]
    },
    {
     "name": "stderr",
     "output_type": "stream",
     "text": [
      "Rate limit reached. Sleeping for: 428\n"
     ]
    },
    {
     "name": "stdout",
     "output_type": "stream",
     "text": [
      "Extracted info from 77987 tweets\n",
      "For this page, converted 470 tweets: 42.4% of the month in total (pred remaining: 31.5 h)\n",
      "Extracted info from 78460 tweets\n",
      "For this page, converted 473 tweets: 42.67% of the month in total (pred remaining: 31.35 h)\n"
     ]
    },
    {
     "name": "stderr",
     "output_type": "stream",
     "text": [
      "Rate limit reached. Sleeping for: 431\n"
     ]
    },
    {
     "name": "stdout",
     "output_type": "stream",
     "text": [
      "Extracted info from 78920 tweets\n",
      "For this page, converted 460 tweets: 42.93% of the month in total (pred remaining: 31.21 h)\n",
      "Extracted info from 79383 tweets\n",
      "For this page, converted 463 tweets: 43.2% of the month in total (pred remaining: 31.06 h)\n"
     ]
    },
    {
     "name": "stderr",
     "output_type": "stream",
     "text": [
      "Rate limit reached. Sleeping for: 439\n"
     ]
    },
    {
     "name": "stdout",
     "output_type": "stream",
     "text": [
      "Extracted info from 79853 tweets\n",
      "For this page, converted 470 tweets: 43.47% of the month in total (pred remaining: 30.92 h)\n",
      "Extracted info from 80321 tweets\n",
      "For this page, converted 468 tweets: 43.73% of the month in total (pred remaining: 30.77 h)\n"
     ]
    },
    {
     "name": "stderr",
     "output_type": "stream",
     "text": [
      "Rate limit reached. Sleeping for: 414\n"
     ]
    },
    {
     "name": "stdout",
     "output_type": "stream",
     "text": [
      "Extracted info from 80767 tweets\n",
      "For this page, converted 446 tweets: 44.0% of the month in total (pred remaining: 30.62 h)\n",
      "Extracted info from 81202 tweets\n",
      "For this page, converted 435 tweets: 44.27% of the month in total (pred remaining: 30.48 h)\n"
     ]
    },
    {
     "name": "stderr",
     "output_type": "stream",
     "text": [
      "Rate limit reached. Sleeping for: 437\n"
     ]
    },
    {
     "name": "stdout",
     "output_type": "stream",
     "text": [
      "Extracted info from 81625 tweets\n",
      "For this page, converted 423 tweets: 44.53% of the month in total (pred remaining: 30.33 h)\n",
      "Extracted info from 82071 tweets\n",
      "For this page, converted 446 tweets: 44.8% of the month in total (pred remaining: 30.19 h)\n"
     ]
    },
    {
     "name": "stderr",
     "output_type": "stream",
     "text": [
      "Rate limit reached. Sleeping for: 425\n"
     ]
    },
    {
     "name": "stdout",
     "output_type": "stream",
     "text": [
      "Extracted info from 82561 tweets\n",
      "For this page, converted 490 tweets: 45.07% of the month in total (pred remaining: 30.04 h)\n",
      "Extracted info from 83049 tweets\n",
      "For this page, converted 488 tweets: 45.33% of the month in total (pred remaining: 29.9 h)\n"
     ]
    },
    {
     "name": "stderr",
     "output_type": "stream",
     "text": [
      "Rate limit reached. Sleeping for: 427\n"
     ]
    },
    {
     "name": "stdout",
     "output_type": "stream",
     "text": [
      "Extracted info from 83524 tweets\n",
      "For this page, converted 475 tweets: 45.6% of the month in total (pred remaining: 29.75 h)\n",
      "Extracted info from 84001 tweets\n",
      "For this page, converted 477 tweets: 45.87% of the month in total (pred remaining: 29.6 h)\n"
     ]
    },
    {
     "name": "stderr",
     "output_type": "stream",
     "text": [
      "Rate limit reached. Sleeping for: 429\n"
     ]
    },
    {
     "name": "stdout",
     "output_type": "stream",
     "text": [
      "Extracted info from 84475 tweets\n",
      "For this page, converted 474 tweets: 46.13% of the month in total (pred remaining: 29.46 h)\n"
     ]
    },
    {
     "name": "stderr",
     "output_type": "stream",
     "text": [
      "Rate limit reached. Sleeping for: 420\n"
     ]
    },
    {
     "name": "stdout",
     "output_type": "stream",
     "text": [
      "Extracted info from 84951 tweets\n",
      "For this page, converted 476 tweets: 46.4% of the month in total (pred remaining: 29.31 h)\n",
      "Extracted info from 85429 tweets\n",
      "For this page, converted 478 tweets: 46.67% of the month in total (pred remaining: 29.17 h)\n"
     ]
    },
    {
     "name": "stderr",
     "output_type": "stream",
     "text": [
      "Rate limit reached. Sleeping for: 453\n"
     ]
    },
    {
     "name": "stdout",
     "output_type": "stream",
     "text": [
      "Extracted info from 85899 tweets\n",
      "For this page, converted 470 tweets: 46.93% of the month in total (pred remaining: 29.02 h)\n",
      "Extracted info from 86373 tweets\n",
      "For this page, converted 474 tweets: 47.2% of the month in total (pred remaining: 28.88 h)\n"
     ]
    },
    {
     "name": "stderr",
     "output_type": "stream",
     "text": [
      "Rate limit reached. Sleeping for: 439\n"
     ]
    },
    {
     "name": "stdout",
     "output_type": "stream",
     "text": [
      "Extracted info from 86826 tweets\n",
      "For this page, converted 453 tweets: 47.47% of the month in total (pred remaining: 28.73 h)\n",
      "Extracted info from 87268 tweets\n",
      "For this page, converted 442 tweets: 47.73% of the month in total (pred remaining: 28.58 h)\n"
     ]
    },
    {
     "name": "stderr",
     "output_type": "stream",
     "text": [
      "Rate limit reached. Sleeping for: 353\n"
     ]
    },
    {
     "name": "stdout",
     "output_type": "stream",
     "text": [
      "Extracted info from 87714 tweets\n",
      "For this page, converted 446 tweets: 48.0% of the month in total (pred remaining: 28.44 h)\n",
      "Extracted info from 88169 tweets\n",
      "For this page, converted 455 tweets: 48.27% of the month in total (pred remaining: 28.29 h)\n"
     ]
    },
    {
     "name": "stderr",
     "output_type": "stream",
     "text": [
      "Rate limit reached. Sleeping for: 426\n"
     ]
    },
    {
     "name": "stdout",
     "output_type": "stream",
     "text": [
      "Extracted info from 88666 tweets\n",
      "For this page, converted 497 tweets: 48.53% of the month in total (pred remaining: 28.15 h)\n",
      "Extracted info from 89158 tweets\n",
      "For this page, converted 492 tweets: 48.8% of the month in total (pred remaining: 28.0 h)\n"
     ]
    },
    {
     "name": "stderr",
     "output_type": "stream",
     "text": [
      "Rate limit reached. Sleeping for: 441\n"
     ]
    },
    {
     "name": "stdout",
     "output_type": "stream",
     "text": [
      "Extracted info from 89652 tweets\n",
      "For this page, converted 494 tweets: 49.07% of the month in total (pred remaining: 27.85 h)\n",
      "Extracted info from 90140 tweets\n",
      "For this page, converted 488 tweets: 49.33% of the month in total (pred remaining: 27.71 h)\n"
     ]
    },
    {
     "name": "stderr",
     "output_type": "stream",
     "text": [
      "Rate limit reached. Sleeping for: 437\n"
     ]
    },
    {
     "name": "stdout",
     "output_type": "stream",
     "text": [
      "Extracted info from 90634 tweets\n",
      "For this page, converted 494 tweets: 49.6% of the month in total (pred remaining: 27.56 h)\n",
      "Extracted info from 91119 tweets\n",
      "For this page, converted 485 tweets: 49.87% of the month in total (pred remaining: 27.42 h)\n"
     ]
    },
    {
     "name": "stderr",
     "output_type": "stream",
     "text": [
      "Rate limit reached. Sleeping for: 424\n"
     ]
    },
    {
     "name": "stdout",
     "output_type": "stream",
     "text": [
      "Extracted info from 91611 tweets\n",
      "For this page, converted 492 tweets: 50.13% of the month in total (pred remaining: 27.27 h)\n",
      "Extracted info from 92103 tweets\n",
      "For this page, converted 492 tweets: 50.4% of the month in total (pred remaining: 27.12 h)\n"
     ]
    },
    {
     "name": "stderr",
     "output_type": "stream",
     "text": [
      "Rate limit reached. Sleeping for: 445\n"
     ]
    },
    {
     "name": "stdout",
     "output_type": "stream",
     "text": [
      "Extracted info from 92576 tweets\n",
      "For this page, converted 473 tweets: 50.67% of the month in total (pred remaining: 26.98 h)\n"
     ]
    },
    {
     "name": "stderr",
     "output_type": "stream",
     "text": [
      "Rate limit reached. Sleeping for: 442\n"
     ]
    },
    {
     "name": "stdout",
     "output_type": "stream",
     "text": [
      "Extracted info from 93063 tweets\n",
      "For this page, converted 487 tweets: 50.93% of the month in total (pred remaining: 26.83 h)\n",
      "Extracted info from 93553 tweets\n",
      "For this page, converted 490 tweets: 51.2% of the month in total (pred remaining: 26.69 h)\n"
     ]
    },
    {
     "name": "stderr",
     "output_type": "stream",
     "text": [
      "Rate limit reached. Sleeping for: 269\n"
     ]
    },
    {
     "name": "stdout",
     "output_type": "stream",
     "text": [
      "Extracted info from 94033 tweets\n",
      "For this page, converted 480 tweets: 51.47% of the month in total (pred remaining: 26.54 h)\n",
      "Extracted info from 94519 tweets\n",
      "For this page, converted 486 tweets: 51.73% of the month in total (pred remaining: 26.4 h)\n"
     ]
    },
    {
     "name": "stderr",
     "output_type": "stream",
     "text": [
      "Rate limit reached. Sleeping for: 355\n"
     ]
    },
    {
     "name": "stdout",
     "output_type": "stream",
     "text": [
      "Extracted info from 95000 tweets\n",
      "For this page, converted 481 tweets: 52.0% of the month in total (pred remaining: 26.25 h)\n",
      "Extracted info from 95449 tweets\n",
      "For this page, converted 449 tweets: 52.27% of the month in total (pred remaining: 26.1 h)\n"
     ]
    },
    {
     "name": "stderr",
     "output_type": "stream",
     "text": [
      "Rate limit reached. Sleeping for: 407\n"
     ]
    },
    {
     "name": "stdout",
     "output_type": "stream",
     "text": [
      "Extracted info from 95915 tweets\n",
      "For this page, converted 466 tweets: 52.53% of the month in total (pred remaining: 25.96 h)\n",
      "Extracted info from 96396 tweets\n",
      "For this page, converted 481 tweets: 52.8% of the month in total (pred remaining: 25.81 h)\n"
     ]
    },
    {
     "name": "stderr",
     "output_type": "stream",
     "text": [
      "Rate limit reached. Sleeping for: 262\n"
     ]
    },
    {
     "name": "stdout",
     "output_type": "stream",
     "text": [
      "Extracted info from 96852 tweets\n",
      "For this page, converted 456 tweets: 53.07% of the month in total (pred remaining: 25.67 h)\n",
      "Extracted info from 97304 tweets\n",
      "For this page, converted 452 tweets: 53.33% of the month in total (pred remaining: 25.52 h)\n"
     ]
    },
    {
     "name": "stderr",
     "output_type": "stream",
     "text": [
      "Rate limit reached. Sleeping for: 426\n"
     ]
    },
    {
     "name": "stdout",
     "output_type": "stream",
     "text": [
      "Extracted info from 97770 tweets\n",
      "For this page, converted 466 tweets: 53.6% of the month in total (pred remaining: 25.38 h)\n",
      "Extracted info from 98228 tweets\n",
      "For this page, converted 458 tweets: 53.87% of the month in total (pred remaining: 25.23 h)\n"
     ]
    },
    {
     "name": "stderr",
     "output_type": "stream",
     "text": [
      "Rate limit reached. Sleeping for: 304\n"
     ]
    },
    {
     "name": "stdout",
     "output_type": "stream",
     "text": [
      "Extracted info from 98684 tweets\n",
      "For this page, converted 456 tweets: 54.13% of the month in total (pred remaining: 25.08 h)\n",
      "Extracted info from 99059 tweets\n",
      "For this page, converted 375 tweets: 54.4% of the month in total (pred remaining: 24.94 h)\n"
     ]
    },
    {
     "name": "stderr",
     "output_type": "stream",
     "text": [
      "Rate limit reached. Sleeping for: 392\n"
     ]
    },
    {
     "name": "stdout",
     "output_type": "stream",
     "text": [
      "Extracted info from 99520 tweets\n",
      "For this page, converted 461 tweets: 54.67% of the month in total (pred remaining: 24.79 h)\n",
      "Extracted info from 100006 tweets\n",
      "For this page, converted 486 tweets: 54.93% of the month in total (pred remaining: 24.65 h)\n"
     ]
    },
    {
     "name": "stderr",
     "output_type": "stream",
     "text": [
      "Rate limit reached. Sleeping for: 346\n"
     ]
    },
    {
     "name": "stdout",
     "output_type": "stream",
     "text": [
      "Extracted info from 100474 tweets\n",
      "For this page, converted 468 tweets: 55.2% of the month in total (pred remaining: 24.5 h)\n",
      "Extracted info from 100954 tweets\n",
      "For this page, converted 480 tweets: 55.47% of the month in total (pred remaining: 24.35 h)\n"
     ]
    },
    {
     "name": "stderr",
     "output_type": "stream",
     "text": [
      "Rate limit reached. Sleeping for: 419\n"
     ]
    },
    {
     "name": "stdout",
     "output_type": "stream",
     "text": [
      "Extracted info from 101443 tweets\n",
      "For this page, converted 489 tweets: 55.73% of the month in total (pred remaining: 24.21 h)\n",
      "Extracted info from 101934 tweets\n",
      "For this page, converted 491 tweets: 56.0% of the month in total (pred remaining: 24.06 h)\n"
     ]
    },
    {
     "name": "stderr",
     "output_type": "stream",
     "text": [
      "Rate limit reached. Sleeping for: 376\n"
     ]
    },
    {
     "name": "stdout",
     "output_type": "stream",
     "text": [
      "Extracted info from 102425 tweets\n",
      "For this page, converted 491 tweets: 56.27% of the month in total (pred remaining: 23.92 h)\n"
     ]
    },
    {
     "name": "stderr",
     "output_type": "stream",
     "text": [
      "Rate limit reached. Sleeping for: 418\n"
     ]
    },
    {
     "name": "stdout",
     "output_type": "stream",
     "text": [
      "Extracted info from 102920 tweets\n",
      "For this page, converted 495 tweets: 56.53% of the month in total (pred remaining: 23.77 h)\n",
      "Extracted info from 103414 tweets\n",
      "For this page, converted 494 tweets: 56.8% of the month in total (pred remaining: 23.62 h)\n"
     ]
    },
    {
     "name": "stderr",
     "output_type": "stream",
     "text": [
      "Rate limit reached. Sleeping for: 418\n"
     ]
    },
    {
     "name": "stdout",
     "output_type": "stream",
     "text": [
      "Extracted info from 103910 tweets\n",
      "For this page, converted 496 tweets: 57.07% of the month in total (pred remaining: 23.48 h)\n",
      "Extracted info from 104407 tweets\n",
      "For this page, converted 497 tweets: 57.33% of the month in total (pred remaining: 23.33 h)\n"
     ]
    },
    {
     "name": "stderr",
     "output_type": "stream",
     "text": [
      "Rate limit reached. Sleeping for: 341\n"
     ]
    },
    {
     "name": "stdout",
     "output_type": "stream",
     "text": [
      "Extracted info from 104904 tweets\n",
      "For this page, converted 497 tweets: 57.6% of the month in total (pred remaining: 23.19 h)\n",
      "Extracted info from 105404 tweets\n",
      "For this page, converted 500 tweets: 57.87% of the month in total (pred remaining: 23.04 h)\n"
     ]
    },
    {
     "name": "stderr",
     "output_type": "stream",
     "text": [
      "Rate limit reached. Sleeping for: 353\n"
     ]
    },
    {
     "name": "stdout",
     "output_type": "stream",
     "text": [
      "Extracted info from 105900 tweets\n",
      "For this page, converted 496 tweets: 58.13% of the month in total (pred remaining: 22.9 h)\n",
      "Extracted info from 106398 tweets\n",
      "For this page, converted 498 tweets: 58.4% of the month in total (pred remaining: 22.75 h)\n"
     ]
    },
    {
     "name": "stderr",
     "output_type": "stream",
     "text": [
      "Rate limit reached. Sleeping for: 18\n"
     ]
    },
    {
     "name": "stdout",
     "output_type": "stream",
     "text": [
      "Extracted info from 106896 tweets\n",
      "For this page, converted 498 tweets: 58.67% of the month in total (pred remaining: 22.6 h)\n",
      "Extracted info from 107389 tweets\n",
      "For this page, converted 493 tweets: 58.93% of the month in total (pred remaining: 22.46 h)\n"
     ]
    },
    {
     "name": "stderr",
     "output_type": "stream",
     "text": [
      "Rate limit reached. Sleeping for: 387\n"
     ]
    },
    {
     "name": "stdout",
     "output_type": "stream",
     "text": [
      "Extracted info from 107876 tweets\n",
      "For this page, converted 487 tweets: 59.2% of the month in total (pred remaining: 22.31 h)\n"
     ]
    },
    {
     "name": "stderr",
     "output_type": "stream",
     "text": [
      "Rate limit reached. Sleeping for: 405\n"
     ]
    },
    {
     "name": "stdout",
     "output_type": "stream",
     "text": [
      "Extracted info from 108366 tweets\n",
      "For this page, converted 490 tweets: 59.47% of the month in total (pred remaining: 22.17 h)\n",
      "Extracted info from 108856 tweets\n",
      "For this page, converted 490 tweets: 59.73% of the month in total (pred remaining: 22.02 h)\n"
     ]
    },
    {
     "name": "stderr",
     "output_type": "stream",
     "text": [
      "Rate limit reached. Sleeping for: 438\n"
     ]
    },
    {
     "name": "stdout",
     "output_type": "stream",
     "text": [
      "Extracted info from 109346 tweets\n",
      "For this page, converted 490 tweets: 60.0% of the month in total (pred remaining: 21.88 h)\n",
      "Extracted info from 109832 tweets\n",
      "For this page, converted 486 tweets: 60.27% of the month in total (pred remaining: 21.73 h)\n"
     ]
    },
    {
     "name": "stderr",
     "output_type": "stream",
     "text": [
      "Rate limit reached. Sleeping for: 86\n"
     ]
    },
    {
     "name": "stdout",
     "output_type": "stream",
     "text": [
      "Extracted info from 110317 tweets\n",
      "For this page, converted 485 tweets: 60.53% of the month in total (pred remaining: 21.58 h)\n",
      "Extracted info from 110801 tweets\n",
      "For this page, converted 484 tweets: 60.8% of the month in total (pred remaining: 21.44 h)\n"
     ]
    },
    {
     "name": "stderr",
     "output_type": "stream",
     "text": [
      "Rate limit reached. Sleeping for: 254\n"
     ]
    },
    {
     "name": "stdout",
     "output_type": "stream",
     "text": [
      "Extracted info from 111292 tweets\n",
      "For this page, converted 491 tweets: 61.07% of the month in total (pred remaining: 21.29 h)\n",
      "Extracted info from 111783 tweets\n",
      "For this page, converted 491 tweets: 61.33% of the month in total (pred remaining: 21.15 h)\n"
     ]
    },
    {
     "name": "stderr",
     "output_type": "stream",
     "text": [
      "Rate limit reached. Sleeping for: 422\n"
     ]
    },
    {
     "name": "stdout",
     "output_type": "stream",
     "text": [
      "Extracted info from 112270 tweets\n",
      "For this page, converted 487 tweets: 61.6% of the month in total (pred remaining: 21.0 h)\n",
      "Extracted info from 112757 tweets\n",
      "For this page, converted 487 tweets: 61.87% of the month in total (pred remaining: 20.85 h)\n"
     ]
    },
    {
     "name": "stderr",
     "output_type": "stream",
     "text": [
      "Rate limit reached. Sleeping for: 395\n"
     ]
    },
    {
     "name": "stdout",
     "output_type": "stream",
     "text": [
      "Extracted info from 113232 tweets\n",
      "For this page, converted 475 tweets: 62.13% of the month in total (pred remaining: 20.71 h)\n"
     ]
    },
    {
     "name": "stderr",
     "output_type": "stream",
     "text": [
      "Rate limit reached. Sleeping for: 318\n"
     ]
    },
    {
     "name": "stdout",
     "output_type": "stream",
     "text": [
      "Extracted info from 113723 tweets\n",
      "For this page, converted 491 tweets: 62.4% of the month in total (pred remaining: 20.56 h)\n",
      "Extracted info from 114208 tweets\n",
      "For this page, converted 485 tweets: 62.67% of the month in total (pred remaining: 20.42 h)\n"
     ]
    },
    {
     "name": "stderr",
     "output_type": "stream",
     "text": [
      "Rate limit reached. Sleeping for: 306\n"
     ]
    },
    {
     "name": "stdout",
     "output_type": "stream",
     "text": [
      "Extracted info from 114700 tweets\n",
      "For this page, converted 492 tweets: 62.93% of the month in total (pred remaining: 20.27 h)\n",
      "Extracted info from 115192 tweets\n",
      "For this page, converted 492 tweets: 63.2% of the month in total (pred remaining: 20.12 h)\n"
     ]
    },
    {
     "name": "stderr",
     "output_type": "stream",
     "text": [
      "Rate limit reached. Sleeping for: 226\n"
     ]
    },
    {
     "name": "stdout",
     "output_type": "stream",
     "text": [
      "Extracted info from 115678 tweets\n",
      "For this page, converted 486 tweets: 63.47% of the month in total (pred remaining: 19.98 h)\n",
      "Extracted info from 116160 tweets\n",
      "For this page, converted 482 tweets: 63.73% of the month in total (pred remaining: 19.83 h)\n"
     ]
    },
    {
     "name": "stderr",
     "output_type": "stream",
     "text": [
      "Rate limit reached. Sleeping for: 408\n"
     ]
    },
    {
     "name": "stdout",
     "output_type": "stream",
     "text": [
      "Extracted info from 116647 tweets\n",
      "For this page, converted 487 tweets: 64.0% of the month in total (pred remaining: 19.69 h)\n",
      "Extracted info from 117128 tweets\n",
      "For this page, converted 481 tweets: 64.27% of the month in total (pred remaining: 19.54 h)\n"
     ]
    },
    {
     "name": "stderr",
     "output_type": "stream",
     "text": [
      "Rate limit reached. Sleeping for: 436\n"
     ]
    },
    {
     "name": "stdout",
     "output_type": "stream",
     "text": [
      "Extracted info from 117620 tweets\n",
      "For this page, converted 492 tweets: 64.53% of the month in total (pred remaining: 19.4 h)\n",
      "Extracted info from 118100 tweets\n",
      "For this page, converted 480 tweets: 64.8% of the month in total (pred remaining: 19.25 h)\n"
     ]
    },
    {
     "name": "stderr",
     "output_type": "stream",
     "text": [
      "Rate limit reached. Sleeping for: 422\n"
     ]
    },
    {
     "name": "stdout",
     "output_type": "stream",
     "text": [
      "Extracted info from 118587 tweets\n",
      "For this page, converted 487 tweets: 65.07% of the month in total (pred remaining: 19.1 h)\n",
      "Extracted info from 119074 tweets\n",
      "For this page, converted 487 tweets: 65.33% of the month in total (pred remaining: 18.96 h)\n"
     ]
    },
    {
     "name": "stderr",
     "output_type": "stream",
     "text": [
      "Rate limit reached. Sleeping for: 435\n"
     ]
    },
    {
     "name": "stdout",
     "output_type": "stream",
     "text": [
      "Extracted info from 119547 tweets\n",
      "For this page, converted 473 tweets: 65.6% of the month in total (pred remaining: 18.81 h)\n"
     ]
    },
    {
     "name": "stderr",
     "output_type": "stream",
     "text": [
      "Rate limit reached. Sleeping for: 437\n"
     ]
    },
    {
     "name": "stdout",
     "output_type": "stream",
     "text": [
      "Extracted info from 120024 tweets\n",
      "For this page, converted 477 tweets: 65.87% of the month in total (pred remaining: 18.67 h)\n",
      "Extracted info from 120478 tweets\n",
      "For this page, converted 454 tweets: 66.13% of the month in total (pred remaining: 18.52 h)\n"
     ]
    },
    {
     "name": "stderr",
     "output_type": "stream",
     "text": [
      "Rate limit reached. Sleeping for: 423\n"
     ]
    },
    {
     "name": "stdout",
     "output_type": "stream",
     "text": [
      "Extracted info from 120950 tweets\n",
      "For this page, converted 472 tweets: 66.4% of the month in total (pred remaining: 18.38 h)\n",
      "Extracted info from 121438 tweets\n",
      "For this page, converted 488 tweets: 66.67% of the month in total (pred remaining: 18.23 h)\n"
     ]
    },
    {
     "name": "stderr",
     "output_type": "stream",
     "text": [
      "Rate limit reached. Sleeping for: 430\n"
     ]
    },
    {
     "name": "stdout",
     "output_type": "stream",
     "text": [
      "Extracted info from 121928 tweets\n",
      "For this page, converted 490 tweets: 66.93% of the month in total (pred remaining: 18.08 h)\n",
      "Extracted info from 122419 tweets\n",
      "For this page, converted 491 tweets: 67.2% of the month in total (pred remaining: 17.94 h)\n"
     ]
    },
    {
     "name": "stderr",
     "output_type": "stream",
     "text": [
      "Rate limit reached. Sleeping for: 331\n"
     ]
    },
    {
     "name": "stdout",
     "output_type": "stream",
     "text": [
      "Extracted info from 122917 tweets\n",
      "For this page, converted 498 tweets: 67.47% of the month in total (pred remaining: 17.79 h)\n",
      "Extracted info from 123412 tweets\n",
      "For this page, converted 495 tweets: 67.73% of the month in total (pred remaining: 17.65 h)\n"
     ]
    },
    {
     "name": "stderr",
     "output_type": "stream",
     "text": [
      "Rate limit reached. Sleeping for: 361\n"
     ]
    },
    {
     "name": "stdout",
     "output_type": "stream",
     "text": [
      "Extracted info from 123895 tweets\n",
      "For this page, converted 483 tweets: 68.0% of the month in total (pred remaining: 17.5 h)\n",
      "Extracted info from 124390 tweets\n",
      "For this page, converted 495 tweets: 68.27% of the month in total (pred remaining: 17.35 h)\n"
     ]
    },
    {
     "name": "stderr",
     "output_type": "stream",
     "text": [
      "Rate limit reached. Sleeping for: 386\n"
     ]
    },
    {
     "name": "stdout",
     "output_type": "stream",
     "text": [
      "Extracted info from 124887 tweets\n",
      "For this page, converted 497 tweets: 68.53% of the month in total (pred remaining: 17.21 h)\n",
      "Extracted info from 125385 tweets\n",
      "For this page, converted 498 tweets: 68.8% of the month in total (pred remaining: 17.06 h)\n"
     ]
    },
    {
     "name": "stderr",
     "output_type": "stream",
     "text": [
      "Rate limit reached. Sleeping for: 422\n"
     ]
    },
    {
     "name": "stdout",
     "output_type": "stream",
     "text": [
      "Extracted info from 125860 tweets\n",
      "For this page, converted 475 tweets: 69.07% of the month in total (pred remaining: 16.92 h)\n"
     ]
    },
    {
     "name": "stderr",
     "output_type": "stream",
     "text": [
      "Rate limit reached. Sleeping for: 405\n"
     ]
    },
    {
     "name": "stdout",
     "output_type": "stream",
     "text": [
      "Extracted info from 126341 tweets\n",
      "For this page, converted 481 tweets: 69.33% of the month in total (pred remaining: 16.77 h)\n",
      "Extracted info from 126826 tweets\n",
      "For this page, converted 485 tweets: 69.6% of the month in total (pred remaining: 16.62 h)\n"
     ]
    },
    {
     "name": "stderr",
     "output_type": "stream",
     "text": [
      "Rate limit reached. Sleeping for: 399\n"
     ]
    },
    {
     "name": "stdout",
     "output_type": "stream",
     "text": [
      "Extracted info from 127317 tweets\n",
      "For this page, converted 491 tweets: 69.87% of the month in total (pred remaining: 16.48 h)\n",
      "Extracted info from 127787 tweets\n",
      "For this page, converted 470 tweets: 70.13% of the month in total (pred remaining: 16.33 h)\n"
     ]
    },
    {
     "name": "stderr",
     "output_type": "stream",
     "text": [
      "Rate limit reached. Sleeping for: 358\n"
     ]
    },
    {
     "name": "stdout",
     "output_type": "stream",
     "text": [
      "Extracted info from 128284 tweets\n",
      "For this page, converted 497 tweets: 70.4% of the month in total (pred remaining: 16.19 h)\n",
      "Extracted info from 128777 tweets\n",
      "For this page, converted 493 tweets: 70.67% of the month in total (pred remaining: 16.04 h)\n"
     ]
    },
    {
     "name": "stderr",
     "output_type": "stream",
     "text": [
      "Rate limit reached. Sleeping for: 360\n"
     ]
    },
    {
     "name": "stdout",
     "output_type": "stream",
     "text": [
      "Extracted info from 129265 tweets\n",
      "For this page, converted 488 tweets: 70.93% of the month in total (pred remaining: 15.9 h)\n",
      "Extracted info from 129759 tweets\n",
      "For this page, converted 494 tweets: 71.2% of the month in total (pred remaining: 15.75 h)\n"
     ]
    },
    {
     "name": "stderr",
     "output_type": "stream",
     "text": [
      "Rate limit reached. Sleeping for: 381\n"
     ]
    },
    {
     "name": "stdout",
     "output_type": "stream",
     "text": [
      "Extracted info from 130254 tweets\n",
      "For this page, converted 495 tweets: 71.47% of the month in total (pred remaining: 15.6 h)\n",
      "Extracted info from 130751 tweets\n",
      "For this page, converted 497 tweets: 71.73% of the month in total (pred remaining: 15.46 h)\n"
     ]
    },
    {
     "name": "stderr",
     "output_type": "stream",
     "text": [
      "Rate limit reached. Sleeping for: 326\n"
     ]
    },
    {
     "name": "stdout",
     "output_type": "stream",
     "text": [
      "Extracted info from 131245 tweets\n",
      "For this page, converted 494 tweets: 72.0% of the month in total (pred remaining: 15.31 h)\n"
     ]
    },
    {
     "name": "stderr",
     "output_type": "stream",
     "text": [
      "Rate limit reached. Sleeping for: 413\n"
     ]
    },
    {
     "name": "stdout",
     "output_type": "stream",
     "text": [
      "Extracted info from 131740 tweets\n",
      "For this page, converted 495 tweets: 72.27% of the month in total (pred remaining: 15.17 h)\n",
      "Extracted info from 132236 tweets\n",
      "For this page, converted 496 tweets: 72.53% of the month in total (pred remaining: 15.02 h)\n"
     ]
    },
    {
     "name": "stderr",
     "output_type": "stream",
     "text": [
      "Rate limit reached. Sleeping for: 428\n"
     ]
    },
    {
     "name": "stdout",
     "output_type": "stream",
     "text": [
      "Extracted info from 132736 tweets\n",
      "For this page, converted 500 tweets: 72.8% of the month in total (pred remaining: 14.88 h)\n",
      "Extracted info from 133234 tweets\n",
      "For this page, converted 498 tweets: 73.07% of the month in total (pred remaining: 14.73 h)\n"
     ]
    },
    {
     "name": "stderr",
     "output_type": "stream",
     "text": [
      "Rate limit reached. Sleeping for: 405\n"
     ]
    },
    {
     "name": "stdout",
     "output_type": "stream",
     "text": [
      "Extracted info from 133732 tweets\n",
      "For this page, converted 498 tweets: 73.33% of the month in total (pred remaining: 14.58 h)\n",
      "Extracted info from 134230 tweets\n",
      "For this page, converted 498 tweets: 73.6% of the month in total (pred remaining: 14.44 h)\n"
     ]
    },
    {
     "name": "stderr",
     "output_type": "stream",
     "text": [
      "Rate limit reached. Sleeping for: 222\n"
     ]
    },
    {
     "name": "stdout",
     "output_type": "stream",
     "text": [
      "Extracted info from 134726 tweets\n",
      "For this page, converted 496 tweets: 73.87% of the month in total (pred remaining: 14.29 h)\n",
      "Extracted info from 135224 tweets\n",
      "For this page, converted 498 tweets: 74.13% of the month in total (pred remaining: 14.15 h)\n"
     ]
    },
    {
     "name": "stderr",
     "output_type": "stream",
     "text": [
      "Rate limit reached. Sleeping for: 387\n"
     ]
    },
    {
     "name": "stdout",
     "output_type": "stream",
     "text": [
      "Extracted info from 135720 tweets\n",
      "For this page, converted 496 tweets: 74.4% of the month in total (pred remaining: 14.0 h)\n",
      "Extracted info from 136218 tweets\n",
      "For this page, converted 498 tweets: 74.67% of the month in total (pred remaining: 13.85 h)\n"
     ]
    },
    {
     "name": "stderr",
     "output_type": "stream",
     "text": [
      "Rate limit reached. Sleeping for: 351\n"
     ]
    },
    {
     "name": "stdout",
     "output_type": "stream",
     "text": [
      "Extracted info from 136714 tweets\n",
      "For this page, converted 496 tweets: 74.93% of the month in total (pred remaining: 13.71 h)\n",
      "Extracted info from 137212 tweets\n",
      "For this page, converted 498 tweets: 75.2% of the month in total (pred remaining: 13.56 h)\n",
      "Extracted info from 137707 tweets\n",
      "For this page, converted 495 tweets: 75.47% of the month in total (pred remaining: 13.42 h)\n",
      "Extracted info from 138207 tweets\n",
      "For this page, converted 500 tweets: 75.73% of the month in total (pred remaining: 13.27 h)\n",
      "Extracted info from 138705 tweets\n",
      "For this page, converted 498 tweets: 76.0% of the month in total (pred remaining: 13.12 h)\n",
      "Extracted info from 139201 tweets\n",
      "For this page, converted 496 tweets: 76.27% of the month in total (pred remaining: 12.98 h)\n",
      "Extracted info from 139694 tweets\n",
      "For this page, converted 493 tweets: 76.53% of the month in total (pred remaining: 12.83 h)\n"
     ]
    },
    {
     "name": "stderr",
     "output_type": "stream",
     "text": [
      "Rate limit reached. Sleeping for: 183\n"
     ]
    },
    {
     "name": "stdout",
     "output_type": "stream",
     "text": [
      "Extracted info from 140189 tweets\n",
      "For this page, converted 495 tweets: 76.8% of the month in total (pred remaining: 12.69 h)\n",
      "Extracted info from 140687 tweets\n",
      "For this page, converted 498 tweets: 77.07% of the month in total (pred remaining: 12.54 h)\n"
     ]
    },
    {
     "name": "stderr",
     "output_type": "stream",
     "text": [
      "Rate limit reached. Sleeping for: 319\n"
     ]
    },
    {
     "name": "stdout",
     "output_type": "stream",
     "text": [
      "Extracted info from 141182 tweets\n",
      "For this page, converted 495 tweets: 77.33% of the month in total (pred remaining: 12.4 h)\n",
      "Extracted info from 141668 tweets\n",
      "For this page, converted 486 tweets: 77.6% of the month in total (pred remaining: 12.25 h)\n"
     ]
    },
    {
     "name": "stderr",
     "output_type": "stream",
     "text": [
      "Rate limit reached. Sleeping for: 337\n"
     ]
    },
    {
     "name": "stdout",
     "output_type": "stream",
     "text": [
      "Extracted info from 142157 tweets\n",
      "For this page, converted 489 tweets: 77.87% of the month in total (pred remaining: 12.1 h)\n"
     ]
    },
    {
     "name": "stderr",
     "output_type": "stream",
     "text": [
      "Rate limit reached. Sleeping for: 369\n"
     ]
    },
    {
     "name": "stdout",
     "output_type": "stream",
     "text": [
      "Extracted info from 142655 tweets\n",
      "For this page, converted 498 tweets: 78.13% of the month in total (pred remaining: 11.96 h)\n",
      "Extracted info from 143150 tweets\n",
      "For this page, converted 495 tweets: 78.4% of the month in total (pred remaining: 11.81 h)\n"
     ]
    },
    {
     "name": "stderr",
     "output_type": "stream",
     "text": [
      "Rate limit reached. Sleeping for: 280\n"
     ]
    },
    {
     "name": "stdout",
     "output_type": "stream",
     "text": [
      "Extracted info from 143645 tweets\n",
      "For this page, converted 495 tweets: 78.67% of the month in total (pred remaining: 11.67 h)\n",
      "Extracted info from 144141 tweets\n",
      "For this page, converted 496 tweets: 78.93% of the month in total (pred remaining: 11.52 h)\n"
     ]
    },
    {
     "name": "stderr",
     "output_type": "stream",
     "text": [
      "Rate limit reached. Sleeping for: 342\n"
     ]
    },
    {
     "name": "stdout",
     "output_type": "stream",
     "text": [
      "Extracted info from 144637 tweets\n",
      "For this page, converted 496 tweets: 79.2% of the month in total (pred remaining: 11.38 h)\n",
      "Extracted info from 145135 tweets\n",
      "For this page, converted 498 tweets: 79.47% of the month in total (pred remaining: 11.23 h)\n"
     ]
    },
    {
     "name": "stderr",
     "output_type": "stream",
     "text": [
      "Rate limit reached. Sleeping for: 306\n"
     ]
    },
    {
     "name": "stdout",
     "output_type": "stream",
     "text": [
      "Extracted info from 145627 tweets\n",
      "For this page, converted 492 tweets: 79.73% of the month in total (pred remaining: 11.08 h)\n",
      "Extracted info from 146117 tweets\n",
      "For this page, converted 490 tweets: 80.0% of the month in total (pred remaining: 10.94 h)\n"
     ]
    },
    {
     "name": "stderr",
     "output_type": "stream",
     "text": [
      "Rate limit reached. Sleeping for: 266\n"
     ]
    },
    {
     "name": "stdout",
     "output_type": "stream",
     "text": [
      "Extracted info from 146600 tweets\n",
      "For this page, converted 483 tweets: 80.27% of the month in total (pred remaining: 10.79 h)\n",
      "Extracted info from 147093 tweets\n",
      "For this page, converted 493 tweets: 80.53% of the month in total (pred remaining: 10.65 h)\n"
     ]
    },
    {
     "name": "stderr",
     "output_type": "stream",
     "text": [
      "Rate limit reached. Sleeping for: 334\n"
     ]
    },
    {
     "name": "stdout",
     "output_type": "stream",
     "text": [
      "Extracted info from 147586 tweets\n",
      "For this page, converted 493 tweets: 80.8% of the month in total (pred remaining: 10.5 h)\n"
     ]
    },
    {
     "name": "stderr",
     "output_type": "stream",
     "text": [
      "Rate limit reached. Sleeping for: 363\n"
     ]
    },
    {
     "name": "stdout",
     "output_type": "stream",
     "text": [
      "Extracted info from 148080 tweets\n",
      "For this page, converted 494 tweets: 81.07% of the month in total (pred remaining: 10.35 h)\n",
      "Extracted info from 148567 tweets\n",
      "For this page, converted 487 tweets: 81.33% of the month in total (pred remaining: 10.21 h)\n"
     ]
    },
    {
     "name": "stderr",
     "output_type": "stream",
     "text": [
      "Rate limit reached. Sleeping for: 412\n"
     ]
    },
    {
     "name": "stdout",
     "output_type": "stream",
     "text": [
      "Extracted info from 149054 tweets\n",
      "For this page, converted 487 tweets: 81.6% of the month in total (pred remaining: 10.06 h)\n",
      "Extracted info from 149546 tweets\n",
      "For this page, converted 492 tweets: 81.87% of the month in total (pred remaining: 9.92 h)\n"
     ]
    },
    {
     "name": "stderr",
     "output_type": "stream",
     "text": [
      "Rate limit reached. Sleeping for: 436\n"
     ]
    },
    {
     "name": "stdout",
     "output_type": "stream",
     "text": [
      "Extracted info from 150037 tweets\n",
      "For this page, converted 491 tweets: 82.13% of the month in total (pred remaining: 9.77 h)\n",
      "Extracted info from 150517 tweets\n",
      "For this page, converted 480 tweets: 82.4% of the month in total (pred remaining: 9.62 h)\n"
     ]
    },
    {
     "name": "stderr",
     "output_type": "stream",
     "text": [
      "Rate limit reached. Sleeping for: 460\n"
     ]
    },
    {
     "name": "stdout",
     "output_type": "stream",
     "text": [
      "Extracted info from 150970 tweets\n",
      "For this page, converted 453 tweets: 82.67% of the month in total (pred remaining: 9.48 h)\n",
      "Extracted info from 151414 tweets\n",
      "For this page, converted 444 tweets: 82.93% of the month in total (pred remaining: 9.33 h)\n"
     ]
    },
    {
     "name": "stderr",
     "output_type": "stream",
     "text": [
      "Rate limit reached. Sleeping for: 448\n"
     ]
    },
    {
     "name": "stdout",
     "output_type": "stream",
     "text": [
      "Extracted info from 151904 tweets\n",
      "For this page, converted 490 tweets: 83.2% of the month in total (pred remaining: 9.19 h)\n",
      "Extracted info from 152396 tweets\n",
      "For this page, converted 492 tweets: 83.47% of the month in total (pred remaining: 9.04 h)\n"
     ]
    },
    {
     "name": "stderr",
     "output_type": "stream",
     "text": [
      "Rate limit reached. Sleeping for: 436\n"
     ]
    },
    {
     "name": "stdout",
     "output_type": "stream",
     "text": [
      "Extracted info from 152873 tweets\n",
      "For this page, converted 477 tweets: 83.73% of the month in total (pred remaining: 8.9 h)\n",
      "Extracted info from 153359 tweets\n",
      "For this page, converted 486 tweets: 84.0% of the month in total (pred remaining: 8.75 h)\n"
     ]
    },
    {
     "name": "stderr",
     "output_type": "stream",
     "text": [
      "Rate limit reached. Sleeping for: 427\n"
     ]
    },
    {
     "name": "stdout",
     "output_type": "stream",
     "text": [
      "Extracted info from 153846 tweets\n",
      "For this page, converted 487 tweets: 84.27% of the month in total (pred remaining: 8.6 h)\n"
     ]
    },
    {
     "name": "stderr",
     "output_type": "stream",
     "text": [
      "Rate limit reached. Sleeping for: 436\n"
     ]
    },
    {
     "name": "stdout",
     "output_type": "stream",
     "text": [
      "Extracted info from 154340 tweets\n",
      "For this page, converted 494 tweets: 84.53% of the month in total (pred remaining: 8.46 h)\n",
      "Extracted info from 154833 tweets\n",
      "For this page, converted 493 tweets: 84.8% of the month in total (pred remaining: 8.31 h)\n"
     ]
    },
    {
     "name": "stderr",
     "output_type": "stream",
     "text": [
      "Rate limit reached. Sleeping for: 423\n"
     ]
    },
    {
     "name": "stdout",
     "output_type": "stream",
     "text": [
      "Extracted info from 155325 tweets\n",
      "For this page, converted 492 tweets: 85.07% of the month in total (pred remaining: 8.17 h)\n",
      "Extracted info from 155817 tweets\n",
      "For this page, converted 492 tweets: 85.33% of the month in total (pred remaining: 8.02 h)\n"
     ]
    },
    {
     "name": "stderr",
     "output_type": "stream",
     "text": [
      "Rate limit reached. Sleeping for: 415\n"
     ]
    },
    {
     "name": "stdout",
     "output_type": "stream",
     "text": [
      "Extracted info from 156315 tweets\n",
      "For this page, converted 498 tweets: 85.6% of the month in total (pred remaining: 7.88 h)\n",
      "Extracted info from 156813 tweets\n",
      "For this page, converted 498 tweets: 85.87% of the month in total (pred remaining: 7.73 h)\n"
     ]
    },
    {
     "name": "stderr",
     "output_type": "stream",
     "text": [
      "Rate limit reached. Sleeping for: 434\n"
     ]
    },
    {
     "name": "stdout",
     "output_type": "stream",
     "text": [
      "Extracted info from 157310 tweets\n",
      "For this page, converted 497 tweets: 86.13% of the month in total (pred remaining: 7.58 h)\n",
      "Extracted info from 157799 tweets\n",
      "For this page, converted 489 tweets: 86.4% of the month in total (pred remaining: 7.44 h)\n"
     ]
    },
    {
     "name": "stderr",
     "output_type": "stream",
     "text": [
      "Rate limit reached. Sleeping for: 405\n"
     ]
    },
    {
     "name": "stdout",
     "output_type": "stream",
     "text": [
      "Extracted info from 158295 tweets\n",
      "For this page, converted 496 tweets: 86.67% of the month in total (pred remaining: 7.29 h)\n",
      "Extracted info from 158779 tweets\n",
      "For this page, converted 484 tweets: 86.93% of the month in total (pred remaining: 7.15 h)\n"
     ]
    },
    {
     "name": "stderr",
     "output_type": "stream",
     "text": [
      "Rate limit reached. Sleeping for: 439\n"
     ]
    },
    {
     "name": "stdout",
     "output_type": "stream",
     "text": [
      "Extracted info from 159268 tweets\n",
      "For this page, converted 489 tweets: 87.2% of the month in total (pred remaining: 7.0 h)\n"
     ]
    },
    {
     "name": "stderr",
     "output_type": "stream",
     "text": [
      "Rate limit reached. Sleeping for: 448\n"
     ]
    },
    {
     "name": "stdout",
     "output_type": "stream",
     "text": [
      "Extracted info from 159756 tweets\n",
      "For this page, converted 488 tweets: 87.47% of the month in total (pred remaining: 6.85 h)\n",
      "Extracted info from 160242 tweets\n",
      "For this page, converted 486 tweets: 87.73% of the month in total (pred remaining: 6.71 h)\n"
     ]
    },
    {
     "name": "stderr",
     "output_type": "stream",
     "text": [
      "Rate limit reached. Sleeping for: 448\n"
     ]
    },
    {
     "name": "stdout",
     "output_type": "stream",
     "text": [
      "Extracted info from 160732 tweets\n",
      "For this page, converted 490 tweets: 88.0% of the month in total (pred remaining: 6.56 h)\n",
      "Extracted info from 161223 tweets\n",
      "For this page, converted 491 tweets: 88.27% of the month in total (pred remaining: 6.42 h)\n"
     ]
    },
    {
     "name": "stderr",
     "output_type": "stream",
     "text": [
      "Rate limit reached. Sleeping for: 437\n"
     ]
    },
    {
     "name": "stdout",
     "output_type": "stream",
     "text": [
      "Extracted info from 161712 tweets\n",
      "For this page, converted 489 tweets: 88.53% of the month in total (pred remaining: 6.27 h)\n",
      "Extracted info from 162160 tweets\n",
      "For this page, converted 448 tweets: 88.8% of the month in total (pred remaining: 6.12 h)\n"
     ]
    },
    {
     "name": "stderr",
     "output_type": "stream",
     "text": [
      "Rate limit reached. Sleeping for: 445\n"
     ]
    },
    {
     "name": "stdout",
     "output_type": "stream",
     "text": [
      "Extracted info from 162642 tweets\n",
      "For this page, converted 482 tweets: 89.07% of the month in total (pred remaining: 5.98 h)\n",
      "Extracted info from 163115 tweets\n",
      "For this page, converted 473 tweets: 89.33% of the month in total (pred remaining: 5.83 h)\n"
     ]
    },
    {
     "name": "stderr",
     "output_type": "stream",
     "text": [
      "Rate limit reached. Sleeping for: 423\n"
     ]
    },
    {
     "name": "stdout",
     "output_type": "stream",
     "text": [
      "Extracted info from 163568 tweets\n",
      "For this page, converted 453 tweets: 89.6% of the month in total (pred remaining: 5.69 h)\n",
      "Extracted info from 164043 tweets\n",
      "For this page, converted 475 tweets: 89.87% of the month in total (pred remaining: 5.54 h)\n"
     ]
    },
    {
     "name": "stderr",
     "output_type": "stream",
     "text": [
      "Rate limit reached. Sleeping for: 466\n"
     ]
    },
    {
     "name": "stdout",
     "output_type": "stream",
     "text": [
      "Extracted info from 164533 tweets\n",
      "For this page, converted 490 tweets: 90.13% of the month in total (pred remaining: 5.4 h)\n",
      "Extracted info from 165021 tweets\n",
      "For this page, converted 488 tweets: 90.4% of the month in total (pred remaining: 5.25 h)\n"
     ]
    },
    {
     "name": "stderr",
     "output_type": "stream",
     "text": [
      "Rate limit reached. Sleeping for: 439\n"
     ]
    },
    {
     "name": "stdout",
     "output_type": "stream",
     "text": [
      "Extracted info from 165508 tweets\n",
      "For this page, converted 487 tweets: 90.67% of the month in total (pred remaining: 5.1 h)\n",
      "Extracted info from 166000 tweets\n",
      "For this page, converted 492 tweets: 90.93% of the month in total (pred remaining: 4.96 h)\n"
     ]
    },
    {
     "name": "stderr",
     "output_type": "stream",
     "text": [
      "Rate limit reached. Sleeping for: 418\n"
     ]
    },
    {
     "name": "stdout",
     "output_type": "stream",
     "text": [
      "Extracted info from 166484 tweets\n",
      "For this page, converted 484 tweets: 91.2% of the month in total (pred remaining: 4.81 h)\n"
     ]
    },
    {
     "name": "stderr",
     "output_type": "stream",
     "text": [
      "Rate limit reached. Sleeping for: 448\n"
     ]
    },
    {
     "name": "stdout",
     "output_type": "stream",
     "text": [
      "Extracted info from 166972 tweets\n",
      "For this page, converted 488 tweets: 91.47% of the month in total (pred remaining: 4.67 h)\n",
      "Extracted info from 167470 tweets\n",
      "For this page, converted 498 tweets: 91.73% of the month in total (pred remaining: 4.52 h)\n"
     ]
    },
    {
     "name": "stderr",
     "output_type": "stream",
     "text": [
      "Rate limit reached. Sleeping for: 444\n"
     ]
    },
    {
     "name": "stdout",
     "output_type": "stream",
     "text": [
      "Extracted info from 167965 tweets\n",
      "For this page, converted 495 tweets: 92.0% of the month in total (pred remaining: 4.38 h)\n",
      "Extracted info from 168451 tweets\n",
      "For this page, converted 486 tweets: 92.27% of the month in total (pred remaining: 4.23 h)\n"
     ]
    },
    {
     "name": "stderr",
     "output_type": "stream",
     "text": [
      "Rate limit reached. Sleeping for: 433\n"
     ]
    },
    {
     "name": "stdout",
     "output_type": "stream",
     "text": [
      "Extracted info from 168943 tweets\n",
      "For this page, converted 492 tweets: 92.53% of the month in total (pred remaining: 4.08 h)\n",
      "Extracted info from 169434 tweets\n",
      "For this page, converted 491 tweets: 92.8% of the month in total (pred remaining: 3.94 h)\n"
     ]
    },
    {
     "name": "stderr",
     "output_type": "stream",
     "text": [
      "Rate limit reached. Sleeping for: 426\n"
     ]
    },
    {
     "name": "stdout",
     "output_type": "stream",
     "text": [
      "Extracted info from 169931 tweets\n",
      "For this page, converted 497 tweets: 93.07% of the month in total (pred remaining: 3.79 h)\n",
      "Extracted info from 170422 tweets\n",
      "For this page, converted 491 tweets: 93.33% of the month in total (pred remaining: 3.65 h)\n"
     ]
    },
    {
     "name": "stderr",
     "output_type": "stream",
     "text": [
      "Rate limit reached. Sleeping for: 441\n"
     ]
    },
    {
     "name": "stdout",
     "output_type": "stream",
     "text": [
      "Extracted info from 170911 tweets\n",
      "For this page, converted 489 tweets: 93.6% of the month in total (pred remaining: 3.5 h)\n",
      "Extracted info from 171397 tweets\n",
      "For this page, converted 486 tweets: 93.87% of the month in total (pred remaining: 3.35 h)\n"
     ]
    },
    {
     "name": "stderr",
     "output_type": "stream",
     "text": [
      "Rate limit reached. Sleeping for: 432\n"
     ]
    },
    {
     "name": "stdout",
     "output_type": "stream",
     "text": [
      "Extracted info from 171885 tweets\n",
      "For this page, converted 488 tweets: 94.13% of the month in total (pred remaining: 3.21 h)\n"
     ]
    },
    {
     "name": "stderr",
     "output_type": "stream",
     "text": [
      "Rate limit reached. Sleeping for: 434\n"
     ]
    },
    {
     "name": "stdout",
     "output_type": "stream",
     "text": [
      "Extracted info from 172360 tweets\n",
      "For this page, converted 475 tweets: 94.4% of the month in total (pred remaining: 3.06 h)\n",
      "Extracted info from 172838 tweets\n",
      "For this page, converted 478 tweets: 94.67% of the month in total (pred remaining: 2.92 h)\n"
     ]
    },
    {
     "name": "stderr",
     "output_type": "stream",
     "text": [
      "Rate limit reached. Sleeping for: 447\n"
     ]
    },
    {
     "name": "stdout",
     "output_type": "stream",
     "text": [
      "Extracted info from 173321 tweets\n",
      "For this page, converted 483 tweets: 94.93% of the month in total (pred remaining: 2.77 h)\n",
      "Extracted info from 173808 tweets\n",
      "For this page, converted 487 tweets: 95.2% of the month in total (pred remaining: 2.62 h)\n"
     ]
    },
    {
     "name": "stderr",
     "output_type": "stream",
     "text": [
      "Rate limit reached. Sleeping for: 430\n"
     ]
    },
    {
     "name": "stdout",
     "output_type": "stream",
     "text": [
      "Extracted info from 174296 tweets\n",
      "For this page, converted 488 tweets: 95.47% of the month in total (pred remaining: 2.48 h)\n",
      "Extracted info from 174789 tweets\n",
      "For this page, converted 493 tweets: 95.73% of the month in total (pred remaining: 2.33 h)\n"
     ]
    },
    {
     "name": "stderr",
     "output_type": "stream",
     "text": [
      "Rate limit reached. Sleeping for: 424\n"
     ]
    },
    {
     "name": "stdout",
     "output_type": "stream",
     "text": [
      "Extracted info from 175271 tweets\n",
      "For this page, converted 482 tweets: 96.0% of the month in total (pred remaining: 2.19 h)\n",
      "Extracted info from 175765 tweets\n",
      "For this page, converted 494 tweets: 96.27% of the month in total (pred remaining: 2.04 h)\n"
     ]
    },
    {
     "name": "stderr",
     "output_type": "stream",
     "text": [
      "Rate limit reached. Sleeping for: 430\n"
     ]
    },
    {
     "name": "stdout",
     "output_type": "stream",
     "text": [
      "Extracted info from 176254 tweets\n",
      "For this page, converted 489 tweets: 96.53% of the month in total (pred remaining: 1.9 h)\n",
      "Extracted info from 176739 tweets\n",
      "For this page, converted 485 tweets: 96.8% of the month in total (pred remaining: 1.75 h)\n"
     ]
    },
    {
     "name": "stderr",
     "output_type": "stream",
     "text": [
      "Rate limit reached. Sleeping for: 436\n"
     ]
    },
    {
     "name": "stdout",
     "output_type": "stream",
     "text": [
      "Extracted info from 177210 tweets\n",
      "For this page, converted 471 tweets: 97.07% of the month in total (pred remaining: 1.6 h)\n",
      "Extracted info from 177685 tweets\n",
      "For this page, converted 475 tweets: 97.33% of the month in total (pred remaining: 1.46 h)\n"
     ]
    },
    {
     "name": "stderr",
     "output_type": "stream",
     "text": [
      "Rate limit reached. Sleeping for: 445\n"
     ]
    },
    {
     "name": "stdout",
     "output_type": "stream",
     "text": [
      "Extracted info from 178158 tweets\n",
      "For this page, converted 473 tweets: 97.6% of the month in total (pred remaining: 1.31 h)\n",
      "Extracted info from 178625 tweets\n",
      "For this page, converted 467 tweets: 97.87% of the month in total (pred remaining: 1.17 h)\n"
     ]
    },
    {
     "name": "stderr",
     "output_type": "stream",
     "text": [
      "Rate limit reached. Sleeping for: 427\n"
     ]
    },
    {
     "name": "stdout",
     "output_type": "stream",
     "text": [
      "Extracted info from 179093 tweets\n",
      "For this page, converted 468 tweets: 98.13% of the month in total (pred remaining: 1.02 h)\n"
     ]
    },
    {
     "name": "stderr",
     "output_type": "stream",
     "text": [
      "Rate limit reached. Sleeping for: 429\n"
     ]
    },
    {
     "name": "stdout",
     "output_type": "stream",
     "text": [
      "Extracted info from 179577 tweets\n",
      "For this page, converted 484 tweets: 98.4% of the month in total (pred remaining: 0.88 h)\n",
      "Extracted info from 180049 tweets\n",
      "For this page, converted 472 tweets: 98.67% of the month in total (pred remaining: 0.73 h)\n"
     ]
    },
    {
     "name": "stderr",
     "output_type": "stream",
     "text": [
      "Rate limit reached. Sleeping for: 383\n"
     ]
    },
    {
     "name": "stdout",
     "output_type": "stream",
     "text": [
      "Extracted info from 180497 tweets\n",
      "For this page, converted 448 tweets: 98.93% of the month in total (pred remaining: 0.58 h)\n",
      "Extracted info from 180916 tweets\n",
      "For this page, converted 419 tweets: 99.2% of the month in total (pred remaining: 0.44 h)\n",
      "Extracted info from 181321 tweets\n",
      "For this page, converted 405 tweets: 99.47% of the month in total (pred remaining: 0.29 h)\n"
     ]
    },
    {
     "name": "stderr",
     "output_type": "stream",
     "text": [
      "Rate limit reached. Sleeping for: 295\n"
     ]
    },
    {
     "name": "stdout",
     "output_type": "stream",
     "text": [
      "Extracted info from 181709 tweets\n",
      "For this page, converted 388 tweets: 99.73% of the month in total (pred remaining: 0.15 h)\n",
      "Extracted info from 182132 tweets\n",
      "For this page, converted 423 tweets: 100.0% of the month in total (pred remaining: 0.0 h)\n"
     ]
    },
    {
     "ename": "ValueError",
     "evalue": "cannot set a row with mismatched columns",
     "output_type": "error",
     "traceback": [
      "\u001b[1;31m---------------------------------------------------------------------------\u001b[0m",
      "\u001b[1;31mValueError\u001b[0m                                Traceback (most recent call last)",
      "\u001b[1;32mc:\\Users\\joseph\\OneDrive - Universidad del Norte\\Scripts VMASC\\Academic Research Twitter Search (10M)\\20M tweets extraction.ipynb Cell 17'\u001b[0m in \u001b[0;36m<cell line: 3>\u001b[1;34m()\u001b[0m\n\u001b[0;32m      <a href='vscode-notebook-cell:/c%3A/Users/joseph/OneDrive%20-%20Universidad%20del%20Norte/Scripts%20VMASC/Academic%20Research%20Twitter%20Search%20%2810M%29/20M%20tweets%20extraction.ipynb#ch0000023?line=8'>9</a>\u001b[0m tweets_dict \u001b[39m=\u001b[39m pfunctions\u001b[39m.\u001b[39mget_data_and_geo(m, geocoder, tweet_json_find)    \u001b[39m#get json data and gelocation info from tweet json\u001b[39;00m\n\u001b[0;32m     <a href='vscode-notebook-cell:/c%3A/Users/joseph/OneDrive%20-%20Universidad%20del%20Norte/Scripts%20VMASC/Academic%20Research%20Twitter%20Search%20%2810M%29/20M%20tweets%20extraction.ipynb#ch0000023?line=10'>11</a>\u001b[0m executionTime \u001b[39m=\u001b[39m (time\u001b[39m.\u001b[39mtime() \u001b[39m-\u001b[39m startTime)\n\u001b[1;32m---> <a href='vscode-notebook-cell:/c%3A/Users/joseph/OneDrive%20-%20Universidad%20del%20Norte/Scripts%20VMASC/Academic%20Research%20Twitter%20Search%20%2810M%29/20M%20tweets%20extraction.ipynb#ch0000023?line=12'>13</a>\u001b[0m times_df\u001b[39m.\u001b[39mloc[\u001b[39mlen\u001b[39m(times_df[\u001b[39m'\u001b[39m\u001b[39mdate\u001b[39m\u001b[39m'\u001b[39m])]\u001b[39m=\u001b[39m[date_i,executionTime]\n\u001b[0;32m     <a href='vscode-notebook-cell:/c%3A/Users/joseph/OneDrive%20-%20Universidad%20del%20Norte/Scripts%20VMASC/Academic%20Research%20Twitter%20Search%20%2810M%29/20M%20tweets%20extraction.ipynb#ch0000023?line=13'>14</a>\u001b[0m tweets_df \u001b[39m=\u001b[39m pd\u001b[39m.\u001b[39mDataFrame\u001b[39m.\u001b[39mfrom_dict(tweets_dict)\n\u001b[0;32m     <a href='vscode-notebook-cell:/c%3A/Users/joseph/OneDrive%20-%20Universidad%20del%20Norte/Scripts%20VMASC/Academic%20Research%20Twitter%20Search%20%2810M%29/20M%20tweets%20extraction.ipynb#ch0000023?line=14'>15</a>\u001b[0m pickle_out \u001b[39m=\u001b[39m \u001b[39mopen\u001b[39m(\u001b[39m\"\u001b[39m\u001b[39m./Tweets/df\u001b[39m\u001b[39m\"\u001b[39m\u001b[39m+\u001b[39mdate_i\u001b[39m+\u001b[39m\u001b[39m\"\u001b[39m\u001b[39m.pickle\u001b[39m\u001b[39m\"\u001b[39m,\u001b[39m\"\u001b[39m\u001b[39mwb\u001b[39m\u001b[39m\"\u001b[39m)\n",
      "File \u001b[1;32m~\\AppData\\Roaming\\Python\\Python310\\site-packages\\pandas\\core\\indexing.py:716\u001b[0m, in \u001b[0;36m_LocationIndexer.__setitem__\u001b[1;34m(self, key, value)\u001b[0m\n\u001b[0;32m    713\u001b[0m \u001b[39mself\u001b[39m\u001b[39m.\u001b[39m_has_valid_setitem_indexer(key)\n\u001b[0;32m    715\u001b[0m iloc \u001b[39m=\u001b[39m \u001b[39mself\u001b[39m \u001b[39mif\u001b[39;00m \u001b[39mself\u001b[39m\u001b[39m.\u001b[39mname \u001b[39m==\u001b[39m \u001b[39m\"\u001b[39m\u001b[39miloc\u001b[39m\u001b[39m\"\u001b[39m \u001b[39melse\u001b[39;00m \u001b[39mself\u001b[39m\u001b[39m.\u001b[39mobj\u001b[39m.\u001b[39miloc\n\u001b[1;32m--> 716\u001b[0m iloc\u001b[39m.\u001b[39;49m_setitem_with_indexer(indexer, value, \u001b[39mself\u001b[39;49m\u001b[39m.\u001b[39;49mname)\n",
      "File \u001b[1;32m~\\AppData\\Roaming\\Python\\Python310\\site-packages\\pandas\\core\\indexing.py:1682\u001b[0m, in \u001b[0;36m_iLocIndexer._setitem_with_indexer\u001b[1;34m(self, indexer, value, name)\u001b[0m\n\u001b[0;32m   1679\u001b[0m     indexer, missing \u001b[39m=\u001b[39m convert_missing_indexer(indexer)\n\u001b[0;32m   1681\u001b[0m     \u001b[39mif\u001b[39;00m missing:\n\u001b[1;32m-> 1682\u001b[0m         \u001b[39mself\u001b[39;49m\u001b[39m.\u001b[39;49m_setitem_with_indexer_missing(indexer, value)\n\u001b[0;32m   1683\u001b[0m         \u001b[39mreturn\u001b[39;00m\n\u001b[0;32m   1685\u001b[0m \u001b[39m# align and set the values\u001b[39;00m\n",
      "File \u001b[1;32m~\\AppData\\Roaming\\Python\\Python310\\site-packages\\pandas\\core\\indexing.py:1998\u001b[0m, in \u001b[0;36m_iLocIndexer._setitem_with_indexer_missing\u001b[1;34m(self, indexer, value)\u001b[0m\n\u001b[0;32m   1995\u001b[0m     \u001b[39mif\u001b[39;00m is_list_like_indexer(value):\n\u001b[0;32m   1996\u001b[0m         \u001b[39m# must have conforming columns\u001b[39;00m\n\u001b[0;32m   1997\u001b[0m         \u001b[39mif\u001b[39;00m \u001b[39mlen\u001b[39m(value) \u001b[39m!=\u001b[39m \u001b[39mlen\u001b[39m(\u001b[39mself\u001b[39m\u001b[39m.\u001b[39mobj\u001b[39m.\u001b[39mcolumns):\n\u001b[1;32m-> 1998\u001b[0m             \u001b[39mraise\u001b[39;00m \u001b[39mValueError\u001b[39;00m(\u001b[39m\"\u001b[39m\u001b[39mcannot set a row with mismatched columns\u001b[39m\u001b[39m\"\u001b[39m)\n\u001b[0;32m   2000\u001b[0m     value \u001b[39m=\u001b[39m Series(value, index\u001b[39m=\u001b[39m\u001b[39mself\u001b[39m\u001b[39m.\u001b[39mobj\u001b[39m.\u001b[39mcolumns, name\u001b[39m=\u001b[39mindexer)\n\u001b[0;32m   2002\u001b[0m \u001b[39mif\u001b[39;00m \u001b[39mnot\u001b[39;00m \u001b[39mlen\u001b[39m(\u001b[39mself\u001b[39m\u001b[39m.\u001b[39mobj):\n\u001b[0;32m   2003\u001b[0m     \u001b[39m# We will ignore the existing dtypes instead of using\u001b[39;00m\n\u001b[0;32m   2004\u001b[0m     \u001b[39m#  internals.concat logic\u001b[39;00m\n",
      "\u001b[1;31mValueError\u001b[0m: cannot set a row with mismatched columns"
     ]
    }
   ],
   "source": [
    "data_range = ['2020-05'] #must be in the YYYY-MM format\n",
    "\n",
    "for date_i in data_range:\n",
    "    tweets_dict = []\n",
    "    startTime = time.time()\n",
    "\n",
    "    m = json.load(open(\"./Tweets/\"+date_i+\".json\")) #open every json file\n",
    "\n",
    "    tweets_dict = pfunctions.get_data_and_geo(m, geocoder, tweet_json_find)    #get json data and gelocation info from tweet json\n",
    "    \n",
    "    executionTime = (time.time() - startTime)\n",
    "\n",
    "    times_df.loc[len(times_df['date'])]=[date_i,executionTime]\n",
    "    tweets_df = pd.DataFrame.from_dict(tweets_dict)\n",
    "    pickle_out = open(\"./Tweets/df\"+date_i+\".pickle\",\"wb\")\n",
    "    pickle.dump(tweets_df,pickle_out)\n",
    "    pickle_out.close\n",
    "    print(str(date_i),\" correctly converted to dataframe and exported in \",round(executionTime,4),\" sg\", sep = \"\")\n",
    "    \n",
    "times_df.to_csv('./Tweets/times.csv', index = False)"
   ]
  },
  {
   "cell_type": "code",
   "execution_count": 7,
   "id": "12aa49bf",
   "metadata": {},
   "outputs": [
    {
     "ename": "NameError",
     "evalue": "name 'tweets_df' is not defined",
     "output_type": "error",
     "traceback": [
      "\u001b[1;31m---------------------------------------------------------------------------\u001b[0m",
      "\u001b[1;31mNameError\u001b[0m                                 Traceback (most recent call last)",
      "\u001b[1;32mc:\\Users\\joseph\\OneDrive - Universidad del Norte\\Scripts VMASC\\Academic Research Twitter Search (10M)\\20M tweets extraction.ipynb Cell 18'\u001b[0m in \u001b[0;36m<cell line: 2>\u001b[1;34m()\u001b[0m\n\u001b[0;32m      <a href='vscode-notebook-cell:/c%3A/Users/joseph/OneDrive%20-%20Universidad%20del%20Norte/Scripts%20VMASC/Academic%20Research%20Twitter%20Search%20%2810M%29/20M%20tweets%20extraction.ipynb#ch0000045?line=0'>1</a>\u001b[0m pickle_out \u001b[39m=\u001b[39m \u001b[39mopen\u001b[39m(\u001b[39m\"\u001b[39m\u001b[39m./Tweets/df\u001b[39m\u001b[39m\"\u001b[39m\u001b[39m+\u001b[39mdate_i\u001b[39m+\u001b[39m\u001b[39m\"\u001b[39m\u001b[39m.pickle\u001b[39m\u001b[39m\"\u001b[39m,\u001b[39m\"\u001b[39m\u001b[39mwb\u001b[39m\u001b[39m\"\u001b[39m)\n\u001b[1;32m----> <a href='vscode-notebook-cell:/c%3A/Users/joseph/OneDrive%20-%20Universidad%20del%20Norte/Scripts%20VMASC/Academic%20Research%20Twitter%20Search%20%2810M%29/20M%20tweets%20extraction.ipynb#ch0000045?line=1'>2</a>\u001b[0m pickle\u001b[39m.\u001b[39mdump(tweets_df,pickle_out)\n\u001b[0;32m      <a href='vscode-notebook-cell:/c%3A/Users/joseph/OneDrive%20-%20Universidad%20del%20Norte/Scripts%20VMASC/Academic%20Research%20Twitter%20Search%20%2810M%29/20M%20tweets%20extraction.ipynb#ch0000045?line=2'>3</a>\u001b[0m pickle_out\u001b[39m.\u001b[39mclose\n",
      "\u001b[1;31mNameError\u001b[0m: name 'tweets_df' is not defined"
     ]
    }
   ],
   "source": [
    "pickle_out = open(\"./Tweets/df\"+date_i+\".pickle\",\"wb\")\n",
    "pickle.dump(tweets_df,pickle_out)\n",
    "pickle_out.close"
   ]
  },
  {
   "cell_type": "markdown",
   "id": "cab130ca",
   "metadata": {},
   "source": [
    "# JSON convert to dataframe"
   ]
  },
  {
   "cell_type": "code",
   "execution_count": 8,
   "id": "e0d9d62a",
   "metadata": {},
   "outputs": [],
   "source": [
    "for i in range(len(tweets_r)):\n",
    "    for j in range(len(tweets_r[i]['data'])):\n",
    "        id_i = tweets_r[i]['data'][j]['id']\n",
    "        text_i = tweets_r[i]['data'][j]['text']\n",
    "        tweets_df.loc[len(tweets_df['Id'])]=[id_i,text_i]      "
   ]
  },
  {
   "cell_type": "code",
   "execution_count": 9,
   "id": "5853fab2",
   "metadata": {
    "scrolled": true
   },
   "outputs": [],
   "source": [
    "tweets_df = tweets_df.drop(0)\n"
   ]
  },
  {
   "cell_type": "code",
   "execution_count": 10,
   "id": "407f9a13",
   "metadata": {},
   "outputs": [],
   "source": [
    "tweets_df = tweets_df.reset_index()"
   ]
  },
  {
   "cell_type": "code",
   "execution_count": 19,
   "id": "04c5c4b9",
   "metadata": {
    "scrolled": true
   },
   "outputs": [
    {
     "data": {
      "text/html": [
       "<div>\n",
       "<style scoped>\n",
       "    .dataframe tbody tr th:only-of-type {\n",
       "        vertical-align: middle;\n",
       "    }\n",
       "\n",
       "    .dataframe tbody tr th {\n",
       "        vertical-align: top;\n",
       "    }\n",
       "\n",
       "    .dataframe thead th {\n",
       "        text-align: right;\n",
       "    }\n",
       "</style>\n",
       "<table border=\"1\" class=\"dataframe\">\n",
       "  <thead>\n",
       "    <tr style=\"text-align: right;\">\n",
       "      <th></th>\n",
       "      <th>index</th>\n",
       "      <th>Id</th>\n",
       "      <th>text</th>\n",
       "      <th>json</th>\n",
       "    </tr>\n",
       "  </thead>\n",
       "  <tbody>\n",
       "    <tr>\n",
       "      <th>0</th>\n",
       "      <td>1</td>\n",
       "      <td>429478735541460992</td>\n",
       "      <td>RT @Veneco_Babes: @marycarmenfh @trinysex @Div...</td>\n",
       "      <td>{'created_at': 'Sat Feb 01 04:58:04 +0000 2014...</td>\n",
       "    </tr>\n",
       "    <tr>\n",
       "      <th>1</th>\n",
       "      <td>2</td>\n",
       "      <td>429476144170422272</td>\n",
       "      <td>RT @Veneco_Babes: @marycarmenfh @trinysex @Div...</td>\n",
       "      <td>amarillo</td>\n",
       "    </tr>\n",
       "    <tr>\n",
       "      <th>2</th>\n",
       "      <td>3</td>\n",
       "      <td>429475247448793088</td>\n",
       "      <td>@aluxtuitea @rogeliosamour @JJRENDON @JNatanVa...</td>\n",
       "      <td>amarillo</td>\n",
       "    </tr>\n",
       "    <tr>\n",
       "      <th>3</th>\n",
       "      <td>4</td>\n",
       "      <td>429443798234824704</td>\n",
       "      <td>@Mayomendozaf @callollanos @JanioCuadro el que...</td>\n",
       "      <td>amarillo</td>\n",
       "    </tr>\n",
       "    <tr>\n",
       "      <th>4</th>\n",
       "      <td>5</td>\n",
       "      <td>429438621037625344</td>\n",
       "      <td>A ustedes les gusta que les digan Venecos/as?</td>\n",
       "      <td>amarillo</td>\n",
       "    </tr>\n",
       "    <tr>\n",
       "      <th>...</th>\n",
       "      <td>...</td>\n",
       "      <td>...</td>\n",
       "      <td>...</td>\n",
       "      <td>...</td>\n",
       "    </tr>\n",
       "    <tr>\n",
       "      <th>1722</th>\n",
       "      <td>1723</td>\n",
       "      <td>418300487445012480</td>\n",
       "      <td>Veneco &amp;amp; Young King ♥ https://t.co/lMYzGRUxwr</td>\n",
       "      <td>amarillo</td>\n",
       "    </tr>\n",
       "    <tr>\n",
       "      <th>1723</th>\n",
       "      <td>1724</td>\n",
       "      <td>418277758989385728</td>\n",
       "      <td>Los tios venecos #familia #familia #navidades2...</td>\n",
       "      <td>amarillo</td>\n",
       "    </tr>\n",
       "    <tr>\n",
       "      <th>1724</th>\n",
       "      <td>1725</td>\n",
       "      <td>418262764000665600</td>\n",
       "      <td>@khristopbarca jajajajajaj y a que mundial es ...</td>\n",
       "      <td>amarillo</td>\n",
       "    </tr>\n",
       "    <tr>\n",
       "      <th>1725</th>\n",
       "      <td>1726</td>\n",
       "      <td>418256318571753472</td>\n",
       "      <td>Feliz año para ti mi amor, i love RT @k_mpillo...</td>\n",
       "      <td>amarillo</td>\n",
       "    </tr>\n",
       "    <tr>\n",
       "      <th>1726</th>\n",
       "      <td>1727</td>\n",
       "      <td>418250993525334016</td>\n",
       "      <td>Partying Venezuelan style at the Venecos resid...</td>\n",
       "      <td>amarillo</td>\n",
       "    </tr>\n",
       "  </tbody>\n",
       "</table>\n",
       "<p>1727 rows × 4 columns</p>\n",
       "</div>"
      ],
      "text/plain": [
       "      index                  Id  \\\n",
       "0         1  429478735541460992   \n",
       "1         2  429476144170422272   \n",
       "2         3  429475247448793088   \n",
       "3         4  429443798234824704   \n",
       "4         5  429438621037625344   \n",
       "...     ...                 ...   \n",
       "1722   1723  418300487445012480   \n",
       "1723   1724  418277758989385728   \n",
       "1724   1725  418262764000665600   \n",
       "1725   1726  418256318571753472   \n",
       "1726   1727  418250993525334016   \n",
       "\n",
       "                                                   text  \\\n",
       "0     RT @Veneco_Babes: @marycarmenfh @trinysex @Div...   \n",
       "1     RT @Veneco_Babes: @marycarmenfh @trinysex @Div...   \n",
       "2     @aluxtuitea @rogeliosamour @JJRENDON @JNatanVa...   \n",
       "3     @Mayomendozaf @callollanos @JanioCuadro el que...   \n",
       "4         A ustedes les gusta que les digan Venecos/as?   \n",
       "...                                                 ...   \n",
       "1722  Veneco &amp; Young King ♥ https://t.co/lMYzGRUxwr   \n",
       "1723  Los tios venecos #familia #familia #navidades2...   \n",
       "1724  @khristopbarca jajajajajaj y a que mundial es ...   \n",
       "1725  Feliz año para ti mi amor, i love RT @k_mpillo...   \n",
       "1726  Partying Venezuelan style at the Venecos resid...   \n",
       "\n",
       "                                                   json  \n",
       "0     {'created_at': 'Sat Feb 01 04:58:04 +0000 2014...  \n",
       "1                                              amarillo  \n",
       "2                                              amarillo  \n",
       "3                                              amarillo  \n",
       "4                                              amarillo  \n",
       "...                                                 ...  \n",
       "1722                                           amarillo  \n",
       "1723                                           amarillo  \n",
       "1724                                           amarillo  \n",
       "1725                                           amarillo  \n",
       "1726                                           amarillo  \n",
       "\n",
       "[1727 rows x 4 columns]"
      ]
     },
     "execution_count": 19,
     "metadata": {},
     "output_type": "execute_result"
    }
   ],
   "source": [
    "tweets_df"
   ]
  },
  {
   "cell_type": "code",
   "execution_count": 51,
   "id": "c69be306",
   "metadata": {
    "collapsed": true
   },
   "outputs": [
    {
     "data": {
      "text/plain": [
       "{'created_at': 'Thu Jan 30 19:05:32 +0000 2014',\n",
       " 'id': 428967230689517568,\n",
       " 'id_str': '428967230689517568',\n",
       " 'full_text': '@marycarmenfh @trinysex @DivaCandances @giselleavendao @LorenaParisella @carlaangola @patitolocurita1 Buenas tardes #BellezasTwitteras',\n",
       " 'truncated': False,\n",
       " 'display_text_range': [0, 134],\n",
       " 'entities': {'hashtags': [{'text': 'BellezasTwitteras',\n",
       "    'indices': [116, 134]}],\n",
       "  'symbols': [],\n",
       "  'user_mentions': [{'screen_name': 'marycarmenfh',\n",
       "    'name': 'Mary Carmen Fariña',\n",
       "    'id': 114949779,\n",
       "    'id_str': '114949779',\n",
       "    'indices': [0, 13]},\n",
       "   {'screen_name': 'trinysex',\n",
       "    'name': 'Profesexual (+18)',\n",
       "    'id': 3019078349,\n",
       "    'id_str': '3019078349',\n",
       "    'indices': [14, 23]},\n",
       "   {'screen_name': 'giselleavendao',\n",
       "    'name': 'giselle avendaño',\n",
       "    'id': 587704105,\n",
       "    'id_str': '587704105',\n",
       "    'indices': [39, 54]},\n",
       "   {'screen_name': 'LorenaParisella',\n",
       "    'name': 'Lorena Parisella',\n",
       "    'id': 450023625,\n",
       "    'id_str': '450023625',\n",
       "    'indices': [55, 71]},\n",
       "   {'screen_name': 'carlaangola',\n",
       "    'name': 'Carla Angola TV',\n",
       "    'id': 72627916,\n",
       "    'id_str': '72627916',\n",
       "    'indices': [72, 84]},\n",
       "   {'screen_name': 'patitolocurita1',\n",
       "    'name': ' ♥♡★  Paty (+18) ☆♡♥',\n",
       "    'id': 975862272,\n",
       "    'id_str': '975862272',\n",
       "    'indices': [85, 101]}],\n",
       "  'urls': []},\n",
       " 'source': '<a href=\"http://ubersocial.com\" rel=\"nofollow\">UberSocial for BlackBerry</a>',\n",
       " 'in_reply_to_status_id': 428958517526269953,\n",
       " 'in_reply_to_status_id_str': '428958517526269953',\n",
       " 'in_reply_to_user_id': 114949779,\n",
       " 'in_reply_to_user_id_str': '114949779',\n",
       " 'in_reply_to_screen_name': 'marycarmenfh',\n",
       " 'user': {'id': 181822617,\n",
       "  'id_str': '181822617',\n",
       "  'name': 'Dervinho',\n",
       "  'screen_name': 'P_Dervinho',\n",
       "  'location': '大阪 大阪市 浪速区',\n",
       "  'description': 'Cualquier vaina',\n",
       "  'url': None,\n",
       "  'entities': {'description': {'urls': []}},\n",
       "  'protected': False,\n",
       "  'followers_count': 1098,\n",
       "  'friends_count': 4313,\n",
       "  'listed_count': 2,\n",
       "  'created_at': 'Mon Aug 23 03:56:21 +0000 2010',\n",
       "  'favourites_count': 12278,\n",
       "  'utc_offset': None,\n",
       "  'time_zone': None,\n",
       "  'geo_enabled': True,\n",
       "  'verified': False,\n",
       "  'statuses_count': 18545,\n",
       "  'lang': None,\n",
       "  'contributors_enabled': False,\n",
       "  'is_translator': False,\n",
       "  'is_translation_enabled': False,\n",
       "  'profile_background_color': 'F6F4F7',\n",
       "  'profile_background_image_url': 'http://abs.twimg.com/images/themes/theme10/bg.gif',\n",
       "  'profile_background_image_url_https': 'https://abs.twimg.com/images/themes/theme10/bg.gif',\n",
       "  'profile_background_tile': True,\n",
       "  'profile_image_url': 'http://pbs.twimg.com/profile_images/923729289320849409/P1CWpU9f_normal.jpg',\n",
       "  'profile_image_url_https': 'https://pbs.twimg.com/profile_images/923729289320849409/P1CWpU9f_normal.jpg',\n",
       "  'profile_link_color': '030203',\n",
       "  'profile_sidebar_border_color': '000000',\n",
       "  'profile_sidebar_fill_color': 'DDEEF6',\n",
       "  'profile_text_color': '333333',\n",
       "  'profile_use_background_image': True,\n",
       "  'has_extended_profile': False,\n",
       "  'default_profile': False,\n",
       "  'default_profile_image': False,\n",
       "  'following': False,\n",
       "  'follow_request_sent': False,\n",
       "  'notifications': False,\n",
       "  'translator_type': 'none',\n",
       "  'withheld_in_countries': []},\n",
       " 'geo': None,\n",
       " 'coordinates': None,\n",
       " 'place': None,\n",
       " 'contributors': None,\n",
       " 'is_quote_status': False,\n",
       " 'retweet_count': 2,\n",
       " 'favorite_count': 0,\n",
       " 'favorited': False,\n",
       " 'retweeted': False,\n",
       " 'lang': 'es'}"
      ]
     },
     "execution_count": 51,
     "metadata": {},
     "output_type": "execute_result"
    }
   ],
   "source": [
    "tweet_loc_find(429478735541460992)['retweeted_status']"
   ]
  },
  {
   "cell_type": "markdown",
   "id": "2dc1aa1c",
   "metadata": {},
   "source": [
    "# User tags with tweepy"
   ]
  },
  {
   "cell_type": "code",
   "execution_count": 14,
   "id": "764c1904",
   "metadata": {},
   "outputs": [],
   "source": [
    "import tweepy"
   ]
  },
  {
   "cell_type": "code",
   "execution_count": 15,
   "id": "dc191918",
   "metadata": {},
   "outputs": [],
   "source": [
    "consumer_key = \"dA6LwKzex4t2GqtYXKtZNQpxV\" #1\n",
    "consumer_secret = \"tHsh8Vi1CHuOlgToTHggA2m2FPiZf8Lq9rnpmAK1uZa44QeFny\" #2\n",
    "access_token = \"126698065-HU8BhbMUWkSAhfzUzS5wXeJW2Aiku2mfKyj1X3vV\" #3\n",
    "access_token_secret = \"ZXrkqHvW8N4jt6SURKYyY9WhzASdQdUVZaxGZmWOX7kfH\" #4\n",
    "# User data\n",
    "auth = tweepy.OAuthHandler(consumer_key, consumer_secret)\n",
    "auth.set_access_token(access_token, access_token_secret)\n",
    "\n",
    "# With this object we will call the Twitter API\n",
    "api = tweepy.API(auth,\n",
    "                 wait_on_rate_limit=True,\n",
    "                 wait_on_rate_limit_notify=True)"
   ]
  },
  {
   "cell_type": "code",
   "execution_count": 16,
   "id": "b01fd0f1",
   "metadata": {},
   "outputs": [],
   "source": [
    "def tweet_loc_find (search_id):\n",
    "    test_status = api.get_status(search_id, tweet_mode='extended')._json \n",
    "    return(test_status)"
   ]
  },
  {
   "cell_type": "code",
   "execution_count": 193,
   "id": "93567833",
   "metadata": {},
   "outputs": [
    {
     "name": "stderr",
     "output_type": "stream",
     "text": [
      "<ipython-input-193-95095fed6d33>:3: SettingWithCopyWarning: \n",
      "A value is trying to be set on a copy of a slice from a DataFrame\n",
      "\n",
      "See the caveats in the documentation: https://pandas.pydata.org/pandas-docs/stable/user_guide/indexing.html#returning-a-view-versus-a-copy\n",
      "  tweets_df['user_id'][k] = test['user']['id']\n",
      "<ipython-input-193-95095fed6d33>:4: SettingWithCopyWarning: \n",
      "A value is trying to be set on a copy of a slice from a DataFrame\n",
      "\n",
      "See the caveats in the documentation: https://pandas.pydata.org/pandas-docs/stable/user_guide/indexing.html#returning-a-view-versus-a-copy\n",
      "  tweets_df['user_location'][k] = test['user']['location']\n",
      "C:\\Users\\joseph\\anaconda3\\lib\\site-packages\\pandas\\core\\indexing.py:1637: SettingWithCopyWarning: \n",
      "A value is trying to be set on a copy of a slice from a DataFrame\n",
      "\n",
      "See the caveats in the documentation: https://pandas.pydata.org/pandas-docs/stable/user_guide/indexing.html#returning-a-view-versus-a-copy\n",
      "  self._setitem_single_block(indexer, value, name)\n"
     ]
    }
   ],
   "source": [
    "for k in range(len(tweets_df['Id'])):\n",
    "    test = tweet_loc_find(tweets_df['Id'][k])\n",
    "    tweets_df['user_id'][k] = test['user']['id']\n",
    "    tweets_df['user_location'][k] = test['user']['location']"
   ]
  },
  {
   "cell_type": "code",
   "execution_count": 194,
   "id": "40961d26",
   "metadata": {},
   "outputs": [
    {
     "data": {
      "text/html": [
       "<div>\n",
       "<style scoped>\n",
       "    .dataframe tbody tr th:only-of-type {\n",
       "        vertical-align: middle;\n",
       "    }\n",
       "\n",
       "    .dataframe tbody tr th {\n",
       "        vertical-align: top;\n",
       "    }\n",
       "\n",
       "    .dataframe thead th {\n",
       "        text-align: right;\n",
       "    }\n",
       "</style>\n",
       "<table border=\"1\" class=\"dataframe\">\n",
       "  <thead>\n",
       "    <tr style=\"text-align: right;\">\n",
       "      <th></th>\n",
       "      <th>Id</th>\n",
       "      <th>text</th>\n",
       "      <th>json</th>\n",
       "      <th>location</th>\n",
       "    </tr>\n",
       "  </thead>\n",
       "  <tbody>\n",
       "    <tr>\n",
       "      <th>0</th>\n",
       "      <td>0</td>\n",
       "      <td>0</td>\n",
       "      <td>0</td>\n",
       "      <td>0</td>\n",
       "    </tr>\n",
       "    <tr>\n",
       "      <th>1</th>\n",
       "      <td>429478735541460992</td>\n",
       "      <td>RT @Veneco_Babes: @marycarmenfh @trinysex @Div...</td>\n",
       "      <td>{'created_at': 'Sat Feb 01 04:58:04 +0000 2014...</td>\n",
       "      <td>None</td>\n",
       "    </tr>\n",
       "    <tr>\n",
       "      <th>2</th>\n",
       "      <td>429476144170422272</td>\n",
       "      <td>RT @Veneco_Babes: @marycarmenfh @trinysex @Div...</td>\n",
       "      <td>{'created_at': 'Sat Feb 01 04:47:46 +0000 2014...</td>\n",
       "      <td>None</td>\n",
       "    </tr>\n",
       "    <tr>\n",
       "      <th>3</th>\n",
       "      <td>429475247448793088</td>\n",
       "      <td>@aluxtuitea @rogeliosamour @JJRENDON @JNatanVa...</td>\n",
       "      <td>{'created_at': 'Sat Feb 01 04:44:12 +0000 2014...</td>\n",
       "      <td>None</td>\n",
       "    </tr>\n",
       "    <tr>\n",
       "      <th>4</th>\n",
       "      <td>429443798234824704</td>\n",
       "      <td>@Mayomendozaf @callollanos @JanioCuadro el que...</td>\n",
       "      <td>{'created_at': 'Sat Feb 01 02:39:14 +0000 2014...</td>\n",
       "      <td>None</td>\n",
       "    </tr>\n",
       "    <tr>\n",
       "      <th>...</th>\n",
       "      <td>...</td>\n",
       "      <td>...</td>\n",
       "      <td>...</td>\n",
       "      <td>...</td>\n",
       "    </tr>\n",
       "    <tr>\n",
       "      <th>11042</th>\n",
       "      <td>439722847704211456</td>\n",
       "      <td>RT @Veneca_NL: 'Beschamende hoeveelheden voeds...</td>\n",
       "      <td>{'created_at': 'Sat Mar 01 11:24:31 +0000 2014...</td>\n",
       "      <td>None</td>\n",
       "    </tr>\n",
       "    <tr>\n",
       "      <th>11043</th>\n",
       "      <td>439658737545256960</td>\n",
       "      <td>RT @lcvelez: Primera vez que un agente de migr...</td>\n",
       "      <td>{'created_at': 'Sat Mar 01 07:09:46 +0000 2014...</td>\n",
       "      <td>None</td>\n",
       "    </tr>\n",
       "    <tr>\n",
       "      <th>11044</th>\n",
       "      <td>439658698873798656</td>\n",
       "      <td>RT @lcvelez: Primera vez que un agente de migr...</td>\n",
       "      <td>{'created_at': 'Sat Mar 01 07:09:36 +0000 2014...</td>\n",
       "      <td>(Venezuela, (6.68231285, -65.52259913185809))</td>\n",
       "    </tr>\n",
       "    <tr>\n",
       "      <th>11045</th>\n",
       "      <td>439627929832923136</td>\n",
       "      <td>Feliz Cumple Manito!! Dios te de Vida y Salud!...</td>\n",
       "      <td>{'created_at': 'Sat Mar 01 05:07:21 +0000 2014...</td>\n",
       "      <td>None</td>\n",
       "    </tr>\n",
       "    <tr>\n",
       "      <th>11046</th>\n",
       "      <td>439627843145043969</td>\n",
       "      <td>@EnriqueZileri @tuesta Don Enrique, usted sabe...</td>\n",
       "      <td>{'created_at': 'Sat Mar 01 05:07:00 +0000 2014...</td>\n",
       "      <td>None</td>\n",
       "    </tr>\n",
       "  </tbody>\n",
       "</table>\n",
       "<p>11047 rows × 4 columns</p>\n",
       "</div>"
      ],
      "text/plain": [
       "                       Id                                               text  \\\n",
       "0                       0                                                  0   \n",
       "1      429478735541460992  RT @Veneco_Babes: @marycarmenfh @trinysex @Div...   \n",
       "2      429476144170422272  RT @Veneco_Babes: @marycarmenfh @trinysex @Div...   \n",
       "3      429475247448793088  @aluxtuitea @rogeliosamour @JJRENDON @JNatanVa...   \n",
       "4      429443798234824704  @Mayomendozaf @callollanos @JanioCuadro el que...   \n",
       "...                   ...                                                ...   \n",
       "11042  439722847704211456  RT @Veneca_NL: 'Beschamende hoeveelheden voeds...   \n",
       "11043  439658737545256960  RT @lcvelez: Primera vez que un agente de migr...   \n",
       "11044  439658698873798656  RT @lcvelez: Primera vez que un agente de migr...   \n",
       "11045  439627929832923136  Feliz Cumple Manito!! Dios te de Vida y Salud!...   \n",
       "11046  439627843145043969  @EnriqueZileri @tuesta Don Enrique, usted sabe...   \n",
       "\n",
       "                                                    json  \\\n",
       "0                                                      0   \n",
       "1      {'created_at': 'Sat Feb 01 04:58:04 +0000 2014...   \n",
       "2      {'created_at': 'Sat Feb 01 04:47:46 +0000 2014...   \n",
       "3      {'created_at': 'Sat Feb 01 04:44:12 +0000 2014...   \n",
       "4      {'created_at': 'Sat Feb 01 02:39:14 +0000 2014...   \n",
       "...                                                  ...   \n",
       "11042  {'created_at': 'Sat Mar 01 11:24:31 +0000 2014...   \n",
       "11043  {'created_at': 'Sat Mar 01 07:09:46 +0000 2014...   \n",
       "11044  {'created_at': 'Sat Mar 01 07:09:36 +0000 2014...   \n",
       "11045  {'created_at': 'Sat Mar 01 05:07:21 +0000 2014...   \n",
       "11046  {'created_at': 'Sat Mar 01 05:07:00 +0000 2014...   \n",
       "\n",
       "                                            location  \n",
       "0                                                  0  \n",
       "1                                               None  \n",
       "2                                               None  \n",
       "3                                               None  \n",
       "4                                               None  \n",
       "...                                              ...  \n",
       "11042                                           None  \n",
       "11043                                           None  \n",
       "11044  (Venezuela, (6.68231285, -65.52259913185809))  \n",
       "11045                                           None  \n",
       "11046                                           None  \n",
       "\n",
       "[11047 rows x 4 columns]"
      ]
     },
     "execution_count": 194,
     "metadata": {},
     "output_type": "execute_result"
    }
   ],
   "source": [
    "tweets_df"
   ]
  },
  {
   "cell_type": "markdown",
   "id": "5309e523",
   "metadata": {},
   "source": [
    "# Geocoding"
   ]
  },
  {
   "cell_type": "code",
   "execution_count": 195,
   "id": "3f1add10",
   "metadata": {},
   "outputs": [],
   "source": [
    "tweets_df['country']=0"
   ]
  },
  {
   "cell_type": "code",
   "execution_count": 196,
   "id": "12393875",
   "metadata": {},
   "outputs": [],
   "source": [
    "geocoder = RateLimiter(Nominatim(user_agent='tweets_project').geocode, min_delay_seconds=1)"
   ]
  },
  {
   "cell_type": "code",
   "execution_count": 198,
   "id": "8e23dfb5",
   "metadata": {},
   "outputs": [
    {
     "name": "stderr",
     "output_type": "stream",
     "text": [
      "<ipython-input-198-54972df37125>:3: SettingWithCopyWarning: \n",
      "A value is trying to be set on a copy of a slice from a DataFrame\n",
      "\n",
      "See the caveats in the documentation: https://pandas.pydata.org/pandas-docs/stable/user_guide/indexing.html#returning-a-view-versus-a-copy\n",
      "  tweets_df['country'][k] = geocoder(location)\n",
      "C:\\Users\\joseph\\anaconda3\\lib\\site-packages\\pandas\\core\\indexing.py:1637: SettingWithCopyWarning: \n",
      "A value is trying to be set on a copy of a slice from a DataFrame\n",
      "\n",
      "See the caveats in the documentation: https://pandas.pydata.org/pandas-docs/stable/user_guide/indexing.html#returning-a-view-versus-a-copy\n",
      "  self._setitem_single_block(indexer, value, name)\n",
      "C:\\Users\\joseph\\anaconda3\\lib\\site-packages\\numpy\\core\\_asarray.py:102: VisibleDeprecationWarning: Creating an ndarray from ragged nested sequences (which is a list-or-tuple of lists-or-tuples-or ndarrays with different lengths or shapes) is deprecated. If you meant to do this, you must specify 'dtype=object' when creating the ndarray.\n",
      "  return array(a, dtype, copy=False, order=order)\n",
      "C:\\Users\\joseph\\anaconda3\\lib\\site-packages\\pandas\\core\\internals\\blocks.py:976: VisibleDeprecationWarning: Creating an ndarray from ragged nested sequences (which is a list-or-tuple of lists-or-tuples-or ndarrays with different lengths or shapes) is deprecated. If you meant to do this, you must specify 'dtype=object' when creating the ndarray.\n",
      "  dtype, _ = maybe_promote(np.array(value).dtype)\n",
      "C:\\Users\\joseph\\anaconda3\\lib\\site-packages\\pandas\\core\\internals\\blocks.py:993: VisibleDeprecationWarning: Creating an ndarray from ragged nested sequences (which is a list-or-tuple of lists-or-tuples-or ndarrays with different lengths or shapes) is deprecated. If you meant to do this, you must specify 'dtype=object' when creating the ndarray.\n",
      "  arr_value = np.array(value)\n"
     ]
    }
   ],
   "source": [
    "for k in range(len(tweets_df['Id'])):\n",
    "    location = tweets_df['user_location'][k]\n",
    "    tweets_df['country'][k] = geocoder(location)"
   ]
  },
  {
   "cell_type": "code",
   "execution_count": 200,
   "id": "6337814a",
   "metadata": {
    "collapsed": true
   },
   "outputs": [
    {
     "data": {
      "text/html": [
       "<div>\n",
       "<style scoped>\n",
       "    .dataframe tbody tr th:only-of-type {\n",
       "        vertical-align: middle;\n",
       "    }\n",
       "\n",
       "    .dataframe tbody tr th {\n",
       "        vertical-align: top;\n",
       "    }\n",
       "\n",
       "    .dataframe thead th {\n",
       "        text-align: right;\n",
       "    }\n",
       "</style>\n",
       "<table border=\"1\" class=\"dataframe\">\n",
       "  <thead>\n",
       "    <tr style=\"text-align: right;\">\n",
       "      <th></th>\n",
       "      <th>index</th>\n",
       "      <th>Id</th>\n",
       "      <th>text</th>\n",
       "      <th>user_id</th>\n",
       "      <th>user_location</th>\n",
       "      <th>country</th>\n",
       "    </tr>\n",
       "  </thead>\n",
       "  <tbody>\n",
       "    <tr>\n",
       "      <th>204</th>\n",
       "      <td>205</td>\n",
       "      <td>428228775143559168</td>\n",
       "      <td>Troféu praça de Venecos vai para Arthur.</td>\n",
       "      <td>304130084</td>\n",
       "      <td></td>\n",
       "      <td>None</td>\n",
       "    </tr>\n",
       "    <tr>\n",
       "      <th>205</th>\n",
       "      <td>206</td>\n",
       "      <td>428227797593497600</td>\n",
       "      <td>@Bebe_Bastardo @hiletrado ve su tl jajaja puto...</td>\n",
       "      <td>340058954</td>\n",
       "      <td>ATLAS, Jalisco</td>\n",
       "      <td>(Atlas Colomos, Zapopan, Jalisco, 45054, Méxic...</td>\n",
       "    </tr>\n",
       "    <tr>\n",
       "      <th>206</th>\n",
       "      <td>207</td>\n",
       "      <td>428216729953525760</td>\n",
       "      <td>A los comerciantes, porq los d migración son r...</td>\n",
       "      <td>126425918</td>\n",
       "      <td>Here &amp; There #Greendale</td>\n",
       "      <td>None</td>\n",
       "    </tr>\n",
       "    <tr>\n",
       "      <th>207</th>\n",
       "      <td>208</td>\n",
       "      <td>428213812765151233</td>\n",
       "      <td>\"La Old School Regreso\" De @laraarmada Ft. Ven...</td>\n",
       "      <td>262510392</td>\n",
       "      <td>Venezuela</td>\n",
       "      <td>(Venezuela, (6.68231285, -65.52259913185809))</td>\n",
       "    </tr>\n",
       "    <tr>\n",
       "      <th>208</th>\n",
       "      <td>209</td>\n",
       "      <td>428211137143136257</td>\n",
       "      <td>@Lil_Veneca text message me dont imessage</td>\n",
       "      <td>379304181</td>\n",
       "      <td>from hell going to HEAVEN</td>\n",
       "      <td>None</td>\n",
       "    </tr>\n",
       "  </tbody>\n",
       "</table>\n",
       "</div>"
      ],
      "text/plain": [
       "     index                  Id  \\\n",
       "204    205  428228775143559168   \n",
       "205    206  428227797593497600   \n",
       "206    207  428216729953525760   \n",
       "207    208  428213812765151233   \n",
       "208    209  428211137143136257   \n",
       "\n",
       "                                                  text    user_id  \\\n",
       "204           Troféu praça de Venecos vai para Arthur.  304130084   \n",
       "205  @Bebe_Bastardo @hiletrado ve su tl jajaja puto...  340058954   \n",
       "206  A los comerciantes, porq los d migración son r...  126425918   \n",
       "207  \"La Old School Regreso\" De @laraarmada Ft. Ven...  262510392   \n",
       "208          @Lil_Veneca text message me dont imessage  379304181   \n",
       "\n",
       "                 user_location  \\\n",
       "204                              \n",
       "205             ATLAS, Jalisco   \n",
       "206   Here & There #Greendale    \n",
       "207                  Venezuela   \n",
       "208  from hell going to HEAVEN   \n",
       "\n",
       "                                               country  \n",
       "204                                               None  \n",
       "205  (Atlas Colomos, Zapopan, Jalisco, 45054, Méxic...  \n",
       "206                                               None  \n",
       "207      (Venezuela, (6.68231285, -65.52259913185809))  \n",
       "208                                               None  "
      ]
     },
     "execution_count": 200,
     "metadata": {},
     "output_type": "execute_result"
    }
   ],
   "source": [
    "tweets_df.tail()"
   ]
  },
  {
   "cell_type": "code",
   "execution_count": 160,
   "id": "821c1188",
   "metadata": {},
   "outputs": [],
   "source": [
    "test_status = tweet_loc_find(561746178300452865)#tweets_df['Id'][6])"
   ]
  },
  {
   "cell_type": "code",
   "execution_count": 161,
   "id": "fa870cf0",
   "metadata": {},
   "outputs": [
    {
     "name": "stdout",
     "output_type": "stream",
     "text": [
      "459578065\n",
      "223\n",
      "275\n",
      "tambogrande,piura\n",
      "True\n",
      "{'type': 'Point', 'coordinates': [-4.92883692, -80.34812358]}\n",
      "{'type': 'Point', 'coordinates': [-80.34812358, -4.92883692]}\n",
      "{'id': '0138ff3460a363e8', 'url': 'https://api.twitter.com/1.1/geo/id/0138ff3460a363e8.json', 'place_type': 'city', 'name': 'Tambo Grande', 'full_name': 'Tambo Grande, Peru', 'country_code': 'PE', 'country': 'Peru', 'contained_within': [], 'bounding_box': {'type': 'Polygon', 'coordinates': [[[-80.6286340785714, -5.14701504272033], [-80.0755470016092, -5.14701504272033], [-80.0755470016092, -4.68941004442413], [-80.6286340785714, -4.68941004442413]]]}, 'attributes': {}}\n"
     ]
    }
   ],
   "source": [
    "if test_status['user']['id']: print(test_status['user']['id'])\n",
    "if test_status['user']['followers_count']: print(test_status['user']['followers_count'])\n",
    "if test_status['user']['friends_count']: print(test_status['user']['friends_count'])\n",
    "if test_status['user']['listed_count']: print(test_status['user']['listed_count'])\n",
    "if test_status['user']['location']: print(test_status['user']['location'])\n",
    "if test_status['user']['geo_enabled']: print(test_status['user']['geo_enabled'])\n",
    "if test_status['geo']: print(test_status['geo'])\n",
    "if test_status['coordinates']: print(test_status['coordinates'])\n",
    "if test_status['place']: print(test_status['place'])\n",
    "\n",
    "\n",
    "#if test_status['retweeted_status']['id']: test_status['retweeted_status']['id']"
   ]
  },
  {
   "cell_type": "code",
   "execution_count": 159,
   "id": "27aa9cc8",
   "metadata": {
    "scrolled": true
   },
   "outputs": [
    {
     "data": {
      "text/plain": [
       "{'created_at': 'Sat Feb 01 02:06:37 +0000 2014',\n",
       " 'id': 429435589205585920,\n",
       " 'id_str': '429435589205585920',\n",
       " 'full_text': 'Recuerdos de mis bellos sobrino Venecos http://t.co/mza29GnMoJ',\n",
       " 'truncated': False,\n",
       " 'display_text_range': [0, 62],\n",
       " 'entities': {'hashtags': [],\n",
       "  'symbols': [],\n",
       "  'user_mentions': [],\n",
       "  'urls': [{'url': 'http://t.co/mza29GnMoJ',\n",
       "    'expanded_url': 'http://fb.me/3lRontXRU',\n",
       "    'display_url': 'fb.me/3lRontXRU',\n",
       "    'indices': [40, 62]}]},\n",
       " 'source': '<a href=\"http://www.facebook.com/twitter\" rel=\"nofollow\">Facebook</a>',\n",
       " 'in_reply_to_status_id': None,\n",
       " 'in_reply_to_status_id_str': None,\n",
       " 'in_reply_to_user_id': None,\n",
       " 'in_reply_to_user_id_str': None,\n",
       " 'in_reply_to_screen_name': None,\n",
       " 'user': {'id': 887897286,\n",
       "  'id_str': '887897286',\n",
       "  'name': 'LUZ CARRENO',\n",
       "  'screen_name': 'lucecita4life',\n",
       "  'location': 'ESTADOS UNIDOS',\n",
       "  'description': 'HOLA AMIGOS: SOY DE COLOMBIA Y VIVO EN USA. SOY CNA Y DISTRIBUIDOR AUTORIZADO DE 4LIFE RESEARCH',\n",
       "  'url': 'https://t.co/h82g3K5i9B',\n",
       "  'entities': {'url': {'urls': [{'url': 'https://t.co/h82g3K5i9B',\n",
       "      'expanded_url': 'http://www.4life.com/luzmitacarreno',\n",
       "      'display_url': '4life.com/luzmitacarreno',\n",
       "      'indices': [0, 23]}]},\n",
       "   'description': {'urls': []}},\n",
       "  'protected': False,\n",
       "  'followers_count': 28,\n",
       "  'friends_count': 68,\n",
       "  'listed_count': 0,\n",
       "  'created_at': 'Thu Oct 18 01:45:48 +0000 2012',\n",
       "  'favourites_count': 11,\n",
       "  'utc_offset': None,\n",
       "  'time_zone': None,\n",
       "  'geo_enabled': True,\n",
       "  'verified': False,\n",
       "  'statuses_count': 10547,\n",
       "  'lang': None,\n",
       "  'contributors_enabled': False,\n",
       "  'is_translator': False,\n",
       "  'is_translation_enabled': False,\n",
       "  'profile_background_color': 'ACDED6',\n",
       "  'profile_background_image_url': 'http://abs.twimg.com/images/themes/theme18/bg.gif',\n",
       "  'profile_background_image_url_https': 'https://abs.twimg.com/images/themes/theme18/bg.gif',\n",
       "  'profile_background_tile': False,\n",
       "  'profile_image_url': 'http://pbs.twimg.com/profile_images/826983968184610816/loTcqcGK_normal.jpg',\n",
       "  'profile_image_url_https': 'https://pbs.twimg.com/profile_images/826983968184610816/loTcqcGK_normal.jpg',\n",
       "  'profile_banner_url': 'https://pbs.twimg.com/profile_banners/887897286/1484264767',\n",
       "  'profile_link_color': '038543',\n",
       "  'profile_sidebar_border_color': 'EEEEEE',\n",
       "  'profile_sidebar_fill_color': 'F6F6F6',\n",
       "  'profile_text_color': '333333',\n",
       "  'profile_use_background_image': True,\n",
       "  'has_extended_profile': True,\n",
       "  'default_profile': False,\n",
       "  'default_profile_image': False,\n",
       "  'following': False,\n",
       "  'follow_request_sent': False,\n",
       "  'notifications': False,\n",
       "  'translator_type': 'regular',\n",
       "  'withheld_in_countries': []},\n",
       " 'geo': None,\n",
       " 'coordinates': None,\n",
       " 'place': None,\n",
       " 'contributors': None,\n",
       " 'is_quote_status': False,\n",
       " 'retweet_count': 0,\n",
       " 'favorite_count': 0,\n",
       " 'favorited': False,\n",
       " 'retweeted': False,\n",
       " 'possibly_sensitive': True,\n",
       " 'possibly_sensitive_appealable': False,\n",
       " 'lang': 'es'}"
      ]
     },
     "execution_count": 159,
     "metadata": {},
     "output_type": "execute_result"
    }
   ],
   "source": [
    "test_status"
   ]
  }
 ],
 "metadata": {
  "kernelspec": {
   "display_name": "Anaconda 3",
   "language": "python",
   "name": "anac"
  },
  "language_info": {
   "codemirror_mode": {
    "name": "ipython",
    "version": 3
   },
   "file_extension": ".py",
   "mimetype": "text/x-python",
   "name": "python",
   "nbconvert_exporter": "python",
   "pygments_lexer": "ipython3",
   "version": "3.10.0"
  }
 },
 "nbformat": 4,
 "nbformat_minor": 5
}
