{
 "cells": [
  {
   "cell_type": "code",
   "execution_count": 7,
   "id": "3517ad9c",
   "metadata": {},
   "outputs": [],
   "source": [
    "#!pip install -r requirements.txt"
   ]
  },
  {
   "cell_type": "code",
   "execution_count": 8,
   "id": "c5b8f049",
   "metadata": {},
   "outputs": [],
   "source": [
    "from searchtweets import load_credentials, collect_results\n",
    "import pandas as pd\n",
    "import numpy as np\n",
    "import json\n",
    "import datetime as dt\n",
    "from pandas._libs.tslibs.timestamps import Timestamp\n",
    "import warnings\n",
    "warnings.filterwarnings('ignore')"
   ]
  },
  {
   "cell_type": "code",
   "execution_count": 9,
   "id": "3ca5f9da",
   "metadata": {},
   "outputs": [],
   "source": [
    "def gen_date_ranges(start_date, end_date):\n",
    "    dates = []\n",
    "    if start_date.month == end_date.month:\n",
    "        dates.append([start_date.strftime(\"%Y-%m-%d\"), end_date.strftime(\"%Y-%m-%d\")])\n",
    "    else:\n",
    "        data_ranges = pd.date_range(start= start_date, end = end_date, freq=\"M\")\n",
    "        for date_end in data_ranges:\n",
    "            date_start = dt.date(date_end.year,date_end.month,1).strftime(\"%Y-%m-%d\")\n",
    "            date_end = date_end.strftime(\"%Y-%m-%d\")\n",
    "            dates.append([date_start, date_end])\n",
    "        dates[-1][1] = end_date.strftime(\"%Y-%m-%d\")\n",
    "    return dates"
   ]
  },
  {
   "cell_type": "markdown",
   "id": "11ad25b9",
   "metadata": {},
   "source": [
    "# Extraction for all the years"
   ]
  },
  {
   "cell_type": "markdown",
   "id": "738aa935",
   "metadata": {},
   "source": [
    "**Reference**\n",
    "https://developer.twitter.com/en/docs/twitter-api/tweets/search/api-reference/get-tweets-search-all  \n",
    "for fields, see https://developer.twitter.com/en/docs/twitter-api/fields  \n",
    "**tweet.fields:** [attachments,author_id,context_annotations,conversation_id,created_at,entities,geo,id,\n",
    "in_reply_to_user_id,lang,non_public_metrics,organic_metrics,possibly_sensitive,promoted_metrics,public_metrics,referenced_tweets,reply_settings,source,text,withheld]\"}]  \n",
    "**Fields:** [query,start_time,end_time,since_id,until_id,max_results,next_token,pagination_token,sort_order,expansions,tweet.fields,media.fields,poll.fields,place.fields,user.fields]\"}]"
   ]
  },
  {
   "cell_type": "code",
   "execution_count": 10,
   "id": "ed76d8c5",
   "metadata": {},
   "outputs": [],
   "source": [
    "text_query = '(((venezolano OR venezolana OR venezolanos OR venezolanas OR venezuela OR vzla OR vnzla) (migrante OR migrantes OR migracion)) OR veneco OR veneca OR venecos OR venecas)'\n",
    "request_parameters = {}\n",
    "request_parameters['query'] = text_query\n",
    "request_parameters['max_results'] = 100\n",
    "request_parameters['tweet.fields'] = \"id,text,author_id,created_at,entities,attachments,in_reply_to_user_id,referenced_tweets\"\n",
    "request_parameters['user.fields'] = \"username,location\"\n",
    "request_parameters['media.fields'] = \"media_key,type\"\n",
    "request_parameters['expansions'] = \"referenced_tweets.id,referenced_tweets.id.author_id,entities.mentions.username,in_reply_to_user_id\"\n",
    "\n",
    "\n",
    "search_args = load_credentials(filename=\"./.twitter_keys.yaml\",\n",
    "                 yaml_key=\"search_tweets_api\",\n",
    "                 env_overwrite=False)\n",
    "n_tweets = 300000"
   ]
  },
  {
   "cell_type": "code",
   "execution_count": 17,
   "id": "cc52aa50",
   "metadata": {},
   "outputs": [
    {
     "name": "stdout",
     "output_type": "stream",
     "text": [
      "Exported tweets at: ../data/monthly_jsons_complete/2018-02.json\n"
     ]
    },
    {
     "name": "stderr",
     "output_type": "stream",
     "text": [
      " HTTP Error code: 429: {\"title\":\"Too Many Requests\",\"detail\":\"Too Many Requests\",\"type\":\"about:blank\",\"status\":429} | Too Many Requests\n",
      " Request payload: {'query': '(((venezolano OR venezolana OR venezolanos OR venezolanas OR venezuela OR vzla OR vnzla) (migrante OR migrantes OR migracion)) OR veneco OR veneca OR venecos OR venecas)', 'max_results': 100, 'tweet.fields': 'id,text,author_id,created_at,entities,attachments,in_reply_to_user_id,referenced_tweets', 'user.fields': 'username,location', 'media.fields': 'media_key,type', 'expansions': 'referenced_tweets.id,referenced_tweets.id.author_id,entities.mentions.username,in_reply_to_user_id', 'start_time': '2018-03-01T00:00:00-05:00', 'end_time': '2018-03-31T23:59:00-05:00', 'next_token': '1jzu9lk96gu5npw44tgnnfbizggwm3tezmvdvzh19hml'}\n",
      "Rate limit hit... Will retry...\n",
      "Will retry in 4 seconds...\n",
      " HTTP Error code: 429: {\"title\":\"Too Many Requests\",\"detail\":\"Too Many Requests\",\"type\":\"about:blank\",\"status\":429} | Too Many Requests\n",
      " Request payload: {'query': '(((venezolano OR venezolana OR venezolanos OR venezolanas OR venezuela OR vzla OR vnzla) (migrante OR migrantes OR migracion)) OR veneco OR veneca OR venecos OR venecas)', 'max_results': 100, 'tweet.fields': 'id,text,author_id,created_at,entities,attachments,in_reply_to_user_id,referenced_tweets', 'user.fields': 'username,location', 'media.fields': 'media_key,type', 'expansions': 'referenced_tweets.id,referenced_tweets.id.author_id,entities.mentions.username,in_reply_to_user_id', 'start_time': '2018-03-01T00:00:00-05:00', 'end_time': '2018-03-31T23:59:00-05:00', 'next_token': '1jzu9lk96gu5npw44tgnnfbizggwm3tezmvdvzh19hml'}\n",
      "Rate limit hit... Will retry...\n",
      "Will retry in 16 seconds...\n"
     ]
    },
    {
     "name": "stdout",
     "output_type": "stream",
     "text": [
      "Exported tweets at: ../data/monthly_jsons_complete/2018-03.json\n",
      "Exported tweets at: ../data/monthly_jsons_complete/2018-04.json\n",
      "Exported tweets at: ../data/monthly_jsons_complete/2018-05.json\n"
     ]
    },
    {
     "name": "stderr",
     "output_type": "stream",
     "text": [
      " HTTP Error code: 429: {\"title\":\"Too Many Requests\",\"detail\":\"Too Many Requests\",\"type\":\"about:blank\",\"status\":429} | Too Many Requests\n",
      " Request payload: {'query': '(((venezolano OR venezolana OR venezolanos OR venezolanas OR venezuela OR vzla OR vnzla) (migrante OR migrantes OR migracion)) OR veneco OR veneca OR venecos OR venecas)', 'max_results': 100, 'tweet.fields': 'id,text,author_id,created_at,entities,attachments,in_reply_to_user_id,referenced_tweets', 'user.fields': 'username,location', 'media.fields': 'media_key,type', 'expansions': 'referenced_tweets.id,referenced_tweets.id.author_id,entities.mentions.username,in_reply_to_user_id', 'start_time': '2018-06-01T00:00:00-05:00', 'end_time': '2018-06-30T23:59:00-05:00', 'next_token': 'b26v89c19zqg8o3fn0dlt6g9fi57h0yk4876b77phfwcd'}\n",
      "Rate limit hit... Will retry...\n",
      "Will retry in 4 seconds...\n",
      " HTTP Error code: 429: {\"title\":\"Too Many Requests\",\"detail\":\"Too Many Requests\",\"type\":\"about:blank\",\"status\":429} | Too Many Requests\n",
      " Request payload: {'query': '(((venezolano OR venezolana OR venezolanos OR venezolanas OR venezuela OR vzla OR vnzla) (migrante OR migrantes OR migracion)) OR veneco OR veneca OR venecos OR venecas)', 'max_results': 100, 'tweet.fields': 'id,text,author_id,created_at,entities,attachments,in_reply_to_user_id,referenced_tweets', 'user.fields': 'username,location', 'media.fields': 'media_key,type', 'expansions': 'referenced_tweets.id,referenced_tweets.id.author_id,entities.mentions.username,in_reply_to_user_id', 'start_time': '2018-06-01T00:00:00-05:00', 'end_time': '2018-06-30T23:59:00-05:00', 'next_token': 'b26v89c19zqg8o3fn0ao52grqyrpk75i74rt0bgeowvb1'}\n",
      "Rate limit hit... Will retry...\n",
      "Will retry in 4 seconds...\n",
      " HTTP Error code: 429: {\"title\":\"Too Many Requests\",\"detail\":\"Too Many Requests\",\"type\":\"about:blank\",\"status\":429} | Too Many Requests\n",
      " Request payload: {'query': '(((venezolano OR venezolana OR venezolanos OR venezolanas OR venezuela OR vzla OR vnzla) (migrante OR migrantes OR migracion)) OR veneco OR veneca OR venecos OR venecas)', 'max_results': 100, 'tweet.fields': 'id,text,author_id,created_at,entities,attachments,in_reply_to_user_id,referenced_tweets', 'user.fields': 'username,location', 'media.fields': 'media_key,type', 'expansions': 'referenced_tweets.id,referenced_tweets.id.author_id,entities.mentions.username,in_reply_to_user_id', 'start_time': '2018-06-01T00:00:00-05:00', 'end_time': '2018-06-30T23:59:00-05:00', 'next_token': 'b26v89c19zqg8o3fn0ao52grqyrpk75i74rt0bgeowvb1'}\n",
      "Rate limit hit... Will retry...\n",
      "Will retry in 16 seconds...\n"
     ]
    },
    {
     "name": "stdout",
     "output_type": "stream",
     "text": [
      "Exported tweets at: ../data/monthly_jsons_complete/2018-06.json\n"
     ]
    },
    {
     "name": "stderr",
     "output_type": "stream",
     "text": [
      " HTTP Error code: 429: {\"title\":\"Too Many Requests\",\"detail\":\"Too Many Requests\",\"type\":\"about:blank\",\"status\":429} | Too Many Requests\n",
      " Request payload: {'query': '(((venezolano OR venezolana OR venezolanos OR venezolanas OR venezuela OR vzla OR vnzla) (migrante OR migrantes OR migracion)) OR veneco OR veneca OR venecos OR venecas)', 'max_results': 100, 'tweet.fields': 'id,text,author_id,created_at,entities,attachments,in_reply_to_user_id,referenced_tweets', 'user.fields': 'username,location', 'media.fields': 'media_key,type', 'expansions': 'referenced_tweets.id,referenced_tweets.id.author_id,entities.mentions.username,in_reply_to_user_id', 'start_time': '2018-07-01T00:00:00-05:00', 'end_time': '2018-07-31T23:59:00-05:00', 'next_token': 'b26v89c19zqg8o3fn0gl5z1539n0tc9ji79apxi14c5tp'}\n",
      "Rate limit hit... Will retry...\n",
      "Will retry in 4 seconds...\n",
      " HTTP Error code: 429: {\"title\":\"Too Many Requests\",\"detail\":\"Too Many Requests\",\"type\":\"about:blank\",\"status\":429} | Too Many Requests\n",
      " Request payload: {'query': '(((venezolano OR venezolana OR venezolanos OR venezolanas OR venezuela OR vzla OR vnzla) (migrante OR migrantes OR migracion)) OR veneco OR veneca OR venecos OR venecas)', 'max_results': 100, 'tweet.fields': 'id,text,author_id,created_at,entities,attachments,in_reply_to_user_id,referenced_tweets', 'user.fields': 'username,location', 'media.fields': 'media_key,type', 'expansions': 'referenced_tweets.id,referenced_tweets.id.author_id,entities.mentions.username,in_reply_to_user_id', 'start_time': '2018-07-01T00:00:00-05:00', 'end_time': '2018-07-31T23:59:00-05:00', 'next_token': 'b26v89c19zqg8o3fn0gl5z1539n0tc9ji79apxi14c5tp'}\n",
      "Rate limit hit... Will retry...\n",
      "Will retry in 16 seconds...\n"
     ]
    },
    {
     "name": "stdout",
     "output_type": "stream",
     "text": [
      "Exported tweets at: ../data/monthly_jsons_complete/2018-07.json\n"
     ]
    },
    {
     "name": "stderr",
     "output_type": "stream",
     "text": [
      " HTTP Error code: 503: {\"title\":\"Service Unavailable\",\"detail\":\"Service Unavailable\",\"type\":\"about:blank\",\"status\":503} | Service Unavailable\n",
      " Request payload: {'query': '(((venezolano OR venezolana OR venezolanos OR venezolanas OR venezuela OR vzla OR vnzla) (migrante OR migrantes OR migracion)) OR veneco OR veneca OR venecos OR venecas)', 'max_results': 100, 'tweet.fields': 'id,text,author_id,created_at,entities,attachments,in_reply_to_user_id,referenced_tweets', 'user.fields': 'username,location', 'media.fields': 'media_key,type', 'expansions': 'referenced_tweets.id,referenced_tweets.id.author_id,entities.mentions.username,in_reply_to_user_id', 'start_time': '2018-08-01T00:00:00-05:00', 'end_time': '2018-08-31T23:59:00-05:00', 'next_token': 'b26v89c19zqg8o3fn0jn1irwfb1xybxdg3we63s40bg59'}\n",
      "Server-side error... Will retry...\n",
      "Will retry in 30 seconds...\n",
      " HTTP Error code: 429: {\"title\":\"Too Many Requests\",\"detail\":\"Too Many Requests\",\"type\":\"about:blank\",\"status\":429} | Too Many Requests\n",
      " Request payload: {'query': '(((venezolano OR venezolana OR venezolanos OR venezolanas OR venezuela OR vzla OR vnzla) (migrante OR migrantes OR migracion)) OR veneco OR veneca OR venecos OR venecas)', 'max_results': 100, 'tweet.fields': 'id,text,author_id,created_at,entities,attachments,in_reply_to_user_id,referenced_tweets', 'user.fields': 'username,location', 'media.fields': 'media_key,type', 'expansions': 'referenced_tweets.id,referenced_tweets.id.author_id,entities.mentions.username,in_reply_to_user_id', 'start_time': '2018-08-01T00:00:00-05:00', 'end_time': '2018-08-31T23:59:00-05:00', 'next_token': 'b26v89c19zqg8o3fn0jm73c275lp18jijiul97uyzrt6l'}\n",
      "Rate limit hit... Will retry...\n",
      "Will retry in 4 seconds...\n",
      " HTTP Error code: 429: {\"title\":\"Too Many Requests\",\"detail\":\"Too Many Requests\",\"type\":\"about:blank\",\"status\":429} | Too Many Requests\n",
      " Request payload: {'query': '(((venezolano OR venezolana OR venezolanos OR venezolanas OR venezuela OR vzla OR vnzla) (migrante OR migrantes OR migracion)) OR veneco OR veneca OR venecos OR venecas)', 'max_results': 100, 'tweet.fields': 'id,text,author_id,created_at,entities,attachments,in_reply_to_user_id,referenced_tweets', 'user.fields': 'username,location', 'media.fields': 'media_key,type', 'expansions': 'referenced_tweets.id,referenced_tweets.id.author_id,entities.mentions.username,in_reply_to_user_id', 'start_time': '2018-08-01T00:00:00-05:00', 'end_time': '2018-08-31T23:59:00-05:00', 'next_token': 'b26v89c19zqg8o3fn0jm73c275lp18jijiul97uyzrt6l'}\n",
      "Rate limit hit... Will retry...\n",
      "Will retry in 16 seconds...\n",
      " HTTP Error code: 429: {\"title\":\"Too Many Requests\",\"detail\":\"Too Many Requests\",\"type\":\"about:blank\",\"status\":429} | Too Many Requests\n",
      " Request payload: {'query': '(((venezolano OR venezolana OR venezolanos OR venezolanas OR venezuela OR vzla OR vnzla) (migrante OR migrantes OR migracion)) OR veneco OR veneca OR venecos OR venecas)', 'max_results': 100, 'tweet.fields': 'id,text,author_id,created_at,entities,attachments,in_reply_to_user_id,referenced_tweets', 'user.fields': 'username,location', 'media.fields': 'media_key,type', 'expansions': 'referenced_tweets.id,referenced_tweets.id.author_id,entities.mentions.username,in_reply_to_user_id', 'start_time': '2018-08-01T00:00:00-05:00', 'end_time': '2018-08-31T23:59:00-05:00', 'next_token': 'b26v89c19zqg8o3fn0gn9ea6vlhb43ktn7mfano5ffwcd'}\n",
      "Rate limit hit... Will retry...\n",
      "Will retry in 4 seconds...\n"
     ]
    },
    {
     "name": "stdout",
     "output_type": "stream",
     "text": [
      "Exported tweets at: ../data/monthly_jsons_complete/2018-08.json\n"
     ]
    },
    {
     "name": "stderr",
     "output_type": "stream",
     "text": [
      " HTTP Error code: 429: {\"title\":\"Too Many Requests\",\"detail\":\"Too Many Requests\",\"type\":\"about:blank\",\"status\":429} | Too Many Requests\n",
      " Request payload: {'query': '(((venezolano OR venezolana OR venezolanos OR venezolanas OR venezuela OR vzla OR vnzla) (migrante OR migrantes OR migracion)) OR veneco OR veneca OR venecos OR venecas)', 'max_results': 100, 'tweet.fields': 'id,text,author_id,created_at,entities,attachments,in_reply_to_user_id,referenced_tweets', 'user.fields': 'username,location', 'media.fields': 'media_key,type', 'expansions': 'referenced_tweets.id,referenced_tweets.id.author_id,entities.mentions.username,in_reply_to_user_id', 'start_time': '2018-09-01T00:00:00-05:00', 'end_time': '2018-09-30T23:59:00-05:00', 'next_token': 'b26v89c19zqg8o3fn0jopuk10oziz0p0p9lg26p8bo0ot'}\n",
      "Rate limit hit... Will retry...\n",
      "Will retry in 4 seconds...\n",
      " HTTP Error code: 429: {\"title\":\"Too Many Requests\",\"detail\":\"Too Many Requests\",\"type\":\"about:blank\",\"status\":429} | Too Many Requests\n",
      " Request payload: {'query': '(((venezolano OR venezolana OR venezolanos OR venezolanas OR venezuela OR vzla OR vnzla) (migrante OR migrantes OR migracion)) OR veneco OR veneca OR venecos OR venecas)', 'max_results': 100, 'tweet.fields': 'id,text,author_id,created_at,entities,attachments,in_reply_to_user_id,referenced_tweets', 'user.fields': 'username,location', 'media.fields': 'media_key,type', 'expansions': 'referenced_tweets.id,referenced_tweets.id.author_id,entities.mentions.username,in_reply_to_user_id', 'start_time': '2018-09-01T00:00:00-05:00', 'end_time': '2018-09-30T23:59:00-05:00', 'next_token': 'b26v89c19zqg8o3fn0jnvw6wijmbu6mmz4fqb86iz8tj1'}\n",
      "Rate limit hit... Will retry...\n",
      "Will retry in 4 seconds...\n",
      " HTTP Error code: 429: {\"title\":\"Too Many Requests\",\"detail\":\"Too Many Requests\",\"type\":\"about:blank\",\"status\":429} | Too Many Requests\n",
      " Request payload: {'query': '(((venezolano OR venezolana OR venezolanos OR venezolanas OR venezuela OR vzla OR vnzla) (migrante OR migrantes OR migracion)) OR veneco OR veneca OR venecos OR venecas)', 'max_results': 100, 'tweet.fields': 'id,text,author_id,created_at,entities,attachments,in_reply_to_user_id,referenced_tweets', 'user.fields': 'username,location', 'media.fields': 'media_key,type', 'expansions': 'referenced_tweets.id,referenced_tweets.id.author_id,entities.mentions.username,in_reply_to_user_id', 'start_time': '2018-09-01T00:00:00-05:00', 'end_time': '2018-09-30T23:59:00-05:00', 'next_token': 'b26v89c19zqg8o3fn0jnvw6wijmbu6mmz4fqb86iz8tj1'}\n",
      "Rate limit hit... Will retry...\n",
      "Will retry in 16 seconds...\n",
      " HTTP Error code: 429: {\"title\":\"Too Many Requests\",\"detail\":\"Too Many Requests\",\"type\":\"about:blank\",\"status\":429} | Too Many Requests\n",
      " Request payload: {'query': '(((venezolano OR venezolana OR venezolanos OR venezolanas OR venezuela OR vzla OR vnzla) (migrante OR migrantes OR migracion)) OR veneco OR veneca OR venecos OR venecas)', 'max_results': 100, 'tweet.fields': 'id,text,author_id,created_at,entities,attachments,in_reply_to_user_id,referenced_tweets', 'user.fields': 'username,location', 'media.fields': 'media_key,type', 'expansions': 'referenced_tweets.id,referenced_tweets.id.author_id,entities.mentions.username,in_reply_to_user_id', 'start_time': '2018-09-01T00:00:00-05:00', 'end_time': '2018-09-30T23:59:00-05:00', 'next_token': 'b26v89c19zqg8o3fn0jnvnnefewyb5ovjdzhw6y60kp6l'}\n",
      "Rate limit hit... Will retry...\n",
      "Will retry in 4 seconds...\n",
      " HTTP Error code: 429: {\"title\":\"Too Many Requests\",\"detail\":\"Too Many Requests\",\"type\":\"about:blank\",\"status\":429} | Too Many Requests\n",
      " Request payload: {'query': '(((venezolano OR venezolana OR venezolanos OR venezolanas OR venezuela OR vzla OR vnzla) (migrante OR migrantes OR migracion)) OR veneco OR veneca OR venecos OR venecas)', 'max_results': 100, 'tweet.fields': 'id,text,author_id,created_at,entities,attachments,in_reply_to_user_id,referenced_tweets', 'user.fields': 'username,location', 'media.fields': 'media_key,type', 'expansions': 'referenced_tweets.id,referenced_tweets.id.author_id,entities.mentions.username,in_reply_to_user_id', 'start_time': '2018-09-01T00:00:00-05:00', 'end_time': '2018-09-30T23:59:00-05:00', 'next_token': 'b26v89c19zqg8o3fn0jnvnnefewyb5ovjdzhw6y60kp6l'}\n",
      "Rate limit hit... Will retry...\n",
      "Will retry in 16 seconds...\n"
     ]
    },
    {
     "name": "stdout",
     "output_type": "stream",
     "text": [
      "Exported tweets at: ../data/monthly_jsons_complete/2018-09.json\n"
     ]
    },
    {
     "name": "stderr",
     "output_type": "stream",
     "text": [
      " HTTP Error code: 429: {\"title\":\"Too Many Requests\",\"detail\":\"Too Many Requests\",\"type\":\"about:blank\",\"status\":429} | Too Many Requests\n",
      " Request payload: {'query': '(((venezolano OR venezolana OR venezolanos OR venezolanas OR venezuela OR vzla OR vnzla) (migrante OR migrantes OR migracion)) OR veneco OR veneca OR venecos OR venecas)', 'max_results': 100, 'tweet.fields': 'id,text,author_id,created_at,entities,attachments,in_reply_to_user_id,referenced_tweets', 'user.fields': 'username,location', 'media.fields': 'media_key,type', 'expansions': 'referenced_tweets.id,referenced_tweets.id.author_id,entities.mentions.username,in_reply_to_user_id', 'start_time': '2018-10-01T00:00:00-05:00', 'end_time': '2018-10-31T23:59:00-05:00', 'next_token': 'b26v89c19zqg8o3fn0pml07ul3yl0b1ecfsiq8upvazr1'}\n",
      "Rate limit hit... Will retry...\n",
      "Will retry in 4 seconds...\n",
      " HTTP Error code: 429: {\"title\":\"Too Many Requests\",\"detail\":\"Too Many Requests\",\"type\":\"about:blank\",\"status\":429} | Too Many Requests\n",
      " Request payload: {'query': '(((venezolano OR venezolana OR venezolanos OR venezolanas OR venezuela OR vzla OR vnzla) (migrante OR migrantes OR migracion)) OR veneco OR veneca OR venecos OR venecas)', 'max_results': 100, 'tweet.fields': 'id,text,author_id,created_at,entities,attachments,in_reply_to_user_id,referenced_tweets', 'user.fields': 'username,location', 'media.fields': 'media_key,type', 'expansions': 'referenced_tweets.id,referenced_tweets.id.author_id,entities.mentions.username,in_reply_to_user_id', 'start_time': '2018-10-01T00:00:00-05:00', 'end_time': '2018-10-31T23:59:00-05:00', 'next_token': 'b26v89c19zqg8o3fn0pml07ul3yl0b1ecfsiq8upvazr1'}\n",
      "Rate limit hit... Will retry...\n",
      "Will retry in 16 seconds...\n",
      " HTTP Error code: 429: {\"title\":\"Too Many Requests\",\"detail\":\"Too Many Requests\",\"type\":\"about:blank\",\"status\":429} | Too Many Requests\n",
      " Request payload: {'query': '(((venezolano OR venezolana OR venezolanos OR venezolanas OR venezuela OR vzla OR vnzla) (migrante OR migrantes OR migracion)) OR veneco OR veneca OR venecos OR venecas)', 'max_results': 100, 'tweet.fields': 'id,text,author_id,created_at,entities,attachments,in_reply_to_user_id,referenced_tweets', 'user.fields': 'username,location', 'media.fields': 'media_key,type', 'expansions': 'referenced_tweets.id,referenced_tweets.id.author_id,entities.mentions.username,in_reply_to_user_id', 'start_time': '2018-10-01T00:00:00-05:00', 'end_time': '2018-10-31T23:59:00-05:00', 'next_token': 'b26v89c19zqg8o3fn0plqxkddicwlbnq0v0gi74sqmdml'}\n",
      "Rate limit hit... Will retry...\n",
      "Will retry in 4 seconds...\n",
      " HTTP Error code: 429: {\"title\":\"Too Many Requests\",\"detail\":\"Too Many Requests\",\"type\":\"about:blank\",\"status\":429} | Too Many Requests\n",
      " Request payload: {'query': '(((venezolano OR venezolana OR venezolanos OR venezolanas OR venezuela OR vzla OR vnzla) (migrante OR migrantes OR migracion)) OR veneco OR veneca OR venecos OR venecas)', 'max_results': 100, 'tweet.fields': 'id,text,author_id,created_at,entities,attachments,in_reply_to_user_id,referenced_tweets', 'user.fields': 'username,location', 'media.fields': 'media_key,type', 'expansions': 'referenced_tweets.id,referenced_tweets.id.author_id,entities.mentions.username,in_reply_to_user_id', 'start_time': '2018-10-01T00:00:00-05:00', 'end_time': '2018-10-31T23:59:00-05:00', 'next_token': 'b26v89c19zqg8o3fn0plqxkddicwlbnq0v0gi74sqmdml'}\n",
      "Rate limit hit... Will retry...\n",
      "Will retry in 16 seconds...\n",
      " HTTP Error code: 429: {\"title\":\"Too Many Requests\",\"detail\":\"Too Many Requests\",\"type\":\"about:blank\",\"status\":429} | Too Many Requests\n",
      " Request payload: {'query': '(((venezolano OR venezolana OR venezolanos OR venezolanas OR venezuela OR vzla OR vnzla) (migrante OR migrantes OR migracion)) OR veneco OR veneca OR venecos OR venecas)', 'max_results': 100, 'tweet.fields': 'id,text,author_id,created_at,entities,attachments,in_reply_to_user_id,referenced_tweets', 'user.fields': 'username,location', 'media.fields': 'media_key,type', 'expansions': 'referenced_tweets.id,referenced_tweets.id.author_id,entities.mentions.username,in_reply_to_user_id', 'start_time': '2018-10-01T00:00:00-05:00', 'end_time': '2018-10-31T23:59:00-05:00', 'next_token': 'b26v89c19zqg8o3fn0plbnoonzey81llrlaenizugilq5'}\n",
      "Rate limit hit... Will retry...\n",
      "Will retry in 4 seconds...\n",
      " HTTP Error code: 429: {\"title\":\"Too Many Requests\",\"detail\":\"Too Many Requests\",\"type\":\"about:blank\",\"status\":429} | Too Many Requests\n",
      " Request payload: {'query': '(((venezolano OR venezolana OR venezolanos OR venezolanas OR venezuela OR vzla OR vnzla) (migrante OR migrantes OR migracion)) OR veneco OR veneca OR venecos OR venecas)', 'max_results': 100, 'tweet.fields': 'id,text,author_id,created_at,entities,attachments,in_reply_to_user_id,referenced_tweets', 'user.fields': 'username,location', 'media.fields': 'media_key,type', 'expansions': 'referenced_tweets.id,referenced_tweets.id.author_id,entities.mentions.username,in_reply_to_user_id', 'start_time': '2018-10-01T00:00:00-05:00', 'end_time': '2018-10-31T23:59:00-05:00', 'next_token': 'b26v89c19zqg8o3fn0mohuvkpco8543jmhldbtnppqdtp'}\n",
      "Rate limit hit... Will retry...\n",
      "Will retry in 4 seconds...\n",
      " HTTP Error code: 429: {\"title\":\"Too Many Requests\",\"detail\":\"Too Many Requests\",\"type\":\"about:blank\",\"status\":429} | Too Many Requests\n",
      " Request payload: {'query': '(((venezolano OR venezolana OR venezolanos OR venezolanas OR venezuela OR vzla OR vnzla) (migrante OR migrantes OR migracion)) OR veneco OR veneca OR venecos OR venecas)', 'max_results': 100, 'tweet.fields': 'id,text,author_id,created_at,entities,attachments,in_reply_to_user_id,referenced_tweets', 'user.fields': 'username,location', 'media.fields': 'media_key,type', 'expansions': 'referenced_tweets.id,referenced_tweets.id.author_id,entities.mentions.username,in_reply_to_user_id', 'start_time': '2018-10-01T00:00:00-05:00', 'end_time': '2018-10-31T23:59:00-05:00', 'next_token': 'b26v89c19zqg8o3fn0mohuvkpco8543jmhldbtnppqdtp'}\n",
      "Rate limit hit... Will retry...\n",
      "Will retry in 16 seconds...\n"
     ]
    },
    {
     "name": "stdout",
     "output_type": "stream",
     "text": [
      "Exported tweets at: ../data/monthly_jsons_complete/2018-10.json\n"
     ]
    },
    {
     "name": "stderr",
     "output_type": "stream",
     "text": [
      " HTTP Error code: 429: {\"title\":\"Too Many Requests\",\"detail\":\"Too Many Requests\",\"type\":\"about:blank\",\"status\":429} | Too Many Requests\n",
      " Request payload: {'query': '(((venezolano OR venezolana OR venezolanos OR venezolanas OR venezuela OR vzla OR vnzla) (migrante OR migrantes OR migracion)) OR veneco OR veneca OR venecos OR venecas)', 'max_results': 100, 'tweet.fields': 'id,text,author_id,created_at,entities,attachments,in_reply_to_user_id,referenced_tweets', 'user.fields': 'username,location', 'media.fields': 'media_key,type', 'expansions': 'referenced_tweets.id,referenced_tweets.id.author_id,entities.mentions.username,in_reply_to_user_id', 'start_time': '2018-11-01T00:00:00-05:00', 'end_time': '2018-11-30T23:59:00-05:00', 'next_token': 'b26v89c19zqg8o3fn0sms63ug9oaamrvtdngcatbmnvy5'}\n",
      "Rate limit hit... Will retry...\n",
      "Will retry in 4 seconds...\n",
      " HTTP Error code: 429: {\"title\":\"Too Many Requests\",\"detail\":\"Too Many Requests\",\"type\":\"about:blank\",\"status\":429} | Too Many Requests\n",
      " Request payload: {'query': '(((venezolano OR venezolana OR venezolanos OR venezolanas OR venezuela OR vzla OR vnzla) (migrante OR migrantes OR migracion)) OR veneco OR veneca OR venecos OR venecas)', 'max_results': 100, 'tweet.fields': 'id,text,author_id,created_at,entities,attachments,in_reply_to_user_id,referenced_tweets', 'user.fields': 'username,location', 'media.fields': 'media_key,type', 'expansions': 'referenced_tweets.id,referenced_tweets.id.author_id,entities.mentions.username,in_reply_to_user_id', 'start_time': '2018-11-01T00:00:00-05:00', 'end_time': '2018-11-30T23:59:00-05:00', 'next_token': 'b26v89c19zqg8o3fn0sms63ug9oaamrvtdngcatbmnvy5'}\n",
      "Rate limit hit... Will retry...\n",
      "Will retry in 16 seconds...\n",
      " HTTP Error code: 429: {\"title\":\"Too Many Requests\",\"detail\":\"Too Many Requests\",\"type\":\"about:blank\",\"status\":429} | Too Many Requests\n",
      " Request payload: {'query': '(((venezolano OR venezolana OR venezolanos OR venezolanas OR venezuela OR vzla OR vnzla) (migrante OR migrantes OR migracion)) OR veneco OR veneca OR venecos OR venecas)', 'max_results': 100, 'tweet.fields': 'id,text,author_id,created_at,entities,attachments,in_reply_to_user_id,referenced_tweets', 'user.fields': 'username,location', 'media.fields': 'media_key,type', 'expansions': 'referenced_tweets.id,referenced_tweets.id.author_id,entities.mentions.username,in_reply_to_user_id', 'start_time': '2018-11-01T00:00:00-05:00', 'end_time': '2018-11-30T23:59:00-05:00', 'next_token': 'b26v89c19zqg8o3fn0slxz7iba7aglyc02hl4cr8mkghp'}\n",
      "Rate limit hit... Will retry...\n",
      "Will retry in 4 seconds...\n",
      " HTTP Error code: 429: {\"title\":\"Too Many Requests\",\"detail\":\"Too Many Requests\",\"type\":\"about:blank\",\"status\":429} | Too Many Requests\n",
      " Request payload: {'query': '(((venezolano OR venezolana OR venezolanos OR venezolanas OR venezuela OR vzla OR vnzla) (migrante OR migrantes OR migracion)) OR veneco OR veneca OR venecos OR venecas)', 'max_results': 100, 'tweet.fields': 'id,text,author_id,created_at,entities,attachments,in_reply_to_user_id,referenced_tweets', 'user.fields': 'username,location', 'media.fields': 'media_key,type', 'expansions': 'referenced_tweets.id,referenced_tweets.id.author_id,entities.mentions.username,in_reply_to_user_id', 'start_time': '2018-11-01T00:00:00-05:00', 'end_time': '2018-11-30T23:59:00-05:00', 'next_token': 'b26v89c19zqg8o3fn0slxz7iba7aglyc02hl4cr8mkghp'}\n",
      "Rate limit hit... Will retry...\n",
      "Will retry in 16 seconds...\n",
      " HTTP Error code: 429: {\"title\":\"Too Many Requests\",\"detail\":\"Too Many Requests\",\"type\":\"about:blank\",\"status\":429} | Too Many Requests\n",
      " Request payload: {'query': '(((venezolano OR venezolana OR venezolanos OR venezolanas OR venezuela OR vzla OR vnzla) (migrante OR migrantes OR migracion)) OR veneco OR veneca OR venecos OR venecas)', 'max_results': 100, 'tweet.fields': 'id,text,author_id,created_at,entities,attachments,in_reply_to_user_id,referenced_tweets', 'user.fields': 'username,location', 'media.fields': 'media_key,type', 'expansions': 'referenced_tweets.id,referenced_tweets.id.author_id,entities.mentions.username,in_reply_to_user_id', 'start_time': '2018-11-01T00:00:00-05:00', 'end_time': '2018-11-30T23:59:00-05:00', 'next_token': 'b26v89c19zqg8o3fn0skooq2ck0lb7cchpim5gck5kd4t'}\n",
      "Rate limit hit... Will retry...\n",
      "Will retry in 4 seconds...\n",
      " HTTP Error code: 429: {\"title\":\"Too Many Requests\",\"detail\":\"Too Many Requests\",\"type\":\"about:blank\",\"status\":429} | Too Many Requests\n",
      " Request payload: {'query': '(((venezolano OR venezolana OR venezolanos OR venezolanas OR venezuela OR vzla OR vnzla) (migrante OR migrantes OR migracion)) OR veneco OR veneca OR venecos OR venecas)', 'max_results': 100, 'tweet.fields': 'id,text,author_id,created_at,entities,attachments,in_reply_to_user_id,referenced_tweets', 'user.fields': 'username,location', 'media.fields': 'media_key,type', 'expansions': 'referenced_tweets.id,referenced_tweets.id.author_id,entities.mentions.username,in_reply_to_user_id', 'start_time': '2018-11-01T00:00:00-05:00', 'end_time': '2018-11-30T23:59:00-05:00', 'next_token': 'b26v89c19zqg8o3fn0skooq2ck0lb7cchpim5gck5kd4t'}\n",
      "Rate limit hit... Will retry...\n",
      "Will retry in 16 seconds...\n",
      " HTTP Error code: 429: {\"title\":\"Too Many Requests\",\"detail\":\"Too Many Requests\",\"type\":\"about:blank\",\"status\":429} | Too Many Requests\n",
      " Request payload: {'query': '(((venezolano OR venezolana OR venezolanos OR venezolanas OR venezuela OR vzla OR vnzla) (migrante OR migrantes OR migracion)) OR veneco OR veneca OR venecos OR venecas)', 'max_results': 100, 'tweet.fields': 'id,text,author_id,created_at,entities,attachments,in_reply_to_user_id,referenced_tweets', 'user.fields': 'username,location', 'media.fields': 'media_key,type', 'expansions': 'referenced_tweets.id,referenced_tweets.id.author_id,entities.mentions.username,in_reply_to_user_id', 'start_time': '2018-11-01T00:00:00-05:00', 'end_time': '2018-11-30T23:59:00-05:00', 'next_token': 'b26v89c19zqg8o3fn0po9t23vfo89nn51d7kdd40b6qgt'}\n",
      "Rate limit hit... Will retry...\n",
      "Will retry in 4 seconds...\n",
      " HTTP Error code: 429: {\"title\":\"Too Many Requests\",\"detail\":\"Too Many Requests\",\"type\":\"about:blank\",\"status\":429} | Too Many Requests\n",
      " Request payload: {'query': '(((venezolano OR venezolana OR venezolanos OR venezolanas OR venezuela OR vzla OR vnzla) (migrante OR migrantes OR migracion)) OR veneco OR veneca OR venecos OR venecas)', 'max_results': 100, 'tweet.fields': 'id,text,author_id,created_at,entities,attachments,in_reply_to_user_id,referenced_tweets', 'user.fields': 'username,location', 'media.fields': 'media_key,type', 'expansions': 'referenced_tweets.id,referenced_tweets.id.author_id,entities.mentions.username,in_reply_to_user_id', 'start_time': '2018-11-01T00:00:00-05:00', 'end_time': '2018-11-30T23:59:00-05:00', 'next_token': 'b26v89c19zqg8o3fn0po9t23vfo89nn51d7kdd40b6qgt'}\n",
      "Rate limit hit... Will retry...\n",
      "Will retry in 16 seconds...\n",
      " HTTP Error code: 429: {\"title\":\"Too Many Requests\",\"detail\":\"Too Many Requests\",\"type\":\"about:blank\",\"status\":429} | Too Many Requests\n",
      " Request payload: {'query': '(((venezolano OR venezolana OR venezolanos OR venezolanas OR venezuela OR vzla OR vnzla) (migrante OR migrantes OR migracion)) OR veneco OR veneca OR venecos OR venecas)', 'max_results': 100, 'tweet.fields': 'id,text,author_id,created_at,entities,attachments,in_reply_to_user_id,referenced_tweets', 'user.fields': 'username,location', 'media.fields': 'media_key,type', 'expansions': 'referenced_tweets.id,referenced_tweets.id.author_id,entities.mentions.username,in_reply_to_user_id', 'start_time': '2018-11-01T00:00:00-05:00', 'end_time': '2018-11-30T23:59:00-05:00', 'next_token': 'b26v89c19zqg8o3fn0pnuh0hb5tjhax3ktlos3autsn7h'}\n",
      "Rate limit hit... Will retry...\n",
      "Will retry in 4 seconds...\n",
      " HTTP Error code: 429: {\"title\":\"Too Many Requests\",\"detail\":\"Too Many Requests\",\"type\":\"about:blank\",\"status\":429} | Too Many Requests\n",
      " Request payload: {'query': '(((venezolano OR venezolana OR venezolanos OR venezolanas OR venezuela OR vzla OR vnzla) (migrante OR migrantes OR migracion)) OR veneco OR veneca OR venecos OR venecas)', 'max_results': 100, 'tweet.fields': 'id,text,author_id,created_at,entities,attachments,in_reply_to_user_id,referenced_tweets', 'user.fields': 'username,location', 'media.fields': 'media_key,type', 'expansions': 'referenced_tweets.id,referenced_tweets.id.author_id,entities.mentions.username,in_reply_to_user_id', 'start_time': '2018-11-01T00:00:00-05:00', 'end_time': '2018-11-30T23:59:00-05:00', 'next_token': 'b26v89c19zqg8o3fn0pnuh0hb5tjhax3ktlos3autsn7h'}\n",
      "Rate limit hit... Will retry...\n",
      "Will retry in 16 seconds...\n",
      " HTTP Error code: 429: {\"title\":\"Too Many Requests\",\"detail\":\"Too Many Requests\",\"type\":\"about:blank\",\"status\":429} | Too Many Requests\n",
      " Request payload: {'query': '(((venezolano OR venezolana OR venezolanos OR venezolanas OR venezuela OR vzla OR vnzla) (migrante OR migrantes OR migracion)) OR veneco OR veneca OR venecos OR venecas)', 'max_results': 100, 'tweet.fields': 'id,text,author_id,created_at,entities,attachments,in_reply_to_user_id,referenced_tweets', 'user.fields': 'username,location', 'media.fields': 'media_key,type', 'expansions': 'referenced_tweets.id,referenced_tweets.id.author_id,entities.mentions.username,in_reply_to_user_id', 'start_time': '2018-11-01T00:00:00-05:00', 'end_time': '2018-11-30T23:59:00-05:00', 'next_token': 'b26v89c19zqg8o3fn0pnuh0hb5tjhax3ktlos3autsn7h'}\n",
      "Rate limit hit... Will retry...\n",
      "Will retry in 36 seconds...\n"
     ]
    },
    {
     "name": "stdout",
     "output_type": "stream",
     "text": [
      "Exported tweets at: ../data/monthly_jsons_complete/2018-11.json\n"
     ]
    },
    {
     "name": "stderr",
     "output_type": "stream",
     "text": [
      " HTTP Error code: 429: {\"title\":\"Too Many Requests\",\"detail\":\"Too Many Requests\",\"type\":\"about:blank\",\"status\":429} | Too Many Requests\n",
      " Request payload: {'query': '(((venezolano OR venezolana OR venezolanos OR venezolanas OR venezuela OR vzla OR vnzla) (migrante OR migrantes OR migracion)) OR veneco OR veneca OR venecos OR venecas)', 'max_results': 100, 'tweet.fields': 'id,text,author_id,created_at,entities,attachments,in_reply_to_user_id,referenced_tweets', 'user.fields': 'username,location', 'media.fields': 'media_key,type', 'expansions': 'referenced_tweets.id,referenced_tweets.id.author_id,entities.mentions.username,in_reply_to_user_id', 'start_time': '2018-12-01T00:00:00-05:00', 'end_time': '2018-12-31T23:59:00-05:00', 'next_token': 'b26v89c19zqg8o3fn0vlpzhkffjvn9fgggtiurqwkkqrh'}\n",
      "Rate limit hit... Will retry...\n",
      "Will retry in 4 seconds...\n",
      " HTTP Error code: 429: {\"title\":\"Too Many Requests\",\"detail\":\"Too Many Requests\",\"type\":\"about:blank\",\"status\":429} | Too Many Requests\n",
      " Request payload: {'query': '(((venezolano OR venezolana OR venezolanos OR venezolanas OR venezuela OR vzla OR vnzla) (migrante OR migrantes OR migracion)) OR veneco OR veneca OR venecos OR venecas)', 'max_results': 100, 'tweet.fields': 'id,text,author_id,created_at,entities,attachments,in_reply_to_user_id,referenced_tweets', 'user.fields': 'username,location', 'media.fields': 'media_key,type', 'expansions': 'referenced_tweets.id,referenced_tweets.id.author_id,entities.mentions.username,in_reply_to_user_id', 'start_time': '2018-12-01T00:00:00-05:00', 'end_time': '2018-12-31T23:59:00-05:00', 'next_token': 'b26v89c19zqg8o3fn0vlpzhkffjvn9fgggtiurqwkkqrh'}\n",
      "Rate limit hit... Will retry...\n",
      "Will retry in 16 seconds...\n",
      " HTTP Error code: 429: {\"title\":\"Too Many Requests\",\"detail\":\"Too Many Requests\",\"type\":\"about:blank\",\"status\":429} | Too Many Requests\n",
      " Request payload: {'query': '(((venezolano OR venezolana OR venezolanos OR venezolanas OR venezuela OR vzla OR vnzla) (migrante OR migrantes OR migracion)) OR veneco OR veneca OR venecos OR venecas)', 'max_results': 100, 'tweet.fields': 'id,text,author_id,created_at,entities,attachments,in_reply_to_user_id,referenced_tweets', 'user.fields': 'username,location', 'media.fields': 'media_key,type', 'expansions': 'referenced_tweets.id,referenced_tweets.id.author_id,entities.mentions.username,in_reply_to_user_id', 'start_time': '2018-12-01T00:00:00-05:00', 'end_time': '2018-12-31T23:59:00-05:00', 'next_token': 'b26v89c19zqg8o3fn0vkv9cagyy474dbdpf0a6yq1ziwt'}\n",
      "Rate limit hit... Will retry...\n",
      "Will retry in 4 seconds...\n",
      " HTTP Error code: 429: {\"title\":\"Too Many Requests\",\"detail\":\"Too Many Requests\",\"type\":\"about:blank\",\"status\":429} | Too Many Requests\n",
      " Request payload: {'query': '(((venezolano OR venezolana OR venezolanos OR venezolanas OR venezuela OR vzla OR vnzla) (migrante OR migrantes OR migracion)) OR veneco OR veneca OR venecos OR venecas)', 'max_results': 100, 'tweet.fields': 'id,text,author_id,created_at,entities,attachments,in_reply_to_user_id,referenced_tweets', 'user.fields': 'username,location', 'media.fields': 'media_key,type', 'expansions': 'referenced_tweets.id,referenced_tweets.id.author_id,entities.mentions.username,in_reply_to_user_id', 'start_time': '2018-12-01T00:00:00-05:00', 'end_time': '2018-12-31T23:59:00-05:00', 'next_token': 'b26v89c19zqg8o3fn0vkv9cagyy474dbdpf0a6yq1ziwt'}\n",
      "Rate limit hit... Will retry...\n",
      "Will retry in 16 seconds...\n"
     ]
    },
    {
     "name": "stdout",
     "output_type": "stream",
     "text": [
      "Exported tweets at: ../data/monthly_jsons_complete/2018-12.json\n"
     ]
    },
    {
     "name": "stderr",
     "output_type": "stream",
     "text": [
      " HTTP Error code: 429: {\"title\":\"Too Many Requests\",\"detail\":\"Too Many Requests\",\"type\":\"about:blank\",\"status\":429} | Too Many Requests\n",
      " Request payload: {'query': '(((venezolano OR venezolana OR venezolanos OR venezolanas OR venezuela OR vzla OR vnzla) (migrante OR migrantes OR migracion)) OR veneco OR veneca OR venecos OR venecas)', 'max_results': 100, 'tweet.fields': 'id,text,author_id,created_at,entities,attachments,in_reply_to_user_id,referenced_tweets', 'user.fields': 'username,location', 'media.fields': 'media_key,type', 'expansions': 'referenced_tweets.id,referenced_tweets.id.author_id,entities.mentions.username,in_reply_to_user_id', 'start_time': '2019-01-01T00:00:00-05:00', 'end_time': '2019-01-31T23:59:00-05:00', 'next_token': 'b26v89c19zqg8o3fn0ynl8n332xsa1qqpot7o5bkgu1dp'}\n",
      "Rate limit hit... Will retry...\n",
      "Will retry in 4 seconds...\n",
      " HTTP Error code: 429: {\"title\":\"Too Many Requests\",\"detail\":\"Too Many Requests\",\"type\":\"about:blank\",\"status\":429} | Too Many Requests\n",
      " Request payload: {'query': '(((venezolano OR venezolana OR venezolanos OR venezolanas OR venezuela OR vzla OR vnzla) (migrante OR migrantes OR migracion)) OR veneco OR veneca OR venecos OR venecas)', 'max_results': 100, 'tweet.fields': 'id,text,author_id,created_at,entities,attachments,in_reply_to_user_id,referenced_tweets', 'user.fields': 'username,location', 'media.fields': 'media_key,type', 'expansions': 'referenced_tweets.id,referenced_tweets.id.author_id,entities.mentions.username,in_reply_to_user_id', 'start_time': '2019-01-01T00:00:00-05:00', 'end_time': '2019-01-31T23:59:00-05:00', 'next_token': 'b26v89c19zqg8o3fn0ynl8n332xsa1qqpot7o5bkgu1dp'}\n",
      "Rate limit hit... Will retry...\n",
      "Will retry in 16 seconds...\n",
      " HTTP Error code: 429: {\"title\":\"Too Many Requests\",\"detail\":\"Too Many Requests\",\"type\":\"about:blank\",\"status\":429} | Too Many Requests\n",
      " Request payload: {'query': '(((venezolano OR venezolana OR venezolanos OR venezolanas OR venezuela OR vzla OR vnzla) (migrante OR migrantes OR migracion)) OR veneco OR veneca OR venecos OR venecas)', 'max_results': 100, 'tweet.fields': 'id,text,author_id,created_at,entities,attachments,in_reply_to_user_id,referenced_tweets', 'user.fields': 'username,location', 'media.fields': 'media_key,type', 'expansions': 'referenced_tweets.id,referenced_tweets.id.author_id,entities.mentions.username,in_reply_to_user_id', 'start_time': '2019-01-01T00:00:00-05:00', 'end_time': '2019-01-31T23:59:00-05:00', 'next_token': 'b26v89c19zqg8o3fn0ymr5z07lyy30ke5omm422kxz4ot'}\n",
      "Rate limit hit... Will retry...\n",
      "Will retry in 4 seconds...\n",
      " HTTP Error code: 429: {\"title\":\"Too Many Requests\",\"detail\":\"Too Many Requests\",\"type\":\"about:blank\",\"status\":429} | Too Many Requests\n",
      " Request payload: {'query': '(((venezolano OR venezolana OR venezolanos OR venezolanas OR venezuela OR vzla OR vnzla) (migrante OR migrantes OR migracion)) OR veneco OR veneca OR venecos OR venecas)', 'max_results': 100, 'tweet.fields': 'id,text,author_id,created_at,entities,attachments,in_reply_to_user_id,referenced_tweets', 'user.fields': 'username,location', 'media.fields': 'media_key,type', 'expansions': 'referenced_tweets.id,referenced_tweets.id.author_id,entities.mentions.username,in_reply_to_user_id', 'start_time': '2019-01-01T00:00:00-05:00', 'end_time': '2019-01-31T23:59:00-05:00', 'next_token': 'b26v89c19zqg8o3fn0ymr1n5jzd70e35ceubznn2ui3jx'}\n",
      "Rate limit hit... Will retry...\n",
      "Will retry in 4 seconds...\n",
      " HTTP Error code: 429: {\"title\":\"Too Many Requests\",\"detail\":\"Too Many Requests\",\"type\":\"about:blank\",\"status\":429} | Too Many Requests\n",
      " Request payload: {'query': '(((venezolano OR venezolana OR venezolanos OR venezolanas OR venezuela OR vzla OR vnzla) (migrante OR migrantes OR migracion)) OR veneco OR veneca OR venecos OR venecas)', 'max_results': 100, 'tweet.fields': 'id,text,author_id,created_at,entities,attachments,in_reply_to_user_id,referenced_tweets', 'user.fields': 'username,location', 'media.fields': 'media_key,type', 'expansions': 'referenced_tweets.id,referenced_tweets.id.author_id,entities.mentions.username,in_reply_to_user_id', 'start_time': '2019-01-01T00:00:00-05:00', 'end_time': '2019-01-31T23:59:00-05:00', 'next_token': 'b26v89c19zqg8o3fn0ymr1n5jzd70e35ceubznn2ui3jx'}\n",
      "Rate limit hit... Will retry...\n",
      "Will retry in 16 seconds...\n",
      " HTTP Error code: 429: {\"title\":\"Too Many Requests\",\"detail\":\"Too Many Requests\",\"type\":\"about:blank\",\"status\":429} | Too Many Requests\n",
      " Request payload: {'query': '(((venezolano OR venezolana OR venezolanos OR venezolanas OR venezuela OR vzla OR vnzla) (migrante OR migrantes OR migracion)) OR veneco OR veneca OR venecos OR venecas)', 'max_results': 100, 'tweet.fields': 'id,text,author_id,created_at,entities,attachments,in_reply_to_user_id,referenced_tweets', 'user.fields': 'username,location', 'media.fields': 'media_key,type', 'expansions': 'referenced_tweets.id,referenced_tweets.id.author_id,entities.mentions.username,in_reply_to_user_id', 'start_time': '2019-01-01T00:00:00-05:00', 'end_time': '2019-01-31T23:59:00-05:00', 'next_token': 'b26v89c19zqg8o3fn0yl2f8a4iwi4idc0zgrjw19iuzy5'}\n",
      "Rate limit hit... Will retry...\n",
      "Will retry in 4 seconds...\n",
      " HTTP Error code: 429: {\"title\":\"Too Many Requests\",\"detail\":\"Too Many Requests\",\"type\":\"about:blank\",\"status\":429} | Too Many Requests\n",
      " Request payload: {'query': '(((venezolano OR venezolana OR venezolanos OR venezolanas OR venezuela OR vzla OR vnzla) (migrante OR migrantes OR migracion)) OR veneco OR veneca OR venecos OR venecas)', 'max_results': 100, 'tweet.fields': 'id,text,author_id,created_at,entities,attachments,in_reply_to_user_id,referenced_tweets', 'user.fields': 'username,location', 'media.fields': 'media_key,type', 'expansions': 'referenced_tweets.id,referenced_tweets.id.author_id,entities.mentions.username,in_reply_to_user_id', 'start_time': '2019-01-01T00:00:00-05:00', 'end_time': '2019-01-31T23:59:00-05:00', 'next_token': 'b26v89c19zqg8o3fn0yl2f8a4iwi4idc0zgrjw19iuzy5'}\n",
      "Rate limit hit... Will retry...\n",
      "Will retry in 16 seconds...\n"
     ]
    },
    {
     "name": "stdout",
     "output_type": "stream",
     "text": [
      "Exported tweets at: ../data/monthly_jsons_complete/2019-01.json\n"
     ]
    },
    {
     "name": "stderr",
     "output_type": "stream",
     "text": [
      " HTTP Error code: 429: {\"title\":\"Too Many Requests\",\"detail\":\"Too Many Requests\",\"type\":\"about:blank\",\"status\":429} | Too Many Requests\n",
      " Request payload: {'query': '(((venezolano OR venezolana OR venezolanos OR venezolanas OR venezuela OR vzla OR vnzla) (migrante OR migrantes OR migracion)) OR veneco OR veneca OR venecos OR venecas)', 'max_results': 100, 'tweet.fields': 'id,text,author_id,created_at,entities,attachments,in_reply_to_user_id,referenced_tweets', 'user.fields': 'username,location', 'media.fields': 'media_key,type', 'expansions': 'referenced_tweets.id,referenced_tweets.id.author_id,entities.mentions.username,in_reply_to_user_id', 'start_time': '2019-02-01T00:00:00-05:00', 'end_time': '2019-02-28T23:59:00-05:00', 'next_token': 'b26v89c19zqg8o3fnlkzxif5mwrvlwc2dus1gtrifobct'}\n",
      "Rate limit hit... Will retry...\n",
      "Will retry in 4 seconds...\n",
      " HTTP Error code: 429: {\"title\":\"Too Many Requests\",\"detail\":\"Too Many Requests\",\"type\":\"about:blank\",\"status\":429} | Too Many Requests\n",
      " Request payload: {'query': '(((venezolano OR venezolana OR venezolanos OR venezolanas OR venezuela OR vzla OR vnzla) (migrante OR migrantes OR migracion)) OR veneco OR veneca OR venecos OR venecas)', 'max_results': 100, 'tweet.fields': 'id,text,author_id,created_at,entities,attachments,in_reply_to_user_id,referenced_tweets', 'user.fields': 'username,location', 'media.fields': 'media_key,type', 'expansions': 'referenced_tweets.id,referenced_tweets.id.author_id,entities.mentions.username,in_reply_to_user_id', 'start_time': '2019-02-01T00:00:00-05:00', 'end_time': '2019-02-28T23:59:00-05:00', 'next_token': 'b26v89c19zqg8o3fnlkzxif5mwrvlwc2dus1gtrifobct'}\n",
      "Rate limit hit... Will retry...\n",
      "Will retry in 16 seconds...\n",
      " HTTP Error code: 429: {\"title\":\"Too Many Requests\",\"detail\":\"Too Many Requests\",\"type\":\"about:blank\",\"status\":429} | Too Many Requests\n",
      " Request payload: {'query': '(((venezolano OR venezolana OR venezolanos OR venezolanas OR venezuela OR vzla OR vnzla) (migrante OR migrantes OR migracion)) OR veneco OR veneca OR venecos OR venecas)', 'max_results': 100, 'tweet.fields': 'id,text,author_id,created_at,entities,attachments,in_reply_to_user_id,referenced_tweets', 'user.fields': 'username,location', 'media.fields': 'media_key,type', 'expansions': 'referenced_tweets.id,referenced_tweets.id.author_id,entities.mentions.username,in_reply_to_user_id', 'start_time': '2019-02-01T00:00:00-05:00', 'end_time': '2019-02-28T23:59:00-05:00', 'next_token': 'b26v89c19zqg8o3fn11ndd5e664z5toimfg6q6j4c3drx'}\n",
      "Rate limit hit... Will retry...\n",
      "Will retry in 4 seconds...\n",
      " HTTP Error code: 429: {\"title\":\"Too Many Requests\",\"detail\":\"Too Many Requests\",\"type\":\"about:blank\",\"status\":429} | Too Many Requests\n",
      " Request payload: {'query': '(((venezolano OR venezolana OR venezolanos OR venezolanas OR venezuela OR vzla OR vnzla) (migrante OR migrantes OR migracion)) OR veneco OR veneca OR venecos OR venecas)', 'max_results': 100, 'tweet.fields': 'id,text,author_id,created_at,entities,attachments,in_reply_to_user_id,referenced_tweets', 'user.fields': 'username,location', 'media.fields': 'media_key,type', 'expansions': 'referenced_tweets.id,referenced_tweets.id.author_id,entities.mentions.username,in_reply_to_user_id', 'start_time': '2019-02-01T00:00:00-05:00', 'end_time': '2019-02-28T23:59:00-05:00', 'next_token': 'b26v89c19zqg8o3fn11nd8xfhibfpotqm8kg9lh5ywpz1'}\n",
      "Rate limit hit... Will retry...\n",
      "Will retry in 4 seconds...\n",
      " HTTP Error code: 429: {\"title\":\"Too Many Requests\",\"detail\":\"Too Many Requests\",\"type\":\"about:blank\",\"status\":429} | Too Many Requests\n",
      " Request payload: {'query': '(((venezolano OR venezolana OR venezolanos OR venezolanas OR venezuela OR vzla OR vnzla) (migrante OR migrantes OR migracion)) OR veneco OR veneca OR venecos OR venecas)', 'max_results': 100, 'tweet.fields': 'id,text,author_id,created_at,entities,attachments,in_reply_to_user_id,referenced_tweets', 'user.fields': 'username,location', 'media.fields': 'media_key,type', 'expansions': 'referenced_tweets.id,referenced_tweets.id.author_id,entities.mentions.username,in_reply_to_user_id', 'start_time': '2019-02-01T00:00:00-05:00', 'end_time': '2019-02-28T23:59:00-05:00', 'next_token': 'b26v89c19zqg8o3fn11nd8xfhibfpotqm8kg9lh5ywpz1'}\n",
      "Rate limit hit... Will retry...\n",
      "Will retry in 16 seconds...\n",
      " HTTP Error code: 429: {\"title\":\"Too Many Requests\",\"detail\":\"Too Many Requests\",\"type\":\"about:blank\",\"status\":429} | Too Many Requests\n",
      " Request payload: {'query': '(((venezolano OR venezolana OR venezolanos OR venezolanas OR venezuela OR vzla OR vnzla) (migrante OR migrantes OR migracion)) OR veneco OR veneca OR venecos OR venecas)', 'max_results': 100, 'tweet.fields': 'id,text,author_id,created_at,entities,attachments,in_reply_to_user_id,referenced_tweets', 'user.fields': 'username,location', 'media.fields': 'media_key,type', 'expansions': 'referenced_tweets.id,referenced_tweets.id.author_id,entities.mentions.username,in_reply_to_user_id', 'start_time': '2019-02-01T00:00:00-05:00', 'end_time': '2019-02-28T23:59:00-05:00', 'next_token': 'b26v89c19zqg8o3fn11nd6tlqy96y13e2050lzpznpbi5'}\n",
      "Rate limit hit... Will retry...\n",
      "Will retry in 4 seconds...\n",
      " HTTP Error code: 429: {\"title\":\"Too Many Requests\",\"detail\":\"Too Many Requests\",\"type\":\"about:blank\",\"status\":429} | Too Many Requests\n",
      " Request payload: {'query': '(((venezolano OR venezolana OR venezolanos OR venezolanas OR venezuela OR vzla OR vnzla) (migrante OR migrantes OR migracion)) OR veneco OR veneca OR venecos OR venecas)', 'max_results': 100, 'tweet.fields': 'id,text,author_id,created_at,entities,attachments,in_reply_to_user_id,referenced_tweets', 'user.fields': 'username,location', 'media.fields': 'media_key,type', 'expansions': 'referenced_tweets.id,referenced_tweets.id.author_id,entities.mentions.username,in_reply_to_user_id', 'start_time': '2019-02-01T00:00:00-05:00', 'end_time': '2019-02-28T23:59:00-05:00', 'next_token': 'b26v89c19zqg8o3fn11nd6tlqy96y13e2050lzpznpbi5'}\n",
      "Rate limit hit... Will retry...\n",
      "Will retry in 16 seconds...\n",
      " HTTP Error code: 429: {\"title\":\"Too Many Requests\",\"detail\":\"Too Many Requests\",\"type\":\"about:blank\",\"status\":429} | Too Many Requests\n",
      " Request payload: {'query': '(((venezolano OR venezolana OR venezolanos OR venezolanas OR venezuela OR vzla OR vnzla) (migrante OR migrantes OR migracion)) OR veneco OR veneca OR venecos OR venecas)', 'max_results': 100, 'tweet.fields': 'id,text,author_id,created_at,entities,attachments,in_reply_to_user_id,referenced_tweets', 'user.fields': 'username,location', 'media.fields': 'media_key,type', 'expansions': 'referenced_tweets.id,referenced_tweets.id.author_id,entities.mentions.username,in_reply_to_user_id', 'start_time': '2019-02-01T00:00:00-05:00', 'end_time': '2019-02-28T23:59:00-05:00', 'next_token': 'b26v89c19zqg8o3fn11mixocnq19x535keshsccge3czh'}\n",
      "Rate limit hit... Will retry...\n",
      "Will retry in 4 seconds...\n",
      " HTTP Error code: 429: {\"title\":\"Too Many Requests\",\"detail\":\"Too Many Requests\",\"type\":\"about:blank\",\"status\":429} | Too Many Requests\n",
      " Request payload: {'query': '(((venezolano OR venezolana OR venezolanos OR venezolanas OR venezuela OR vzla OR vnzla) (migrante OR migrantes OR migracion)) OR veneco OR veneca OR venecos OR venecas)', 'max_results': 100, 'tweet.fields': 'id,text,author_id,created_at,entities,attachments,in_reply_to_user_id,referenced_tweets', 'user.fields': 'username,location', 'media.fields': 'media_key,type', 'expansions': 'referenced_tweets.id,referenced_tweets.id.author_id,entities.mentions.username,in_reply_to_user_id', 'start_time': '2019-02-01T00:00:00-05:00', 'end_time': '2019-02-28T23:59:00-05:00', 'next_token': 'b26v89c19zqg8o3fn11l9pdqev4bxiniyymuxpc46dv99'}\n",
      "Rate limit hit... Will retry...\n",
      "Will retry in 4 seconds...\n"
     ]
    },
    {
     "name": "stdout",
     "output_type": "stream",
     "text": [
      "Exported tweets at: ../data/monthly_jsons_complete/2019-02.json\n"
     ]
    },
    {
     "name": "stderr",
     "output_type": "stream",
     "text": [
      " HTTP Error code: 429: {\"title\":\"Too Many Requests\",\"detail\":\"Too Many Requests\",\"type\":\"about:blank\",\"status\":429} | Too Many Requests\n",
      " Request payload: {'query': '(((venezolano OR venezolana OR venezolanos OR venezolanas OR venezuela OR vzla OR vnzla) (migrante OR migrantes OR migracion)) OR veneco OR veneca OR venecos OR venecas)', 'max_results': 100, 'tweet.fields': 'id,text,author_id,created_at,entities,attachments,in_reply_to_user_id,referenced_tweets', 'user.fields': 'username,location', 'media.fields': 'media_key,type', 'expansions': 'referenced_tweets.id,referenced_tweets.id.author_id,entities.mentions.username,in_reply_to_user_id', 'start_time': '2019-03-01T00:00:00-05:00', 'end_time': '2019-03-31T23:59:00-05:00', 'next_token': 'b26v89c19zqg8o3fnll3azs3byvg43wnnwc8zjx48ulj1'}\n",
      "Rate limit hit... Will retry...\n",
      "Will retry in 4 seconds...\n",
      " HTTP Error code: 429: {\"title\":\"Too Many Requests\",\"detail\":\"Too Many Requests\",\"type\":\"about:blank\",\"status\":429} | Too Many Requests\n",
      " Request payload: {'query': '(((venezolano OR venezolana OR venezolanos OR venezolanas OR venezuela OR vzla OR vnzla) (migrante OR migrantes OR migracion)) OR veneco OR veneca OR venecos OR venecas)', 'max_results': 100, 'tweet.fields': 'id,text,author_id,created_at,entities,attachments,in_reply_to_user_id,referenced_tweets', 'user.fields': 'username,location', 'media.fields': 'media_key,type', 'expansions': 'referenced_tweets.id,referenced_tweets.id.author_id,entities.mentions.username,in_reply_to_user_id', 'start_time': '2019-03-01T00:00:00-05:00', 'end_time': '2019-03-31T23:59:00-05:00', 'next_token': 'b26v89c19zqg8o3fnll3azs3byvg43wnnwc8zjx48ulj1'}\n",
      "Rate limit hit... Will retry...\n",
      "Will retry in 16 seconds...\n",
      " HTTP Error code: 429: {\"title\":\"Too Many Requests\",\"detail\":\"Too Many Requests\",\"type\":\"about:blank\",\"status\":429} | Too Many Requests\n",
      " Request payload: {'query': '(((venezolano OR venezolana OR venezolanos OR venezolanas OR venezuela OR vzla OR vnzla) (migrante OR migrantes OR migracion)) OR veneco OR veneca OR venecos OR venecas)', 'max_results': 100, 'tweet.fields': 'id,text,author_id,created_at,entities,attachments,in_reply_to_user_id,referenced_tweets', 'user.fields': 'username,location', 'media.fields': 'media_key,type', 'expansions': 'referenced_tweets.id,referenced_tweets.id.author_id,entities.mentions.username,in_reply_to_user_id', 'start_time': '2019-03-01T00:00:00-05:00', 'end_time': '2019-03-31T23:59:00-05:00', 'next_token': 'b26v89c19zqg8o3fnll0s489n6oz4hht7okxz1yloy4ql'}\n",
      "Rate limit hit... Will retry...\n",
      "Will retry in 4 seconds...\n",
      " HTTP Error code: 429: {\"title\":\"Too Many Requests\",\"detail\":\"Too Many Requests\",\"type\":\"about:blank\",\"status\":429} | Too Many Requests\n",
      " Request payload: {'query': '(((venezolano OR venezolana OR venezolanos OR venezolanas OR venezuela OR vzla OR vnzla) (migrante OR migrantes OR migracion)) OR veneco OR veneca OR venecos OR venecas)', 'max_results': 100, 'tweet.fields': 'id,text,author_id,created_at,entities,attachments,in_reply_to_user_id,referenced_tweets', 'user.fields': 'username,location', 'media.fields': 'media_key,type', 'expansions': 'referenced_tweets.id,referenced_tweets.id.author_id,entities.mentions.username,in_reply_to_user_id', 'start_time': '2019-03-01T00:00:00-05:00', 'end_time': '2019-03-31T23:59:00-05:00', 'next_token': 'b26v89c19zqg8o3fnll0s489n6oz4hht7okxz1yloy4ql'}\n",
      "Rate limit hit... Will retry...\n",
      "Will retry in 16 seconds...\n",
      " HTTP Error code: 429: {\"title\":\"Too Many Requests\",\"detail\":\"Too Many Requests\",\"type\":\"about:blank\",\"status\":429} | Too Many Requests\n",
      " Request payload: {'query': '(((venezolano OR venezolana OR venezolanos OR venezolanas OR venezuela OR vzla OR vnzla) (migrante OR migrantes OR migracion)) OR veneco OR veneca OR venecos OR venecas)', 'max_results': 100, 'tweet.fields': 'id,text,author_id,created_at,entities,attachments,in_reply_to_user_id,referenced_tweets', 'user.fields': 'username,location', 'media.fields': 'media_key,type', 'expansions': 'referenced_tweets.id,referenced_tweets.id.author_id,entities.mentions.username,in_reply_to_user_id', 'start_time': '2019-03-01T00:00:00-05:00', 'end_time': '2019-03-31T23:59:00-05:00', 'next_token': 'b26v89c19zqg8o3fnll0d50iao0ppf5cq3l80pdwmnm9p'}\n",
      "Rate limit hit... Will retry...\n",
      "Will retry in 4 seconds...\n",
      " HTTP Error code: 429: {\"title\":\"Too Many Requests\",\"detail\":\"Too Many Requests\",\"type\":\"about:blank\",\"status\":429} | Too Many Requests\n",
      " Request payload: {'query': '(((venezolano OR venezolana OR venezolanos OR venezolanas OR venezuela OR vzla OR vnzla) (migrante OR migrantes OR migracion)) OR veneco OR veneca OR venecos OR venecas)', 'max_results': 100, 'tweet.fields': 'id,text,author_id,created_at,entities,attachments,in_reply_to_user_id,referenced_tweets', 'user.fields': 'username,location', 'media.fields': 'media_key,type', 'expansions': 'referenced_tweets.id,referenced_tweets.id.author_id,entities.mentions.username,in_reply_to_user_id', 'start_time': '2019-03-01T00:00:00-05:00', 'end_time': '2019-03-31T23:59:00-05:00', 'next_token': 'b26v89c19zqg8o3fnll0d50iao0ppf5cq3l80pdwmnm9p'}\n",
      "Rate limit hit... Will retry...\n",
      "Will retry in 16 seconds...\n"
     ]
    },
    {
     "name": "stdout",
     "output_type": "stream",
     "text": [
      "Exported tweets at: ../data/monthly_jsons_complete/2019-03.json\n"
     ]
    },
    {
     "name": "stderr",
     "output_type": "stream",
     "text": [
      " HTTP Error code: 503: {\"title\":\"Service Unavailable\",\"detail\":\"Service Unavailable\",\"type\":\"about:blank\",\"status\":503} | Service Unavailable\n",
      " Request payload: {'query': '(((venezolano OR venezolana OR venezolanos OR venezolanas OR venezuela OR vzla OR vnzla) (migrante OR migrantes OR migracion)) OR veneco OR veneca OR venecos OR venecas)', 'max_results': 100, 'tweet.fields': 'id,text,author_id,created_at,entities,attachments,in_reply_to_user_id,referenced_tweets', 'user.fields': 'username,location', 'media.fields': 'media_key,type', 'expansions': 'referenced_tweets.id,referenced_tweets.id.author_id,entities.mentions.username,in_reply_to_user_id', 'start_time': '2019-04-01T00:00:00-05:00', 'end_time': '2019-04-30T23:59:00-05:00', 'next_token': 'b26v89c19zqg8o3fnlr0qrbdh13c66i9hkuszdawy4v3x'}\n",
      "Server-side error... Will retry...\n",
      "Will retry in 30 seconds...\n"
     ]
    },
    {
     "name": "stdout",
     "output_type": "stream",
     "text": [
      "Exported tweets at: ../data/monthly_jsons_complete/2019-04.json\n",
      "Exported tweets at: ../data/monthly_jsons_complete/2019-05.json\n"
     ]
    },
    {
     "name": "stderr",
     "output_type": "stream",
     "text": [
      " HTTP Error code: 503: <!DOCTYPE html>\n",
      "<html lang=\"en\" class=\"icecream\">\n",
      "  <head>\n",
      "    <meta http-equiv=\"Content-Type\" content=\"text/html; charset=utf-8\">\n",
      "    <meta name=\"viewport\" content=\"width=device-width, initial-scale=1.0\">\n",
      "    <title>Twitter / Error</title>\n",
      "    <meta name=\"version\" content=\"1\">\n",
      "    <link href=\"https://abs.twimg.com/favicons/favicon.ico\" rel=\"shortcut icon\" type=\"image/x-icon\">\n",
      "    <link rel=\"stylesheet\" href=\"https://abs.twimg.com/errors/fullscreen_errors-39d97faf8c7cf33e502c3c015176efd9.css\">\n",
      "  </head>\n",
      "  <body dir=\"auto\">\n",
      "    <div class=\"top\">\n",
      "      <svg xmlns=\"http://www.w3.org/2000/svg\" viewBox=\"0 0 1519 200\">\n",
      "        <defs/>\n",
      "        <path d=\"M708 103l9-5 13 1 2-2 5 1h8l1-1 42-5h7l7 3v1l12-2a9368 9368 0 0129-6l2-5 12 1 6-2 3 1 2 1v-2l13-2v1l4 2 7-1h1l17-3 1 2 4-1 18-7 3-1 4-1h9l13-1 1-4 3-2 13 1v2l22-2 10-3h6l10 5 16-5 15-3 2-1 8-4 6-2 12-1 7-2 8 5 7 1 22-9h7l5-1v-1l25-3 1 2 5 2v1h11l2 1 8-4h3l-1 1h11l10-6 6 3 9-1 4-1 1 1 1-2 6-1 1-1 10-2h2l7-5v1h4l3-1c11 0 23 2 34-3 2-2 7 0 10 0l12 1 4 1 9 2 12-1 11-3 11 1h4l10-6 17 1 2 1c9 2 19-3 22-11l1-1 9 1 15-5c3-1 9 4 9-5 5 0 5 3 5 7l2 3 4-1 4-2 9-4 3-3h3l8-4 6-3 26 2 7-4h18l7 1c10 3 13-6 17-12l8 4 3-1 14-3 15-2a38 38 0 01-5-1l-8-4 7-8 8-4-10-136-922 71 16 205z\"/>\n",
      "        <path d=\"M-36 193l9-5 13 1 2-2 5 1h8l1-1 42-5h7l7 3v1l12-2a9328 9328 0 0129-6l2-5 12 1 6-2 3 1 2 1v-2l13-2v1l4 2 7-1h1l17-3 1 2 4-1 18-7 3-1 4-1h9l13-1 1-4 3-2 13 1v2l22-2 10-3h6l10 5 16-5 15-3 2-1 8-4 6-2 12-1 7-2 8 5 7 1 22-9h7l5-1v-1l25-3 1 2 5 2v1h11l2 1 8-4h3l-1 1h9a6 6 0 002 0l10-6 6 3 9-1 4-1a6 6 0 001 1l1-2 6-1 1-1 10-2h2l7-5v1h4l3-1c11 0 23 2 34-3 2-2 7 0 10 0l12 1 4 1 9 2 12-1 11-3 11 1h4l10-6 17 1 2 1c9 2 19-3 22-11l1-1 9 1 15-5c3-1 9 4 9-5 5 0 5 3 5 7l2 3 4-1 4-2 9-4 3-3h3l8-4 6-3 26 2 7-4h18l7 1c10 3 13-6 17-12l8 4 3-1 14-3 15-2a37 37 0 01-5-1l-8-4 7-8 8-4-10-136-922 71 16 205z\"/>\n",
      "      </svg>\n",
      "    </div>\n",
      "    <div class=\"container\">\n",
      "      <div class=\"content\">\n",
      "        <a href=\"https://twitter.com\" title=\"Twitter logo\"><svg class=\"bird\" viewBox=\"0 0 24 24\"><g><path d=\"M23.643 4.937c-.835.37-1.732.62-2.675.733.962-.576 1.7-1.49 2.048-2.578-.9.534-1.897.922-2.958 1.13-.85-.904-2.06-1.47-3.4-1.47-2.572 0-4.658 2.086-4.658 4.66 0 .364.042.718.12 1.06-3.873-.195-7.304-2.05-9.602-4.868-.4.69-.63 1.49-.63 2.342 0 1.616.823 3.043 2.072 3.878-.764-.025-1.482-.234-2.11-.583v.06c0 2.257 1.605 4.14 3.737 4.568-.392.106-.803.162-1.227.162-.3 0-.593-.028-.877-.082.593 1.85 2.313 3.198 4.352 3.234-1.595 1.25-3.604 1.995-5.786 1.995-.376 0-.747-.022-1.112-.065 2.062 1.323 4.51 2.093 7.14 2.093 8.57 0 13.255-7.098 13.255-13.254 0-.2-.005-.402-.014-.602.91-.658 1.7-1.477 2.323-2.41z\"></path></g></svg></a>\n",
      "        <h1 id=\"header\">This page is down</h1>\n",
      "        <p id=\"description\">I scream. You scream. We all scream... for us to fix this page. We’ll stop making jokes and get things up and running soon.</p>\n",
      "\n",
      "          <a id=\"button_retry\" href=\"\" class=\"button\">Retry</a>\n",
      "\n",
      "      </div>\n",
      "      <img id=\"image\" src=\"https://abs.twimg.com/errors/ErrorState_Down.png\" alt=\"Ice cream with rainbow sprinkles in a cone spilled on the floor.\">\n",
      "      <div class=\"footer\">\n",
      "        <ul>\n",
      "          <li><a href=\"https://twitter.com/\" id=\"footer_home\">Home</a></li>\n",
      "          <li><a href=\"https://status.twitterstat.us/\" id=\"footer_status\">Status</a></li>\n",
      "          <li><a href=\"https://twitter.com/tos\" id=\"footer_tos\">Terms of Service</a></li>\n",
      "          <li><a href=\"https://twitter.com/privacy\" id=\"footer_privacy\">Privacy Policy</a></li>\n",
      "          <li><a href=\"https://support.twitter.com/articles/20170514\" id=\"footer_cookie\">Cookie Policy</a></li>\n",
      "          <li><a href=\"https://legal.twitter.com/imprint\" id=\"footer_imprint\">Imprint</a></li>\n",
      "          <li><a href=\"https://business.twitter.com/en/help/troubleshooting/how-twitter-ads-work.html\" id=\"footer_ads\">Ads info</a></li>\n",
      "          <li dir=\"ltr\">&copy; Twitter <span id=\"copyright-year\">&emsp;&emsp;&emsp;&emsp;</span></li>\n",
      "        </ul>\n",
      "      </div>\n",
      "    </div>\n",
      "  </body>\n",
      "  <script src=\"https://abs.twimg.com/errors/503-b45cfc9225a4bd8a3dcab4c932ce980c.js\"></script>\n",
      "</html>\n",
      " | Service Unavailable\n",
      " Request payload: {'query': '(((venezolano OR venezolana OR venezolanos OR venezolanas OR venezuela OR vzla OR vnzla) (migrante OR migrantes OR migracion)) OR veneco OR veneca OR venecos OR venecas)', 'max_results': 100, 'tweet.fields': 'id,text,author_id,created_at,entities,attachments,in_reply_to_user_id,referenced_tweets', 'user.fields': 'username,location', 'media.fields': 'media_key,type', 'expansions': 'referenced_tweets.id,referenced_tweets.id.author_id,entities.mentions.username,in_reply_to_user_id', 'start_time': '2019-06-01T00:00:00-05:00', 'end_time': '2019-06-30T23:59:00-05:00', 'next_token': 'b26v89c19zqg8o3fnlu27e0ldxytn6bojx902l9fspif1'}\n",
      "Server-side error... Will retry...\n",
      "Will retry in 30 seconds...\n"
     ]
    },
    {
     "name": "stdout",
     "output_type": "stream",
     "text": [
      "Exported tweets at: ../data/monthly_jsons_complete/2019-06.json\n",
      "Exported tweets at: ../data/monthly_jsons_complete/2019-07.json\n"
     ]
    },
    {
     "name": "stderr",
     "output_type": "stream",
     "text": [
      " HTTP Error code: 503: {\"title\":\"Service Unavailable\",\"detail\":\"Service Unavailable\",\"type\":\"about:blank\",\"status\":503} | Service Unavailable\n",
      " Request payload: {'query': '(((venezolano OR venezolana OR venezolanos OR venezolanas OR venezuela OR vzla OR vnzla) (migrante OR migrantes OR migracion)) OR veneco OR veneca OR venecos OR venecas)', 'max_results': 100, 'tweet.fields': 'id,text,author_id,created_at,entities,attachments,in_reply_to_user_id,referenced_tweets', 'user.fields': 'username,location', 'media.fields': 'media_key,type', 'expansions': 'referenced_tweets.id,referenced_tweets.id.author_id,entities.mentions.username,in_reply_to_user_id', 'start_time': '2019-08-01T00:00:00-05:00', 'end_time': '2019-08-31T23:59:00-05:00', 'next_token': 'b26v89c19zqg8o3fnm31476gw0s8p9r4lwz5oueb0rrzx'}\n",
      "Server-side error... Will retry...\n",
      "Will retry in 30 seconds...\n",
      " HTTP Error code: 429: {\"title\":\"Too Many Requests\",\"detail\":\"Too Many Requests\",\"type\":\"about:blank\",\"status\":429} | Too Many Requests\n",
      " Request payload: {'query': '(((venezolano OR venezolana OR venezolanos OR venezolanas OR venezuela OR vzla OR vnzla) (migrante OR migrantes OR migracion)) OR veneco OR veneca OR venecos OR venecas)', 'max_results': 100, 'tweet.fields': 'id,text,author_id,created_at,entities,attachments,in_reply_to_user_id,referenced_tweets', 'user.fields': 'username,location', 'media.fields': 'media_key,type', 'expansions': 'referenced_tweets.id,referenced_tweets.id.author_id,entities.mentions.username,in_reply_to_user_id', 'start_time': '2019-08-01T00:00:00-05:00', 'end_time': '2019-08-31T23:59:00-05:00', 'next_token': 'b26v89c19zqg8o3fnm01r1s18204u0z2vmssv0lv7dj0d'}\n",
      "Rate limit hit... Will retry...\n",
      "Will retry in 4 seconds...\n",
      " HTTP Error code: 429: {\"title\":\"Too Many Requests\",\"detail\":\"Too Many Requests\",\"type\":\"about:blank\",\"status\":429} | Too Many Requests\n",
      " Request payload: {'query': '(((venezolano OR venezolana OR venezolanos OR venezolanas OR venezuela OR vzla OR vnzla) (migrante OR migrantes OR migracion)) OR veneco OR veneca OR venecos OR venecas)', 'max_results': 100, 'tweet.fields': 'id,text,author_id,created_at,entities,attachments,in_reply_to_user_id,referenced_tweets', 'user.fields': 'username,location', 'media.fields': 'media_key,type', 'expansions': 'referenced_tweets.id,referenced_tweets.id.author_id,entities.mentions.username,in_reply_to_user_id', 'start_time': '2019-08-01T00:00:00-05:00', 'end_time': '2019-08-31T23:59:00-05:00', 'next_token': 'b26v89c19zqg8o3fnm01r1s18204u0z2vmssv0lv7dj0d'}\n",
      "Rate limit hit... Will retry...\n",
      "Will retry in 16 seconds...\n"
     ]
    },
    {
     "name": "stdout",
     "output_type": "stream",
     "text": [
      "Exported tweets at: ../data/monthly_jsons_complete/2019-08.json\n"
     ]
    },
    {
     "name": "stderr",
     "output_type": "stream",
     "text": [
      " HTTP Error code: 429: {\"title\":\"Too Many Requests\",\"detail\":\"Too Many Requests\",\"type\":\"about:blank\",\"status\":429} | Too Many Requests\n",
      " Request payload: {'query': '(((venezolano OR venezolana OR venezolanos OR venezolanas OR venezuela OR vzla OR vnzla) (migrante OR migrantes OR migracion)) OR veneco OR veneca OR venecos OR venecas)', 'max_results': 100, 'tweet.fields': 'id,text,author_id,created_at,entities,attachments,in_reply_to_user_id,referenced_tweets', 'user.fields': 'username,location', 'media.fields': 'media_key,type', 'expansions': 'referenced_tweets.id,referenced_tweets.id.author_id,entities.mentions.username,in_reply_to_user_id', 'start_time': '2019-09-01T00:00:00-05:00', 'end_time': '2019-09-30T23:59:00-05:00', 'next_token': 'b26v89c19zqg8o3fnm5zmbpb34h3u107jwywwimkn9x8d'}\n",
      "Rate limit hit... Will retry...\n",
      "Will retry in 4 seconds...\n",
      " HTTP Error code: 429: {\"title\":\"Too Many Requests\",\"detail\":\"Too Many Requests\",\"type\":\"about:blank\",\"status\":429} | Too Many Requests\n",
      " Request payload: {'query': '(((venezolano OR venezolana OR venezolanos OR venezolanas OR venezuela OR vzla OR vnzla) (migrante OR migrantes OR migracion)) OR veneco OR veneca OR venecos OR venecas)', 'max_results': 100, 'tweet.fields': 'id,text,author_id,created_at,entities,attachments,in_reply_to_user_id,referenced_tweets', 'user.fields': 'username,location', 'media.fields': 'media_key,type', 'expansions': 'referenced_tweets.id,referenced_tweets.id.author_id,entities.mentions.username,in_reply_to_user_id', 'start_time': '2019-09-01T00:00:00-05:00', 'end_time': '2019-09-30T23:59:00-05:00', 'next_token': 'b26v89c19zqg8o3fnm5ycss91qcvqsf7jgj9ih8b87k3h'}\n",
      "Rate limit hit... Will retry...\n",
      "Will retry in 4 seconds...\n",
      " HTTP Error code: 429: {\"title\":\"Too Many Requests\",\"detail\":\"Too Many Requests\",\"type\":\"about:blank\",\"status\":429} | Too Many Requests\n",
      " Request payload: {'query': '(((venezolano OR venezolana OR venezolanos OR venezolanas OR venezuela OR vzla OR vnzla) (migrante OR migrantes OR migracion)) OR veneco OR veneca OR venecos OR venecas)', 'max_results': 100, 'tweet.fields': 'id,text,author_id,created_at,entities,attachments,in_reply_to_user_id,referenced_tweets', 'user.fields': 'username,location', 'media.fields': 'media_key,type', 'expansions': 'referenced_tweets.id,referenced_tweets.id.author_id,entities.mentions.username,in_reply_to_user_id', 'start_time': '2019-09-01T00:00:00-05:00', 'end_time': '2019-09-30T23:59:00-05:00', 'next_token': 'b26v89c19zqg8o3fnm5ycss91qcvqsf7jgj9ih8b87k3h'}\n",
      "Rate limit hit... Will retry...\n",
      "Will retry in 16 seconds...\n"
     ]
    },
    {
     "name": "stdout",
     "output_type": "stream",
     "text": [
      "Exported tweets at: ../data/monthly_jsons_complete/2019-09.json\n"
     ]
    },
    {
     "name": "stderr",
     "output_type": "stream",
     "text": [
      " HTTP Error code: 429: {\"title\":\"Too Many Requests\",\"detail\":\"Too Many Requests\",\"type\":\"about:blank\",\"status\":429} | Too Many Requests\n",
      " Request payload: {'query': '(((venezolano OR venezolana OR venezolanos OR venezolanas OR venezuela OR vzla OR vnzla) (migrante OR migrantes OR migracion)) OR veneco OR veneca OR venecos OR venecas)', 'max_results': 100, 'tweet.fields': 'id,text,author_id,created_at,entities,attachments,in_reply_to_user_id,referenced_tweets', 'user.fields': 'username,location', 'media.fields': 'media_key,type', 'expansions': 'referenced_tweets.id,referenced_tweets.id.author_id,entities.mentions.username,in_reply_to_user_id', 'start_time': '2019-10-01T00:00:00-05:00', 'end_time': '2019-10-31T23:59:00-05:00', 'next_token': 'b26v89c19zqg8o3fnm8zeifmo1n1h95vt93ud2mhs9m65'}\n",
      "Rate limit hit... Will retry...\n",
      "Will retry in 4 seconds...\n",
      " HTTP Error code: 429: {\"title\":\"Too Many Requests\",\"detail\":\"Too Many Requests\",\"type\":\"about:blank\",\"status\":429} | Too Many Requests\n",
      " Request payload: {'query': '(((venezolano OR venezolana OR venezolanos OR venezolanas OR venezuela OR vzla OR vnzla) (migrante OR migrantes OR migracion)) OR veneco OR veneca OR venecos OR venecas)', 'max_results': 100, 'tweet.fields': 'id,text,author_id,created_at,entities,attachments,in_reply_to_user_id,referenced_tweets', 'user.fields': 'username,location', 'media.fields': 'media_key,type', 'expansions': 'referenced_tweets.id,referenced_tweets.id.author_id,entities.mentions.username,in_reply_to_user_id', 'start_time': '2019-10-01T00:00:00-05:00', 'end_time': '2019-10-31T23:59:00-05:00', 'next_token': 'b26v89c19zqg8o3fnm8zeifmo1n1h95vt93ud2mhs9m65'}\n",
      "Rate limit hit... Will retry...\n",
      "Will retry in 16 seconds...\n",
      " HTTP Error code: 429: {\"title\":\"Too Many Requests\",\"detail\":\"Too Many Requests\",\"type\":\"about:blank\",\"status\":429} | Too Many Requests\n",
      " Request payload: {'query': '(((venezolano OR venezolana OR venezolanos OR venezolanas OR venezuela OR vzla OR vnzla) (migrante OR migrantes OR migracion)) OR veneco OR veneca OR venecos OR venecas)', 'max_results': 100, 'tweet.fields': 'id,text,author_id,created_at,entities,attachments,in_reply_to_user_id,referenced_tweets', 'user.fields': 'username,location', 'media.fields': 'media_key,type', 'expansions': 'referenced_tweets.id,referenced_tweets.id.author_id,entities.mentions.username,in_reply_to_user_id', 'start_time': '2019-10-01T00:00:00-05:00', 'end_time': '2019-10-31T23:59:00-05:00', 'next_token': 'b26v89c19zqg8o3fnm8yz8jc00cnqijcz8plpwk7o4r5p'}\n",
      "Rate limit hit... Will retry...\n",
      "Will retry in 4 seconds...\n",
      " HTTP Error code: 429: {\"title\":\"Too Many Requests\",\"detail\":\"Too Many Requests\",\"type\":\"about:blank\",\"status\":429} | Too Many Requests\n",
      " Request payload: {'query': '(((venezolano OR venezolana OR venezolanos OR venezolanas OR venezuela OR vzla OR vnzla) (migrante OR migrantes OR migracion)) OR veneco OR veneca OR venecos OR venecas)', 'max_results': 100, 'tweet.fields': 'id,text,author_id,created_at,entities,attachments,in_reply_to_user_id,referenced_tweets', 'user.fields': 'username,location', 'media.fields': 'media_key,type', 'expansions': 'referenced_tweets.id,referenced_tweets.id.author_id,entities.mentions.username,in_reply_to_user_id', 'start_time': '2019-10-01T00:00:00-05:00', 'end_time': '2019-10-31T23:59:00-05:00', 'next_token': 'b26v89c19zqg8o3fnm8yz8jc00cnqijcz8plpwk7o4r5p'}\n",
      "Rate limit hit... Will retry...\n",
      "Will retry in 16 seconds...\n",
      " HTTP Error code: 429: {\"title\":\"Too Many Requests\",\"detail\":\"Too Many Requests\",\"type\":\"about:blank\",\"status\":429} | Too Many Requests\n",
      " Request payload: {'query': '(((venezolano OR venezolana OR venezolanos OR venezolanas OR venezuela OR vzla OR vnzla) (migrante OR migrantes OR migracion)) OR veneco OR veneca OR venecos OR venecas)', 'max_results': 100, 'tweet.fields': 'id,text,author_id,created_at,entities,attachments,in_reply_to_user_id,referenced_tweets', 'user.fields': 'username,location', 'media.fields': 'media_key,type', 'expansions': 'referenced_tweets.id,referenced_tweets.id.author_id,entities.mentions.username,in_reply_to_user_id', 'start_time': '2019-10-01T00:00:00-05:00', 'end_time': '2019-10-31T23:59:00-05:00', 'next_token': 'b26v89c19zqg8o3fnm8y4os8s4htm88t18g7f1z0odl6l'}\n",
      "Rate limit hit... Will retry...\n",
      "Will retry in 4 seconds...\n",
      " HTTP Error code: 429: {\"title\":\"Too Many Requests\",\"detail\":\"Too Many Requests\",\"type\":\"about:blank\",\"status\":429} | Too Many Requests\n",
      " Request payload: {'query': '(((venezolano OR venezolana OR venezolanos OR venezolanas OR venezuela OR vzla OR vnzla) (migrante OR migrantes OR migracion)) OR veneco OR veneca OR venecos OR venecas)', 'max_results': 100, 'tweet.fields': 'id,text,author_id,created_at,entities,attachments,in_reply_to_user_id,referenced_tweets', 'user.fields': 'username,location', 'media.fields': 'media_key,type', 'expansions': 'referenced_tweets.id,referenced_tweets.id.author_id,entities.mentions.username,in_reply_to_user_id', 'start_time': '2019-10-01T00:00:00-05:00', 'end_time': '2019-10-31T23:59:00-05:00', 'next_token': 'b26v89c19zqg8o3fnm8y4os8s4htm88t18g7f1z0odl6l'}\n",
      "Rate limit hit... Will retry...\n",
      "Will retry in 16 seconds...\n"
     ]
    },
    {
     "name": "stdout",
     "output_type": "stream",
     "text": [
      "Exported tweets at: ../data/monthly_jsons_complete/2019-10.json\n"
     ]
    },
    {
     "name": "stderr",
     "output_type": "stream",
     "text": [
      " HTTP Error code: 429: {\"title\":\"Too Many Requests\",\"detail\":\"Too Many Requests\",\"type\":\"about:blank\",\"status\":429} | Too Many Requests\n",
      " Request payload: {'query': '(((venezolano OR venezolana OR venezolanos OR venezolanas OR venezuela OR vzla OR vnzla) (migrante OR migrantes OR migracion)) OR veneco OR veneca OR venecos OR venecas)', 'max_results': 100, 'tweet.fields': 'id,text,author_id,created_at,entities,attachments,in_reply_to_user_id,referenced_tweets', 'user.fields': 'username,location', 'media.fields': 'media_key,type', 'expansions': 'referenced_tweets.id,referenced_tweets.id.author_id,entities.mentions.username,in_reply_to_user_id', 'start_time': '2019-11-01T00:00:00-05:00', 'end_time': '2019-11-30T23:59:00-05:00', 'next_token': 'b26v89c19zqg8o3fnmc19vuawzgib3kfiefnl41gn3fjx'}\n",
      "Rate limit hit... Will retry...\n",
      "Will retry in 4 seconds...\n",
      " HTTP Error code: 503: {\"title\":\"Service Unavailable\",\"detail\":\"Service Unavailable\",\"type\":\"about:blank\",\"status\":503} | Service Unavailable\n",
      " Request payload: {'query': '(((venezolano OR venezolana OR venezolanos OR venezolanas OR venezuela OR vzla OR vnzla) (migrante OR migrantes OR migracion)) OR veneco OR veneca OR venecos OR venecas)', 'max_results': 100, 'tweet.fields': 'id,text,author_id,created_at,entities,attachments,in_reply_to_user_id,referenced_tweets', 'user.fields': 'username,location', 'media.fields': 'media_key,type', 'expansions': 'referenced_tweets.id,referenced_tweets.id.author_id,entities.mentions.username,in_reply_to_user_id', 'start_time': '2019-11-01T00:00:00-05:00', 'end_time': '2019-11-30T23:59:00-05:00', 'next_token': 'b26v89c19zqg8o3fnmc19rj1x9p32b2n30vbz1zc5tf25'}\n",
      "Server-side error... Will retry...\n",
      "Will retry in 30 seconds...\n"
     ]
    },
    {
     "name": "stdout",
     "output_type": "stream",
     "text": [
      "Exported tweets at: ../data/monthly_jsons_complete/2019-11.json\n"
     ]
    },
    {
     "name": "stderr",
     "output_type": "stream",
     "text": [
      " HTTP Error code: 429: {\"title\":\"Too Many Requests\",\"detail\":\"Too Many Requests\",\"type\":\"about:blank\",\"status\":429} | Too Many Requests\n",
      " Request payload: {'query': '(((venezolano OR venezolana OR venezolanos OR venezolanas OR venezuela OR vzla OR vnzla) (migrante OR migrantes OR migracion)) OR veneco OR veneca OR venecos OR venecas)', 'max_results': 100, 'tweet.fields': 'id,text,author_id,created_at,entities,attachments,in_reply_to_user_id,referenced_tweets', 'user.fields': 'username,location', 'media.fields': 'media_key,type', 'expansions': 'referenced_tweets.id,referenced_tweets.id.author_id,entities.mentions.username,in_reply_to_user_id', 'start_time': '2019-12-01T00:00:00-05:00', 'end_time': '2019-12-31T23:59:00-05:00', 'next_token': 'b26v89c19zqg8o3fo6vh7oshynkzgqojbj6uea4drwhod'}\n",
      "Rate limit hit... Will retry...\n",
      "Will retry in 4 seconds...\n",
      " HTTP Error code: 429: {\"title\":\"Too Many Requests\",\"detail\":\"Too Many Requests\",\"type\":\"about:blank\",\"status\":429} | Too Many Requests\n",
      " Request payload: {'query': '(((venezolano OR venezolana OR venezolanos OR venezolanas OR venezuela OR vzla OR vnzla) (migrante OR migrantes OR migracion)) OR veneco OR veneca OR venecos OR venecas)', 'max_results': 100, 'tweet.fields': 'id,text,author_id,created_at,entities,attachments,in_reply_to_user_id,referenced_tweets', 'user.fields': 'username,location', 'media.fields': 'media_key,type', 'expansions': 'referenced_tweets.id,referenced_tweets.id.author_id,entities.mentions.username,in_reply_to_user_id', 'start_time': '2019-12-01T00:00:00-05:00', 'end_time': '2019-12-31T23:59:00-05:00', 'next_token': 'b26v89c19zqg8o3fo6vh7oshynkzgqojbj6uea4drwhod'}\n",
      "Rate limit hit... Will retry...\n",
      "Will retry in 16 seconds...\n"
     ]
    },
    {
     "name": "stdout",
     "output_type": "stream",
     "text": [
      "Exported tweets at: ../data/monthly_jsons_complete/2019-12.json\n"
     ]
    },
    {
     "name": "stderr",
     "output_type": "stream",
     "text": [
      " HTTP Error code: 429: {\"title\":\"Too Many Requests\",\"detail\":\"Too Many Requests\",\"type\":\"about:blank\",\"status\":429} | Too Many Requests\n",
      " Request payload: {'query': '(((venezolano OR venezolana OR venezolanos OR venezolanas OR venezuela OR vzla OR vnzla) (migrante OR migrantes OR migracion)) OR veneco OR veneca OR venecos OR venecas)', 'max_results': 100, 'tweet.fields': 'id,text,author_id,created_at,entities,attachments,in_reply_to_user_id,referenced_tweets', 'user.fields': 'username,location', 'media.fields': 'media_key,type', 'expansions': 'referenced_tweets.id,referenced_tweets.id.author_id,entities.mentions.username,in_reply_to_user_id', 'start_time': '2020-01-01T00:00:00-05:00', 'end_time': '2020-01-31T23:59:00-05:00', 'next_token': 'b26v89c19zqg8o3fo71dt9d1ipzdavqkscak2y8s8ldod'}\n",
      "Rate limit hit... Will retry...\n",
      "Will retry in 4 seconds...\n",
      " HTTP Error code: 429: {\"title\":\"Too Many Requests\",\"detail\":\"Too Many Requests\",\"type\":\"about:blank\",\"status\":429} | Too Many Requests\n",
      " Request payload: {'query': '(((venezolano OR venezolana OR venezolanos OR venezolanas OR venezuela OR vzla OR vnzla) (migrante OR migrantes OR migracion)) OR veneco OR veneca OR venecos OR venecas)', 'max_results': 100, 'tweet.fields': 'id,text,author_id,created_at,entities,attachments,in_reply_to_user_id,referenced_tweets', 'user.fields': 'username,location', 'media.fields': 'media_key,type', 'expansions': 'referenced_tweets.id,referenced_tweets.id.author_id,entities.mentions.username,in_reply_to_user_id', 'start_time': '2020-01-01T00:00:00-05:00', 'end_time': '2020-01-31T23:59:00-05:00', 'next_token': 'b26v89c19zqg8o3fo6yhewt7ih9i4aqh9m1atuymvl20t'}\n",
      "Rate limit hit... Will retry...\n",
      "Will retry in 4 seconds...\n",
      " HTTP Error code: 429: {\"title\":\"Too Many Requests\",\"detail\":\"Too Many Requests\",\"type\":\"about:blank\",\"status\":429} | Too Many Requests\n",
      " Request payload: {'query': '(((venezolano OR venezolana OR venezolanos OR venezolanas OR venezuela OR vzla OR vnzla) (migrante OR migrantes OR migracion)) OR veneco OR veneca OR venecos OR venecas)', 'max_results': 100, 'tweet.fields': 'id,text,author_id,created_at,entities,attachments,in_reply_to_user_id,referenced_tweets', 'user.fields': 'username,location', 'media.fields': 'media_key,type', 'expansions': 'referenced_tweets.id,referenced_tweets.id.author_id,entities.mentions.username,in_reply_to_user_id', 'start_time': '2020-01-01T00:00:00-05:00', 'end_time': '2020-01-31T23:59:00-05:00', 'next_token': 'b26v89c19zqg8o3fo6yg5dwgilegl6dktomjktzm4wj25'}\n",
      "Rate limit hit... Will retry...\n",
      "Will retry in 4 seconds...\n",
      " HTTP Error code: 429: {\"title\":\"Too Many Requests\",\"detail\":\"Too Many Requests\",\"type\":\"about:blank\",\"status\":429} | Too Many Requests\n",
      " Request payload: {'query': '(((venezolano OR venezolana OR venezolanos OR venezolanas OR venezuela OR vzla OR vnzla) (migrante OR migrantes OR migracion)) OR veneco OR veneca OR venecos OR venecas)', 'max_results': 100, 'tweet.fields': 'id,text,author_id,created_at,entities,attachments,in_reply_to_user_id,referenced_tweets', 'user.fields': 'username,location', 'media.fields': 'media_key,type', 'expansions': 'referenced_tweets.id,referenced_tweets.id.author_id,entities.mentions.username,in_reply_to_user_id', 'start_time': '2020-01-01T00:00:00-05:00', 'end_time': '2020-01-31T23:59:00-05:00', 'next_token': 'b26v89c19zqg8o3fo6yg5dwgilegl6dktomjktzm4wj25'}\n",
      "Rate limit hit... Will retry...\n",
      "Will retry in 16 seconds...\n"
     ]
    },
    {
     "name": "stdout",
     "output_type": "stream",
     "text": [
      "Exported tweets at: ../data/monthly_jsons_complete/2020-01.json\n"
     ]
    },
    {
     "name": "stderr",
     "output_type": "stream",
     "text": [
      " HTTP Error code: 429: {\"title\":\"Too Many Requests\",\"detail\":\"Too Many Requests\",\"type\":\"about:blank\",\"status\":429} | Too Many Requests\n",
      " Request payload: {'query': '(((venezolano OR venezolana OR venezolanos OR venezolanas OR venezuela OR vzla OR vnzla) (migrante OR migrantes OR migracion)) OR veneco OR veneca OR venecos OR venecas)', 'max_results': 100, 'tweet.fields': 'id,text,author_id,created_at,entities,attachments,in_reply_to_user_id,referenced_tweets', 'user.fields': 'username,location', 'media.fields': 'media_key,type', 'expansions': 'referenced_tweets.id,referenced_tweets.id.author_id,entities.mentions.username,in_reply_to_user_id', 'start_time': '2020-02-01T00:00:00-05:00', 'end_time': '2020-02-29T23:59:00-05:00', 'next_token': 'b26v89c19zqg8o3fo71gc2pqqrmevuh00qdtturpbjsl9'}\n",
      "Rate limit hit... Will retry...\n",
      "Will retry in 4 seconds...\n",
      " HTTP Error code: 429: {\"title\":\"Too Many Requests\",\"detail\":\"Too Many Requests\",\"type\":\"about:blank\",\"status\":429} | Too Many Requests\n",
      " Request payload: {'query': '(((venezolano OR venezolana OR venezolanos OR venezolanas OR venezuela OR vzla OR vnzla) (migrante OR migrantes OR migracion)) OR veneco OR veneca OR venecos OR venecas)', 'max_results': 100, 'tweet.fields': 'id,text,author_id,created_at,entities,attachments,in_reply_to_user_id,referenced_tweets', 'user.fields': 'username,location', 'media.fields': 'media_key,type', 'expansions': 'referenced_tweets.id,referenced_tweets.id.author_id,entities.mentions.username,in_reply_to_user_id', 'start_time': '2020-02-01T00:00:00-05:00', 'end_time': '2020-02-29T23:59:00-05:00', 'next_token': 'b26v89c19zqg8o3fo71gc2pqqrmevuh00qdtturpbjsl9'}\n",
      "Rate limit hit... Will retry...\n",
      "Will retry in 16 seconds...\n"
     ]
    },
    {
     "name": "stdout",
     "output_type": "stream",
     "text": [
      "Exported tweets at: ../data/monthly_jsons_complete/2020-02.json\n",
      "Exported tweets at: ../data/monthly_jsons_complete/2020-03.json\n"
     ]
    },
    {
     "name": "stderr",
     "output_type": "stream",
     "text": [
      " HTTP Error code: 429: {\"title\":\"Too Many Requests\",\"detail\":\"Too Many Requests\",\"type\":\"about:blank\",\"status\":429} | Too Many Requests\n",
      " Request payload: {'query': '(((venezolano OR venezolana OR venezolanos OR venezolanas OR venezuela OR vzla OR vnzla) (migrante OR migrantes OR migracion)) OR veneco OR veneca OR venecos OR venecas)', 'max_results': 100, 'tweet.fields': 'id,text,author_id,created_at,entities,attachments,in_reply_to_user_id,referenced_tweets', 'user.fields': 'username,location', 'media.fields': 'media_key,type', 'expansions': 'referenced_tweets.id,referenced_tweets.id.author_id,entities.mentions.username,in_reply_to_user_id', 'start_time': '2020-04-01T00:00:00-05:00', 'end_time': '2020-04-30T23:59:00-05:00', 'next_token': 'b26v89c19zqg8o3fo7adzh5x55tppp1lca4wwmfe0rtdp'}\n",
      "Rate limit hit... Will retry...\n",
      "Will retry in 4 seconds...\n",
      " HTTP Error code: 429: {\"title\":\"Too Many Requests\",\"detail\":\"Too Many Requests\",\"type\":\"about:blank\",\"status\":429} | Too Many Requests\n",
      " Request payload: {'query': '(((venezolano OR venezolana OR venezolanos OR venezolanas OR venezuela OR vzla OR vnzla) (migrante OR migrantes OR migracion)) OR veneco OR veneca OR venecos OR venecas)', 'max_results': 100, 'tweet.fields': 'id,text,author_id,created_at,entities,attachments,in_reply_to_user_id,referenced_tweets', 'user.fields': 'username,location', 'media.fields': 'media_key,type', 'expansions': 'referenced_tweets.id,referenced_tweets.id.author_id,entities.mentions.username,in_reply_to_user_id', 'start_time': '2020-04-01T00:00:00-05:00', 'end_time': '2020-04-30T23:59:00-05:00', 'next_token': 'b26v89c19zqg8o3fo77gb0e2m5yah5humqnqqkq6q66bh'}\n",
      "Rate limit hit... Will retry...\n",
      "Will retry in 4 seconds...\n",
      " HTTP Error code: 429: {\"title\":\"Too Many Requests\",\"detail\":\"Too Many Requests\",\"type\":\"about:blank\",\"status\":429} | Too Many Requests\n",
      " Request payload: {'query': '(((venezolano OR venezolana OR venezolanos OR venezolanas OR venezuela OR vzla OR vnzla) (migrante OR migrantes OR migracion)) OR veneco OR veneca OR venecos OR venecas)', 'max_results': 100, 'tweet.fields': 'id,text,author_id,created_at,entities,attachments,in_reply_to_user_id,referenced_tweets', 'user.fields': 'username,location', 'media.fields': 'media_key,type', 'expansions': 'referenced_tweets.id,referenced_tweets.id.author_id,entities.mentions.username,in_reply_to_user_id', 'start_time': '2020-04-01T00:00:00-05:00', 'end_time': '2020-04-30T23:59:00-05:00', 'next_token': 'b26v89c19zqg8o3fo77gb0e2m5yah5humqnqqkq6q66bh'}\n",
      "Rate limit hit... Will retry...\n",
      "Will retry in 16 seconds...\n",
      " HTTP Error code: 429: {\"title\":\"Too Many Requests\",\"detail\":\"Too Many Requests\",\"type\":\"about:blank\",\"status\":429} | Too Many Requests\n",
      " Request payload: {'query': '(((venezolano OR venezolana OR venezolanos OR venezolanas OR venezuela OR vzla OR vnzla) (migrante OR migrantes OR migracion)) OR veneco OR veneca OR venecos OR venecas)', 'max_results': 100, 'tweet.fields': 'id,text,author_id,created_at,entities,attachments,in_reply_to_user_id,referenced_tweets', 'user.fields': 'username,location', 'media.fields': 'media_key,type', 'expansions': 'referenced_tweets.id,referenced_tweets.id.author_id,entities.mentions.username,in_reply_to_user_id', 'start_time': '2020-04-01T00:00:00-05:00', 'end_time': '2020-04-30T23:59:00-05:00', 'next_token': 'b26v89c19zqg8o3fo77fw16wri21iujo6g4wtliknet19'}\n",
      "Rate limit hit... Will retry...\n",
      "Will retry in 4 seconds...\n"
     ]
    },
    {
     "name": "stdout",
     "output_type": "stream",
     "text": [
      "Exported tweets at: ../data/monthly_jsons_complete/2020-04.json\n"
     ]
    },
    {
     "name": "stderr",
     "output_type": "stream",
     "text": [
      " HTTP Error code: 429: {\"title\":\"Too Many Requests\",\"detail\":\"Too Many Requests\",\"type\":\"about:blank\",\"status\":429} | Too Many Requests\n",
      " Request payload: {'query': '(((venezolano OR venezolana OR venezolanos OR venezolanas OR venezuela OR vzla OR vnzla) (migrante OR migrantes OR migracion)) OR veneco OR veneca OR venecos OR venecas)', 'max_results': 100, 'tweet.fields': 'id,text,author_id,created_at,entities,attachments,in_reply_to_user_id,referenced_tweets', 'user.fields': 'username,location', 'media.fields': 'media_key,type', 'expansions': 'referenced_tweets.id,referenced_tweets.id.author_id,entities.mentions.username,in_reply_to_user_id', 'start_time': '2020-05-01T00:00:00-05:00', 'end_time': '2020-05-31T23:59:00-05:00', 'next_token': 'b26v89c19zqg8o3fo7de661aos1zjtj3prhrvdakiy0l9'}\n",
      "Rate limit hit... Will retry...\n",
      "Will retry in 4 seconds...\n",
      " HTTP Error code: 429: {\"title\":\"Too Many Requests\",\"detail\":\"Too Many Requests\",\"type\":\"about:blank\",\"status\":429} | Too Many Requests\n",
      " Request payload: {'query': '(((venezolano OR venezolana OR venezolanos OR venezolanas OR venezuela OR vzla OR vnzla) (migrante OR migrantes OR migracion)) OR veneco OR veneca OR venecos OR venecas)', 'max_results': 100, 'tweet.fields': 'id,text,author_id,created_at,entities,attachments,in_reply_to_user_id,referenced_tweets', 'user.fields': 'username,location', 'media.fields': 'media_key,type', 'expansions': 'referenced_tweets.id,referenced_tweets.id.author_id,entities.mentions.username,in_reply_to_user_id', 'start_time': '2020-05-01T00:00:00-05:00', 'end_time': '2020-05-31T23:59:00-05:00', 'next_token': 'b26v89c19zqg8o3fo7de661aos1zjtj3prhrvdakiy0l9'}\n",
      "Rate limit hit... Will retry...\n",
      "Will retry in 16 seconds...\n",
      " HTTP Error code: 429: {\"title\":\"Too Many Requests\",\"detail\":\"Too Many Requests\",\"type\":\"about:blank\",\"status\":429} | Too Many Requests\n",
      " Request payload: {'query': '(((venezolano OR venezolana OR venezolanos OR venezolanas OR venezuela OR vzla OR vnzla) (migrante OR migrantes OR migracion)) OR veneco OR veneca OR venecos OR venecas)', 'max_results': 100, 'tweet.fields': 'id,text,author_id,created_at,entities,attachments,in_reply_to_user_id,referenced_tweets', 'user.fields': 'username,location', 'media.fields': 'media_key,type', 'expansions': 'referenced_tweets.id,referenced_tweets.id.author_id,entities.mentions.username,in_reply_to_user_id', 'start_time': '2020-05-01T00:00:00-05:00', 'end_time': '2020-05-31T23:59:00-05:00', 'next_token': 'b26v89c19zqg8o3fo7dcwp6kncr3g0vaqvsn3rn0aui65'}\n",
      "Rate limit hit... Will retry...\n",
      "Will retry in 4 seconds...\n",
      " HTTP Error code: 429: {\"title\":\"Too Many Requests\",\"detail\":\"Too Many Requests\",\"type\":\"about:blank\",\"status\":429} | Too Many Requests\n",
      " Request payload: {'query': '(((venezolano OR venezolana OR venezolanos OR venezolanas OR venezuela OR vzla OR vnzla) (migrante OR migrantes OR migracion)) OR veneco OR veneca OR venecos OR venecas)', 'max_results': 100, 'tweet.fields': 'id,text,author_id,created_at,entities,attachments,in_reply_to_user_id,referenced_tweets', 'user.fields': 'username,location', 'media.fields': 'media_key,type', 'expansions': 'referenced_tweets.id,referenced_tweets.id.author_id,entities.mentions.username,in_reply_to_user_id', 'start_time': '2020-05-01T00:00:00-05:00', 'end_time': '2020-05-31T23:59:00-05:00', 'next_token': 'b26v89c19zqg8o3fo7dcwp6kncr3g0vaqvsn3rn0aui65'}\n",
      "Rate limit hit... Will retry...\n",
      "Will retry in 16 seconds...\n",
      " HTTP Error code: 429: {\"title\":\"Too Many Requests\",\"detail\":\"Too Many Requests\",\"type\":\"about:blank\",\"status\":429} | Too Many Requests\n",
      " Request payload: {'query': '(((venezolano OR venezolana OR venezolanos OR venezolanas OR venezuela OR vzla OR vnzla) (migrante OR migrantes OR migracion)) OR veneco OR veneca OR venecos OR venecas)', 'max_results': 100, 'tweet.fields': 'id,text,author_id,created_at,entities,attachments,in_reply_to_user_id,referenced_tweets', 'user.fields': 'username,location', 'media.fields': 'media_key,type', 'expansions': 'referenced_tweets.id,referenced_tweets.id.author_id,entities.mentions.username,in_reply_to_user_id', 'start_time': '2020-05-01T00:00:00-05:00', 'end_time': '2020-05-31T23:59:00-05:00', 'next_token': 'b26v89c19zqg8o3fo7ag2wgh4r4ulnuq77sowqsquenp9'}\n",
      "Rate limit hit... Will retry...\n",
      "Will retry in 4 seconds...\n",
      " HTTP Error code: 429: {\"title\":\"Too Many Requests\",\"detail\":\"Too Many Requests\",\"type\":\"about:blank\",\"status\":429} | Too Many Requests\n",
      " Request payload: {'query': '(((venezolano OR venezolana OR venezolanos OR venezolanas OR venezuela OR vzla OR vnzla) (migrante OR migrantes OR migracion)) OR veneco OR veneca OR venecos OR venecas)', 'max_results': 100, 'tweet.fields': 'id,text,author_id,created_at,entities,attachments,in_reply_to_user_id,referenced_tweets', 'user.fields': 'username,location', 'media.fields': 'media_key,type', 'expansions': 'referenced_tweets.id,referenced_tweets.id.author_id,entities.mentions.username,in_reply_to_user_id', 'start_time': '2020-05-01T00:00:00-05:00', 'end_time': '2020-05-31T23:59:00-05:00', 'next_token': 'b26v89c19zqg8o3fo7ag2wgh4r4ulnuq77sowqsquenp9'}\n",
      "Rate limit hit... Will retry...\n",
      "Will retry in 16 seconds...\n"
     ]
    },
    {
     "name": "stdout",
     "output_type": "stream",
     "text": [
      "Exported tweets at: ../data/monthly_jsons_complete/2020-05.json\n"
     ]
    },
    {
     "name": "stderr",
     "output_type": "stream",
     "text": [
      " HTTP Error code: 503: {\"title\":\"Service Unavailable\",\"detail\":\"Service Unavailable\",\"type\":\"about:blank\",\"status\":503} | Service Unavailable\n",
      " Request payload: {'query': '(((venezolano OR venezolana OR venezolanos OR venezolanas OR venezuela OR vzla OR vnzla) (migrante OR migrantes OR migracion)) OR veneco OR veneca OR venecos OR venecas)', 'max_results': 100, 'tweet.fields': 'id,text,author_id,created_at,entities,attachments,in_reply_to_user_id,referenced_tweets', 'user.fields': 'username,location', 'media.fields': 'media_key,type', 'expansions': 'referenced_tweets.id,referenced_tweets.id.author_id,entities.mentions.username,in_reply_to_user_id', 'start_time': '2020-06-01T00:00:00-05:00', 'end_time': '2020-06-30T23:59:00-05:00', 'next_token': 'b26v89c19zqg8o3fo7gfmz6sm5sc7z8qefnxghcpp4vp9'}\n",
      "Server-side error... Will retry...\n",
      "Will retry in 30 seconds...\n",
      " HTTP Error code: 429: {\"title\":\"Too Many Requests\",\"detail\":\"Too Many Requests\",\"type\":\"about:blank\",\"status\":429} | Too Many Requests\n",
      " Request payload: {'query': '(((venezolano OR venezolana OR venezolanos OR venezolanas OR venezuela OR vzla OR vnzla) (migrante OR migrantes OR migracion)) OR veneco OR veneca OR venecos OR venecas)', 'max_results': 100, 'tweet.fields': 'id,text,author_id,created_at,entities,attachments,in_reply_to_user_id,referenced_tweets', 'user.fields': 'username,location', 'media.fields': 'media_key,type', 'expansions': 'referenced_tweets.id,referenced_tweets.id.author_id,entities.mentions.username,in_reply_to_user_id', 'start_time': '2020-06-01T00:00:00-05:00', 'end_time': '2020-06-30T23:59:00-05:00', 'next_token': 'b26v89c19zqg8o3fo7geshlmqvxdmoff1ju0ah9y0gayl'}\n",
      "Rate limit hit... Will retry...\n",
      "Will retry in 4 seconds...\n",
      " HTTP Error code: 429: {\"title\":\"Too Many Requests\",\"detail\":\"Too Many Requests\",\"type\":\"about:blank\",\"status\":429} | Too Many Requests\n",
      " Request payload: {'query': '(((venezolano OR venezolana OR venezolanos OR venezolanas OR venezuela OR vzla OR vnzla) (migrante OR migrantes OR migracion)) OR veneco OR veneca OR venecos OR venecas)', 'max_results': 100, 'tweet.fields': 'id,text,author_id,created_at,entities,attachments,in_reply_to_user_id,referenced_tweets', 'user.fields': 'username,location', 'media.fields': 'media_key,type', 'expansions': 'referenced_tweets.id,referenced_tweets.id.author_id,entities.mentions.username,in_reply_to_user_id', 'start_time': '2020-06-01T00:00:00-05:00', 'end_time': '2020-06-30T23:59:00-05:00', 'next_token': 'b26v89c19zqg8o3fo7geshlmqvxdmoff1ju0ah9y0gayl'}\n",
      "Rate limit hit... Will retry...\n",
      "Will retry in 16 seconds...\n",
      " HTTP Error code: 429: {\"title\":\"Too Many Requests\",\"detail\":\"Too Many Requests\",\"type\":\"about:blank\",\"status\":429} | Too Many Requests\n",
      " Request payload: {'query': '(((venezolano OR venezolana OR venezolanos OR venezolanas OR venezuela OR vzla OR vnzla) (migrante OR migrantes OR migracion)) OR veneco OR veneca OR venecos OR venecas)', 'max_results': 100, 'tweet.fields': 'id,text,author_id,created_at,entities,attachments,in_reply_to_user_id,referenced_tweets', 'user.fields': 'username,location', 'media.fields': 'media_key,type', 'expansions': 'referenced_tweets.id,referenced_tweets.id.author_id,entities.mentions.username,in_reply_to_user_id', 'start_time': '2020-06-01T00:00:00-05:00', 'end_time': '2020-06-30T23:59:00-05:00', 'next_token': 'b26v89c19zqg8o3fo7gdy6bnfaahcehe6qi7uuq5p5ugt'}\n",
      "Rate limit hit... Will retry...\n",
      "Will retry in 4 seconds...\n",
      " HTTP Error code: 429: {\"title\":\"Too Many Requests\",\"detail\":\"Too Many Requests\",\"type\":\"about:blank\",\"status\":429} | Too Many Requests\n",
      " Request payload: {'query': '(((venezolano OR venezolana OR venezolanos OR venezolanas OR venezuela OR vzla OR vnzla) (migrante OR migrantes OR migracion)) OR veneco OR veneca OR venecos OR venecas)', 'max_results': 100, 'tweet.fields': 'id,text,author_id,created_at,entities,attachments,in_reply_to_user_id,referenced_tweets', 'user.fields': 'username,location', 'media.fields': 'media_key,type', 'expansions': 'referenced_tweets.id,referenced_tweets.id.author_id,entities.mentions.username,in_reply_to_user_id', 'start_time': '2020-06-01T00:00:00-05:00', 'end_time': '2020-06-30T23:59:00-05:00', 'next_token': 'b26v89c19zqg8o3fo7gdy6bnfaahcehe6qi7uuq5p5ugt'}\n",
      "Rate limit hit... Will retry...\n",
      "Will retry in 16 seconds...\n",
      " HTTP Error code: 429: {\"title\":\"Too Many Requests\",\"detail\":\"Too Many Requests\",\"type\":\"about:blank\",\"status\":429} | Too Many Requests\n",
      " Request payload: {'query': '(((venezolano OR venezolana OR venezolanos OR venezolanas OR venezuela OR vzla OR vnzla) (migrante OR migrantes OR migracion)) OR veneco OR veneca OR venecos OR venecas)', 'max_results': 100, 'tweet.fields': 'id,text,author_id,created_at,entities,attachments,in_reply_to_user_id,referenced_tweets', 'user.fields': 'username,location', 'media.fields': 'media_key,type', 'expansions': 'referenced_tweets.id,referenced_tweets.id.author_id,entities.mentions.username,in_reply_to_user_id', 'start_time': '2020-06-01T00:00:00-05:00', 'end_time': '2020-06-30T23:59:00-05:00', 'next_token': 'b26v89c19zqg8o3fo7gd3oror84ktyfaaddaupfehis8t'}\n",
      "Rate limit hit... Will retry...\n",
      "Will retry in 4 seconds...\n",
      " HTTP Error code: 429: {\"title\":\"Too Many Requests\",\"detail\":\"Too Many Requests\",\"type\":\"about:blank\",\"status\":429} | Too Many Requests\n",
      " Request payload: {'query': '(((venezolano OR venezolana OR venezolanos OR venezolanas OR venezuela OR vzla OR vnzla) (migrante OR migrantes OR migracion)) OR veneco OR veneca OR venecos OR venecas)', 'max_results': 100, 'tweet.fields': 'id,text,author_id,created_at,entities,attachments,in_reply_to_user_id,referenced_tweets', 'user.fields': 'username,location', 'media.fields': 'media_key,type', 'expansions': 'referenced_tweets.id,referenced_tweets.id.author_id,entities.mentions.username,in_reply_to_user_id', 'start_time': '2020-06-01T00:00:00-05:00', 'end_time': '2020-06-30T23:59:00-05:00', 'next_token': 'b26v89c19zqg8o3fo7gd3oror84ktyfaaddaupfehis8t'}\n",
      "Rate limit hit... Will retry...\n",
      "Will retry in 16 seconds...\n",
      " HTTP Error code: 429: {\"title\":\"Too Many Requests\",\"detail\":\"Too Many Requests\",\"type\":\"about:blank\",\"status\":429} | Too Many Requests\n",
      " Request payload: {'query': '(((venezolano OR venezolana OR venezolanos OR venezolanas OR venezuela OR vzla OR vnzla) (migrante OR migrantes OR migracion)) OR veneco OR veneca OR venecos OR venecas)', 'max_results': 100, 'tweet.fields': 'id,text,author_id,created_at,entities,attachments,in_reply_to_user_id,referenced_tweets', 'user.fields': 'username,location', 'media.fields': 'media_key,type', 'expansions': 'referenced_tweets.id,referenced_tweets.id.author_id,entities.mentions.username,in_reply_to_user_id', 'start_time': '2020-06-01T00:00:00-05:00', 'end_time': '2020-06-30T23:59:00-05:00', 'next_token': 'b26v89c19zqg8o3fo7dgpghb3415f48bsis94vjoasy9p'}\n",
      "Rate limit hit... Will retry...\n",
      "Will retry in 4 seconds...\n"
     ]
    },
    {
     "name": "stdout",
     "output_type": "stream",
     "text": [
      "Exported tweets at: ../data/monthly_jsons_complete/2020-06.json\n"
     ]
    },
    {
     "name": "stderr",
     "output_type": "stream",
     "text": [
      " HTTP Error code: 429: {\"title\":\"Too Many Requests\",\"detail\":\"Too Many Requests\",\"type\":\"about:blank\",\"status\":429} | Too Many Requests\n",
      " Request payload: {'query': '(((venezolano OR venezolana OR venezolanos OR venezolanas OR venezuela OR vzla OR vnzla) (migrante OR migrantes OR migracion)) OR veneco OR veneca OR venecos OR venecas)', 'max_results': 100, 'tweet.fields': 'id,text,author_id,created_at,entities,attachments,in_reply_to_user_id,referenced_tweets', 'user.fields': 'username,location', 'media.fields': 'media_key,type', 'expansions': 'referenced_tweets.id,referenced_tweets.id.author_id,entities.mentions.username,in_reply_to_user_id', 'start_time': '2020-07-01T00:00:00-05:00', 'end_time': '2020-07-31T23:59:00-05:00', 'next_token': 'b26v89c19zqg8o3fo7jezj7klxlosqj7xdpeb8wtwyfel'}\n",
      "Rate limit hit... Will retry...\n",
      "Will retry in 4 seconds...\n",
      " HTTP Error code: 429: {\"title\":\"Too Many Requests\",\"detail\":\"Too Many Requests\",\"type\":\"about:blank\",\"status\":429} | Too Many Requests\n",
      " Request payload: {'query': '(((venezolano OR venezolana OR venezolanos OR venezolanas OR venezuela OR vzla OR vnzla) (migrante OR migrantes OR migracion)) OR veneco OR veneca OR venecos OR venecas)', 'max_results': 100, 'tweet.fields': 'id,text,author_id,created_at,entities,attachments,in_reply_to_user_id,referenced_tweets', 'user.fields': 'username,location', 'media.fields': 'media_key,type', 'expansions': 'referenced_tweets.id,referenced_tweets.id.author_id,entities.mentions.username,in_reply_to_user_id', 'start_time': '2020-07-01T00:00:00-05:00', 'end_time': '2020-07-31T23:59:00-05:00', 'next_token': 'b26v89c19zqg8o3fo7je55trfbfvs8k5xlvazvlvnxfnh'}\n",
      "Rate limit hit... Will retry...\n",
      "Will retry in 4 seconds...\n"
     ]
    },
    {
     "name": "stdout",
     "output_type": "stream",
     "text": [
      "Exported tweets at: ../data/monthly_jsons_complete/2020-07.json\n"
     ]
    },
    {
     "name": "stderr",
     "output_type": "stream",
     "text": [
      " HTTP Error code: 429: {\"title\":\"Too Many Requests\",\"detail\":\"Too Many Requests\",\"type\":\"about:blank\",\"status\":429} | Too Many Requests\n",
      " Request payload: {'query': '(((venezolano OR venezolana OR venezolanos OR venezolanas OR venezuela OR vzla OR vnzla) (migrante OR migrantes OR migracion)) OR veneco OR veneca OR venecos OR venecas)', 'max_results': 100, 'tweet.fields': 'id,text,author_id,created_at,entities,attachments,in_reply_to_user_id,referenced_tweets', 'user.fields': 'username,location', 'media.fields': 'media_key,type', 'expansions': 'referenced_tweets.id,referenced_tweets.id.author_id,entities.mentions.username,in_reply_to_user_id', 'start_time': '2020-08-01T00:00:00-05:00', 'end_time': '2020-08-31T23:59:00-05:00', 'next_token': 'b26v89c19zqg8o3fo7meci6mmosrz7mf6xjggaapw1cal'}\n",
      "Rate limit hit... Will retry...\n",
      "Will retry in 4 seconds...\n",
      " HTTP Error code: 429: {\"title\":\"Too Many Requests\",\"detail\":\"Too Many Requests\",\"type\":\"about:blank\",\"status\":429} | Too Many Requests\n",
      " Request payload: {'query': '(((venezolano OR venezolana OR venezolanos OR venezolanas OR venezuela OR vzla OR vnzla) (migrante OR migrantes OR migracion)) OR veneco OR veneca OR venecos OR venecas)', 'max_results': 100, 'tweet.fields': 'id,text,author_id,created_at,entities,attachments,in_reply_to_user_id,referenced_tweets', 'user.fields': 'username,location', 'media.fields': 'media_key,type', 'expansions': 'referenced_tweets.id,referenced_tweets.id.author_id,entities.mentions.username,in_reply_to_user_id', 'start_time': '2020-08-01T00:00:00-05:00', 'end_time': '2020-08-31T23:59:00-05:00', 'next_token': 'b26v89c19zqg8o3fo7meci6mmosrz7mf6xjggaapw1cal'}\n",
      "Rate limit hit... Will retry...\n",
      "Will retry in 16 seconds...\n",
      " HTTP Error code: 429: {\"title\":\"Too Many Requests\",\"detail\":\"Too Many Requests\",\"type\":\"about:blank\",\"status\":429} | Too Many Requests\n",
      " Request payload: {'query': '(((venezolano OR venezolana OR venezolanos OR venezolanas OR venezuela OR vzla OR vnzla) (migrante OR migrantes OR migracion)) OR veneco OR veneca OR venecos OR venecas)', 'max_results': 100, 'tweet.fields': 'id,text,author_id,created_at,entities,attachments,in_reply_to_user_id,referenced_tweets', 'user.fields': 'username,location', 'media.fields': 'media_key,type', 'expansions': 'referenced_tweets.id,referenced_tweets.id.author_id,entities.mentions.username,in_reply_to_user_id', 'start_time': '2020-08-01T00:00:00-05:00', 'end_time': '2020-08-31T23:59:00-05:00', 'next_token': 'b26v89c19zqg8o3fo7md2x0y7x9k79tplzub1de14kznh'}\n",
      "Rate limit hit... Will retry...\n",
      "Will retry in 4 seconds...\n",
      " HTTP Error code: 429: {\"title\":\"Too Many Requests\",\"detail\":\"Too Many Requests\",\"type\":\"about:blank\",\"status\":429} | Too Many Requests\n",
      " Request payload: {'query': '(((venezolano OR venezolana OR venezolanos OR venezolanas OR venezuela OR vzla OR vnzla) (migrante OR migrantes OR migracion)) OR veneco OR veneca OR venecos OR venecas)', 'max_results': 100, 'tweet.fields': 'id,text,author_id,created_at,entities,attachments,in_reply_to_user_id,referenced_tweets', 'user.fields': 'username,location', 'media.fields': 'media_key,type', 'expansions': 'referenced_tweets.id,referenced_tweets.id.author_id,entities.mentions.username,in_reply_to_user_id', 'start_time': '2020-08-01T00:00:00-05:00', 'end_time': '2020-08-31T23:59:00-05:00', 'next_token': 'b26v89c19zqg8o3fo7md2x0y7x9k79tplzub1de14kznh'}\n",
      "Rate limit hit... Will retry...\n",
      "Will retry in 16 seconds...\n"
     ]
    },
    {
     "name": "stdout",
     "output_type": "stream",
     "text": [
      "Exported tweets at: ../data/monthly_jsons_complete/2020-08.json\n"
     ]
    },
    {
     "name": "stderr",
     "output_type": "stream",
     "text": [
      " HTTP Error code: 429: {\"title\":\"Too Many Requests\",\"detail\":\"Too Many Requests\",\"type\":\"about:blank\",\"status\":429} | Too Many Requests\n",
      " Request payload: {'query': '(((venezolano OR venezolana OR venezolanos OR venezolanas OR venezuela OR vzla OR vnzla) (migrante OR migrantes OR migracion)) OR veneco OR veneca OR venecos OR venecas)', 'max_results': 100, 'tweet.fields': 'id,text,author_id,created_at,entities,attachments,in_reply_to_user_id,referenced_tweets', 'user.fields': 'username,location', 'media.fields': 'media_key,type', 'expansions': 'referenced_tweets.id,referenced_tweets.id.author_id,entities.mentions.username,in_reply_to_user_id', 'start_time': '2020-09-01T00:00:00-05:00', 'end_time': '2020-09-30T23:59:00-05:00', 'next_token': 'b26v89c19zqg8o3fos5vjjgxsaeaftd1i0tzmyychfptp'}\n",
      "Rate limit hit... Will retry...\n",
      "Will retry in 4 seconds...\n",
      " HTTP Error code: 429: {\"title\":\"Too Many Requests\",\"detail\":\"Too Many Requests\",\"type\":\"about:blank\",\"status\":429} | Too Many Requests\n",
      " Request payload: {'query': '(((venezolano OR venezolana OR venezolanos OR venezolanas OR venezuela OR vzla OR vnzla) (migrante OR migrantes OR migracion)) OR veneco OR veneca OR venecos OR venecas)', 'max_results': 100, 'tweet.fields': 'id,text,author_id,created_at,entities,attachments,in_reply_to_user_id,referenced_tweets', 'user.fields': 'username,location', 'media.fields': 'media_key,type', 'expansions': 'referenced_tweets.id,referenced_tweets.id.author_id,entities.mentions.username,in_reply_to_user_id', 'start_time': '2020-09-01T00:00:00-05:00', 'end_time': '2020-09-30T23:59:00-05:00', 'next_token': 'b26v89c19zqg8o3fos5vjjgxsaeaftd1i0tzmyychfptp'}\n",
      "Rate limit hit... Will retry...\n",
      "Will retry in 16 seconds...\n",
      " HTTP Error code: 429: {\"title\":\"Too Many Requests\",\"detail\":\"Too Many Requests\",\"type\":\"about:blank\",\"status\":429} | Too Many Requests\n",
      " Request payload: {'query': '(((venezolano OR venezolana OR venezolanos OR venezolanas OR venezuela OR vzla OR vnzla) (migrante OR migrantes OR migracion)) OR veneco OR veneca OR venecos OR venecas)', 'max_results': 100, 'tweet.fields': 'id,text,author_id,created_at,entities,attachments,in_reply_to_user_id,referenced_tweets', 'user.fields': 'username,location', 'media.fields': 'media_key,type', 'expansions': 'referenced_tweets.id,referenced_tweets.id.author_id,entities.mentions.username,in_reply_to_user_id', 'start_time': '2020-09-01T00:00:00-05:00', 'end_time': '2020-09-30T23:59:00-05:00', 'next_token': 'b26v89c19zqg8o3fos5u9w8xc2a206jb9kdyn6wxhb1x9'}\n",
      "Rate limit hit... Will retry...\n",
      "Will retry in 4 seconds...\n",
      " HTTP Error code: 429: {\"title\":\"Too Many Requests\",\"detail\":\"Too Many Requests\",\"type\":\"about:blank\",\"status\":429} | Too Many Requests\n",
      " Request payload: {'query': '(((venezolano OR venezolana OR venezolanos OR venezolanas OR venezuela OR vzla OR vnzla) (migrante OR migrantes OR migracion)) OR veneco OR veneca OR venecos OR venecas)', 'max_results': 100, 'tweet.fields': 'id,text,author_id,created_at,entities,attachments,in_reply_to_user_id,referenced_tweets', 'user.fields': 'username,location', 'media.fields': 'media_key,type', 'expansions': 'referenced_tweets.id,referenced_tweets.id.author_id,entities.mentions.username,in_reply_to_user_id', 'start_time': '2020-09-01T00:00:00-05:00', 'end_time': '2020-09-30T23:59:00-05:00', 'next_token': 'b26v89c19zqg8o3fos5u9w8xc2a206jb9kdyn6wxhb1x9'}\n",
      "Rate limit hit... Will retry...\n",
      "Will retry in 16 seconds...\n"
     ]
    },
    {
     "name": "stdout",
     "output_type": "stream",
     "text": [
      "Exported tweets at: ../data/monthly_jsons_complete/2020-09.json\n"
     ]
    },
    {
     "name": "stderr",
     "output_type": "stream",
     "text": [
      " HTTP Error code: 429: {\"title\":\"Too Many Requests\",\"detail\":\"Too Many Requests\",\"type\":\"about:blank\",\"status\":429} | Too Many Requests\n",
      " Request payload: {'query': '(((venezolano OR venezolana OR venezolanos OR venezolanas OR venezuela OR vzla OR vnzla) (migrante OR migrantes OR migracion)) OR veneco OR veneca OR venecos OR venecas)', 'max_results': 100, 'tweet.fields': 'id,text,author_id,created_at,entities,attachments,in_reply_to_user_id,referenced_tweets', 'user.fields': 'username,location', 'media.fields': 'media_key,type', 'expansions': 'referenced_tweets.id,referenced_tweets.id.author_id,entities.mentions.username,in_reply_to_user_id', 'start_time': '2020-10-01T00:00:00-05:00', 'end_time': '2020-10-31T23:59:00-05:00', 'next_token': 'b26v89c19zqg8o3fosbs51uco1kuk2clgzbagtejbwb5p'}\n",
      "Rate limit hit... Will retry...\n",
      "Will retry in 4 seconds...\n",
      " HTTP Error code: 429: {\"title\":\"Too Many Requests\",\"detail\":\"Too Many Requests\",\"type\":\"about:blank\",\"status\":429} | Too Many Requests\n",
      " Request payload: {'query': '(((venezolano OR venezolana OR venezolanos OR venezolanas OR venezuela OR vzla OR vnzla) (migrante OR migrantes OR migracion)) OR veneco OR veneca OR venecos OR venecas)', 'max_results': 100, 'tweet.fields': 'id,text,author_id,created_at,entities,attachments,in_reply_to_user_id,referenced_tweets', 'user.fields': 'username,location', 'media.fields': 'media_key,type', 'expansions': 'referenced_tweets.id,referenced_tweets.id.author_id,entities.mentions.username,in_reply_to_user_id', 'start_time': '2020-10-01T00:00:00-05:00', 'end_time': '2020-10-31T23:59:00-05:00', 'next_token': 'b26v89c19zqg8o3fos8uwe4ftbco4kmdqzqc8dnebudtp'}\n",
      "Rate limit hit... Will retry...\n",
      "Will retry in 4 seconds...\n",
      " HTTP Error code: 429: {\"title\":\"Too Many Requests\",\"detail\":\"Too Many Requests\",\"type\":\"about:blank\",\"status\":429} | Too Many Requests\n",
      " Request payload: {'query': '(((venezolano OR venezolana OR venezolanos OR venezolanas OR venezuela OR vzla OR vnzla) (migrante OR migrantes OR migracion)) OR veneco OR veneca OR venecos OR venecas)', 'max_results': 100, 'tweet.fields': 'id,text,author_id,created_at,entities,attachments,in_reply_to_user_id,referenced_tweets', 'user.fields': 'username,location', 'media.fields': 'media_key,type', 'expansions': 'referenced_tweets.id,referenced_tweets.id.author_id,entities.mentions.username,in_reply_to_user_id', 'start_time': '2020-10-01T00:00:00-05:00', 'end_time': '2020-10-31T23:59:00-05:00', 'next_token': 'b26v89c19zqg8o3fos8tmqw4tqq9o1p3n3si9831kt7y5'}\n",
      "Rate limit hit... Will retry...\n",
      "Will retry in 4 seconds...\n",
      " HTTP Error code: 429: {\"title\":\"Too Many Requests\",\"detail\":\"Too Many Requests\",\"type\":\"about:blank\",\"status\":429} | Too Many Requests\n",
      " Request payload: {'query': '(((venezolano OR venezolana OR venezolanos OR venezolanas OR venezuela OR vzla OR vnzla) (migrante OR migrantes OR migracion)) OR veneco OR veneca OR venecos OR venecas)', 'max_results': 100, 'tweet.fields': 'id,text,author_id,created_at,entities,attachments,in_reply_to_user_id,referenced_tweets', 'user.fields': 'username,location', 'media.fields': 'media_key,type', 'expansions': 'referenced_tweets.id,referenced_tweets.id.author_id,entities.mentions.username,in_reply_to_user_id', 'start_time': '2020-10-01T00:00:00-05:00', 'end_time': '2020-10-31T23:59:00-05:00', 'next_token': 'b26v89c19zqg8o3fos8tmqw4tqq9o1p3n3si9831kt7y5'}\n",
      "Rate limit hit... Will retry...\n",
      "Will retry in 16 seconds...\n"
     ]
    },
    {
     "name": "stdout",
     "output_type": "stream",
     "text": [
      "Exported tweets at: ../data/monthly_jsons_complete/2020-10.json\n"
     ]
    },
    {
     "name": "stderr",
     "output_type": "stream",
     "text": [
      " HTTP Error code: 429: {\"title\":\"Too Many Requests\",\"detail\":\"Too Many Requests\",\"type\":\"about:blank\",\"status\":429} | Too Many Requests\n",
      " Request payload: {'query': '(((venezolano OR venezolana OR venezolanos OR venezolanas OR venezuela OR vzla OR vnzla) (migrante OR migrantes OR migracion)) OR veneco OR veneca OR venecos OR venecas)', 'max_results': 100, 'tweet.fields': 'id,text,author_id,created_at,entities,attachments,in_reply_to_user_id,referenced_tweets', 'user.fields': 'username,location', 'media.fields': 'media_key,type', 'expansions': 'referenced_tweets.id,referenced_tweets.id.author_id,entities.mentions.username,in_reply_to_user_id', 'start_time': '2020-11-01T00:00:00-05:00', 'end_time': '2020-11-30T23:59:00-05:00', 'next_token': 'b26v89c19zqg8o3foserx01s2umaqztk29uqol1kcrgjh'}\n",
      "Rate limit hit... Will retry...\n",
      "Will retry in 4 seconds...\n",
      " HTTP Error code: 429: {\"title\":\"Too Many Requests\",\"detail\":\"Too Many Requests\",\"type\":\"about:blank\",\"status\":429} | Too Many Requests\n",
      " Request payload: {'query': '(((venezolano OR venezolana OR venezolanos OR venezolanas OR venezuela OR vzla OR vnzla) (migrante OR migrantes OR migracion)) OR veneco OR veneca OR venecos OR venecas)', 'max_results': 100, 'tweet.fields': 'id,text,author_id,created_at,entities,attachments,in_reply_to_user_id,referenced_tweets', 'user.fields': 'username,location', 'media.fields': 'media_key,type', 'expansions': 'referenced_tweets.id,referenced_tweets.id.author_id,entities.mentions.username,in_reply_to_user_id', 'start_time': '2020-11-01T00:00:00-05:00', 'end_time': '2020-11-30T23:59:00-05:00', 'next_token': 'b26v89c19zqg8o3foserx01s2umaqztk29uqol1kcrgjh'}\n",
      "Rate limit hit... Will retry...\n",
      "Will retry in 16 seconds...\n"
     ]
    },
    {
     "name": "stdout",
     "output_type": "stream",
     "text": [
      "Exported tweets at: ../data/monthly_jsons_complete/2020-11.json\n"
     ]
    },
    {
     "name": "stderr",
     "output_type": "stream",
     "text": [
      " HTTP Error code: 429: {\"title\":\"Too Many Requests\",\"detail\":\"Too Many Requests\",\"type\":\"about:blank\",\"status\":429} | Too Many Requests\n",
      " Request payload: {'query': '(((venezolano OR venezolana OR venezolanos OR venezolanas OR venezuela OR vzla OR vnzla) (migrante OR migrantes OR migracion)) OR veneco OR veneca OR venecos OR venecas)', 'max_results': 100, 'tweet.fields': 'id,text,author_id,created_at,entities,attachments,in_reply_to_user_id,referenced_tweets', 'user.fields': 'username,location', 'media.fields': 'media_key,type', 'expansions': 'referenced_tweets.id,referenced_tweets.id.author_id,entities.mentions.username,in_reply_to_user_id', 'start_time': '2020-12-01T00:00:00-05:00', 'end_time': '2020-12-31T23:59:00-05:00', 'next_token': 'b26v89c19zqg8o3foshsjdn8dzau3ys2utmdfop18l18d'}\n",
      "Rate limit hit... Will retry...\n",
      "Will retry in 4 seconds...\n",
      " HTTP Error code: 429: {\"title\":\"Too Many Requests\",\"detail\":\"Too Many Requests\",\"type\":\"about:blank\",\"status\":429} | Too Many Requests\n",
      " Request payload: {'query': '(((venezolano OR venezolana OR venezolanos OR venezolanas OR venezuela OR vzla OR vnzla) (migrante OR migrantes OR migracion)) OR veneco OR veneca OR venecos OR venecas)', 'max_results': 100, 'tweet.fields': 'id,text,author_id,created_at,entities,attachments,in_reply_to_user_id,referenced_tweets', 'user.fields': 'username,location', 'media.fields': 'media_key,type', 'expansions': 'referenced_tweets.id,referenced_tweets.id.author_id,entities.mentions.username,in_reply_to_user_id', 'start_time': '2020-12-01T00:00:00-05:00', 'end_time': '2020-12-31T23:59:00-05:00', 'next_token': 'b26v89c19zqg8o3foshs3zie9ak42hflbvc8lvhtbb33x'}\n",
      "Rate limit hit... Will retry...\n",
      "Will retry in 4 seconds...\n",
      " HTTP Error code: 429: {\"title\":\"Too Many Requests\",\"detail\":\"Too Many Requests\",\"type\":\"about:blank\",\"status\":429} | Too Many Requests\n",
      " Request payload: {'query': '(((venezolano OR venezolana OR venezolanos OR venezolanas OR venezuela OR vzla OR vnzla) (migrante OR migrantes OR migracion)) OR veneco OR veneca OR venecos OR venecas)', 'max_results': 100, 'tweet.fields': 'id,text,author_id,created_at,entities,attachments,in_reply_to_user_id,referenced_tweets', 'user.fields': 'username,location', 'media.fields': 'media_key,type', 'expansions': 'referenced_tweets.id,referenced_tweets.id.author_id,entities.mentions.username,in_reply_to_user_id', 'start_time': '2020-12-01T00:00:00-05:00', 'end_time': '2020-12-31T23:59:00-05:00', 'next_token': 'b26v89c19zqg8o3foshs3zie9ak42hflbvc8lvhtbb33x'}\n",
      "Rate limit hit... Will retry...\n",
      "Will retry in 16 seconds...\n",
      " HTTP Error code: 429: {\"title\":\"Too Many Requests\",\"detail\":\"Too Many Requests\",\"type\":\"about:blank\",\"status\":429} | Too Many Requests\n",
      " Request payload: {'query': '(((venezolano OR venezolana OR venezolanos OR venezolanas OR venezuela OR vzla OR vnzla) (migrante OR migrantes OR migracion)) OR veneco OR veneca OR venecos OR venecas)', 'max_results': 100, 'tweet.fields': 'id,text,author_id,created_at,entities,attachments,in_reply_to_user_id,referenced_tweets', 'user.fields': 'username,location', 'media.fields': 'media_key,type', 'expansions': 'referenced_tweets.id,referenced_tweets.id.author_id,entities.mentions.username,in_reply_to_user_id', 'start_time': '2020-12-01T00:00:00-05:00', 'end_time': '2020-12-31T23:59:00-05:00', 'next_token': 'b26v89c19zqg8o3foshs3zie9ak42hflbvc8lvhtbb33x'}\n",
      "Rate limit hit... Will retry...\n",
      "Will retry in 36 seconds...\n"
     ]
    },
    {
     "name": "stdout",
     "output_type": "stream",
     "text": [
      "Exported tweets at: ../data/monthly_jsons_complete/2020-12.json\n"
     ]
    },
    {
     "name": "stderr",
     "output_type": "stream",
     "text": [
      " HTTP Error code: 429: {\"title\":\"Too Many Requests\",\"detail\":\"Too Many Requests\",\"type\":\"about:blank\",\"status\":429} | Too Many Requests\n",
      " Request payload: {'query': '(((venezolano OR venezolana OR venezolanos OR venezolanas OR venezuela OR vzla OR vnzla) (migrante OR migrantes OR migracion)) OR veneco OR veneca OR venecos OR venecas)', 'max_results': 100, 'tweet.fields': 'id,text,author_id,created_at,entities,attachments,in_reply_to_user_id,referenced_tweets', 'user.fields': 'username,location', 'media.fields': 'media_key,type', 'expansions': 'referenced_tweets.id,referenced_tweets.id.author_id,entities.mentions.username,in_reply_to_user_id', 'start_time': '2021-01-01T00:00:00-05:00', 'end_time': '2021-01-31T23:59:00-05:00', 'next_token': 'b26v89c19zqg8o3fosksqfc6cx4ha63e1rvoexm6izp8d'}\n",
      "Rate limit hit... Will retry...\n",
      "Will retry in 4 seconds...\n"
     ]
    },
    {
     "name": "stdout",
     "output_type": "stream",
     "text": [
      "Exported tweets at: ../data/monthly_jsons_complete/2021-01.json\n",
      "Exported tweets at: ../data/monthly_jsons_complete/2021-02.json\n",
      "Exported tweets at: ../data/monthly_jsons_complete/2021-03.json\n",
      "Exported tweets at: ../data/monthly_jsons_complete/2021-04.json\n",
      "Exported tweets at: ../data/monthly_jsons_complete/2021-05.json\n",
      "Exported tweets at: ../data/monthly_jsons_complete/2021-06.json\n",
      "Exported tweets at: ../data/monthly_jsons_complete/2021-07.json\n"
     ]
    },
    {
     "name": "stderr",
     "output_type": "stream",
     "text": [
      " HTTP Error code: 429: {\"title\":\"Too Many Requests\",\"detail\":\"Too Many Requests\",\"type\":\"about:blank\",\"status\":429} | Too Many Requests\n",
      " Request payload: {'query': '(((venezolano OR venezolana OR venezolanos OR venezolanas OR venezuela OR vzla OR vnzla) (migrante OR migrantes OR migracion)) OR veneco OR veneca OR venecos OR venecas)', 'max_results': 100, 'tweet.fields': 'id,text,author_id,created_at,entities,attachments,in_reply_to_user_id,referenced_tweets', 'user.fields': 'username,location', 'media.fields': 'media_key,type', 'expansions': 'referenced_tweets.id,referenced_tweets.id.author_id,entities.mentions.username,in_reply_to_user_id', 'start_time': '2021-08-01T00:00:00-05:00', 'end_time': '2021-08-31T23:59:00-05:00', 'next_token': 'b26v89c19zqg8o3fpdm9twvf8vblk3brp2mdh2zzvvq7x'}\n",
      "Rate limit hit... Will retry...\n",
      "Will retry in 4 seconds...\n"
     ]
    },
    {
     "name": "stdout",
     "output_type": "stream",
     "text": [
      "Exported tweets at: ../data/monthly_jsons_complete/2021-08.json\n"
     ]
    },
    {
     "name": "stderr",
     "output_type": "stream",
     "text": [
      " HTTP Error code: 429: {\"title\":\"Too Many Requests\",\"detail\":\"Too Many Requests\",\"type\":\"about:blank\",\"status\":429} | Too Many Requests\n",
      " Request payload: {'query': '(((venezolano OR venezolana OR venezolanos OR venezolanas OR venezuela OR vzla OR vnzla) (migrante OR migrantes OR migracion)) OR veneco OR veneca OR venecos OR venecas)', 'max_results': 100, 'tweet.fields': 'id,text,author_id,created_at,entities,attachments,in_reply_to_user_id,referenced_tweets', 'user.fields': 'username,location', 'media.fields': 'media_key,type', 'expansions': 'referenced_tweets.id,referenced_tweets.id.author_id,entities.mentions.username,in_reply_to_user_id', 'start_time': '2021-09-01T00:00:00-05:00', 'end_time': '2021-09-30T23:59:00-05:00', 'next_token': 'b26v89c19zqg8o3fpds6utewavdun5mf9max8e2dt1ev1'}\n",
      "Rate limit hit... Will retry...\n",
      "Will retry in 4 seconds...\n",
      " HTTP Error code: 429: {\"title\":\"Too Many Requests\",\"detail\":\"Too Many Requests\",\"type\":\"about:blank\",\"status\":429} | Too Many Requests\n",
      " Request payload: {'query': '(((venezolano OR venezolana OR venezolanos OR venezolanas OR venezuela OR vzla OR vnzla) (migrante OR migrantes OR migracion)) OR veneco OR veneca OR venecos OR venecas)', 'max_results': 100, 'tweet.fields': 'id,text,author_id,created_at,entities,attachments,in_reply_to_user_id,referenced_tweets', 'user.fields': 'username,location', 'media.fields': 'media_key,type', 'expansions': 'referenced_tweets.id,referenced_tweets.id.author_id,entities.mentions.username,in_reply_to_user_id', 'start_time': '2021-09-01T00:00:00-05:00', 'end_time': '2021-09-30T23:59:00-05:00', 'next_token': 'b26v89c19zqg8o3fpds6g2o8gzyx86utxrbqhoeoa6jct'}\n",
      "Rate limit hit... Will retry...\n",
      "Will retry in 4 seconds...\n",
      " HTTP Error code: 429: {\"title\":\"Too Many Requests\",\"detail\":\"Too Many Requests\",\"type\":\"about:blank\",\"status\":429} | Too Many Requests\n",
      " Request payload: {'query': '(((venezolano OR venezolana OR venezolanos OR venezolanas OR venezuela OR vzla OR vnzla) (migrante OR migrantes OR migracion)) OR veneco OR veneca OR venecos OR venecas)', 'max_results': 100, 'tweet.fields': 'id,text,author_id,created_at,entities,attachments,in_reply_to_user_id,referenced_tweets', 'user.fields': 'username,location', 'media.fields': 'media_key,type', 'expansions': 'referenced_tweets.id,referenced_tweets.id.author_id,entities.mentions.username,in_reply_to_user_id', 'start_time': '2021-09-01T00:00:00-05:00', 'end_time': '2021-09-30T23:59:00-05:00', 'next_token': 'b26v89c19zqg8o3fpds60st5atl37o4ynrchdog7k1m65'}\n",
      "Rate limit hit... Will retry...\n",
      "Will retry in 4 seconds...\n",
      " HTTP Error code: 429: {\"title\":\"Too Many Requests\",\"detail\":\"Too Many Requests\",\"type\":\"about:blank\",\"status\":429} | Too Many Requests\n",
      " Request payload: {'query': '(((venezolano OR venezolana OR venezolanos OR venezolanas OR venezuela OR vzla OR vnzla) (migrante OR migrantes OR migracion)) OR veneco OR veneca OR venecos OR venecas)', 'max_results': 100, 'tweet.fields': 'id,text,author_id,created_at,entities,attachments,in_reply_to_user_id,referenced_tweets', 'user.fields': 'username,location', 'media.fields': 'media_key,type', 'expansions': 'referenced_tweets.id,referenced_tweets.id.author_id,entities.mentions.username,in_reply_to_user_id', 'start_time': '2021-09-01T00:00:00-05:00', 'end_time': '2021-09-30T23:59:00-05:00', 'next_token': 'b26v89c19zqg8o3fpdp9702qkmsgz7np7ioxit5o5za0t'}\n",
      "Rate limit hit... Will retry...\n",
      "Will retry in 4 seconds...\n"
     ]
    },
    {
     "name": "stdout",
     "output_type": "stream",
     "text": [
      "Exported tweets at: ../data/monthly_jsons_complete/2021-09.json\n"
     ]
    },
    {
     "name": "stderr",
     "output_type": "stream",
     "text": [
      " HTTP Error code: 429: {\"title\":\"Too Many Requests\",\"detail\":\"Too Many Requests\",\"type\":\"about:blank\",\"status\":429} | Too Many Requests\n",
      " Request payload: {'query': '(((venezolano OR venezolana OR venezolanos OR venezolanas OR venezuela OR vzla OR vnzla) (migrante OR migrantes OR migracion)) OR veneco OR veneca OR venecos OR venecas)', 'max_results': 100, 'tweet.fields': 'id,text,author_id,created_at,entities,attachments,in_reply_to_user_id,referenced_tweets', 'user.fields': 'username,location', 'media.fields': 'media_key,type', 'expansions': 'referenced_tweets.id,referenced_tweets.id.author_id,entities.mentions.username,in_reply_to_user_id', 'start_time': '2021-10-01T00:00:00-05:00', 'end_time': '2021-10-31T23:59:00-05:00', 'next_token': 'b26v89c19zqg8o3fpds9dvastlxybjmttw428wi5y4wvx'}\n",
      "Rate limit hit... Will retry...\n",
      "Will retry in 4 seconds...\n",
      " HTTP Error code: 429: {\"title\":\"Too Many Requests\",\"detail\":\"Too Many Requests\",\"type\":\"about:blank\",\"status\":429} | Too Many Requests\n",
      " Request payload: {'query': '(((venezolano OR venezolana OR venezolanos OR venezolanas OR venezuela OR vzla OR vnzla) (migrante OR migrantes OR migracion)) OR veneco OR veneca OR venecos OR venecas)', 'max_results': 100, 'tweet.fields': 'id,text,author_id,created_at,entities,attachments,in_reply_to_user_id,referenced_tweets', 'user.fields': 'username,location', 'media.fields': 'media_key,type', 'expansions': 'referenced_tweets.id,referenced_tweets.id.author_id,entities.mentions.username,in_reply_to_user_id', 'start_time': '2021-10-01T00:00:00-05:00', 'end_time': '2021-10-31T23:59:00-05:00', 'next_token': 'b26v89c19zqg8o3fpds9dvastlxybjmttw428wi5y4wvx'}\n",
      "Rate limit hit... Will retry...\n",
      "Will retry in 16 seconds...\n",
      " HTTP Error code: 429: {\"title\":\"Too Many Requests\",\"detail\":\"Too Many Requests\",\"type\":\"about:blank\",\"status\":429} | Too Many Requests\n",
      " Request payload: {'query': '(((venezolano OR venezolana OR venezolanos OR venezolanas OR venezuela OR vzla OR vnzla) (migrante OR migrantes OR migracion)) OR veneco OR veneca OR venecos OR venecas)', 'max_results': 100, 'tweet.fields': 'id,text,author_id,created_at,entities,attachments,in_reply_to_user_id,referenced_tweets', 'user.fields': 'username,location', 'media.fields': 'media_key,type', 'expansions': 'referenced_tweets.id,referenced_tweets.id.author_id,entities.mentions.username,in_reply_to_user_id', 'start_time': '2021-10-01T00:00:00-05:00', 'end_time': '2021-10-31T23:59:00-05:00', 'next_token': 'b26v89c19zqg8o3fpds8jocyoztqlvwspobs24be9b2bh'}\n",
      "Rate limit hit... Will retry...\n",
      "Will retry in 4 seconds...\n",
      " HTTP Error code: 429: {\"title\":\"Too Many Requests\",\"detail\":\"Too Many Requests\",\"type\":\"about:blank\",\"status\":429} | Too Many Requests\n",
      " Request payload: {'query': '(((venezolano OR venezolana OR venezolanos OR venezolanas OR venezuela OR vzla OR vnzla) (migrante OR migrantes OR migracion)) OR veneco OR veneca OR venecos OR venecas)', 'max_results': 100, 'tweet.fields': 'id,text,author_id,created_at,entities,attachments,in_reply_to_user_id,referenced_tweets', 'user.fields': 'username,location', 'media.fields': 'media_key,type', 'expansions': 'referenced_tweets.id,referenced_tweets.id.author_id,entities.mentions.username,in_reply_to_user_id', 'start_time': '2021-10-01T00:00:00-05:00', 'end_time': '2021-10-31T23:59:00-05:00', 'next_token': 'b26v89c19zqg8o3fpds8jocyoztqlvwspobs24be9b2bh'}\n",
      "Rate limit hit... Will retry...\n",
      "Will retry in 16 seconds...\n"
     ]
    },
    {
     "name": "stdout",
     "output_type": "stream",
     "text": [
      "Exported tweets at: ../data/monthly_jsons_complete/2021-10.json\n"
     ]
    },
    {
     "name": "stderr",
     "output_type": "stream",
     "text": [
      " HTTP Error code: 429: {\"title\":\"Too Many Requests\",\"detail\":\"Too Many Requests\",\"type\":\"about:blank\",\"status\":429} | Too Many Requests\n",
      " Request payload: {'query': '(((venezolano OR venezolana OR venezolanos OR venezolanas OR venezuela OR vzla OR vnzla) (migrante OR migrantes OR migracion)) OR veneco OR veneca OR venecos OR venecas)', 'max_results': 100, 'tweet.fields': 'id,text,author_id,created_at,entities,attachments,in_reply_to_user_id,referenced_tweets', 'user.fields': 'username,location', 'media.fields': 'media_key,type', 'expansions': 'referenced_tweets.id,referenced_tweets.id.author_id,entities.mentions.username,in_reply_to_user_id', 'start_time': '2021-11-01T00:00:00-05:00', 'end_time': '2021-11-30T23:59:00-05:00', 'next_token': 'b26v89c19zqg8o3fpdv9kofxnvan1eveoamcwgyhjv9fh'}\n",
      "Rate limit hit... Will retry...\n",
      "Will retry in 4 seconds...\n",
      " HTTP Error code: 429: {\"title\":\"Too Many Requests\",\"detail\":\"Too Many Requests\",\"type\":\"about:blank\",\"status\":429} | Too Many Requests\n",
      " Request payload: {'query': '(((venezolano OR venezolana OR venezolanos OR venezolanas OR venezuela OR vzla OR vnzla) (migrante OR migrantes OR migracion)) OR veneco OR veneca OR venecos OR venecas)', 'max_results': 100, 'tweet.fields': 'id,text,author_id,created_at,entities,attachments,in_reply_to_user_id,referenced_tweets', 'user.fields': 'username,location', 'media.fields': 'media_key,type', 'expansions': 'referenced_tweets.id,referenced_tweets.id.author_id,entities.mentions.username,in_reply_to_user_id', 'start_time': '2021-11-01T00:00:00-05:00', 'end_time': '2021-11-30T23:59:00-05:00', 'next_token': 'b26v89c19zqg8o3fpdv9kofxnvan1eveoamcwgyhjv9fh'}\n",
      "Rate limit hit... Will retry...\n",
      "Will retry in 16 seconds...\n",
      " HTTP Error code: 429: {\"title\":\"Too Many Requests\",\"detail\":\"Too Many Requests\",\"type\":\"about:blank\",\"status\":429} | Too Many Requests\n",
      " Request payload: {'query': '(((venezolano OR venezolana OR venezolanos OR venezolanas OR venezuela OR vzla OR vnzla) (migrante OR migrantes OR migracion)) OR veneco OR veneca OR venecos OR venecas)', 'max_results': 100, 'tweet.fields': 'id,text,author_id,created_at,entities,attachments,in_reply_to_user_id,referenced_tweets', 'user.fields': 'username,location', 'media.fields': 'media_key,type', 'expansions': 'referenced_tweets.id,referenced_tweets.id.author_id,entities.mentions.username,in_reply_to_user_id', 'start_time': '2021-11-01T00:00:00-05:00', 'end_time': '2021-11-30T23:59:00-05:00', 'next_token': 'b26v89c19zqg8o3fpdv7wj1o4tdiwm57vrrf7ya8anf5p'}\n",
      "Rate limit hit... Will retry...\n",
      "Will retry in 4 seconds...\n",
      " HTTP Error code: 429: {\"title\":\"Too Many Requests\",\"detail\":\"Too Many Requests\",\"type\":\"about:blank\",\"status\":429} | Too Many Requests\n",
      " Request payload: {'query': '(((venezolano OR venezolana OR venezolanos OR venezolanas OR venezuela OR vzla OR vnzla) (migrante OR migrantes OR migracion)) OR veneco OR veneca OR venecos OR venecas)', 'max_results': 100, 'tweet.fields': 'id,text,author_id,created_at,entities,attachments,in_reply_to_user_id,referenced_tweets', 'user.fields': 'username,location', 'media.fields': 'media_key,type', 'expansions': 'referenced_tweets.id,referenced_tweets.id.author_id,entities.mentions.username,in_reply_to_user_id', 'start_time': '2021-11-01T00:00:00-05:00', 'end_time': '2021-11-30T23:59:00-05:00', 'next_token': 'b26v89c19zqg8o3fpdv7wj1o4tdiwm57vrrf7ya8anf5p'}\n",
      "Rate limit hit... Will retry...\n",
      "Will retry in 16 seconds...\n"
     ]
    },
    {
     "name": "stdout",
     "output_type": "stream",
     "text": [
      "Exported tweets at: ../data/monthly_jsons_complete/2021-11.json\n"
     ]
    },
    {
     "name": "stderr",
     "output_type": "stream",
     "text": [
      " HTTP Error code: 429: {\"title\":\"Too Many Requests\",\"detail\":\"Too Many Requests\",\"type\":\"about:blank\",\"status\":429} | Too Many Requests\n",
      " Request payload: {'query': '(((venezolano OR venezolana OR venezolanos OR venezolanas OR venezuela OR vzla OR vnzla) (migrante OR migrantes OR migracion)) OR veneco OR veneca OR venecos OR venecas)', 'max_results': 100, 'tweet.fields': 'id,text,author_id,created_at,entities,attachments,in_reply_to_user_id,referenced_tweets', 'user.fields': 'username,location', 'media.fields': 'media_key,type', 'expansions': 'referenced_tweets.id,referenced_tweets.id.author_id,entities.mentions.username,in_reply_to_user_id', 'start_time': '2021-12-01T00:00:00-05:00', 'end_time': '2021-12-31T23:59:00-05:00', 'next_token': 'b26v89c19zqg8o3fpe15caj5gaqq8ugdvjqgfaukq7y4d'}\n",
      "Rate limit hit... Will retry...\n",
      "Will retry in 4 seconds...\n"
     ]
    },
    {
     "name": "stdout",
     "output_type": "stream",
     "text": [
      "Exported tweets at: ../data/monthly_jsons_complete/2021-12.json\n"
     ]
    },
    {
     "name": "stderr",
     "output_type": "stream",
     "text": [
      " HTTP Error code: 429: {\"title\":\"Too Many Requests\",\"detail\":\"Too Many Requests\",\"type\":\"about:blank\",\"status\":429} | Too Many Requests\n",
      " Request payload: {'query': '(((venezolano OR venezolana OR venezolanos OR venezolanas OR venezuela OR vzla OR vnzla) (migrante OR migrantes OR migracion)) OR veneco OR veneca OR venecos OR venecas)', 'max_results': 100, 'tweet.fields': 'id,text,author_id,created_at,entities,attachments,in_reply_to_user_id,referenced_tweets', 'user.fields': 'username,location', 'media.fields': 'media_key,type', 'expansions': 'referenced_tweets.id,referenced_tweets.id.author_id,entities.mentions.username,in_reply_to_user_id', 'start_time': '2022-01-01T00:00:00-05:00', 'end_time': '2022-01-31T23:59:00-05:00', 'next_token': 'b26v89c19zqg8o3fpe477q3g9cmkxick8ne0i8w6zirnh'}\n",
      "Rate limit hit... Will retry...\n",
      "Will retry in 4 seconds...\n",
      " HTTP Error code: 429: {\"title\":\"Too Many Requests\",\"detail\":\"Too Many Requests\",\"type\":\"about:blank\",\"status\":429} | Too Many Requests\n",
      " Request payload: {'query': '(((venezolano OR venezolana OR venezolanos OR venezolanas OR venezuela OR vzla OR vnzla) (migrante OR migrantes OR migracion)) OR veneco OR veneca OR venecos OR venecas)', 'max_results': 100, 'tweet.fields': 'id,text,author_id,created_at,entities,attachments,in_reply_to_user_id,referenced_tweets', 'user.fields': 'username,location', 'media.fields': 'media_key,type', 'expansions': 'referenced_tweets.id,referenced_tweets.id.author_id,entities.mentions.username,in_reply_to_user_id', 'start_time': '2022-01-01T00:00:00-05:00', 'end_time': '2022-01-31T23:59:00-05:00', 'next_token': 'b26v89c19zqg8o3fpe45jc5zn4zjokcktcyjp7kktjwql'}\n",
      "Rate limit hit... Will retry...\n",
      "Will retry in 4 seconds...\n",
      " HTTP Error code: 429: {\"title\":\"Too Many Requests\",\"detail\":\"Too Many Requests\",\"type\":\"about:blank\",\"status\":429} | Too Many Requests\n",
      " Request payload: {'query': '(((venezolano OR venezolana OR venezolanos OR venezolanas OR venezuela OR vzla OR vnzla) (migrante OR migrantes OR migracion)) OR veneco OR veneca OR venecos OR venecas)', 'max_results': 100, 'tweet.fields': 'id,text,author_id,created_at,entities,attachments,in_reply_to_user_id,referenced_tweets', 'user.fields': 'username,location', 'media.fields': 'media_key,type', 'expansions': 'referenced_tweets.id,referenced_tweets.id.author_id,entities.mentions.username,in_reply_to_user_id', 'start_time': '2022-01-01T00:00:00-05:00', 'end_time': '2022-01-31T23:59:00-05:00', 'next_token': 'b26v89c19zqg8o3fpe45jc5zn4zjokcktcyjp7kktjwql'}\n",
      "Rate limit hit... Will retry...\n",
      "Will retry in 16 seconds...\n",
      " HTTP Error code: 429: {\"title\":\"Too Many Requests\",\"detail\":\"Too Many Requests\",\"type\":\"about:blank\",\"status\":429} | Too Many Requests\n",
      " Request payload: {'query': '(((venezolano OR venezolana OR venezolanos OR venezolanas OR venezuela OR vzla OR vnzla) (migrante OR migrantes OR migracion)) OR veneco OR veneca OR venecos OR venecas)', 'max_results': 100, 'tweet.fields': 'id,text,author_id,created_at,entities,attachments,in_reply_to_user_id,referenced_tweets', 'user.fields': 'username,location', 'media.fields': 'media_key,type', 'expansions': 'referenced_tweets.id,referenced_tweets.id.author_id,entities.mentions.username,in_reply_to_user_id', 'start_time': '2022-01-01T00:00:00-05:00', 'end_time': '2022-01-31T23:59:00-05:00', 'next_token': 'b26v89c19zqg8o3fpe18abobk9a3x7mtp09kvcowmwtx9'}\n",
      "Rate limit hit... Will retry...\n",
      "Will retry in 4 seconds...\n",
      " HTTP Error code: 429: {\"title\":\"Too Many Requests\",\"detail\":\"Too Many Requests\",\"type\":\"about:blank\",\"status\":429} | Too Many Requests\n",
      " Request payload: {'query': '(((venezolano OR venezolana OR venezolanos OR venezolanas OR venezuela OR vzla OR vnzla) (migrante OR migrantes OR migracion)) OR veneco OR veneca OR venecos OR venecas)', 'max_results': 100, 'tweet.fields': 'id,text,author_id,created_at,entities,attachments,in_reply_to_user_id,referenced_tweets', 'user.fields': 'username,location', 'media.fields': 'media_key,type', 'expansions': 'referenced_tweets.id,referenced_tweets.id.author_id,entities.mentions.username,in_reply_to_user_id', 'start_time': '2022-01-01T00:00:00-05:00', 'end_time': '2022-01-31T23:59:00-05:00', 'next_token': 'b26v89c19zqg8o3fpe18abobk9a3x7mtp09kvcowmwtx9'}\n",
      "Rate limit hit... Will retry...\n",
      "Will retry in 16 seconds...\n"
     ]
    },
    {
     "name": "stdout",
     "output_type": "stream",
     "text": [
      "Exported tweets at: ../data/monthly_jsons_complete/2022-01.json\n"
     ]
    },
    {
     "name": "stderr",
     "output_type": "stream",
     "text": [
      " HTTP Error code: 429: {\"title\":\"Too Many Requests\",\"detail\":\"Too Many Requests\",\"type\":\"about:blank\",\"status\":429} | Too Many Requests\n",
      " Request payload: {'query': '(((venezolano OR venezolana OR venezolanos OR venezolanas OR venezuela OR vzla OR vnzla) (migrante OR migrantes OR migracion)) OR veneco OR veneca OR venecos OR venecas)', 'max_results': 100, 'tweet.fields': 'id,text,author_id,created_at,entities,attachments,in_reply_to_user_id,referenced_tweets', 'user.fields': 'username,location', 'media.fields': 'media_key,type', 'expansions': 'referenced_tweets.id,referenced_tweets.id.author_id,entities.mentions.username,in_reply_to_user_id', 'start_time': '2022-02-01T00:00:00-05:00', 'end_time': '2022-02-28T23:59:00-05:00', 'next_token': 'b26v89c19zqg8o3fpe76kkt23zzho3k44c5ra8126id19'}\n",
      "Rate limit hit... Will retry...\n",
      "Will retry in 4 seconds...\n",
      " HTTP Error code: 429: {\"title\":\"Too Many Requests\",\"detail\":\"Too Many Requests\",\"type\":\"about:blank\",\"status\":429} | Too Many Requests\n",
      " Request payload: {'query': '(((venezolano OR venezolana OR venezolanos OR venezolanas OR venezuela OR vzla OR vnzla) (migrante OR migrantes OR migracion)) OR veneco OR veneca OR venecos OR venecas)', 'max_results': 100, 'tweet.fields': 'id,text,author_id,created_at,entities,attachments,in_reply_to_user_id,referenced_tweets', 'user.fields': 'username,location', 'media.fields': 'media_key,type', 'expansions': 'referenced_tweets.id,referenced_tweets.id.author_id,entities.mentions.username,in_reply_to_user_id', 'start_time': '2022-02-01T00:00:00-05:00', 'end_time': '2022-02-28T23:59:00-05:00', 'next_token': 'b26v89c19zqg8o3fpe76kkt23zzho3k44c5ra8126id19'}\n",
      "Rate limit hit... Will retry...\n",
      "Will retry in 16 seconds...\n",
      " HTTP Error code: 429: {\"title\":\"Too Many Requests\",\"detail\":\"Too Many Requests\",\"type\":\"about:blank\",\"status\":429} | Too Many Requests\n",
      " Request payload: {'query': '(((venezolano OR venezolana OR venezolanos OR venezolanas OR venezuela OR vzla OR vnzla) (migrante OR migrantes OR migracion)) OR veneco OR veneca OR venecos OR venecas)', 'max_results': 100, 'tweet.fields': 'id,text,author_id,created_at,entities,attachments,in_reply_to_user_id,referenced_tweets', 'user.fields': 'username,location', 'media.fields': 'media_key,type', 'expansions': 'referenced_tweets.id,referenced_tweets.id.author_id,entities.mentions.username,in_reply_to_user_id', 'start_time': '2022-02-01T00:00:00-05:00', 'end_time': '2022-02-28T23:59:00-05:00', 'next_token': 'b26v89c19zqg8o3fpe75qofkady2zg3n6mxn2yse0b88t'}\n",
      "Rate limit hit... Will retry...\n",
      "Will retry in 4 seconds...\n",
      " HTTP Error code: 429: {\"title\":\"Too Many Requests\",\"detail\":\"Too Many Requests\",\"type\":\"about:blank\",\"status\":429} | Too Many Requests\n",
      " Request payload: {'query': '(((venezolano OR venezolana OR venezolanos OR venezolanas OR venezuela OR vzla OR vnzla) (migrante OR migrantes OR migracion)) OR veneco OR veneca OR venecos OR venecas)', 'max_results': 100, 'tweet.fields': 'id,text,author_id,created_at,entities,attachments,in_reply_to_user_id,referenced_tweets', 'user.fields': 'username,location', 'media.fields': 'media_key,type', 'expansions': 'referenced_tweets.id,referenced_tweets.id.author_id,entities.mentions.username,in_reply_to_user_id', 'start_time': '2022-02-01T00:00:00-05:00', 'end_time': '2022-02-28T23:59:00-05:00', 'next_token': 'b26v89c19zqg8o3fpe75qofkady2zg3n6mxn2yse0b88t'}\n",
      "Rate limit hit... Will retry...\n",
      "Will retry in 16 seconds...\n",
      " HTTP Error code: 429: {\"title\":\"Too Many Requests\",\"detail\":\"Too Many Requests\",\"type\":\"about:blank\",\"status\":429} | Too Many Requests\n",
      " Request payload: {'query': '(((venezolano OR venezolana OR venezolanos OR venezolanas OR venezuela OR vzla OR vnzla) (migrante OR migrantes OR migracion)) OR veneco OR veneca OR venecos OR venecas)', 'max_results': 100, 'tweet.fields': 'id,text,author_id,created_at,entities,attachments,in_reply_to_user_id,referenced_tweets', 'user.fields': 'username,location', 'media.fields': 'media_key,type', 'expansions': 'referenced_tweets.id,referenced_tweets.id.author_id,entities.mentions.username,in_reply_to_user_id', 'start_time': '2022-02-01T00:00:00-05:00', 'end_time': '2022-02-28T23:59:00-05:00', 'next_token': 'b26v89c19zqg8o3fpe48hnysg9zf5kg5nrihgvsivrn99'}\n",
      "Rate limit hit... Will retry...\n",
      "Will retry in 4 seconds...\n"
     ]
    },
    {
     "name": "stdout",
     "output_type": "stream",
     "text": [
      "Exported tweets at: ../data/monthly_jsons_complete/2022-02.json\n"
     ]
    },
    {
     "name": "stderr",
     "output_type": "stream",
     "text": [
      " HTTP Error code: 503: {\"title\":\"Service Unavailable\",\"detail\":\"Service Unavailable\",\"type\":\"about:blank\",\"status\":503} | Service Unavailable\n",
      " Request payload: {'query': '(((venezolano OR venezolana OR venezolanos OR venezolanas OR venezuela OR vzla OR vnzla) (migrante OR migrantes OR migracion)) OR veneco OR veneca OR venecos OR venecas)', 'max_results': 100, 'tweet.fields': 'id,text,author_id,created_at,entities,attachments,in_reply_to_user_id,referenced_tweets', 'user.fields': 'username,location', 'media.fields': 'media_key,type', 'expansions': 'referenced_tweets.id,referenced_tweets.id.author_id,entities.mentions.username,in_reply_to_user_id', 'start_time': '2022-03-01T00:00:00-05:00', 'end_time': '2022-03-31T23:59:00-05:00', 'next_token': 'b26v89c19zqg8o3fpyqnryuj4gcoru6qn4wyf8gqu6lj1'}\n",
      "Server-side error... Will retry...\n",
      "Will retry in 30 seconds...\n"
     ]
    },
    {
     "name": "stdout",
     "output_type": "stream",
     "text": [
      "Exported tweets at: ../data/monthly_jsons_complete/2022-03.json\n",
      "Exported tweets at: ../data/monthly_jsons_complete/2022-04.json\n",
      "Exported tweets at: ../data/monthly_jsons_complete/2022-05.json\n",
      "Exported tweets at: ../data/monthly_jsons_complete/2022-06.json\n"
     ]
    }
   ],
   "source": [
    "for range in gen_date_ranges(dt.date(2018,2,1), dt.date(2022,6,30)):  #dt.date(2022,6,30)):\n",
    "    date_str = range[0][0:-3] #range is generated in the format yyyy-mm-dd, date_str has the yyyy-mm format\n",
    "    request_parameters['start_time'] = range[0]+'T00:00:00-05:00'\n",
    "    request_parameters['end_time'] = range[1]+'T23:59:00-05:00'\n",
    "    \n",
    "    #obtaining tweets\n",
    "    tweets = collect_results(request_parameters,\n",
    "                        max_tweets=n_tweets, #Número real de tweets a extraer\n",
    "                        result_stream_args=search_args)\n",
    "    #json exporting\n",
    "    json_path = '../data/monthly_jsons_complete/'+date_str+'.json'\n",
    "    with open(json_path, 'w') as f:\n",
    "        json.dump(tweets, f) \n",
    "    \n",
    "    print(f\"Exported tweets at: {json_path}\")"
   ]
  }
 ],
 "metadata": {
  "kernelspec": {
   "display_name": "Python 3.9.13 64-bit (microsoft store)",
   "language": "python",
   "name": "python3"
  },
  "language_info": {
   "codemirror_mode": {
    "name": "ipython",
    "version": 3
   },
   "file_extension": ".py",
   "mimetype": "text/x-python",
   "name": "python",
   "nbconvert_exporter": "python",
   "pygments_lexer": "ipython3",
   "version": "3.9.13"
  },
  "vscode": {
   "interpreter": {
    "hash": "ff4c72cb86a1db53a01b4668f2d4d3b8bfc875dfc5277ab14e6ce4b5493eba8b"
   }
  }
 },
 "nbformat": 4,
 "nbformat_minor": 5
}
