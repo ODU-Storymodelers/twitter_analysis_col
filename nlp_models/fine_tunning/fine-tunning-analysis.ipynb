{
 "cells": [
  {
   "cell_type": "code",
   "execution_count": 1,
   "metadata": {},
   "outputs": [],
   "source": [
    "import pandas as pd"
   ]
  },
  {
   "cell_type": "markdown",
   "metadata": {},
   "source": [
    "## 1. All the categories"
   ]
  },
  {
   "cell_type": "code",
   "execution_count": 36,
   "metadata": {},
   "outputs": [],
   "source": [
    "y_prev_predicted = pd.read_csv('./../data/colombian_valid_tweets_negativity_predictions.csv')"
   ]
  },
  {
   "cell_type": "code",
   "execution_count": 37,
   "metadata": {},
   "outputs": [],
   "source": [
    "y_prev_predicted = y_prev_predicted[y_prev_predicted['tone_str']!='ERROR']"
   ]
  },
  {
   "cell_type": "code",
   "execution_count": 38,
   "metadata": {},
   "outputs": [],
   "source": [
    "y_prev_predicted_negs = []\n",
    "for index, row in y_prev_predicted.iterrows():\n",
    "    if row['tone_str'] == 'negative':\n",
    "        y_prev_predicted_negs.append(str(row['negativity']))\n",
    "    else:\n",
    "        y_prev_predicted_negs.append(row['tone_str'])\n",
    "y_prev_predicted['tone'] = y_prev_predicted_negs "
   ]
  },
  {
   "cell_type": "code",
   "execution_count": 46,
   "metadata": {},
   "outputs": [],
   "source": [
    "y_prev_predicted['month'] = y_prev_predicted['date'].apply(lambda x: x[0:-3])\n",
    "y_prev_predicted['year'] = y_prev_predicted['month'].apply(lambda x: x[0:4])\n",
    "def get_quarter(x):\n",
    "    quarter = str((int(x[-2:])-1)//3 + 1)\n",
    "    year = x[:-3]\n",
    "    return year+'-'+quarter\n",
    "    \n",
    "y_prev_predicted['quarter'] = y_prev_predicted['month'].apply(get_quarter)"
   ]
  },
  {
   "cell_type": "code",
   "execution_count": 40,
   "metadata": {},
   "outputs": [],
   "source": [
    "def create_df(df, date_colname = 'month', cats_colname = 'tone', ordered_cats=None):\n",
    "    df = pd.DataFrame(df.groupby(by = date_colname)[cats_colname].value_counts())\n",
    "    df.columns = ['count']\n",
    "    df.reset_index(drop=False, inplace=True)\n",
    "    df = df.pivot(index=date_colname, columns=cats_colname).reset_index(drop=False)\n",
    "    df.columns = df.columns.droplevel(level=0)\n",
    "    df.rename(columns={'': date_colname}, inplace=True)\n",
    "    if ordered_cats is not None:\n",
    "        df = df[ordered_cats]\n",
    "    return df"
   ]
  },
  {
   "cell_type": "code",
   "execution_count": 47,
   "metadata": {},
   "outputs": [],
   "source": [
    "ordered_tones = ['-3','-2','-1','neutral','positive']\n",
    "tones_df = create_df(y_prev_predicted, date_colname = 'month', cats_colname = 'tone', ordered_cats = ['month']+ordered_tones)\n",
    "tones_df_year = create_df(y_prev_predicted, date_colname = 'year', cats_colname = 'tone', ordered_cats = ['year']+ordered_tones)\n",
    "tones_df_quarter = create_df(y_prev_predicted, date_colname = 'quarter', cats_colname = 'tone', ordered_cats = ['quarter']+ordered_tones)"
   ]
  },
  {
   "cell_type": "code",
   "execution_count": 55,
   "metadata": {},
   "outputs": [],
   "source": [
    "with pd.ExcelWriter('./../data/results/tone_results.xlsx') as writer:\n",
    "    tones_df.to_excel(writer, sheet_name='by month', index=False)\n",
    "    tones_df_year.to_excel(writer, sheet_name='by year', index=False)\n",
    "    tones_df_quarter.to_excel(writer, sheet_name='by quarter', index=False)"
   ]
  },
  {
   "cell_type": "markdown",
   "metadata": {},
   "source": [
    "## 2. Only for Migrants"
   ]
  },
  {
   "cell_type": "code",
   "execution_count": 56,
   "metadata": {},
   "outputs": [],
   "source": [
    "y_prev_predicted = pd.read_csv('./../data/colombian_valid_tweets_negativity_predictions.csv')"
   ]
  },
  {
   "cell_type": "code",
   "execution_count": 57,
   "metadata": {},
   "outputs": [],
   "source": [
    "y_prev_predicted = y_prev_predicted[y_prev_predicted['tone_str']!='ERROR']\n",
    "y_prev_predicted = y_prev_predicted[y_prev_predicted['referred_to']=='migrants']"
   ]
  },
  {
   "cell_type": "code",
   "execution_count": 58,
   "metadata": {},
   "outputs": [],
   "source": [
    "y_prev_predicted_negs = []\n",
    "for index, row in y_prev_predicted.iterrows():\n",
    "    if row['tone_str'] == 'negative':\n",
    "        y_prev_predicted_negs.append(str(row['negativity']))\n",
    "    else:\n",
    "        y_prev_predicted_negs.append(row['tone_str'])\n",
    "y_prev_predicted['tone'] = y_prev_predicted_negs "
   ]
  },
  {
   "cell_type": "code",
   "execution_count": 59,
   "metadata": {},
   "outputs": [],
   "source": [
    "y_prev_predicted['month'] = y_prev_predicted['date'].apply(lambda x: x[0:-3])\n",
    "y_prev_predicted['year'] = y_prev_predicted['month'].apply(lambda x: x[0:4])\n",
    "def get_quarter(x):\n",
    "    quarter = str((int(x[-2:])-1)//3 + 1)\n",
    "    year = x[:-3]\n",
    "    return year+'-'+quarter\n",
    "    \n",
    "y_prev_predicted['quarter'] = y_prev_predicted['month'].apply(get_quarter)"
   ]
  },
  {
   "cell_type": "code",
   "execution_count": 60,
   "metadata": {},
   "outputs": [],
   "source": [
    "def create_df(df, date_colname = 'month', cats_colname = 'tone', ordered_cats=None):\n",
    "    df = pd.DataFrame(df.groupby(by = date_colname)[cats_colname].value_counts())\n",
    "    df.columns = ['count']\n",
    "    df.reset_index(drop=False, inplace=True)\n",
    "    df = df.pivot(index=date_colname, columns=cats_colname).reset_index(drop=False)\n",
    "    df.columns = df.columns.droplevel(level=0)\n",
    "    df.rename(columns={'': date_colname}, inplace=True)\n",
    "    if ordered_cats is not None:\n",
    "        df = df[ordered_cats]\n",
    "    return df"
   ]
  },
  {
   "cell_type": "code",
   "execution_count": 61,
   "metadata": {},
   "outputs": [],
   "source": [
    "ordered_tones = ['-3','-2','-1','neutral','positive']\n",
    "tones_df = create_df(y_prev_predicted, date_colname = 'month', cats_colname = 'tone', ordered_cats = ['month']+ordered_tones)\n",
    "tones_df_year = create_df(y_prev_predicted, date_colname = 'year', cats_colname = 'tone', ordered_cats = ['year']+ordered_tones)\n",
    "tones_df_quarter = create_df(y_prev_predicted, date_colname = 'quarter', cats_colname = 'tone', ordered_cats = ['quarter']+ordered_tones)"
   ]
  },
  {
   "cell_type": "code",
   "execution_count": 63,
   "metadata": {},
   "outputs": [],
   "source": [
    "with pd.ExcelWriter('./../data/results/tone_results_migrants.xlsx') as writer:\n",
    "    tones_df.to_excel(writer, sheet_name='by month', index=False)\n",
    "    tones_df_year.to_excel(writer, sheet_name='by year', index=False)\n",
    "    tones_df_quarter.to_excel(writer, sheet_name='by quarter', index=False)"
   ]
  },
  {
   "cell_type": "markdown",
   "metadata": {},
   "source": [
    "## 3. Only for Government"
   ]
  },
  {
   "cell_type": "code",
   "execution_count": 64,
   "metadata": {},
   "outputs": [],
   "source": [
    "y_prev_predicted = pd.read_csv('./../data/colombian_valid_tweets_negativity_predictions.csv')"
   ]
  },
  {
   "cell_type": "code",
   "execution_count": 65,
   "metadata": {},
   "outputs": [],
   "source": [
    "y_prev_predicted = y_prev_predicted[y_prev_predicted['tone_str']!='ERROR']\n",
    "y_prev_predicted = y_prev_predicted[y_prev_predicted['referred_to']=='government']"
   ]
  },
  {
   "cell_type": "code",
   "execution_count": 66,
   "metadata": {},
   "outputs": [],
   "source": [
    "y_prev_predicted_negs = []\n",
    "for index, row in y_prev_predicted.iterrows():\n",
    "    if row['tone_str'] == 'negative':\n",
    "        y_prev_predicted_negs.append(str(row['negativity']))\n",
    "    else:\n",
    "        y_prev_predicted_negs.append(row['tone_str'])\n",
    "y_prev_predicted['tone'] = y_prev_predicted_negs "
   ]
  },
  {
   "cell_type": "code",
   "execution_count": 67,
   "metadata": {},
   "outputs": [],
   "source": [
    "y_prev_predicted['month'] = y_prev_predicted['date'].apply(lambda x: x[0:-3])\n",
    "y_prev_predicted['year'] = y_prev_predicted['month'].apply(lambda x: x[0:4])\n",
    "def get_quarter(x):\n",
    "    quarter = str((int(x[-2:])-1)//3 + 1)\n",
    "    year = x[:-3]\n",
    "    return year+'-'+quarter\n",
    "    \n",
    "y_prev_predicted['quarter'] = y_prev_predicted['month'].apply(get_quarter)"
   ]
  },
  {
   "cell_type": "code",
   "execution_count": 68,
   "metadata": {},
   "outputs": [],
   "source": [
    "def create_df(df, date_colname = 'month', cats_colname = 'tone', ordered_cats=None):\n",
    "    df = pd.DataFrame(df.groupby(by = date_colname)[cats_colname].value_counts())\n",
    "    df.columns = ['count']\n",
    "    df.reset_index(drop=False, inplace=True)\n",
    "    df = df.pivot(index=date_colname, columns=cats_colname).reset_index(drop=False)\n",
    "    df.columns = df.columns.droplevel(level=0)\n",
    "    df.rename(columns={'': date_colname}, inplace=True)\n",
    "    if ordered_cats is not None:\n",
    "        df = df[ordered_cats]\n",
    "    return df"
   ]
  },
  {
   "cell_type": "code",
   "execution_count": 69,
   "metadata": {},
   "outputs": [],
   "source": [
    "ordered_tones = ['-3','-2','-1','neutral','positive']\n",
    "tones_df = create_df(y_prev_predicted, date_colname = 'month', cats_colname = 'tone', ordered_cats = ['month']+ordered_tones)\n",
    "tones_df_year = create_df(y_prev_predicted, date_colname = 'year', cats_colname = 'tone', ordered_cats = ['year']+ordered_tones)\n",
    "tones_df_quarter = create_df(y_prev_predicted, date_colname = 'quarter', cats_colname = 'tone', ordered_cats = ['quarter']+ordered_tones)"
   ]
  },
  {
   "cell_type": "code",
   "execution_count": 70,
   "metadata": {},
   "outputs": [],
   "source": [
    "with pd.ExcelWriter('./../data/results/tone_results_government.xlsx') as writer:\n",
    "    tones_df.to_excel(writer, sheet_name='by month', index=False)\n",
    "    tones_df_year.to_excel(writer, sheet_name='by year', index=False)\n",
    "    tones_df_quarter.to_excel(writer, sheet_name='by quarter', index=False)"
   ]
  },
  {
   "cell_type": "markdown",
   "metadata": {},
   "source": [
    "## 4. Only for Geopolitics"
   ]
  },
  {
   "cell_type": "code",
   "execution_count": 72,
   "metadata": {},
   "outputs": [],
   "source": [
    "y_prev_predicted = pd.read_csv('./../data/colombian_valid_tweets_negativity_predictions.csv')"
   ]
  },
  {
   "cell_type": "code",
   "execution_count": null,
   "metadata": {},
   "outputs": [],
   "source": [
    "y_prev_predicted = y_prev_predicted[y_prev_predicted['tone_str']!='ERROR']\n",
    "y_prev_predicted = y_prev_predicted[y_prev_predicted['referred_to']=='geopolitics']"
   ]
  },
  {
   "cell_type": "code",
   "execution_count": null,
   "metadata": {},
   "outputs": [],
   "source": [
    "y_prev_predicted_negs = []\n",
    "for index, row in y_prev_predicted.iterrows():\n",
    "    if row['tone_str'] == 'negative':\n",
    "        y_prev_predicted_negs.append(str(row['negativity']))\n",
    "    else:\n",
    "        y_prev_predicted_negs.append(row['tone_str'])\n",
    "y_prev_predicted['tone'] = y_prev_predicted_negs "
   ]
  },
  {
   "cell_type": "code",
   "execution_count": null,
   "metadata": {},
   "outputs": [],
   "source": [
    "y_prev_predicted['month'] = y_prev_predicted['date'].apply(lambda x: x[0:-3])\n",
    "y_prev_predicted['year'] = y_prev_predicted['month'].apply(lambda x: x[0:4])\n",
    "def get_quarter(x):\n",
    "    quarter = str((int(x[-2:])-1)//3 + 1)\n",
    "    year = x[:-3]\n",
    "    return year+'-'+quarter\n",
    "    \n",
    "y_prev_predicted['quarter'] = y_prev_predicted['month'].apply(get_quarter)"
   ]
  },
  {
   "cell_type": "code",
   "execution_count": null,
   "metadata": {},
   "outputs": [],
   "source": [
    "def create_df(df, date_colname = 'month', cats_colname = 'tone', ordered_cats=None):\n",
    "    df = pd.DataFrame(df.groupby(by = date_colname)[cats_colname].value_counts())\n",
    "    df.columns = ['count']\n",
    "    df.reset_index(drop=False, inplace=True)\n",
    "    df = df.pivot(index=date_colname, columns=cats_colname).reset_index(drop=False)\n",
    "    df.columns = df.columns.droplevel(level=0)\n",
    "    df.rename(columns={'': date_colname}, inplace=True)\n",
    "    if ordered_cats is not None:\n",
    "        df = df[ordered_cats]\n",
    "    return df"
   ]
  },
  {
   "cell_type": "code",
   "execution_count": null,
   "metadata": {},
   "outputs": [],
   "source": [
    "ordered_tones = ['-3','-2','-1','neutral','positive']\n",
    "tones_df = create_df(y_prev_predicted, date_colname = 'month', cats_colname = 'tone', ordered_cats = ['month']+ordered_tones)\n",
    "tones_df_year = create_df(y_prev_predicted, date_colname = 'year', cats_colname = 'tone', ordered_cats = ['year']+ordered_tones)\n",
    "tones_df_quarter = create_df(y_prev_predicted, date_colname = 'quarter', cats_colname = 'tone', ordered_cats = ['quarter']+ordered_tones)"
   ]
  },
  {
   "cell_type": "code",
   "execution_count": null,
   "metadata": {},
   "outputs": [],
   "source": [
    "with pd.ExcelWriter('./../data/results/tone_results_geopolitics.xlsx') as writer:\n",
    "    tones_df.to_excel(writer, sheet_name='by month', index=False)\n",
    "    tones_df_year.to_excel(writer, sheet_name='by year', index=False)\n",
    "    tones_df_quarter.to_excel(writer, sheet_name='by quarter', index=False)"
   ]
  },
  {
   "cell_type": "markdown",
   "metadata": {},
   "source": [
    "## 5. RT proportions"
   ]
  },
  {
   "cell_type": "code",
   "execution_count": 20,
   "metadata": {},
   "outputs": [],
   "source": [
    "y_prev_predicted = pd.read_csv('./../data/colombian_valid_tweets_negativity_predictions.csv')"
   ]
  },
  {
   "cell_type": "code",
   "execution_count": 21,
   "metadata": {},
   "outputs": [],
   "source": [
    "y_prev_predicted = y_prev_predicted[y_prev_predicted['tone_str']!='ERROR']\n",
    "y_prev_predicted['month'] = y_prev_predicted['date'].apply(lambda x: x[0:-3])\n",
    "y_prev_predicted['year'] = y_prev_predicted['month'].apply(lambda x: x[0:4])\n",
    "def get_quarter(x):\n",
    "    quarter = str((int(x[-2:])-1)//3 + 1)\n",
    "    year = x[:-3]\n",
    "    return year+'-'+quarter\n",
    "    \n",
    "y_prev_predicted['quarter'] = y_prev_predicted['month'].apply(get_quarter)"
   ]
  },
  {
   "cell_type": "code",
   "execution_count": 22,
   "metadata": {},
   "outputs": [],
   "source": [
    "monthly_RT_counts = []\n",
    "for month in y_prev_predicted['month'].unique():\n",
    "    len_month = len(y_prev_predicted[y_prev_predicted['month']==month])\n",
    "    len_month_no_duplicated = len(y_prev_predicted[y_prev_predicted['month']==month].drop_duplicates(subset='text'))\n",
    "    monthly_RT_counts.append({'month': month,'n_unique': len_month_no_duplicated,\n",
    "    'n_RT': len_month-len_month_no_duplicated, 'prop_RT': 1-len_month_no_duplicated/len_month})"
   ]
  },
  {
   "cell_type": "code",
   "execution_count": 23,
   "metadata": {},
   "outputs": [],
   "source": [
    "yearly_RT_counts = []\n",
    "for year in y_prev_predicted['year'].unique():\n",
    "    len_year = len(y_prev_predicted[y_prev_predicted['year']==year])\n",
    "    len_year_no_duplicated = len(y_prev_predicted[y_prev_predicted['year']==year].drop_duplicates(subset='text'))\n",
    "    yearly_RT_counts.append({'year': year,'n_unique': len_year_no_duplicated,\n",
    "    'n_RT': len_year-len_year_no_duplicated, 'prop_RT': 1-len_year_no_duplicated/len_year})"
   ]
  },
  {
   "cell_type": "code",
   "execution_count": 24,
   "metadata": {},
   "outputs": [],
   "source": [
    "quarter_RT_counts = []\n",
    "for quarter in y_prev_predicted['quarter'].unique():\n",
    "    len_quarter = len(y_prev_predicted[y_prev_predicted['quarter']==quarter])\n",
    "    len_quarter_no_duplicated = len(y_prev_predicted[y_prev_predicted['quarter']==quarter].drop_duplicates(subset='text'))\n",
    "    quarter_RT_counts.append({'quarter': quarter,'n_unique': len_quarter_no_duplicated,\n",
    "    'n_RT': len_quarter-len_quarter_no_duplicated, 'prop_RT': 1-len_quarter_no_duplicated/len_quarter})"
   ]
  },
  {
   "cell_type": "code",
   "execution_count": 25,
   "metadata": {},
   "outputs": [],
   "source": [
    "monthly_RT_counts = pd.DataFrame.from_dict(monthly_RT_counts)\n",
    "yearly_RT_counts = pd.DataFrame.from_dict(yearly_RT_counts)\n",
    "quarter_RT_counts = pd.DataFrame.from_dict(quarter_RT_counts)"
   ]
  },
  {
   "cell_type": "code",
   "execution_count": 26,
   "metadata": {},
   "outputs": [],
   "source": [
    "with pd.ExcelWriter('./../data/results/RT_results.xlsx') as writer:\n",
    "    monthly_RT_counts.to_excel(writer, sheet_name='by month', index=False, )\n",
    "    yearly_RT_counts.to_excel(writer, sheet_name='by year', index=False)\n",
    "    quarter_RT_counts.to_excel(writer, sheet_name='by quarter', index=False)"
   ]
  },
  {
   "cell_type": "markdown",
   "metadata": {},
   "source": [
    "## 6. All the categories [no RT]"
   ]
  },
  {
   "cell_type": "code",
   "execution_count": 27,
   "metadata": {},
   "outputs": [],
   "source": [
    "y_prev_predicted = pd.read_csv('./../data/colombian_valid_tweets_negativity_predictions.csv')"
   ]
  },
  {
   "cell_type": "code",
   "execution_count": 28,
   "metadata": {},
   "outputs": [],
   "source": [
    "y_prev_predicted = y_prev_predicted[y_prev_predicted['tone_str']!='ERROR']\n",
    "y_prev_predicted.drop_duplicates(subset='text', inplace=True)"
   ]
  },
  {
   "cell_type": "code",
   "execution_count": 29,
   "metadata": {},
   "outputs": [],
   "source": [
    "y_prev_predicted_negs = []\n",
    "for index, row in y_prev_predicted.iterrows():\n",
    "    if row['tone_str'] == 'negative':\n",
    "        y_prev_predicted_negs.append(str(row['negativity']))\n",
    "    else:\n",
    "        y_prev_predicted_negs.append(row['tone_str'])\n",
    "y_prev_predicted['tone'] = y_prev_predicted_negs "
   ]
  },
  {
   "cell_type": "code",
   "execution_count": 30,
   "metadata": {},
   "outputs": [],
   "source": [
    "y_prev_predicted['month'] = y_prev_predicted['date'].apply(lambda x: x[0:-3])\n",
    "y_prev_predicted['year'] = y_prev_predicted['month'].apply(lambda x: x[0:4])\n",
    "def get_quarter(x):\n",
    "    quarter = str((int(x[-2:])-1)//3 + 1)\n",
    "    year = x[:-3]\n",
    "    return year+'-'+quarter\n",
    "    \n",
    "y_prev_predicted['quarter'] = y_prev_predicted['month'].apply(get_quarter)"
   ]
  },
  {
   "cell_type": "code",
   "execution_count": 31,
   "metadata": {},
   "outputs": [],
   "source": [
    "def create_df(df, date_colname = 'month', cats_colname = 'tone', ordered_cats=None):\n",
    "    df = pd.DataFrame(df.groupby(by = date_colname)[cats_colname].value_counts())\n",
    "    df.columns = ['count']\n",
    "    df.reset_index(drop=False, inplace=True)\n",
    "    df = df.pivot(index=date_colname, columns=cats_colname).reset_index(drop=False)\n",
    "    df.columns = df.columns.droplevel(level=0)\n",
    "    df.rename(columns={'': date_colname}, inplace=True)\n",
    "    if ordered_cats is not None:\n",
    "        df = df[ordered_cats]\n",
    "    return df"
   ]
  },
  {
   "cell_type": "code",
   "execution_count": 32,
   "metadata": {},
   "outputs": [],
   "source": [
    "ordered_tones = ['-3','-2','-1','neutral','positive']\n",
    "tones_df = create_df(y_prev_predicted, date_colname = 'month', cats_colname = 'tone', ordered_cats = ['month']+ordered_tones)\n",
    "tones_df_year = create_df(y_prev_predicted, date_colname = 'year', cats_colname = 'tone', ordered_cats = ['year']+ordered_tones)\n",
    "tones_df_quarter = create_df(y_prev_predicted, date_colname = 'quarter', cats_colname = 'tone', ordered_cats = ['quarter']+ordered_tones)"
   ]
  },
  {
   "cell_type": "code",
   "execution_count": 33,
   "metadata": {},
   "outputs": [],
   "source": [
    "with pd.ExcelWriter('./../data/results/tone_results_noRT.xlsx') as writer:\n",
    "    tones_df.to_excel(writer, sheet_name='by month', index=False)\n",
    "    tones_df_year.to_excel(writer, sheet_name='by year', index=False)\n",
    "    tones_df_quarter.to_excel(writer, sheet_name='by quarter', index=False)"
   ]
  },
  {
   "cell_type": "markdown",
   "metadata": {},
   "source": [
    "## 7. government [no RT]"
   ]
  },
  {
   "cell_type": "code",
   "execution_count": 34,
   "metadata": {},
   "outputs": [],
   "source": [
    "y_prev_predicted = pd.read_csv('./../data/colombian_valid_tweets_negativity_predictions.csv')"
   ]
  },
  {
   "cell_type": "code",
   "execution_count": 35,
   "metadata": {},
   "outputs": [],
   "source": [
    "y_prev_predicted = y_prev_predicted[y_prev_predicted['tone_str']!='ERROR']\n",
    "y_prev_predicted = y_prev_predicted[y_prev_predicted['referred_to']=='geopolitics']\n",
    "y_prev_predicted.drop_duplicates(subset='text', inplace=True)"
   ]
  },
  {
   "cell_type": "code",
   "execution_count": 36,
   "metadata": {},
   "outputs": [],
   "source": [
    "y_prev_predicted_negs = []\n",
    "for index, row in y_prev_predicted.iterrows():\n",
    "    if row['tone_str'] == 'negative':\n",
    "        y_prev_predicted_negs.append(str(row['negativity']))\n",
    "    else:\n",
    "        y_prev_predicted_negs.append(row['tone_str'])\n",
    "y_prev_predicted['tone'] = y_prev_predicted_negs "
   ]
  },
  {
   "cell_type": "code",
   "execution_count": 37,
   "metadata": {},
   "outputs": [],
   "source": [
    "y_prev_predicted['month'] = y_prev_predicted['date'].apply(lambda x: x[0:-3])\n",
    "y_prev_predicted['year'] = y_prev_predicted['month'].apply(lambda x: x[0:4])\n",
    "def get_quarter(x):\n",
    "    quarter = str((int(x[-2:])-1)//3 + 1)\n",
    "    year = x[:-3]\n",
    "    return year+'-'+quarter\n",
    "    \n",
    "y_prev_predicted['quarter'] = y_prev_predicted['month'].apply(get_quarter)"
   ]
  },
  {
   "cell_type": "code",
   "execution_count": 38,
   "metadata": {},
   "outputs": [],
   "source": [
    "def create_df(df, date_colname = 'month', cats_colname = 'tone', ordered_cats=None):\n",
    "    df = pd.DataFrame(df.groupby(by = date_colname)[cats_colname].value_counts())\n",
    "    df.columns = ['count']\n",
    "    df.reset_index(drop=False, inplace=True)\n",
    "    df = df.pivot(index=date_colname, columns=cats_colname).reset_index(drop=False)\n",
    "    df.columns = df.columns.droplevel(level=0)\n",
    "    df.rename(columns={'': date_colname}, inplace=True)\n",
    "    if ordered_cats is not None:\n",
    "        df = df[ordered_cats]\n",
    "    return df"
   ]
  },
  {
   "cell_type": "code",
   "execution_count": 39,
   "metadata": {},
   "outputs": [],
   "source": [
    "ordered_tones = ['-3','-2','-1','neutral','positive']\n",
    "tones_df = create_df(y_prev_predicted, date_colname = 'month', cats_colname = 'tone', ordered_cats = ['month']+ordered_tones)\n",
    "tones_df_year = create_df(y_prev_predicted, date_colname = 'year', cats_colname = 'tone', ordered_cats = ['year']+ordered_tones)\n",
    "tones_df_quarter = create_df(y_prev_predicted, date_colname = 'quarter', cats_colname = 'tone', ordered_cats = ['quarter']+ordered_tones)"
   ]
  },
  {
   "cell_type": "code",
   "execution_count": 40,
   "metadata": {},
   "outputs": [],
   "source": [
    "with pd.ExcelWriter('./../data/results/tone_results_government_noRT.xlsx') as writer:\n",
    "    tones_df.to_excel(writer, sheet_name='by month', index=False)\n",
    "    tones_df_year.to_excel(writer, sheet_name='by year', index=False)\n",
    "    tones_df_quarter.to_excel(writer, sheet_name='by quarter', index=False)"
   ]
  },
  {
   "cell_type": "markdown",
   "metadata": {},
   "source": [
    "## 8. 4K tweets no RT"
   ]
  },
  {
   "cell_type": "code",
   "execution_count": 7,
   "metadata": {},
   "outputs": [
    {
     "name": "stdout",
     "output_type": "stream",
     "text": [
      "4554\n"
     ]
    }
   ],
   "source": [
    "y = pd.read_csv('./../data/4k_tweets/cleaned_tweets_colombia.csv')\n",
    "print(len(y))"
   ]
  },
  {
   "cell_type": "code",
   "execution_count": 9,
   "metadata": {},
   "outputs": [],
   "source": [
    "y.drop_duplicates(subset='text_es_clean', inplace=True)"
   ]
  },
  {
   "cell_type": "code",
   "execution_count": 10,
   "metadata": {},
   "outputs": [
    {
     "name": "stdout",
     "output_type": "stream",
     "text": [
      "4554\n"
     ]
    }
   ],
   "source": [
    "print(len(y))"
   ]
  },
  {
   "cell_type": "markdown",
   "metadata": {},
   "source": [
    "## 9. RT proportions by negative positive and neutral"
   ]
  },
  {
   "cell_type": "code",
   "execution_count": 31,
   "metadata": {},
   "outputs": [],
   "source": [
    "y_prev_predicted = pd.read_csv('./../data/colombian_valid_tweets_negativity_predictions.csv')"
   ]
  },
  {
   "cell_type": "code",
   "execution_count": 32,
   "metadata": {},
   "outputs": [],
   "source": [
    "y_prev_predicted = y_prev_predicted[y_prev_predicted['tone_str']!='ERROR']\n",
    "y_prev_predicted['month'] = y_prev_predicted['date'].apply(lambda x: x[0:-3])\n",
    "y_prev_predicted['year'] = y_prev_predicted['month'].apply(lambda x: x[0:4])\n",
    "def get_quarter(x):\n",
    "    quarter = str((int(x[-2:])-1)//3 + 1)\n",
    "    year = x[:-3]\n",
    "    return year+'-'+quarter\n",
    "    \n",
    "y_prev_predicted['quarter'] = y_prev_predicted['month'].apply(get_quarter)"
   ]
  },
  {
   "cell_type": "code",
   "execution_count": 33,
   "metadata": {},
   "outputs": [],
   "source": [
    "monthly_RT_counts = []\n",
    "for month in y_prev_predicted['month'].unique():\n",
    "    len_month_no_duplicated = len(y_prev_predicted[y_prev_predicted['month']==month].drop_duplicates(subset='text'))\n",
    "    duplicated = y_prev_predicted[y_prev_predicted.duplicated(subset='text')]\n",
    "    duplicated = duplicated[duplicated['month']==month]\n",
    "    len_dup_pos = len(duplicated[duplicated['tone_str']=='positive'])\n",
    "    len_dup_neg = len(duplicated[duplicated['tone_str']=='negative'])\n",
    "    len_dup_neu = len(duplicated[duplicated['tone_str']=='neutral'])\n",
    "    monthly_RT_counts.append({'total':len(duplicated)+len_month_no_duplicated, 'month': month,'n_unique': len_month_no_duplicated,\n",
    "    'n_RT_neg': len_dup_neg, 'n_RT_neu': len_dup_neu, 'n_RT_pos': len_dup_pos})"
   ]
  },
  {
   "cell_type": "code",
   "execution_count": 34,
   "metadata": {},
   "outputs": [],
   "source": [
    "yearly_RT_counts = []\n",
    "for year in y_prev_predicted['year'].unique():\n",
    "    len_year_no_duplicated = len(y_prev_predicted[y_prev_predicted['year']==year].drop_duplicates(subset='text'))\n",
    "    duplicated = y_prev_predicted[y_prev_predicted.duplicated(subset='text')]\n",
    "    duplicated = duplicated[duplicated['year']==year]\n",
    "    len_dup_pos = len(duplicated[duplicated['tone_str']=='positive'])\n",
    "    len_dup_neg = len(duplicated[duplicated['tone_str']=='negative'])\n",
    "    len_dup_neu = len(duplicated[duplicated['tone_str']=='neutral'])\n",
    "    yearly_RT_counts.append({'total':len(duplicated)+len_year_no_duplicated,'year': year,'n_unique': len_year_no_duplicated,\n",
    "    'n_RT_neg': len_dup_neg, 'n_RT_neu': len_dup_neu, 'n_RT_pos': len_dup_pos})"
   ]
  },
  {
   "cell_type": "code",
   "execution_count": 35,
   "metadata": {},
   "outputs": [],
   "source": [
    "quarter_RT_counts = []\n",
    "for quarter in y_prev_predicted['quarter'].unique():\n",
    "    len_quarter_no_duplicated = len(y_prev_predicted[y_prev_predicted['quarter']==quarter].drop_duplicates(subset='text'))\n",
    "    duplicated = y_prev_predicted[y_prev_predicted.duplicated(subset='text')]\n",
    "    duplicated = duplicated[duplicated['quarter']==quarter]\n",
    "    len_dup_pos = len(duplicated[duplicated['tone_str']=='positive'])\n",
    "    len_dup_neg = len(duplicated[duplicated['tone_str']=='negative'])\n",
    "    len_dup_neu = len(duplicated[duplicated['tone_str']=='neutral'])\n",
    "    quarter_RT_counts.append({'total':len(duplicated)+len_quarter_no_duplicated, 'quarter': quarter,'n_unique': len_quarter_no_duplicated,\n",
    "    'n_RT_neg': len_dup_neg, 'n_RT_neu': len_dup_neu, 'n_RT_pos': len_dup_pos})"
   ]
  },
  {
   "cell_type": "code",
   "execution_count": 36,
   "metadata": {},
   "outputs": [],
   "source": [
    "monthly_RT_counts = pd.DataFrame.from_dict(monthly_RT_counts)\n",
    "yearly_RT_counts = pd.DataFrame.from_dict(yearly_RT_counts)\n",
    "quarter_RT_counts = pd.DataFrame.from_dict(quarter_RT_counts)"
   ]
  },
  {
   "cell_type": "code",
   "execution_count": 37,
   "metadata": {},
   "outputs": [],
   "source": [
    "with pd.ExcelWriter('./../data/results/RT_results_splitted.xlsx') as writer:\n",
    "    monthly_RT_counts.to_excel(writer, sheet_name='by month', index=False, )\n",
    "    yearly_RT_counts.to_excel(writer, sheet_name='by year', index=False)\n",
    "    quarter_RT_counts.to_excel(writer, sheet_name='by quarter', index=False)"
   ]
  }
 ],
 "metadata": {
  "kernelspec": {
   "display_name": "Anaconda 3",
   "language": "python",
   "name": "anac"
  },
  "language_info": {
   "codemirror_mode": {
    "name": "ipython",
    "version": 3
   },
   "file_extension": ".py",
   "mimetype": "text/x-python",
   "name": "python",
   "nbconvert_exporter": "python",
   "pygments_lexer": "ipython3",
   "version": "3.10.0"
  },
  "orig_nbformat": 4,
  "vscode": {
   "interpreter": {
    "hash": "25a19fbe0a9132dfb9279d48d161753c6352f8f9478c2e74383d340069b907c3"
   }
  }
 },
 "nbformat": 4,
 "nbformat_minor": 2
}
