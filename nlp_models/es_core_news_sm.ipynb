{
 "cells": [
  {
   "cell_type": "code",
   "execution_count": 21,
   "id": "6278841d",
   "metadata": {},
   "outputs": [],
   "source": [
    "import spacy\n",
    "import pandas as pd\n",
    "import functions\n",
    "\n",
    "#using config.cfg for the model with textcat pipeline\n",
    "#!python -m spacy init fill-config spacy_files/config_sm.cfg spacy_files/config_sm.cfg\n",
    "\n",
    "#!python -m spacy download en_core_web_sm\n",
    "#!pip install spacytextblob\n",
    "#!python -m textblob.download_corpora\n",
    "#pip install google_trans_new \n",
    "#from spacytextblob.spacytextblob import SpacyTextBlob # https://textblob.readthedocs.io/en/dev/api_reference.html#textblob.blob.TextBlob\n",
    "from google_trans_new import google_translator\n",
    "import time\n",
    "from sklearn.metrics import classification_report"
   ]
  },
  {
   "cell_type": "code",
   "execution_count": 10,
   "id": "9d43253b",
   "metadata": {},
   "outputs": [
    {
     "data": {
      "text/plain": [
       "True"
      ]
     },
     "execution_count": 10,
     "metadata": {},
     "output_type": "execute_result"
    }
   ],
   "source": [
    "import torch\n",
    "torch.cuda.is_available()"
   ]
  },
  {
   "cell_type": "markdown",
   "id": "80cb9515",
   "metadata": {},
   "source": [
    "# Model 0 training - geolocation"
   ]
  },
  {
   "cell_type": "code",
   "execution_count": 26,
   "id": "fb997f0f",
   "metadata": {},
   "outputs": [
    {
     "name": "stderr",
     "output_type": "stream",
     "text": [
      "[2022-08-08 14:58:35,143] [INFO] Set up nlp object from config\n",
      "[2022-08-08 14:58:35,151] [INFO] Pipeline: ['textcat']\n",
      "[2022-08-08 14:58:35,153] [INFO] Created vocabulary\n",
      "[2022-08-08 14:58:35,154] [INFO] Finished initializing nlp object\n",
      "[2022-08-08 15:01:45,625] [INFO] Initialized pipeline components: ['textcat']\n"
     ]
    },
    {
     "name": "stdout",
     "output_type": "stream",
     "text": [
      "✔ Created output directory: model0_geolocation\\es_core_news_sm\n",
      "ℹ Saving to output directory: model0_geolocation\\es_core_news_sm\n",
      "ℹ Using CPU\n",
      "\u001b[1m\n",
      "=========================== Initializing pipeline ===========================\u001b[0m\n",
      "✔ Initialized pipeline\n",
      "\u001b[1m\n",
      "============================= Training pipeline =============================\u001b[0m\n",
      "ℹ Pipeline: ['textcat']\n",
      "ℹ Initial learn rate: 0.001\n",
      "E    #       LOSS TEXTCAT  CATS_SCORE  SCORE \n",
      "---  ------  ------------  ----------  ------\n",
      "  0       0          0.12       33.34    0.33\n",
      "  0     200          9.37       62.44    0.62\n",
      "  0     400          4.72       66.19    0.66\n",
      "  0     600          3.01       68.27    0.68\n",
      "  0     800          1.69       70.40    0.70\n",
      "  0    1000          0.85       71.66    0.72\n",
      "  0    1200          0.55       72.78    0.73\n",
      "  0    1400          0.36       73.74    0.74\n",
      "  0    1600          0.23       74.68    0.75\n",
      "  0    1800          0.14       75.33    0.75\n",
      "  0    2000          0.10       76.35    0.76\n",
      "  0    2200          0.06       77.06    0.77\n",
      "  0    2400          0.04       77.87    0.78\n",
      "  0    2600          0.04       78.58    0.79\n",
      "  0    2800          0.04       79.08    0.79\n",
      "  0    3000          0.04       79.75    0.80\n",
      "  0    3200          0.04       80.16    0.80\n",
      "  0    3400          0.04       80.52    0.81\n",
      "  0    3600          0.04       80.88    0.81\n",
      "  0    3800          0.04       81.48    0.81\n",
      "  0    4000          0.04       81.69    0.82\n",
      "  0    4200          0.04       81.99    0.82\n",
      "  0    4400          0.04       82.32    0.82\n",
      "  0    4600          0.03       82.79    0.83\n",
      "  0    4800          0.04       83.05    0.83\n",
      "  0    5000          0.03       83.32    0.83\n",
      "  0    5200          0.03       83.50    0.83\n",
      "  0    5400          0.03       83.79    0.84\n",
      "  0    5600          0.04       83.96    0.84\n",
      "  0    5800          0.03       84.30    0.84\n",
      "  1    6000          0.03       84.46    0.84\n",
      "  1    6200          0.03       84.39    0.84\n",
      "  1    6400          0.03       84.63    0.85\n",
      "  1    6600          0.03       84.78    0.85\n",
      "  1    6800          0.03       84.93    0.85\n",
      "  1    7000          0.03       84.87    0.85\n",
      "  1    7200          0.03       85.06    0.85\n",
      "  1    7400          0.03       85.22    0.85\n",
      "  1    7600          0.03       85.23    0.85\n",
      "  1    7800          0.03       85.41    0.85\n",
      "  1    8000          0.03       85.54    0.86\n",
      "  1    8200          0.03       85.72    0.86\n",
      "  1    8400          0.03       85.78    0.86\n",
      "  1    8600          0.03       85.83    0.86\n",
      "  1    8800          0.03       86.09    0.86\n",
      "  1    9000          0.03       86.02    0.86\n",
      "  1    9200          0.03       86.14    0.86\n",
      "  1    9400          0.03       86.39    0.86\n",
      "  1    9600          0.03       86.64    0.87\n",
      "  1    9800          0.03       86.73    0.87\n",
      "  1   10000          0.03       86.92    0.87\n",
      "  1   10200          0.03       87.04    0.87\n",
      "  1   10400          0.03       87.13    0.87\n",
      "  2   10600          0.03       87.23    0.87\n",
      "  2   10800          0.02       87.26    0.87\n",
      "  2   11000          0.02       87.28    0.87\n",
      "  2   11200          0.02       87.32    0.87\n",
      "  2   11400          0.03       87.40    0.87\n",
      "  2   11600          0.02       87.42    0.87\n",
      "  2   11800          0.02       87.47    0.87\n",
      "  2   12000          0.02       87.47    0.87\n",
      "  2   12200          0.03       87.61    0.88\n",
      "  2   12400          0.03       87.73    0.88\n",
      "  2   12600          0.03       87.76    0.88\n",
      "  2   12800          0.03       87.82    0.88\n",
      "  2   13000          0.03       87.78    0.88\n",
      "  2   13200          0.03       87.97    0.88\n",
      "  2   13400          0.03       88.02    0.88\n",
      "  2   13600          0.03       88.14    0.88\n",
      "  2   13800          0.03       88.11    0.88\n",
      "  2   14000          0.03       88.13    0.88\n",
      "  2   14200          0.03       88.36    0.88\n",
      "  2   14400          0.03       88.37    0.88\n",
      "  2   14600          0.03       88.43    0.88\n",
      "  2   14800          0.03       88.57    0.89\n",
      "  3   15000          0.03       88.56    0.89\n",
      "  3   15200          0.02       88.73    0.89\n",
      "  3   15400          0.02       88.74    0.89\n",
      "  3   15600          0.02       88.62    0.89\n",
      "  3   15800          0.02       88.73    0.89\n",
      "  3   16000          0.02       88.72    0.89\n",
      "  3   16200          0.02       88.70    0.89\n",
      "  3   16400          0.02       88.87    0.89\n",
      "  3   16600          0.02       88.73    0.89\n",
      "  3   16800          0.02       88.93    0.89\n",
      "  3   17000          0.02       89.04    0.89\n",
      "  3   17200          0.02       89.00    0.89\n",
      "  3   17400          0.02       89.00    0.89\n",
      "  3   17600          0.02       89.16    0.89\n",
      "  3   17800          0.02       89.05    0.89\n",
      "  3   18000          0.02       88.97    0.89\n",
      "  3   18200          0.02       89.33    0.89\n",
      "  3   18400          0.02       89.40    0.89\n",
      "  3   18600          0.02       89.37    0.89\n",
      "  3   18800          0.02       89.35    0.89\n",
      "  3   19000          0.02       89.52    0.90\n",
      "  3   19200          0.02       89.65    0.90\n",
      "  3   19400          0.02       89.65    0.90\n",
      "  4   19600          0.02       89.80    0.90\n",
      "  4   19800          0.02       89.71    0.90\n",
      "  4   20000          0.02       89.83    0.90\n",
      "✔ Saved pipeline to output directory\n",
      "model0_geolocation\\es_core_news_sm\\model-last\n",
      "ℹ Saving to output directory: model0_geolocation\\es_core_news_sm\n",
      "ℹ Using CPU\n",
      "\u001b[1m\n",
      "=========================== Initializing pipeline ===========================\u001b[0m\n",
      "✔ Initialized pipeline\n",
      "\u001b[1m\n",
      "============================= Training pipeline =============================\u001b[0m\n",
      "ℹ Pipeline: ['textcat']\n",
      "ℹ Initial learn rate: 0.001\n",
      "E    #       LOSS TEXTCAT  CATS_SCORE  SCORE \n",
      "---  ------  ------------  ----------  ------\n",
      "  0       0          0.12       33.34    0.33\n",
      "  0     200          9.37       62.44    0.62\n",
      "  0     400          4.72       66.19    0.66\n",
      "  0     600          3.01       68.27    0.68\n",
      "  0     800          1.69       70.40    0.70\n",
      "  0    1000          0.85       71.66    0.72\n",
      "  0    1200          0.55       72.78    0.73\n",
      "  0    1400          0.36       73.74    0.74\n",
      "  0    1600          0.23       74.68    0.75\n",
      "  0    1800          0.14       75.33    0.75\n",
      "  0    2000          0.10       76.35    0.76\n",
      "  0    2200          0.06       77.06    0.77\n",
      "  0    2400          0.04       77.87    0.78\n",
      "  0    2600          0.04       78.58    0.79\n",
      "  0    2800          0.04       79.08    0.79\n",
      "  0    3000          0.04       79.75    0.80\n",
      "  0    3200          0.04       80.16    0.80\n",
      "  0    3400          0.04       80.52    0.81\n",
      "  0    3600          0.04       80.88    0.81\n",
      "  0    3800          0.04       81.48    0.81\n",
      "  0    4000          0.04       81.69    0.82\n",
      "  0    4200          0.04       81.99    0.82\n",
      "  0    4400          0.04       82.32    0.82\n",
      "  0    4600          0.03       82.79    0.83\n",
      "  0    4800          0.04       83.05    0.83\n",
      "  0    5000          0.03       83.32    0.83\n",
      "  0    5200          0.03       83.50    0.83\n",
      "  0    5400          0.03       83.79    0.84\n",
      "  0    5600          0.04       83.96    0.84\n",
      "  0    5800          0.03       84.30    0.84\n",
      "  1    6000          0.03       84.46    0.84\n",
      "  1    6200          0.03       84.39    0.84\n",
      "  1    6400          0.03       84.63    0.85\n",
      "  1    6600          0.03       84.78    0.85\n",
      "  1    6800          0.03       84.93    0.85\n",
      "  1    7000          0.03       84.87    0.85\n",
      "  1    7200          0.03       85.06    0.85\n",
      "  1    7400          0.03       85.22    0.85\n",
      "  1    7600          0.03       85.23    0.85\n",
      "  1    7800          0.03       85.41    0.85\n",
      "  1    8000          0.03       85.54    0.86\n",
      "  1    8200          0.03       85.72    0.86\n",
      "  1    8400          0.03       85.78    0.86\n",
      "  1    8600          0.03       85.83    0.86\n",
      "  1    8800          0.03       86.09    0.86\n",
      "  1    9000          0.03       86.02    0.86\n",
      "  1    9200          0.03       86.14    0.86\n",
      "  1    9400          0.03       86.39    0.86\n",
      "  1    9600          0.03       86.64    0.87\n",
      "  1    9800          0.03       86.73    0.87\n",
      "  1   10000          0.03       86.92    0.87\n",
      "  1   10200          0.03       87.04    0.87\n",
      "  1   10400          0.03       87.13    0.87\n",
      "  2   10600          0.03       87.23    0.87\n",
      "  2   10800          0.02       87.26    0.87\n",
      "  2   11000          0.02       87.28    0.87\n",
      "  2   11200          0.02       87.32    0.87\n",
      "  2   11400          0.03       87.40    0.87\n",
      "  2   11600          0.02       87.42    0.87\n",
      "  2   11800          0.02       87.47    0.87\n",
      "  2   12000          0.02       87.47    0.87\n",
      "  2   12200          0.03       87.61    0.88\n",
      "  2   12400          0.03       87.73    0.88\n",
      "  2   12600          0.03       87.76    0.88\n",
      "  2   12800          0.03       87.82    0.88\n",
      "  2   13000          0.03       87.78    0.88\n",
      "  2   13200          0.03       87.97    0.88\n",
      "  2   13400          0.03       88.02    0.88\n",
      "  2   13600          0.03       88.14    0.88\n",
      "  2   13800          0.03       88.11    0.88\n",
      "  2   14000          0.03       88.13    0.88\n",
      "  2   14200          0.03       88.36    0.88\n",
      "  2   14400          0.03       88.37    0.88\n",
      "  2   14600          0.03       88.43    0.88\n",
      "  2   14800          0.03       88.57    0.89\n",
      "  3   15000          0.03       88.56    0.89\n",
      "  3   15200          0.02       88.73    0.89\n",
      "  3   15400          0.02       88.74    0.89\n",
      "  3   15600          0.02       88.62    0.89\n",
      "  3   15800          0.02       88.73    0.89\n",
      "  3   16000          0.02       88.72    0.89\n",
      "  3   16200          0.02       88.70    0.89\n",
      "  3   16400          0.02       88.87    0.89\n",
      "  3   16600          0.02       88.73    0.89\n",
      "  3   16800          0.02       88.93    0.89\n",
      "  3   17000          0.02       89.04    0.89\n",
      "  3   17200          0.02       89.00    0.89\n",
      "  3   17400          0.02       89.00    0.89\n",
      "  3   17600          0.02       89.16    0.89\n",
      "  3   17800          0.02       89.05    0.89\n",
      "  3   18000          0.02       88.97    0.89\n",
      "  3   18200          0.02       89.33    0.89\n",
      "  3   18400          0.02       89.40    0.89\n",
      "  3   18600          0.02       89.37    0.89\n",
      "  3   18800          0.02       89.35    0.89\n",
      "  3   19000          0.02       89.52    0.90\n",
      "  3   19200          0.02       89.65    0.90\n",
      "  3   19400          0.02       89.65    0.90\n",
      "  4   19600          0.02       89.80    0.90\n",
      "  4   19800          0.02       89.71    0.90\n",
      "  4   20000          0.02       89.83    0.90\n",
      "✔ Saved pipeline to output directory\n",
      "model0_geolocation\\es_core_news_sm\\model-last\n",
      "--- 33157.82897543907 seconds ---\n"
     ]
    },
    {
     "name": "stderr",
     "output_type": "stream",
     "text": [
      "[2022-08-08 14:59:12,054] [INFO] Set up nlp object from config\n",
      "[2022-08-08 14:59:12,062] [INFO] Pipeline: ['textcat']\n",
      "[2022-08-08 14:59:12,066] [INFO] Created vocabulary\n",
      "[2022-08-08 14:59:12,067] [INFO] Finished initializing nlp object\n",
      "[2022-08-08 15:02:21,752] [INFO] Initialized pipeline components: ['textcat']\n"
     ]
    }
   ],
   "source": [
    "start = time.time()\n",
    "!python -m spacy train spacy_files/config_sm.cfg --output-path ./model0_geolocation/es_core_news_sm --paths.train ./model0_geolocation/train.spacy --paths.dev ./model0_geolocation/train.spacy\n",
    "print(\"--- %s seconds ---\" % (time.time() - start))"
   ]
  },
  {
   "cell_type": "code",
   "execution_count": 27,
   "id": "b31ab620",
   "metadata": {},
   "outputs": [
    {
     "data": {
      "image/png": "[encoded data removed]",
      "text/plain": [
       "<Figure size 432x288 with 1 Axes>"
      ]
     },
     "metadata": {
      "needs_background": "light"
     },
     "output_type": "display_data"
    }
   ],
   "source": [
    "nlp = spacy.load('./model0_geolocation/es_core_news_sm/model-last')\n",
    "test = pd.read_excel('./model0_geolocation/test.xlsx')\n",
    "test['text'] = test['text'].astype(str)\n",
    "test['country_train'] = test['country_train'].astype(str)\n",
    "test_with_preds = functions.predict_ents(test,nlp, text_col_name='text')\n",
    "functions.conf_matrix(test_with_preds, cat_col_name='country_train')\n",
    "test_with_preds.to_excel('./model0_geolocation/test_with_preds.xlsx', index = False)"
   ]
  },
  {
   "cell_type": "code",
   "execution_count": 29,
   "id": "44745a8a",
   "metadata": {},
   "outputs": [
    {
     "data": {
      "text/plain": [
       "{'Colombia': {'precision': 0.7889513967694425,\n",
       "  'recall': 0.8038376383763838,\n",
       "  'f1-score': 0.7963249540009991,\n",
       "  'support': 40650},\n",
       " 'other': {'precision': 0.8000651906827471,\n",
       "  'recall': 0.7849692496924969,\n",
       "  'f1-score': 0.7924453329690934,\n",
       "  'support': 40650},\n",
       " 'accuracy': 0.7944034440344403,\n",
       " 'macro avg': {'precision': 0.7945082937260948,\n",
       "  'recall': 0.7944034440344403,\n",
       "  'f1-score': 0.7943851434850462,\n",
       "  'support': 81300},\n",
       " 'weighted avg': {'precision': 0.7945082937260948,\n",
       "  'recall': 0.7944034440344403,\n",
       "  'f1-score': 0.7943851434850462,\n",
       "  'support': 81300}}"
      ]
     },
     "execution_count": 29,
     "metadata": {},
     "output_type": "execute_result"
    }
   ],
   "source": [
    "classification_report(test_with_preds['country_train'], test_with_preds['predicted'], digits=3, output_dict=True)"
   ]
  },
  {
   "cell_type": "markdown",
   "id": "80cb9515",
   "metadata": {},
   "source": [
    "# Model 1 training - valid tweets"
   ]
  },
  {
   "cell_type": "code",
   "execution_count": 19,
   "id": "fb997f0f",
   "metadata": {},
   "outputs": [
    {
     "name": "stdout",
     "output_type": "stream",
     "text": [
      "✔ Created output directory: model1_valid\\es_core_news_sm\n",
      "ℹ Saving to output directory: model1_valid\\es_core_news_sm\n",
      "ℹ Using CPU\n",
      "\u001b[1m\n",
      "=========================== Initializing pipeline ===========================\u001b[0m\n",
      "✔ Initialized pipeline\n",
      "\u001b[1m\n",
      "============================= Training pipeline =============================\u001b[0m\n",
      "ℹ Pipeline: ['textcat']\n",
      "ℹ Initial learn rate: 0.001\n",
      "E    #       LOSS TEXTCAT  CATS_SCORE  SCORE \n",
      "---  ------  ------------  ----------  ------\n",
      "  0       0          0.06       53.91    0.54\n",
      "  0     200          8.17       80.30    0.80\n",
      "  0     400          4.53       89.35    0.89\n",
      "  1     600          1.98       94.63    0.95\n",
      "  1     800          0.80       97.32    0.97\n",
      "  2    1000          0.45       98.14    0.98\n",
      "  3    1200          0.19       98.53    0.99\n",
      "  4    1400          0.10       98.92    0.99\n",
      "  6    1600          0.05       99.13    0.99\n",
      "  8    1800          0.03       99.39    0.99\n",
      " 10    2000          0.02       99.52    1.00\n",
      " 13    2200          0.01       99.52    1.00\n",
      " 16    2400          0.01       99.61    1.00\n",
      " 19    2600          0.00       99.61    1.00\n",
      " 23    2800          0.00       99.65    1.00\n",
      " 26    3000          0.00       99.57    1.00\n",
      " 30    3200          0.00       99.61    1.00\n",
      " 33    3400          0.00       99.61    1.00\n",
      " 36    3600          0.00       99.65    1.00\n",
      " 40    3800          0.00       99.61    1.00\n",
      " 43    4000          0.00       99.65    1.00\n",
      " 47    4200          0.00       99.61    1.00\n",
      " 50    4400          0.00       99.65    1.00\n",
      "✔ Saved pipeline to output directory\n",
      "model1_valid\\es_core_news_sm\\model-last\n"
     ]
    },
    {
     "name": "stderr",
     "output_type": "stream",
     "text": [
      "[2022-08-08 14:53:01,597] [INFO] Set up nlp object from config\n",
      "[2022-08-08 14:53:01,605] [INFO] Pipeline: ['textcat']\n",
      "[2022-08-08 14:53:01,607] [INFO] Created vocabulary\n",
      "[2022-08-08 14:53:01,608] [INFO] Finished initializing nlp object\n",
      "[2022-08-08 14:53:04,547] [INFO] Initialized pipeline components: ['textcat']\n"
     ]
    }
   ],
   "source": [
    "!python -m spacy train spacy_files/config_sm.cfg --output-path ./model1_valid/es_core_news_sm --paths.train ./model1_valid/train.spacy --paths.dev ./model1_valid/train.spacy\n",
    "#Using simple.spacy (data file previously generated in pre-processing.ipynb)"
   ]
  },
  {
   "cell_type": "code",
   "execution_count": 20,
   "id": "b31ab620",
   "metadata": {},
   "outputs": [
    {
     "data": {
      "image/png": "[encoded data removed]",
      "text/plain": [
       "<Figure size 432x288 with 1 Axes>"
      ]
     },
     "metadata": {
      "needs_background": "light"
     },
     "output_type": "display_data"
    }
   ],
   "source": [
    "nlp = spacy.load('./model1_valid/es_core_news_sm/model-last')\n",
    "test = pd.read_excel('./model1_valid/test.xlsx')\n",
    "test['valid'] = test['valid'].astype(str)\n",
    "test_with_preds = functions.predict_ents(test,nlp, text_col_name='text_es_clean')\n",
    "functions.conf_matrix(test_with_preds, cat_col_name='valid')\n",
    "test_with_preds.to_excel('./model1_valid/test_with_preds.xlsx', index = False)"
   ]
  },
  {
   "cell_type": "code",
   "execution_count": 24,
   "id": "e60e749a",
   "metadata": {},
   "outputs": [
    {
     "data": {
      "text/plain": [
       "{'0': {'precision': 0.872,\n",
       "  'recall': 0.9376344086021505,\n",
       "  'f1-score': 0.9036269430051813,\n",
       "  'support': 465},\n",
       " '1': {'precision': 0.9325581395348838,\n",
       "  'recall': 0.8623655913978494,\n",
       "  'f1-score': 0.8960893854748603,\n",
       "  'support': 465},\n",
       " 'accuracy': 0.9,\n",
       " 'macro avg': {'precision': 0.9022790697674419,\n",
       "  'recall': 0.8999999999999999,\n",
       "  'f1-score': 0.8998581642400207,\n",
       "  'support': 930},\n",
       " 'weighted avg': {'precision': 0.9022790697674419,\n",
       "  'recall': 0.9,\n",
       "  'f1-score': 0.8998581642400207,\n",
       "  'support': 930}}"
      ]
     },
     "execution_count": 24,
     "metadata": {},
     "output_type": "execute_result"
    }
   ],
   "source": [
    "classification_report(test_with_preds['valid'], test_with_preds['predicted'], digits=3, output_dict=True)"
   ]
  },
  {
   "cell_type": "markdown",
   "id": "80cb9515",
   "metadata": {},
   "source": [
    "# Model 2 training - subject"
   ]
  },
  {
   "cell_type": "code",
   "execution_count": 16,
   "id": "fb997f0f",
   "metadata": {},
   "outputs": [
    {
     "name": "stdout",
     "output_type": "stream",
     "text": [
      "✔ Created output directory: model2_subject\\es_core_news_sm\n",
      "ℹ Saving to output directory: model2_subject\\es_core_news_sm\n",
      "ℹ Using CPU\n",
      "\u001b[1m\n",
      "=========================== Initializing pipeline ===========================\u001b[0m\n",
      "✔ Initialized pipeline\n",
      "\u001b[1m\n",
      "============================= Training pipeline =============================\u001b[0m\n",
      "ℹ Pipeline: ['textcat']\n",
      "ℹ Initial learn rate: 0.001\n",
      "E    #       LOSS TEXTCAT  CATS_SCORE  SCORE \n",
      "---  ------  ------------  ----------  ------\n",
      "  0       0          0.05        0.00    0.00\n",
      "  0     200         16.39       19.72    0.20\n",
      "  1     400          6.33       68.86    0.69\n",
      "  3     600          2.10       88.43    0.88\n",
      "  4     800          0.82       95.48    0.95\n",
      "  7    1000          0.34       98.14    0.98\n",
      "  9    1200          0.16       99.27    0.99\n",
      " 12    1400          0.08       99.51    1.00\n",
      " 16    1600          0.04       99.88    1.00\n",
      " 21    1800          0.02       99.94    1.00\n",
      " 27    2000          0.01      100.00    1.00\n",
      " 34    2200          0.01      100.00    1.00\n",
      " 42    2400          0.00      100.00    1.00\n",
      " 51    2600          0.00      100.00    1.00\n",
      " 60    2800          0.00      100.00    1.00\n",
      " 69    3000          0.00      100.00    1.00\n",
      " 77    3200          0.00      100.00    1.00\n",
      " 86    3400          0.00      100.00    1.00\n",
      " 95    3600          0.00      100.00    1.00\n",
      "✔ Saved pipeline to output directory\n",
      "model2_subject\\es_core_news_sm\\model-last\n",
      "--- 109.18228554725647 seconds ---\n"
     ]
    },
    {
     "name": "stderr",
     "output_type": "stream",
     "text": [
      "[2022-08-08 14:49:14,472] [INFO] Set up nlp object from config\n",
      "[2022-08-08 14:49:14,480] [INFO] Pipeline: ['textcat']\n",
      "[2022-08-08 14:49:14,483] [INFO] Created vocabulary\n",
      "[2022-08-08 14:49:14,484] [INFO] Finished initializing nlp object\n",
      "[2022-08-08 14:49:15,585] [INFO] Initialized pipeline components: ['textcat']\n"
     ]
    }
   ],
   "source": [
    "start = time.time()\n",
    "!python -m spacy train spacy_files/config_sm.cfg --output-path ./model2_subject/es_core_news_sm --paths.train ./model2_subject/train.spacy --paths.dev ./model2_subject/train.spacy\n",
    "print(\"--- %s seconds ---\" % (time.time() - start))"
   ]
  },
  {
   "cell_type": "code",
   "execution_count": 18,
   "id": "b31ab620",
   "metadata": {},
   "outputs": [
    {
     "data": {
      "image/png": "[encoded data removed]",
      "text/plain": [
       "<Figure size 432x288 with 1 Axes>"
      ]
     },
     "metadata": {
      "needs_background": "light"
     },
     "output_type": "display_data"
    }
   ],
   "source": [
    "nlp = spacy.load('./model2_subject/es_core_news_sm/model-last')\n",
    "test = pd.read_excel('./model2_subject/test.xlsx')\n",
    "\n",
    "test_with_preds = functions.predict_ents(test,nlp, text_col_name='text_es_clean')\n",
    "functions.conf_matrix(test_with_preds, cat_col_name='referred_to')\n",
    "test_with_preds.to_excel('./model2_subject/test_with_preds.xlsx', index = False)"
   ]
  },
  {
   "cell_type": "markdown",
   "id": "80cb9515",
   "metadata": {},
   "source": [
    "# Model 3.1 training - tone "
   ]
  },
  {
   "cell_type": "code",
   "execution_count": 8,
   "id": "fb997f0f",
   "metadata": {},
   "outputs": [
    {
     "name": "stdout",
     "output_type": "stream",
     "text": [
      "✔ Created output directory: model3_tone\\es_core_news_sm\n",
      "ℹ Saving to output directory: model3_tone\\es_core_news_sm\n",
      "ℹ Using CPU\n",
      "\u001b[1m\n",
      "=========================== Initializing pipeline ===========================\u001b[0m\n",
      "✔ Initialized pipeline\n",
      "\u001b[1m\n",
      "============================= Training pipeline =============================\u001b[0m\n",
      "ℹ Pipeline: ['textcat']\n",
      "ℹ Initial learn rate: 0.001\n",
      "E    #       LOSS TEXTCAT  CATS_SCORE  SCORE \n",
      "---  ------  ------------  ----------  ------\n",
      "  0       0          0.07        0.00    0.00\n",
      "  0     200         12.28       35.96    0.36\n",
      "  1     400          6.02       70.11    0.70\n",
      "  2     600          2.48       83.55    0.84\n",
      "  3     800          1.02       90.05    0.90\n",
      "  4    1000          0.50       94.08    0.94\n",
      "  6    1200          0.26       96.21    0.96\n",
      "  8    1400          0.13       97.00    0.97\n",
      " 10    1600          0.07       97.76    0.98\n",
      " 14    1800          0.04       98.10    0.98\n",
      " 17    2000          0.02       98.34    0.98\n",
      " 22    2200          0.01       98.72    0.99\n",
      " 28    2400          0.01       98.99    0.99\n",
      " 34    2600          0.01       99.25    0.99\n",
      " 40    2800          0.01       99.51    1.00\n",
      " 45    3000          0.00       99.78    1.00\n",
      " 51    3200          0.00       99.78    1.00\n",
      " 57    3400          0.00       99.78    1.00\n",
      " 63    3600          0.00       99.81    1.00\n",
      " 69    3800          0.00       99.89    1.00\n",
      " 74    4000          0.00       99.89    1.00\n",
      " 80    4200          0.00       99.89    1.00\n",
      " 86    4400          0.00       99.93    1.00\n",
      " 92    4600          0.00       99.93    1.00\n",
      " 98    4800          0.00       99.93    1.00\n",
      "104    5000          0.00       99.93    1.00\n",
      "110    5200          0.00       99.93    1.00\n",
      "115    5400          0.00       99.93    1.00\n",
      "121    5600          0.00       99.93    1.00\n",
      "127    5800          0.00       99.93    1.00\n",
      "133    6000          0.00       99.93    1.00\n",
      "✔ Saved pipeline to output directory\n",
      "model3_tone\\es_core_news_sm\\model-last\n"
     ]
    },
    {
     "name": "stderr",
     "output_type": "stream",
     "text": [
      "[2022-08-08 14:40:00,496] [INFO] Set up nlp object from config\n",
      "[2022-08-08 14:40:00,504] [INFO] Pipeline: ['textcat']\n",
      "[2022-08-08 14:40:00,506] [INFO] Created vocabulary\n",
      "[2022-08-08 14:40:00,507] [INFO] Finished initializing nlp object\n",
      "[2022-08-08 14:40:02,271] [INFO] Initialized pipeline components: ['textcat']\n"
     ]
    }
   ],
   "source": [
    "!python -m spacy train spacy_files/config_sm.cfg --output-path ./model3_tone/es_core_news_sm --paths.train ./model3_tone/train.spacy --paths.dev ./model3_tone/train.spacy\n",
    "#Using simple.spacy (data file previously generated in pre-processing.ipynb)"
   ]
  },
  {
   "cell_type": "code",
   "execution_count": 9,
   "id": "b31ab620",
   "metadata": {},
   "outputs": [
    {
     "data": {
      "image/png": "[encoded data removed]",
      "text/plain": [
       "<Figure size 432x288 with 1 Axes>"
      ]
     },
     "metadata": {
      "needs_background": "light"
     },
     "output_type": "display_data"
    }
   ],
   "source": [
    "nlp = spacy.load('./model3_tone/es_core_news_sm/model-last')\n",
    "test = pd.read_excel('./model3_tone/test.xlsx')\n",
    "\n",
    "test_with_preds = functions.predict_ents(test,nlp, text_col_name='text_es_clean')\n",
    "functions.conf_matrix(test_with_preds, cat_col_name='text_tone')\n",
    "test_with_preds.to_excel('./model3_tone/test_with_preds.xlsx', index = False)"
   ]
  },
  {
   "cell_type": "markdown",
   "id": "80cb9515",
   "metadata": {},
   "source": [
    "# Model 3.2 training - negativeness "
   ]
  },
  {
   "cell_type": "code",
   "execution_count": 6,
   "id": "fb997f0f",
   "metadata": {},
   "outputs": [
    {
     "name": "stdout",
     "output_type": "stream",
     "text": [
      "✔ Created output directory: model4_negativeness\\es_core_news_sm\n",
      "ℹ Saving to output directory: model4_negativeness\\es_core_news_sm\n",
      "ℹ Using CPU\n",
      "\u001b[1m\n",
      "=========================== Initializing pipeline ===========================\u001b[0m\n",
      "✔ Initialized pipeline\n",
      "\u001b[1m\n",
      "============================= Training pipeline =============================\u001b[0m\n",
      "ℹ Pipeline: ['textcat']\n",
      "ℹ Initial learn rate: 0.001\n",
      "E    #       LOSS TEXTCAT  CATS_SCORE  SCORE \n",
      "---  ------  ------------  ----------  ------\n",
      "  0       0          0.02        0.00    0.00\n",
      "  1     200         14.34       59.10    0.59\n",
      "  3     400          4.05       89.41    0.89\n",
      "  6     600          1.25       95.96    0.96\n",
      "  9     800          0.51       98.26    0.98\n",
      " 13    1000          0.22       99.20    0.99\n",
      " 18    1200          0.10       99.54    1.00\n",
      " 24    1400          0.05       99.66    1.00\n",
      " 31    1600          0.03       99.89    1.00\n",
      " 40    1800          0.01       99.89    1.00\n",
      " 51    2000          0.01       99.89    1.00\n",
      " 65    2200          0.00      100.00    1.00\n",
      " 81    2400          0.00      100.00    1.00\n",
      " 97    2600          0.00      100.00    1.00\n",
      "114    2800          0.00      100.00    1.00\n",
      "131    3000          0.00      100.00    1.00\n",
      "147    3200          0.00      100.00    1.00\n",
      "164    3400          0.00      100.00    1.00\n",
      "181    3600          0.00      100.00    1.00\n",
      "197    3800          0.00      100.00    1.00\n",
      "✔ Saved pipeline to output directory\n",
      "model4_negativeness\\es_core_news_sm\\model-last\n"
     ]
    },
    {
     "name": "stderr",
     "output_type": "stream",
     "text": [
      "[2022-08-08 14:33:04,939] [INFO] Set up nlp object from config\n",
      "[2022-08-08 14:33:04,947] [INFO] Pipeline: ['textcat']\n",
      "[2022-08-08 14:33:04,949] [INFO] Created vocabulary\n",
      "[2022-08-08 14:33:04,950] [INFO] Finished initializing nlp object\n",
      "[2022-08-08 14:33:05,552] [INFO] Initialized pipeline components: ['textcat']\n"
     ]
    }
   ],
   "source": [
    "!python -m spacy train spacy_files/config_sm.cfg --output-path ./model4_negativeness/es_core_news_sm --paths.train ./model4_negativeness/train.spacy --paths.dev ./model4_negativeness/train.spacy\n",
    "#Using simple.spacy (data file previously generated in pre-processing.ipynb)"
   ]
  },
  {
   "cell_type": "code",
   "execution_count": 7,
   "id": "b31ab620",
   "metadata": {},
   "outputs": [
    {
     "data": {
      "image/png": "[encoded data removed]",
      "text/plain": [
       "<Figure size 432x288 with 1 Axes>"
      ]
     },
     "metadata": {
      "needs_background": "light"
     },
     "output_type": "display_data"
    }
   ],
   "source": [
    "nlp = spacy.load('./model4_negativeness/es_core_news_sm/model-last')\n",
    "test = pd.read_excel('./model4_negativeness/test.xlsx')\n",
    "test['tone'] = test['tone'].astype(str)\n",
    "\n",
    "test_with_preds = functions.predict_ents(test,nlp, text_col_name='text_es_clean')\n",
    "functions.conf_matrix(test_with_preds, cat_col_name='tone')\n",
    "test_with_preds.to_excel('./model4_negativeness/test_with_preds.xlsx', index = False)"
   ]
  },
  {
   "cell_type": "markdown",
   "id": "80cb9515",
   "metadata": {},
   "source": [
    "# Model 3.3 training - positiveness"
   ]
  },
  {
   "cell_type": "code",
   "execution_count": 2,
   "id": "fb997f0f",
   "metadata": {},
   "outputs": [
    {
     "name": "stdout",
     "output_type": "stream",
     "text": [
      "ℹ Saving to output directory: model5_positiveness\n",
      "ℹ Using CPU\n",
      "\u001b[1m\n",
      "=========================== Initializing pipeline ===========================\u001b[0m\n",
      "✔ Initialized pipeline\n",
      "\u001b[1m\n",
      "============================= Training pipeline =============================\u001b[0m\n",
      "ℹ Pipeline: ['textcat']\n",
      "ℹ Initial learn rate: 0.001\n",
      "E    #       LOSS TEXTCAT  CATS_SCORE  SCORE \n",
      "---  ------  ------------  ----------  ------\n",
      "  0       0          0.07        0.00    0.00\n",
      "  7     200          9.15       94.11    0.94\n",
      " 16     400          1.11       99.44    0.99\n",
      " 27     600          0.33       99.44    0.99\n",
      " 42     800          0.13      100.00    1.00\n",
      " 59    1000          0.06      100.00    1.00\n",
      " 81    1200          0.03      100.00    1.00\n",
      "107    1400          0.01      100.00    1.00\n",
      "139    1600          0.01      100.00    1.00\n",
      "178    1800          0.00      100.00    1.00\n",
      "227    2000          0.00      100.00    1.00\n",
      "285    2200          0.00      100.00    1.00\n",
      "352    2400          0.00      100.00    1.00\n",
      "✔ Saved pipeline to output directory\n",
      "model5_positiveness\\model-last\n"
     ]
    },
    {
     "name": "stderr",
     "output_type": "stream",
     "text": [
      "[2022-08-08 14:28:32,140] [INFO] Set up nlp object from config\n",
      "[2022-08-08 14:28:32,148] [INFO] Pipeline: ['textcat']\n",
      "[2022-08-08 14:28:32,150] [INFO] Created vocabulary\n",
      "[2022-08-08 14:28:32,152] [INFO] Finished initializing nlp object\n",
      "[2022-08-08 14:28:32,300] [INFO] Initialized pipeline components: ['textcat']\n"
     ]
    }
   ],
   "source": [
    "!python -m spacy train spacy_files/config_sm.cfg --output-path ./model5_positiveness/es_core_news_sm --paths.train ./model5_positiveness/train.spacy --paths.dev ./model5_positiveness/train.spacy\n",
    "#Using simple.spacy (data file previously generated in pre-processing.ipynb)"
   ]
  },
  {
   "cell_type": "code",
   "execution_count": 3,
   "id": "b31ab620",
   "metadata": {},
   "outputs": [
    {
     "data": {
      "image/png": "[encoded data removed]",
      "text/plain": [
       "<Figure size 432x288 with 1 Axes>"
      ]
     },
     "metadata": {
      "needs_background": "light"
     },
     "output_type": "display_data"
    }
   ],
   "source": [
    "nlp = spacy.load('./model5_positiveness/es_core_news_sm/model-last')\n",
    "test = pd.read_excel('./model5_positiveness/test.xlsx')\n",
    "test['pos_tone'] = test['pos_tone'].astype(str)\n",
    "\n",
    "test_with_preds = functions.predict_ents(test,nlp, text_col_name='text_es_clean')\n",
    "functions.conf_matrix(test_with_preds, cat_col_name='pos_tone')\n",
    "test_with_preds.to_excel('./model5_positiveness/test_with_preds.xlsx', index = False)"
   ]
  }
 ],
 "metadata": {
  "interpreter": {
   "hash": "17b30b8bbe84081d2782b45efff3f2f46bf6deb285309d118ea277ca22c0ddb4"
  },
  "kernelspec": {
   "display_name": "Anaconda 3",
   "language": "python",
   "name": "anac"
  },
  "language_info": {
   "codemirror_mode": {
    "name": "ipython",
    "version": 3
   },
   "file_extension": ".py",
   "mimetype": "text/x-python",
   "name": "python",
   "nbconvert_exporter": "python",
   "pygments_lexer": "ipython3",
   "version": "3.10.0"
  }
 },
 "nbformat": 4,
 "nbformat_minor": 5
}
