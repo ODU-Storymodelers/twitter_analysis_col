{
 "cells": [
  {
   "cell_type": "code",
   "execution_count": 2,
   "id": "f65a6beb",
   "metadata": {},
   "outputs": [
    {
     "name": "stderr",
     "output_type": "stream",
     "text": [
      "c:\\Users\\joseph\\AppData\\Local\\Programs\\Python\\Python310\\lib\\site-packages\\tqdm\\auto.py:22: TqdmWarning: IProgress not found. Please update jupyter and ipywidgets. See https://ipywidgets.readthedocs.io/en/stable/user_install.html\n",
      "  from .autonotebook import tqdm as notebook_tqdm\n"
     ]
    }
   ],
   "source": [
    "import spacy\n",
    "import pandas as pd\n",
    "from spacy.tokens import DocBin\n",
    "\n",
    "import re # remove links\n",
    "\n",
    "import functions\n"
   ]
  },
  {
   "cell_type": "markdown",
   "id": "18b1b691",
   "metadata": {},
   "source": [
    "# Model 0 preprocessing - geolocation (colombia)"
   ]
  },
  {
   "cell_type": "code",
   "execution_count": 5,
   "id": "f095e574",
   "metadata": {},
   "outputs": [],
   "source": [
    "#Exporting train ant test data for Colombia (will be used for training)\n",
    "input_texts_df = pd.read_csv(\"./../data/texts.csv\")"
   ]
  },
  {
   "cell_type": "code",
   "execution_count": 6,
   "id": "539d9224",
   "metadata": {},
   "outputs": [],
   "source": [
    "input_texts_df = input_texts_df[input_texts_df['text']!='error reading status']"
   ]
  },
  {
   "cell_type": "code",
   "execution_count": 8,
   "id": "fda280c0",
   "metadata": {},
   "outputs": [],
   "source": [
    "input_texts_df['text'] = input_texts_df['text'].apply(functions.tweet_text_clean)\n",
    "input_texts_df['text']  = input_texts_df['text'].str.strip()"
   ]
  },
  {
   "cell_type": "code",
   "execution_count": 17,
   "id": "f751cf63",
   "metadata": {},
   "outputs": [
    {
     "name": "stdout",
     "output_type": "stream",
     "text": [
      "With duplicates 4144218\n",
      "Removing duplicates: 787204\n"
     ]
    }
   ],
   "source": [
    "print(\"With duplicates:\",len(input_texts_df))\n",
    "print(\"Removing duplicates:\",len(input_texts_df['text'].unique()))"
   ]
  },
  {
   "cell_type": "code",
   "execution_count": 18,
   "id": "7fd0bcc6",
   "metadata": {},
   "outputs": [],
   "source": [
    "input_texts_df.drop_duplicates(subset = 'text', inplace = True)"
   ]
  },
  {
   "cell_type": "code",
   "execution_count": 19,
   "id": "6e39c5d6",
   "metadata": {},
   "outputs": [],
   "source": [
    "countries = ['Colombia', 'no_country']\n",
    "def group_by_country(country):\n",
    "    if country not in countries:\n",
    "        country = 'other'\n",
    "    return country"
   ]
  },
  {
   "cell_type": "code",
   "execution_count": 20,
   "id": "15bd57a3",
   "metadata": {},
   "outputs": [],
   "source": [
    "input_texts_df['country_train'] = input_texts_df['country'].str.strip().fillna('no_country').apply(group_by_country)"
   ]
  },
  {
   "cell_type": "code",
   "execution_count": 21,
   "id": "139a6b3f",
   "metadata": {},
   "outputs": [
    {
     "data": {
      "text/plain": [
       "other         355112\n",
       "no_country    296545\n",
       "Colombia      135547\n",
       "Name: country_train, dtype: int64"
      ]
     },
     "execution_count": 21,
     "metadata": {},
     "output_type": "execute_result"
    }
   ],
   "source": [
    "input_texts_df['country_train'].value_counts()"
   ]
  },
  {
   "cell_type": "code",
   "execution_count": 22,
   "id": "8d6450ca",
   "metadata": {},
   "outputs": [],
   "source": [
    "input_texts_df = input_texts_df[input_texts_df['country_train']!= 'no_country']"
   ]
  },
  {
   "cell_type": "code",
   "execution_count": 23,
   "id": "8b5e1df6",
   "metadata": {},
   "outputs": [
    {
     "name": "stderr",
     "output_type": "stream",
     "text": [
      "C:\\Users\\joseph\\AppData\\Local\\Temp\\ipykernel_10132\\690597189.py:1: SettingWithCopyWarning: \n",
      "A value is trying to be set on a copy of a slice from a DataFrame.\n",
      "Try using .loc[row_indexer,col_indexer] = value instead\n",
      "\n",
      "See the caveats in the documentation: https://pandas.pydata.org/pandas-docs/stable/user_guide/indexing.html#returning-a-view-versus-a-copy\n",
      "  input_texts_df['text'] = input_texts_df['text'].astype(str)\n"
     ]
    }
   ],
   "source": [
    "input_texts_df['text'] = input_texts_df['text'].astype(str)"
   ]
  },
  {
   "cell_type": "code",
   "execution_count": 24,
   "id": "e67927ff",
   "metadata": {},
   "outputs": [
    {
     "name": "stderr",
     "output_type": "stream",
     "text": [
      "c:\\Users\\joseph\\OneDrive - Universidad del Norte\\Scripts VMASC\\Academic Research Twitter Search (10M)\\nlp_models\\functions.py:29: FutureWarning: The frame.append method is deprecated and will be removed from pandas in a future version. Use pandas.concat instead.\n",
      "  divided_data = divided_data.append(sub_data)\n",
      "c:\\Users\\joseph\\OneDrive - Universidad del Norte\\Scripts VMASC\\Academic Research Twitter Search (10M)\\nlp_models\\functions.py:29: FutureWarning: The frame.append method is deprecated and will be removed from pandas in a future version. Use pandas.concat instead.\n",
      "  divided_data = divided_data.append(sub_data)\n"
     ]
    }
   ],
   "source": [
    "input_data = functions.eq_division(input_texts_df, n_sample = 135500, cats_col_name = 'country_train')"
   ]
  },
  {
   "cell_type": "code",
   "execution_count": 25,
   "id": "1a18df87",
   "metadata": {},
   "outputs": [
    {
     "name": "stderr",
     "output_type": "stream",
     "text": [
      "c:\\Users\\joseph\\OneDrive - Universidad del Norte\\Scripts VMASC\\Academic Research Twitter Search (10M)\\nlp_models\\functions.py:51: FutureWarning: The frame.append method is deprecated and will be removed from pandas in a future version. Use pandas.concat instead.\n",
      "  train_data = train_data.append(train)\n",
      "c:\\Users\\joseph\\OneDrive - Universidad del Norte\\Scripts VMASC\\Academic Research Twitter Search (10M)\\nlp_models\\functions.py:52: FutureWarning: The frame.append method is deprecated and will be removed from pandas in a future version. Use pandas.concat instead.\n",
      "  test_data = test_data.append(test)\n",
      "c:\\Users\\joseph\\OneDrive - Universidad del Norte\\Scripts VMASC\\Academic Research Twitter Search (10M)\\nlp_models\\functions.py:51: FutureWarning: The frame.append method is deprecated and will be removed from pandas in a future version. Use pandas.concat instead.\n",
      "  train_data = train_data.append(train)\n",
      "c:\\Users\\joseph\\OneDrive - Universidad del Norte\\Scripts VMASC\\Academic Research Twitter Search (10M)\\nlp_models\\functions.py:52: FutureWarning: The frame.append method is deprecated and will be removed from pandas in a future version. Use pandas.concat instead.\n",
      "  test_data = test_data.append(test)\n"
     ]
    },
    {
     "data": {
      "text/plain": [
       "(None, None)"
      ]
     },
     "execution_count": 25,
     "metadata": {},
     "output_type": "execute_result"
    }
   ],
   "source": [
    "train_col, test_col = functions.random_select(input_data = input_data, cats_column_name = 'country_train')\n",
    "train_col.to_excel('./model0_geolocation/train.xlsx', index = False), test_col.to_excel('./model0_geolocation/test.xlsx', index = False)"
   ]
  },
  {
   "cell_type": "code",
   "execution_count": 26,
   "id": "04088b44",
   "metadata": {},
   "outputs": [
    {
     "data": {
      "text/plain": [
       "other       94850\n",
       "Colombia    94850\n",
       "Name: country_train, dtype: int64"
      ]
     },
     "execution_count": 26,
     "metadata": {},
     "output_type": "execute_result"
    }
   ],
   "source": [
    "train_col['country_train'].value_counts()"
   ]
  },
  {
   "cell_type": "code",
   "execution_count": 27,
   "id": "3928e22e",
   "metadata": {},
   "outputs": [
    {
     "name": "stdout",
     "output_type": "stream",
     "text": [
      "189700\n",
      "81300\n"
     ]
    }
   ],
   "source": [
    "print(len(train_col))\n",
    "print(len(test_col))"
   ]
  },
  {
   "cell_type": "code",
   "execution_count": 28,
   "id": "e649c410",
   "metadata": {},
   "outputs": [],
   "source": [
    "train_docs_col = functions.make_docs(spacy.load(\"es_core_news_sm\"), train_col, cat_col_name= 'country_train', text_col_name='text') #using the spacy doc arquitecture for our data"
   ]
  },
  {
   "cell_type": "code",
   "execution_count": 29,
   "id": "ec167fc1",
   "metadata": {},
   "outputs": [],
   "source": [
    "DocBin(docs = train_docs_col).to_disk(\"./model0_geolocation/train.spacy\") "
   ]
  },
  {
   "cell_type": "markdown",
   "id": "9cc229cf",
   "metadata": {},
   "source": [
    "# Model 1 preprocessing - valid tweets"
   ]
  },
  {
   "cell_type": "code",
   "execution_count": 58,
   "id": "f095e574",
   "metadata": {},
   "outputs": [],
   "source": [
    "#Exporting train ant test data for Colombia (will be used for training)\n",
    "input_data_col = pd.read_excel(\"./../data/4k_tweets/manually_labeled_tweets_colombia.xlsx\")\n",
    "#input_data_col['paragraph'] = input_data_col['paragraph'].astype(str)\n",
    "#input_data_col['works'] = input_data_col['works'].astype(str)\n"
   ]
  },
  {
   "cell_type": "code",
   "execution_count": 59,
   "id": "462b6ede",
   "metadata": {},
   "outputs": [],
   "source": [
    "input_data_col['text_es_clean'] = input_data_col['text_es'].apply(functions.tweet_text_clean)\n",
    "input_data_col.drop_duplicates(subset = 'text_es_clean', inplace = True)"
   ]
  },
  {
   "cell_type": "code",
   "execution_count": 60,
   "id": "33a346fb",
   "metadata": {},
   "outputs": [],
   "source": [
    "input_data_col.to_csv('./../data/4k_tweets/cleaned_tweets_colombia.csv', index = False)"
   ]
  },
  {
   "cell_type": "code",
   "execution_count": 61,
   "id": "464e84df",
   "metadata": {},
   "outputs": [
    {
     "data": {
      "text/plain": [
       "1    2986\n",
       "0    1568\n",
       "Name: valid, dtype: int64"
      ]
     },
     "execution_count": 61,
     "metadata": {},
     "output_type": "execute_result"
    }
   ],
   "source": [
    "input_data_col['valid'] = input_data_col['valid'].astype(str)\n",
    "input_data_col[input_data_col['valid']==\"1\"].to_csv('./../nlp_models/model1_valid/valid_cleaned_tweets_colombia.csv', index = False)\n",
    "input_data_col['valid'].value_counts()\n"
   ]
  },
  {
   "cell_type": "code",
   "execution_count": 62,
   "id": "e67927ff",
   "metadata": {},
   "outputs": [
    {
     "name": "stderr",
     "output_type": "stream",
     "text": [
      "c:\\Users\\joseph\\OneDrive - Universidad del Norte\\Scripts VMASC\\Academic Research Twitter Search (10M)\\nlp_models\\functions.py:29: FutureWarning: The frame.append method is deprecated and will be removed from pandas in a future version. Use pandas.concat instead.\n",
      "  divided_data = divided_data.append(sub_data)\n",
      "c:\\Users\\joseph\\OneDrive - Universidad del Norte\\Scripts VMASC\\Academic Research Twitter Search (10M)\\nlp_models\\functions.py:29: FutureWarning: The frame.append method is deprecated and will be removed from pandas in a future version. Use pandas.concat instead.\n",
      "  divided_data = divided_data.append(sub_data)\n"
     ]
    }
   ],
   "source": [
    "input_data_col = functions.eq_division(input_data_col, n_sample = 1550, cats_col_name = 'valid')"
   ]
  },
  {
   "cell_type": "code",
   "execution_count": 63,
   "id": "1a18df87",
   "metadata": {},
   "outputs": [
    {
     "name": "stderr",
     "output_type": "stream",
     "text": [
      "c:\\Users\\joseph\\OneDrive - Universidad del Norte\\Scripts VMASC\\Academic Research Twitter Search (10M)\\nlp_models\\functions.py:51: FutureWarning: The frame.append method is deprecated and will be removed from pandas in a future version. Use pandas.concat instead.\n",
      "  train_data = train_data.append(train)\n",
      "c:\\Users\\joseph\\OneDrive - Universidad del Norte\\Scripts VMASC\\Academic Research Twitter Search (10M)\\nlp_models\\functions.py:52: FutureWarning: The frame.append method is deprecated and will be removed from pandas in a future version. Use pandas.concat instead.\n",
      "  test_data = test_data.append(test)\n",
      "c:\\Users\\joseph\\OneDrive - Universidad del Norte\\Scripts VMASC\\Academic Research Twitter Search (10M)\\nlp_models\\functions.py:51: FutureWarning: The frame.append method is deprecated and will be removed from pandas in a future version. Use pandas.concat instead.\n",
      "  train_data = train_data.append(train)\n",
      "c:\\Users\\joseph\\OneDrive - Universidad del Norte\\Scripts VMASC\\Academic Research Twitter Search (10M)\\nlp_models\\functions.py:52: FutureWarning: The frame.append method is deprecated and will be removed from pandas in a future version. Use pandas.concat instead.\n",
      "  test_data = test_data.append(test)\n"
     ]
    },
    {
     "data": {
      "text/plain": [
       "(None, None)"
      ]
     },
     "execution_count": 63,
     "metadata": {},
     "output_type": "execute_result"
    }
   ],
   "source": [
    "train_col, test_col = functions.random_select(input_data = input_data_col, cats_column_name = 'valid')\n",
    "train_col.to_excel('./model1_valid/train.xlsx', index = False), test_col.to_excel('./model1_valid/test.xlsx', index = False)"
   ]
  },
  {
   "cell_type": "code",
   "execution_count": 64,
   "id": "e649c410",
   "metadata": {},
   "outputs": [],
   "source": [
    "train_docs_col = functions.make_docs(spacy.load(\"es_core_news_sm\"), train_col, cat_col_name= 'valid', text_col_name='text_es_clean') #using the spacy doc arquitecture for our data"
   ]
  },
  {
   "cell_type": "markdown",
   "id": "9cc229cf",
   "metadata": {},
   "source": [
    "# Model 2 preprocessing - blaming"
   ]
  },
  {
   "cell_type": "code",
   "execution_count": 71,
   "id": "f095e574",
   "metadata": {},
   "outputs": [
    {
     "name": "stdout",
     "output_type": "stream",
     "text": [
      "migrants       1526\n",
      "government      596\n",
      "geopolitics     329\n",
      "migration       296\n",
      "locals           95\n",
      "Media            38\n",
      "Other            11\n",
      "Name: referred_to, dtype: int64\n"
     ]
    }
   ],
   "source": [
    "input_data_col = pd.read_csv('./../nlp_models/model1_valid/valid_cleaned_tweets_colombia.csv')\n",
    "print(input_data_col['referred_to'].value_counts())"
   ]
  },
  {
   "cell_type": "code",
   "execution_count": 73,
   "id": "e67927ff",
   "metadata": {},
   "outputs": [
    {
     "name": "stderr",
     "output_type": "stream",
     "text": [
      "c:\\Users\\joseph\\OneDrive - Universidad del Norte\\Scripts VMASC\\Academic Research Twitter Search (10M)\\nlp_models\\functions.py:29: FutureWarning: The frame.append method is deprecated and will be removed from pandas in a future version. Use pandas.concat instead.\n",
      "  divided_data = divided_data.append(sub_data)\n",
      "c:\\Users\\joseph\\OneDrive - Universidad del Norte\\Scripts VMASC\\Academic Research Twitter Search (10M)\\nlp_models\\functions.py:29: FutureWarning: The frame.append method is deprecated and will be removed from pandas in a future version. Use pandas.concat instead.\n",
      "  divided_data = divided_data.append(sub_data)\n",
      "c:\\Users\\joseph\\OneDrive - Universidad del Norte\\Scripts VMASC\\Academic Research Twitter Search (10M)\\nlp_models\\functions.py:29: FutureWarning: The frame.append method is deprecated and will be removed from pandas in a future version. Use pandas.concat instead.\n",
      "  divided_data = divided_data.append(sub_data)\n",
      "c:\\Users\\joseph\\OneDrive - Universidad del Norte\\Scripts VMASC\\Academic Research Twitter Search (10M)\\nlp_models\\functions.py:29: FutureWarning: The frame.append method is deprecated and will be removed from pandas in a future version. Use pandas.concat instead.\n",
      "  divided_data = divided_data.append(sub_data)\n"
     ]
    }
   ],
   "source": [
    "final_frusts = ['migrants', 'government', 'geopolitics', 'migration']\n",
    "uniform_data = functions.eq_division(input_data_col, final_frusts, n_sample = 295, cats_col_name='referred_to')"
   ]
  },
  {
   "cell_type": "code",
   "execution_count": 74,
   "id": "1a18df87",
   "metadata": {},
   "outputs": [
    {
     "name": "stderr",
     "output_type": "stream",
     "text": [
      "c:\\Users\\joseph\\OneDrive - Universidad del Norte\\Scripts VMASC\\Academic Research Twitter Search (10M)\\nlp_models\\functions.py:51: FutureWarning: The frame.append method is deprecated and will be removed from pandas in a future version. Use pandas.concat instead.\n",
      "  train_data = train_data.append(train)\n",
      "c:\\Users\\joseph\\OneDrive - Universidad del Norte\\Scripts VMASC\\Academic Research Twitter Search (10M)\\nlp_models\\functions.py:52: FutureWarning: The frame.append method is deprecated and will be removed from pandas in a future version. Use pandas.concat instead.\n",
      "  test_data = test_data.append(test)\n",
      "c:\\Users\\joseph\\OneDrive - Universidad del Norte\\Scripts VMASC\\Academic Research Twitter Search (10M)\\nlp_models\\functions.py:51: FutureWarning: The frame.append method is deprecated and will be removed from pandas in a future version. Use pandas.concat instead.\n",
      "  train_data = train_data.append(train)\n",
      "c:\\Users\\joseph\\OneDrive - Universidad del Norte\\Scripts VMASC\\Academic Research Twitter Search (10M)\\nlp_models\\functions.py:52: FutureWarning: The frame.append method is deprecated and will be removed from pandas in a future version. Use pandas.concat instead.\n",
      "  test_data = test_data.append(test)\n",
      "c:\\Users\\joseph\\OneDrive - Universidad del Norte\\Scripts VMASC\\Academic Research Twitter Search (10M)\\nlp_models\\functions.py:51: FutureWarning: The frame.append method is deprecated and will be removed from pandas in a future version. Use pandas.concat instead.\n",
      "  train_data = train_data.append(train)\n",
      "c:\\Users\\joseph\\OneDrive - Universidad del Norte\\Scripts VMASC\\Academic Research Twitter Search (10M)\\nlp_models\\functions.py:52: FutureWarning: The frame.append method is deprecated and will be removed from pandas in a future version. Use pandas.concat instead.\n",
      "  test_data = test_data.append(test)\n",
      "c:\\Users\\joseph\\OneDrive - Universidad del Norte\\Scripts VMASC\\Academic Research Twitter Search (10M)\\nlp_models\\functions.py:51: FutureWarning: The frame.append method is deprecated and will be removed from pandas in a future version. Use pandas.concat instead.\n",
      "  train_data = train_data.append(train)\n",
      "c:\\Users\\joseph\\OneDrive - Universidad del Norte\\Scripts VMASC\\Academic Research Twitter Search (10M)\\nlp_models\\functions.py:52: FutureWarning: The frame.append method is deprecated and will be removed from pandas in a future version. Use pandas.concat instead.\n",
      "  test_data = test_data.append(test)\n"
     ]
    },
    {
     "data": {
      "text/plain": [
       "(None, None)"
      ]
     },
     "execution_count": 74,
     "metadata": {},
     "output_type": "execute_result"
    }
   ],
   "source": [
    "train_col, test_col = functions.random_select(input_data = uniform_data, cats_column_name = 'referred_to')\n",
    "train_col.to_excel('./model2_blaming/train.xlsx', index = False), test_col.to_excel('./model2_blaming/test.xlsx', index = False)"
   ]
  },
  {
   "cell_type": "code",
   "execution_count": 75,
   "id": "e649c410",
   "metadata": {},
   "outputs": [],
   "source": [
    "#nlp = spacy.load(\"es_core_news_sm\")\n",
    "train_docs_col = functions.make_docs(spacy.load(\"es_core_news_sm\"), train_col, text_col_name='text_es_clean', cat_col_name= 'referred_to') #using the spacy doc arquitecture for our data"
   ]
  },
  {
   "cell_type": "code",
   "execution_count": 76,
   "id": "ec167fc1",
   "metadata": {},
   "outputs": [],
   "source": [
    "DocBin(docs = train_docs_col).to_disk(\"./model2_blaming/train.spacy\") "
   ]
  },
  {
   "cell_type": "markdown",
   "id": "9cc229cf",
   "metadata": {},
   "source": [
    "# Model 3.1 preprocessing - tone"
   ]
  },
  {
   "cell_type": "code",
   "execution_count": 3,
   "id": "b0fb7d0a",
   "metadata": {},
   "outputs": [],
   "source": [
    "input_data = pd.read_csv('./../data/4k_tweets/cleaned_tweets_colombia.csv')"
   ]
  },
  {
   "cell_type": "code",
   "execution_count": 5,
   "id": "d1a4d11f",
   "metadata": {},
   "outputs": [],
   "source": [
    "input_data.dropna(subset = ['tone'], inplace = True)"
   ]
  },
  {
   "cell_type": "code",
   "execution_count": 8,
   "id": "e5e5baae",
   "metadata": {},
   "outputs": [],
   "source": [
    "text_tones = []\n",
    "for tone in input_data['tone']:\n",
    "    if tone <0:\n",
    "        text_tones.append('negative')\n",
    "    elif tone ==0:\n",
    "        text_tones.append('neutral')\n",
    "    else:\n",
    "        text_tones.append('positive')\n",
    "input_data['text_tone'] = text_tones"
   ]
  },
  {
   "cell_type": "code",
   "execution_count": 9,
   "id": "33ff5370",
   "metadata": {},
   "outputs": [
    {
     "data": {
      "text/plain": [
       "negative    1570\n",
       "neutral      770\n",
       "positive     646\n",
       "Name: text_tone, dtype: int64"
      ]
     },
     "execution_count": 9,
     "metadata": {},
     "output_type": "execute_result"
    }
   ],
   "source": [
    "input_data['text_tone'].value_counts()"
   ]
  },
  {
   "cell_type": "code",
   "execution_count": 10,
   "id": "e67927ff",
   "metadata": {},
   "outputs": [
    {
     "name": "stderr",
     "output_type": "stream",
     "text": [
      "c:\\Users\\joseph\\OneDrive - Universidad del Norte\\Scripts VMASC\\Academic Research Twitter Search (10M)\\nlp_models\\functions.py:29: FutureWarning: The frame.append method is deprecated and will be removed from pandas in a future version. Use pandas.concat instead.\n",
      "  divided_data = divided_data.append(sub_data)\n",
      "c:\\Users\\joseph\\OneDrive - Universidad del Norte\\Scripts VMASC\\Academic Research Twitter Search (10M)\\nlp_models\\functions.py:29: FutureWarning: The frame.append method is deprecated and will be removed from pandas in a future version. Use pandas.concat instead.\n",
      "  divided_data = divided_data.append(sub_data)\n",
      "c:\\Users\\joseph\\OneDrive - Universidad del Norte\\Scripts VMASC\\Academic Research Twitter Search (10M)\\nlp_models\\functions.py:29: FutureWarning: The frame.append method is deprecated and will be removed from pandas in a future version. Use pandas.concat instead.\n",
      "  divided_data = divided_data.append(sub_data)\n"
     ]
    }
   ],
   "source": [
    "uniform_data = functions.eq_division(input_data, n_sample = 640, cats_col_name='text_tone')"
   ]
  },
  {
   "cell_type": "code",
   "execution_count": 12,
   "id": "1a18df87",
   "metadata": {},
   "outputs": [
    {
     "name": "stderr",
     "output_type": "stream",
     "text": [
      "c:\\Users\\joseph\\OneDrive - Universidad del Norte\\Scripts VMASC\\Academic Research Twitter Search (10M)\\nlp_models\\functions.py:51: FutureWarning: The frame.append method is deprecated and will be removed from pandas in a future version. Use pandas.concat instead.\n",
      "  train_data = train_data.append(train)\n",
      "c:\\Users\\joseph\\OneDrive - Universidad del Norte\\Scripts VMASC\\Academic Research Twitter Search (10M)\\nlp_models\\functions.py:52: FutureWarning: The frame.append method is deprecated and will be removed from pandas in a future version. Use pandas.concat instead.\n",
      "  test_data = test_data.append(test)\n",
      "c:\\Users\\joseph\\OneDrive - Universidad del Norte\\Scripts VMASC\\Academic Research Twitter Search (10M)\\nlp_models\\functions.py:51: FutureWarning: The frame.append method is deprecated and will be removed from pandas in a future version. Use pandas.concat instead.\n",
      "  train_data = train_data.append(train)\n",
      "c:\\Users\\joseph\\OneDrive - Universidad del Norte\\Scripts VMASC\\Academic Research Twitter Search (10M)\\nlp_models\\functions.py:52: FutureWarning: The frame.append method is deprecated and will be removed from pandas in a future version. Use pandas.concat instead.\n",
      "  test_data = test_data.append(test)\n",
      "c:\\Users\\joseph\\OneDrive - Universidad del Norte\\Scripts VMASC\\Academic Research Twitter Search (10M)\\nlp_models\\functions.py:51: FutureWarning: The frame.append method is deprecated and will be removed from pandas in a future version. Use pandas.concat instead.\n",
      "  train_data = train_data.append(train)\n",
      "c:\\Users\\joseph\\OneDrive - Universidad del Norte\\Scripts VMASC\\Academic Research Twitter Search (10M)\\nlp_models\\functions.py:52: FutureWarning: The frame.append method is deprecated and will be removed from pandas in a future version. Use pandas.concat instead.\n",
      "  test_data = test_data.append(test)\n"
     ]
    },
    {
     "data": {
      "text/plain": [
       "(None, None)"
      ]
     },
     "execution_count": 12,
     "metadata": {},
     "output_type": "execute_result"
    }
   ],
   "source": [
    "train_col, test_col = functions.random_select(input_data = uniform_data, cats_column_name = 'text_tone')\n",
    "train_col.to_excel('./model3_1_tone/train.xlsx', index = False), test_col.to_excel('./model3_1_tone/test.xlsx', index = False)"
   ]
  },
  {
   "cell_type": "code",
   "execution_count": 13,
   "id": "e649c410",
   "metadata": {},
   "outputs": [],
   "source": [
    "#nlp = spacy.load(\"es_core_news_sm\")\n",
    "train_docs_col = functions.make_docs(spacy.load(\"es_core_news_sm\"), train_col, text_col_name='text_es_clean', cat_col_name= 'text_tone') #using the spacy doc arquitecture for our data"
   ]
  },
  {
   "cell_type": "code",
   "execution_count": 14,
   "id": "ec167fc1",
   "metadata": {},
   "outputs": [],
   "source": [
    "DocBin(docs = train_docs_col).to_disk(\"./model3_1_tone/train.spacy\") "
   ]
  },
  {
   "cell_type": "markdown",
   "id": "9cc229cf",
   "metadata": {},
   "source": [
    "# Model 3.2 preprocessing - negativeness"
   ]
  },
  {
   "cell_type": "code",
   "execution_count": 15,
   "id": "ec167fc1",
   "metadata": {},
   "outputs": [],
   "source": [
    "input_data = pd.read_csv('./../data/4k_tweets/cleaned_tweets_colombia.csv')"
   ]
  },
  {
   "cell_type": "code",
   "execution_count": 16,
   "id": "0948b7b5",
   "metadata": {},
   "outputs": [],
   "source": [
    "input_data.dropna(subset = ['tone'], inplace = True)\n",
    "input_data = input_data[input_data['tone']<0]"
   ]
  },
  {
   "cell_type": "code",
   "execution_count": 18,
   "id": "8025f1a7",
   "metadata": {},
   "outputs": [
    {
     "data": {
      "text/plain": [
       "-1    819\n",
       "-2    540\n",
       "-3    211\n",
       "Name: tone, dtype: int64"
      ]
     },
     "execution_count": 18,
     "metadata": {},
     "output_type": "execute_result"
    }
   ],
   "source": [
    "input_data['tone'] = input_data['tone'].astype(int).astype(str)\n",
    "input_data['tone'].value_counts()"
   ]
  },
  {
   "cell_type": "code",
   "execution_count": 19,
   "id": "e67927ff",
   "metadata": {},
   "outputs": [
    {
     "name": "stderr",
     "output_type": "stream",
     "text": [
      "c:\\Users\\joseph\\OneDrive - Universidad del Norte\\Scripts VMASC\\Academic Research Twitter Search (10M)\\nlp_models\\functions.py:29: FutureWarning: The frame.append method is deprecated and will be removed from pandas in a future version. Use pandas.concat instead.\n",
      "  divided_data = divided_data.append(sub_data)\n",
      "c:\\Users\\joseph\\OneDrive - Universidad del Norte\\Scripts VMASC\\Academic Research Twitter Search (10M)\\nlp_models\\functions.py:29: FutureWarning: The frame.append method is deprecated and will be removed from pandas in a future version. Use pandas.concat instead.\n",
      "  divided_data = divided_data.append(sub_data)\n",
      "c:\\Users\\joseph\\OneDrive - Universidad del Norte\\Scripts VMASC\\Academic Research Twitter Search (10M)\\nlp_models\\functions.py:29: FutureWarning: The frame.append method is deprecated and will be removed from pandas in a future version. Use pandas.concat instead.\n",
      "  divided_data = divided_data.append(sub_data)\n"
     ]
    }
   ],
   "source": [
    "uniform_data = functions.eq_division(input_data, n_sample = 210, cats_col_name='tone')"
   ]
  },
  {
   "cell_type": "code",
   "execution_count": 20,
   "id": "1a18df87",
   "metadata": {},
   "outputs": [
    {
     "name": "stderr",
     "output_type": "stream",
     "text": [
      "c:\\Users\\joseph\\OneDrive - Universidad del Norte\\Scripts VMASC\\Academic Research Twitter Search (10M)\\nlp_models\\functions.py:51: FutureWarning: The frame.append method is deprecated and will be removed from pandas in a future version. Use pandas.concat instead.\n",
      "  train_data = train_data.append(train)\n",
      "c:\\Users\\joseph\\OneDrive - Universidad del Norte\\Scripts VMASC\\Academic Research Twitter Search (10M)\\nlp_models\\functions.py:52: FutureWarning: The frame.append method is deprecated and will be removed from pandas in a future version. Use pandas.concat instead.\n",
      "  test_data = test_data.append(test)\n",
      "c:\\Users\\joseph\\OneDrive - Universidad del Norte\\Scripts VMASC\\Academic Research Twitter Search (10M)\\nlp_models\\functions.py:51: FutureWarning: The frame.append method is deprecated and will be removed from pandas in a future version. Use pandas.concat instead.\n",
      "  train_data = train_data.append(train)\n",
      "c:\\Users\\joseph\\OneDrive - Universidad del Norte\\Scripts VMASC\\Academic Research Twitter Search (10M)\\nlp_models\\functions.py:52: FutureWarning: The frame.append method is deprecated and will be removed from pandas in a future version. Use pandas.concat instead.\n",
      "  test_data = test_data.append(test)\n",
      "c:\\Users\\joseph\\OneDrive - Universidad del Norte\\Scripts VMASC\\Academic Research Twitter Search (10M)\\nlp_models\\functions.py:51: FutureWarning: The frame.append method is deprecated and will be removed from pandas in a future version. Use pandas.concat instead.\n",
      "  train_data = train_data.append(train)\n",
      "c:\\Users\\joseph\\OneDrive - Universidad del Norte\\Scripts VMASC\\Academic Research Twitter Search (10M)\\nlp_models\\functions.py:52: FutureWarning: The frame.append method is deprecated and will be removed from pandas in a future version. Use pandas.concat instead.\n",
      "  test_data = test_data.append(test)\n"
     ]
    },
    {
     "data": {
      "text/plain": [
       "(None, None)"
      ]
     },
     "execution_count": 20,
     "metadata": {},
     "output_type": "execute_result"
    }
   ],
   "source": [
    "train_col, test_col = functions.random_select(input_data = uniform_data, cats_column_name = 'tone')\n",
    "train_col.to_excel('./model3_2_negativeness/train.xlsx', index = False), test_col.to_excel('./model3_2_negativeness/test.xlsx', index = False)"
   ]
  },
  {
   "cell_type": "code",
   "execution_count": 21,
   "id": "e649c410",
   "metadata": {},
   "outputs": [],
   "source": [
    "#nlp = spacy.load(\"es_core_news_sm\")\n",
    "train_docs_col = functions.make_docs(spacy.load(\"es_core_news_sm\"), train_col, text_col_name='text_es_clean', cat_col_name= 'tone') #using the spacy doc arquitecture for our data"
   ]
  },
  {
   "cell_type": "code",
   "execution_count": 22,
   "id": "ec167fc1",
   "metadata": {},
   "outputs": [],
   "source": [
    "DocBin(docs = train_docs_col).to_disk(\"./model3_2_negativeness/train.spacy\") "
   ]
  },
  {
   "cell_type": "markdown",
   "id": "9cc229cf",
   "metadata": {},
   "source": [
    "# Model 3.3 preprocessing - positiveness"
   ]
  },
  {
   "cell_type": "code",
   "execution_count": 6,
   "id": "ec167fc1",
   "metadata": {},
   "outputs": [],
   "source": [
    "input_data = pd.read_csv('./../data/4k_tweets/cleaned_tweets_colombia.csv')"
   ]
  },
  {
   "cell_type": "code",
   "execution_count": 10,
   "id": "0948b7b5",
   "metadata": {},
   "outputs": [],
   "source": [
    "input_data.dropna(subset = ['tone'], inplace = True)\n",
    "input_data = input_data[input_data['tone']>0]"
   ]
  },
  {
   "cell_type": "code",
   "execution_count": 11,
   "id": "8025f1a7",
   "metadata": {},
   "outputs": [
    {
     "name": "stderr",
     "output_type": "stream",
     "text": [
      "C:\\Users\\joseph\\AppData\\Local\\Temp\\ipykernel_988\\4237494380.py:1: SettingWithCopyWarning: \n",
      "A value is trying to be set on a copy of a slice from a DataFrame.\n",
      "Try using .loc[row_indexer,col_indexer] = value instead\n",
      "\n",
      "See the caveats in the documentation: https://pandas.pydata.org/pandas-docs/stable/user_guide/indexing.html#returning-a-view-versus-a-copy\n",
      "  input_data['pos_tone'] = input_data['tone'].astype(int).astype(str)\n"
     ]
    },
    {
     "data": {
      "text/plain": [
       "1    445\n",
       "2    157\n",
       "3     44\n",
       "Name: pos_tone, dtype: int64"
      ]
     },
     "execution_count": 11,
     "metadata": {},
     "output_type": "execute_result"
    }
   ],
   "source": [
    "input_data['pos_tone'] = input_data['tone'].astype(int).astype(str)\n",
    "input_data['pos_tone'].value_counts()"
   ]
  },
  {
   "cell_type": "code",
   "execution_count": 12,
   "id": "e67927ff",
   "metadata": {},
   "outputs": [
    {
     "name": "stderr",
     "output_type": "stream",
     "text": [
      "c:\\Users\\joseph\\OneDrive - Universidad del Norte\\Scripts VMASC\\Academic Research Twitter Search (10M)\\nlp_models\\functions.py:29: FutureWarning: The frame.append method is deprecated and will be removed from pandas in a future version. Use pandas.concat instead.\n",
      "  divided_data = divided_data.append(sub_data)\n",
      "c:\\Users\\joseph\\OneDrive - Universidad del Norte\\Scripts VMASC\\Academic Research Twitter Search (10M)\\nlp_models\\functions.py:29: FutureWarning: The frame.append method is deprecated and will be removed from pandas in a future version. Use pandas.concat instead.\n",
      "  divided_data = divided_data.append(sub_data)\n",
      "c:\\Users\\joseph\\OneDrive - Universidad del Norte\\Scripts VMASC\\Academic Research Twitter Search (10M)\\nlp_models\\functions.py:29: FutureWarning: The frame.append method is deprecated and will be removed from pandas in a future version. Use pandas.concat instead.\n",
      "  divided_data = divided_data.append(sub_data)\n"
     ]
    }
   ],
   "source": [
    "uniform_data = functions.eq_division(input_data, n_sample = 44, cats_col_name='pos_tone')"
   ]
  },
  {
   "cell_type": "code",
   "execution_count": 13,
   "id": "1a18df87",
   "metadata": {},
   "outputs": [
    {
     "name": "stderr",
     "output_type": "stream",
     "text": [
      "c:\\Users\\joseph\\OneDrive - Universidad del Norte\\Scripts VMASC\\Academic Research Twitter Search (10M)\\nlp_models\\functions.py:51: FutureWarning: The frame.append method is deprecated and will be removed from pandas in a future version. Use pandas.concat instead.\n",
      "  train_data = train_data.append(train)\n",
      "c:\\Users\\joseph\\OneDrive - Universidad del Norte\\Scripts VMASC\\Academic Research Twitter Search (10M)\\nlp_models\\functions.py:52: FutureWarning: The frame.append method is deprecated and will be removed from pandas in a future version. Use pandas.concat instead.\n",
      "  test_data = test_data.append(test)\n",
      "c:\\Users\\joseph\\OneDrive - Universidad del Norte\\Scripts VMASC\\Academic Research Twitter Search (10M)\\nlp_models\\functions.py:51: FutureWarning: The frame.append method is deprecated and will be removed from pandas in a future version. Use pandas.concat instead.\n",
      "  train_data = train_data.append(train)\n",
      "c:\\Users\\joseph\\OneDrive - Universidad del Norte\\Scripts VMASC\\Academic Research Twitter Search (10M)\\nlp_models\\functions.py:52: FutureWarning: The frame.append method is deprecated and will be removed from pandas in a future version. Use pandas.concat instead.\n",
      "  test_data = test_data.append(test)\n",
      "c:\\Users\\joseph\\OneDrive - Universidad del Norte\\Scripts VMASC\\Academic Research Twitter Search (10M)\\nlp_models\\functions.py:51: FutureWarning: The frame.append method is deprecated and will be removed from pandas in a future version. Use pandas.concat instead.\n",
      "  train_data = train_data.append(train)\n",
      "c:\\Users\\joseph\\OneDrive - Universidad del Norte\\Scripts VMASC\\Academic Research Twitter Search (10M)\\nlp_models\\functions.py:52: FutureWarning: The frame.append method is deprecated and will be removed from pandas in a future version. Use pandas.concat instead.\n",
      "  test_data = test_data.append(test)\n"
     ]
    },
    {
     "data": {
      "text/plain": [
       "(None, None)"
      ]
     },
     "execution_count": 13,
     "metadata": {},
     "output_type": "execute_result"
    }
   ],
   "source": [
    "train_col, test_col = functions.random_select(input_data = uniform_data, cats_column_name = 'pos_tone')\n",
    "train_col.to_excel('./model5_positiveness/train.xlsx', index = False), test_col.to_excel('./model5_positiveness/test.xlsx', index = False)"
   ]
  },
  {
   "cell_type": "code",
   "execution_count": 14,
   "id": "e649c410",
   "metadata": {},
   "outputs": [],
   "source": [
    "#nlp = spacy.load(\"es_core_news_sm\")\n",
    "train_docs_col = functions.make_docs(spacy.load(\"es_core_news_sm\"), train_col, text_col_name='text_es_clean', cat_col_name= 'pos_tone') #using the spacy doc arquitecture for our data"
   ]
  },
  {
   "cell_type": "code",
   "execution_count": 15,
   "id": "ec167fc1",
   "metadata": {},
   "outputs": [],
   "source": [
    "DocBin(docs = train_docs_col).to_disk(\"./model5_positiveness/train.spacy\") "
   ]
  }
 ],
 "metadata": {
  "interpreter": {
   "hash": "17b30b8bbe84081d2782b45efff3f2f46bf6deb285309d118ea277ca22c0ddb4"
  },
  "kernelspec": {
   "display_name": "Anaconda 3",
   "language": "python",
   "name": "anac"
  },
  "language_info": {
   "codemirror_mode": {
    "name": "ipython",
    "version": 3
   },
   "file_extension": ".py",
   "mimetype": "text/x-python",
   "name": "python",
   "nbconvert_exporter": "python",
   "pygments_lexer": "ipython3",
   "version": "3.10.0"
  }
 },
 "nbformat": 4,
 "nbformat_minor": 5
}
